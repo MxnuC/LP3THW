{
 "cells": [
  {
   "cell_type": "code",
   "execution_count": 2,
   "metadata": {},
   "outputs": [
    {
     "ename": "ModuleNotFoundError",
     "evalue": "No module named 'matplotlib'",
     "output_type": "error",
     "traceback": [
      "\u001b[1;31m---------------------------------------------------------------------------\u001b[0m",
      "\u001b[1;31mModuleNotFoundError\u001b[0m                       Traceback (most recent call last)",
      "Cell \u001b[1;32mIn[2], line 1\u001b[0m\n\u001b[1;32m----> 1\u001b[0m \u001b[39mimport\u001b[39;00m \u001b[39mmatplotlib\u001b[39;00m\u001b[39m.\u001b[39;00m\u001b[39mpyplot\u001b[39;00m \u001b[39mas\u001b[39;00m \u001b[39mplt\u001b[39;00m\n\u001b[0;32m      2\u001b[0m \u001b[39mimport\u001b[39;00m \u001b[39mnumpy\u001b[39;00m\n",
      "\u001b[1;31mModuleNotFoundError\u001b[0m: No module named 'matplotlib'"
     ]
    }
   ],
   "source": [
    "import matplotlib.pyplot as plt\n",
    "import numpy"
   ]
  },
  {
   "cell_type": "code",
   "execution_count": null,
   "metadata": {},
   "outputs": [],
   "source": [
    "xi = (1.0,1.6,3.4,4.0,5.2)\n",
    "yi = (1.2,2.0,2.4,3.5,3.5)\n",
    "N = 5\n",
    "\n",
    "#COMPRENGETION\n",
    "xi2 =  [pow(i,2) for i in xi]\n",
    "xiyi = [i * j for i,j in zip(xi,yi)] \n",
    "\n",
    "# SUMATORIAS\n",
    "\n",
    "Exi = sum(xi)\n",
    "Eyi = sum(yi)\n",
    "Exiyi = sum(xiyi)\n",
    "Exi2 = sum(xi2)\n",
    "\n",
    "# VALOR a Y b\n",
    "\n",
    "a = ((N * Exiyi) - (Exi*Eyi))/((N*Exi2) - (pow(Exi,2)))\n",
    "b = ((Eyi * Exi2) - (Exiyi*Exi))/((N*Exi2) - (pow(Exi,2)))\n",
    "\n",
    "#ESTIMADOS\n",
    "\n",
    "estimados = [(i * b) + a for i in xi]"
   ]
  },
  {
   "cell_type": "code",
   "execution_count": null,
   "metadata": {},
   "outputs": [],
   "source": [
    "# CREAR GRAFICO\n",
    "plt.scatter(range(1,6),estimados)\n",
    "plt.show()"
   ]
  }
 ],
 "metadata": {
  "kernelspec": {
   "display_name": "Python 3",
   "language": "python",
   "name": "python3"
  },
  "language_info": {
   "codemirror_mode": {
    "name": "ipython",
    "version": 3
   },
   "file_extension": ".py",
   "mimetype": "text/x-python",
   "name": "python",
   "nbconvert_exporter": "python",
   "pygments_lexer": "ipython3",
   "version": "3.11.3"
  },
  "orig_nbformat": 4
 },
 "nbformat": 4,
 "nbformat_minor": 2
}
