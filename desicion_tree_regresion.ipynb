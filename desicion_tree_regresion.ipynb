<!DOCTYPE html>
<!-- saved from url=(0073)https://github.com/Adyael/ml_2023/blob/main/desicion_tree_regresion.ipynb -->
<html lang="en" data-color-mode="auto" data-light-theme="light" data-dark-theme="dark" data-a11y-animated-images="system" class="js-focus-visible" data-js-focus-visible="" data-turbo-loaded=""><head><meta http-equiv="Content-Type" content="text/html; charset=UTF-8"><style type="text/css">.turbo-progress-bar {
  position: fixed;
  display: block;
  top: 0;
  left: 0;
  height: 3px;
  background: #0076ff;
  z-index: 2147483647;
  transition:
    width 300ms ease-out,
    opacity 150ms 150ms ease-in;
  transform: translate3d(0, 0, 0);
}
</style>
    
  <link rel="dns-prefetch" href="https://github.githubassets.com/">
  <link rel="dns-prefetch" href="https://avatars.githubusercontent.com/">
  <link rel="dns-prefetch" href="https://github-cloud.s3.amazonaws.com/">
  <link rel="dns-prefetch" href="https://user-images.githubusercontent.com/">
  <link rel="preconnect" href="https://github.githubassets.com/" crossorigin="">
  <link rel="preconnect" href="https://avatars.githubusercontent.com/">

  


  <link crossorigin="anonymous" media="all" rel="stylesheet" href="./desicion_tree_regresion_files/light-0946cdc16f15.css"><link crossorigin="anonymous" media="all" rel="stylesheet" href="./desicion_tree_regresion_files/dark-3946c959759a.css"><link data-color-theme="dark_dimmed" crossorigin="anonymous" media="all" rel="stylesheet" data-href="https://github.githubassets.com/assets/dark_dimmed-9b9a8c91acc5.css"><link data-color-theme="dark_high_contrast" crossorigin="anonymous" media="all" rel="stylesheet" data-href="https://github.githubassets.com/assets/dark_high_contrast-11302a585e33.css"><link data-color-theme="dark_colorblind" crossorigin="anonymous" media="all" rel="stylesheet" data-href="https://github.githubassets.com/assets/dark_colorblind-1a4564ab0fbf.css"><link data-color-theme="light_colorblind" crossorigin="anonymous" media="all" rel="stylesheet" data-href="https://github.githubassets.com/assets/light_colorblind-12a8b2aa9101.css"><link data-color-theme="light_high_contrast" crossorigin="anonymous" media="all" rel="stylesheet" data-href="https://github.githubassets.com/assets/light_high_contrast-5924a648f3e7.css"><link data-color-theme="light_tritanopia" crossorigin="anonymous" media="all" rel="stylesheet" data-href="https://github.githubassets.com/assets/light_tritanopia-05358496cb79.css"><link data-color-theme="dark_tritanopia" crossorigin="anonymous" media="all" rel="stylesheet" data-href="https://github.githubassets.com/assets/dark_tritanopia-aad6b801a158.css">
    <link crossorigin="anonymous" media="all" rel="stylesheet" href="./desicion_tree_regresion_files/primer-primitives-fb1d51d1ef66.css">
    <link crossorigin="anonymous" media="all" rel="stylesheet" href="./desicion_tree_regresion_files/primer-0e3420bbec16.css">
    <link crossorigin="anonymous" media="all" rel="stylesheet" href="./desicion_tree_regresion_files/global-9ba4c9e8442e.css">
    <link crossorigin="anonymous" media="all" rel="stylesheet" href="./desicion_tree_regresion_files/github-c7a3a0ac71d4.css">
  <link crossorigin="anonymous" media="all" rel="stylesheet" href="./desicion_tree_regresion_files/code-9271f811184f.css">



  <script crossorigin="anonymous" defer="defer" type="application/javascript" src="./desicion_tree_regresion_files/wp-runtime-c38e9fe991af.js.descarga"></script>
<script crossorigin="anonymous" defer="defer" type="application/javascript" src="./desicion_tree_regresion_files/vendors-node_modules_stacktrace-parser_dist_stack-trace-parser_esm_js-node_modules_github_bro-a4c183-ae93d3fba59c.js.descarga"></script>
<script crossorigin="anonymous" defer="defer" type="application/javascript" src="./desicion_tree_regresion_files/ui_packages_soft-nav_soft-nav_ts-899d6d5b0d82.js.descarga"></script>
<script crossorigin="anonymous" defer="defer" type="application/javascript" src="./desicion_tree_regresion_files/environment-07edc14d05eb.js.descarga"></script>
<script crossorigin="anonymous" defer="defer" type="application/javascript" src="./desicion_tree_regresion_files/vendors-node_modules_github_selector-observer_dist_index_esm_js-2646a2c533e3.js.descarga"></script>
<script crossorigin="anonymous" defer="defer" type="application/javascript" src="./desicion_tree_regresion_files/vendors-node_modules_github_relative-time-element_dist_index_js-99e288659d4f.js.descarga"></script>
<script crossorigin="anonymous" defer="defer" type="application/javascript" src="./desicion_tree_regresion_files/vendors-node_modules_fzy_js_index_js-node_modules_github_markdown-toolbar-element_dist_index_js-e3de700a4c9d.js.descarga"></script>
<script crossorigin="anonymous" defer="defer" type="application/javascript" src="./desicion_tree_regresion_files/vendors-node_modules_delegated-events_dist_index_js-node_modules_github_auto-complete-element-5b3870-ff38694180c6.js.descarga"></script>
<script crossorigin="anonymous" defer="defer" type="application/javascript" src="./desicion_tree_regresion_files/vendors-node_modules_github_file-attachment-element_dist_index_js-node_modules_github_text-ex-3415a8-7ecc10fb88d0.js.descarga"></script>
<script crossorigin="anonymous" defer="defer" type="application/javascript" src="./desicion_tree_regresion_files/vendors-node_modules_github_filter-input-element_dist_index_js-node_modules_github_remote-inp-8873b7-5771678648e0.js.descarga"></script>
<script crossorigin="anonymous" defer="defer" type="application/javascript" src="./desicion_tree_regresion_files/vendors-node_modules_primer_view-components_app_components_primer_primer_js-node_modules_gith-3af896-d8cf3e5f5813.js.descarga"></script>
<script crossorigin="anonymous" defer="defer" type="application/javascript" src="./desicion_tree_regresion_files/github-elements-511cba34c4d0.js.descarga"></script>
<script crossorigin="anonymous" defer="defer" type="application/javascript" src="./desicion_tree_regresion_files/element-registry-c2215309edec.js.descarga"></script>
<script crossorigin="anonymous" defer="defer" type="application/javascript" src="./desicion_tree_regresion_files/vendors-node_modules_lit-html_lit-html_js-9d9fe1859ce5.js.descarga"></script>
<script crossorigin="anonymous" defer="defer" type="application/javascript" src="./desicion_tree_regresion_files/vendors-node_modules_github_mini-throttle_dist_index_js-node_modules_github_alive-client_dist-bf5aa2-424aa982deef.js.descarga"></script>
<script crossorigin="anonymous" defer="defer" type="application/javascript" src="./desicion_tree_regresion_files/vendors-node_modules_github_turbo_dist_turbo_es2017-esm_js-ba0e4d5b3207.js.descarga"></script>
<script crossorigin="anonymous" defer="defer" type="application/javascript" src="./desicion_tree_regresion_files/vendors-node_modules_color-convert_index_js-node_modules_github_jtml_lib_index_js-40bf234a19dc.js.descarga"></script>
<script crossorigin="anonymous" defer="defer" type="application/javascript" src="./desicion_tree_regresion_files/vendors-node_modules_github_remote-form_dist_index_js-node_modules_scroll-anchoring_dist_scro-52dc4b-e1e33bfc0b7e.js.descarga"></script>
<script crossorigin="anonymous" defer="defer" type="application/javascript" src="./desicion_tree_regresion_files/vendors-node_modules_github_paste-markdown_dist_index_esm_js-node_modules_github_quote-select-743f1d-1b20d530fbf0.js.descarga"></script>
<script crossorigin="anonymous" defer="defer" type="application/javascript" src="./desicion_tree_regresion_files/app_assets_modules_github_updatable-content_ts-dadb69f79923.js.descarga"></script>
<script crossorigin="anonymous" defer="defer" type="application/javascript" src="./desicion_tree_regresion_files/app_assets_modules_github_behaviors_keyboard-shortcuts-helper_ts-app_assets_modules_github_be-f5afdb-c7480f27f9c0.js.descarga"></script>
<script crossorigin="anonymous" defer="defer" type="application/javascript" src="./desicion_tree_regresion_files/app_assets_modules_github_sticky-scroll-into-view_ts-050ad6637d58.js.descarga"></script>
<script crossorigin="anonymous" defer="defer" type="application/javascript" src="./desicion_tree_regresion_files/app_assets_modules_github_behaviors_ajax-error_ts-app_assets_modules_github_behaviors_include-2e2258-7effad8d88d4.js.descarga"></script>
<script crossorigin="anonymous" defer="defer" type="application/javascript" src="./desicion_tree_regresion_files/app_assets_modules_github_behaviors_commenting_edit_ts-app_assets_modules_github_behaviors_ht-83c235-c97eacdef68a.js.descarga"></script>
<script crossorigin="anonymous" defer="defer" type="application/javascript" src="./desicion_tree_regresion_files/app_assets_modules_github_blob-anchor_ts-app_assets_modules_github_filter-sort_ts-app_assets_-e5f169-c54621d9e188.js.descarga"></script>
<script crossorigin="anonymous" defer="defer" type="application/javascript" src="./desicion_tree_regresion_files/behaviors-7bc44a147745.js.descarga"></script>
<script crossorigin="anonymous" defer="defer" type="application/javascript" src="./desicion_tree_regresion_files/vendors-node_modules_delegated-events_dist_index_js-node_modules_github_catalyst_lib_index_js-623425af41e1.js.descarga"></script>
<script crossorigin="anonymous" defer="defer" type="application/javascript" src="./desicion_tree_regresion_files/notifications-global-4dc6f295cc92.js.descarga"></script>
<script crossorigin="anonymous" defer="defer" type="application/javascript" src="./desicion_tree_regresion_files/code-menu-7dfb8cccdca1.js.descarga"></script>
  
  <script crossorigin="anonymous" defer="defer" type="application/javascript" src="./desicion_tree_regresion_files/react-lib-210c4b5934c3.js.descarga"></script>
<script crossorigin="anonymous" defer="defer" type="application/javascript" src="./desicion_tree_regresion_files/vendors-node_modules_primer_octicons-react_dist_index_esm_js-node_modules_primer_react_lib-es-ca6dae-5cb928c5681d.js.descarga"></script>
<script crossorigin="anonymous" defer="defer" type="application/javascript" src="./desicion_tree_regresion_files/vendors-node_modules_primer_react_lib-esm_Button_index_js-node_modules_primer_react_lib-esm_L-5634ab-42e8568c9a37.js.descarga"></script>
<script crossorigin="anonymous" defer="defer" type="application/javascript" src="./desicion_tree_regresion_files/vendors-node_modules_primer_react_lib-esm_ActionList_index_js-node_modules_primer_react_lib-e-d264d6-4af000b13c2d.js.descarga"></script>
<script crossorigin="anonymous" defer="defer" type="application/javascript" src="./desicion_tree_regresion_files/vendors-node_modules_dompurify_dist_purify_js-64d590970fa6.js.descarga"></script>
<script crossorigin="anonymous" defer="defer" type="application/javascript" src="./desicion_tree_regresion_files/vendors-node_modules_primer_react_lib-esm_ActionMenu_js-6f5478fce534.js.descarga"></script>
<script crossorigin="anonymous" defer="defer" type="application/javascript" src="./desicion_tree_regresion_files/vendors-node_modules_primer_react_lib-esm_deprecated_ActionList_index_js-node_modules_primer_-fed12b-aab66293925c.js.descarga"></script>
<script crossorigin="anonymous" defer="defer" type="application/javascript" src="./desicion_tree_regresion_files/vendors-node_modules_primer_react_lib-esm_FormControl_FormControl_js-785e3d3ff3f3.js.descarga"></script>
<script crossorigin="anonymous" defer="defer" type="application/javascript" src="./desicion_tree_regresion_files/vendors-node_modules_primer_react_lib-esm_Heading_Heading_js-node_modules_primer_react_lib-es-20c766-2f73d206e824.js.descarga"></script>
<script crossorigin="anonymous" defer="defer" type="application/javascript" src="./desicion_tree_regresion_files/vendors-node_modules_primer_react_lib-esm_Dialog_ConfirmationDialog_js-5c0818339f06.js.descarga"></script>
<script crossorigin="anonymous" defer="defer" type="application/javascript" src="./desicion_tree_regresion_files/vendors-node_modules_primer_behaviors_dist_esm_focus-zone_js-e11d55a242ff.js.descarga"></script>
<script crossorigin="anonymous" defer="defer" type="application/javascript" src="./desicion_tree_regresion_files/vendors-node_modules_primer_react_lib-esm_TreeView_TreeView_js-7165830dc4a6.js.descarga"></script>
<script crossorigin="anonymous" defer="defer" type="application/javascript" src="./desicion_tree_regresion_files/vendors-node_modules_primer_react_lib-esm_Avatar_Avatar_js-node_modules_primer_react_lib-esm_-ad6b17-ee5dd79d6342.js.descarga"></script>
<script crossorigin="anonymous" defer="defer" type="application/javascript" src="./desicion_tree_regresion_files/vendors-node_modules_github_blackbird-parser_dist_blackbird_js-fcd9d30e9b7e.js.descarga"></script>
<script crossorigin="anonymous" defer="defer" type="application/javascript" src="./desicion_tree_regresion_files/vendors-node_modules_primer_react_lib-esm_Button_LinkButton_js-node_modules_primer_react_lib--92b054-f72812849ac0.js.descarga"></script>
<script crossorigin="anonymous" defer="defer" type="application/javascript" src="./desicion_tree_regresion_files/vendors-node_modules_primer_behaviors_dist_esm_anchored-position_js-node_modules_primer_react-62957b-61ce148ff6c8.js.descarga"></script>
<script crossorigin="anonymous" defer="defer" type="application/javascript" src="./desicion_tree_regresion_files/vendors-node_modules_primer_react_lib-esm_UnderlineNav2_index_js-0f3ba9d900a1.js.descarga"></script>
<script crossorigin="anonymous" defer="defer" type="application/javascript" src="./desicion_tree_regresion_files/vendors-node_modules_primer_behaviors_dist_esm_scroll-into-view_js-node_modules_primer_react_-67ba45-ebe1dea0d6b7.js.descarga"></script>
<script crossorigin="anonymous" defer="defer" type="application/javascript" src="./desicion_tree_regresion_files/ui_packages_react-core_deferred-registry_ts-ui_packages_react-core_AppContextProvider_tsx-ui_-ffd985-0c6c86cde0a6.js.descarga"></script>
<script crossorigin="anonymous" defer="defer" type="application/javascript" src="./desicion_tree_regresion_files/ui_packages_react-core_Entry_tsx-8c9ef030bd29.js.descarga"></script>
<script crossorigin="anonymous" defer="defer" type="application/javascript" src="./desicion_tree_regresion_files/ui_packages_paths_path_ts-ui_packages_verified-fetch_verified-fetch_ts-ui_packages_safe-html_-d7e3f1-8681e57cea17.js.descarga"></script>
<script crossorigin="anonymous" defer="defer" type="application/javascript" src="./desicion_tree_regresion_files/ui_packages_use-navigate_use-navigate_ts-ui_packages_ref-selector_RefSelector_tsx-8ee43a3ee61b.js.descarga"></script>
<script crossorigin="anonymous" defer="defer" type="application/javascript" src="./desicion_tree_regresion_files/app_assets_modules_blackbird-monolith_hooks_use-navigate-to-query_ts-app_assets_modules_black-049373-f07bf83a5bba.js.descarga"></script>
<script crossorigin="anonymous" defer="defer" type="application/javascript" src="./desicion_tree_regresion_files/app_assets_modules_react-code-view_pages_CodeView_tsx-40b9ff651f21.js.descarga"></script>
<script crossorigin="anonymous" defer="defer" type="application/javascript" src="./desicion_tree_regresion_files/react-code-view-9f704d3c3b53.js.descarga"></script>


  <title>ml_2023/desicion_tree_regresion.ipynb at main · Adyael/ml_2023 · GitHub</title>



  <meta name="route-pattern" content="/:user_id/:repository/blob/*name(/*path)">

    
  <meta name="current-catalog-service-hash" content="581425c0eaaa5e5e53c5b736f58a14dbe5d38b0be425901738ad0670bd1d5a33">


  <meta name="request-id" content="D0D3:3467:DAA3B3:136CA8B:648013B8" data-turbo-transient="true"><meta name="html-safe-nonce" content="40844c2cf0445245fa717e77a432820869991bb2e4818503312847a3cbdf1bf7" data-turbo-transient="true"><meta name="visitor-payload" content="eyJyZWZlcnJlciI6Imh0dHBzOi8vZ2l0aHViLmNvbS9BZHlhZWw/dGFiPXJlcG9zaXRvcmllcyIsInJlcXVlc3RfaWQiOiJEMEQzOjM0Njc6REFBM0IzOjEzNkNBOEI6NjQ4MDEzQjgiLCJ2aXNpdG9yX2lkIjoiMjU3OTYyNjc0NDg1OTQ4MDkwNyIsInJlZ2lvbl9lZGdlIjoiaWFkIiwicmVnaW9uX3JlbmRlciI6ImlhZCJ9" data-turbo-transient="true"><meta name="visitor-hmac" content="40d8ac5788ec7be9eb01f33a5b69a18fa01bcf8c900bbe5958f0fd82c21afde8" data-turbo-transient="true">


    <meta name="hovercard-subject-tag" content="repository:633019129" data-turbo-transient="">


  <meta name="github-keyboard-shortcuts" content="repository,source-code,file-tree" data-turbo-transient="true">
  

  <meta name="selected-link" value="repo_source" data-turbo-transient="">
  <link rel="assets" href="https://github.githubassets.com/">

    <meta name="google-site-verification" content="c1kuD-K2HIVF635lypcsWPoD4kilo5-jA_wBFyT4uMY">
  <meta name="google-site-verification" content="KT5gs8h0wvaagLKAVWq8bbeNwnZZK1r1XQysX3xurLU">
  <meta name="google-site-verification" content="ZzhVyEFwb7w3e0-uOTltm8Jsck2F5StVihD0exw2fsA">
  <meta name="google-site-verification" content="GXs5KoUUkNCoaAZn7wPN-t01Pywp9M3sEjnt_3_ZWPc">
  <meta name="google-site-verification" content="Apib7-x98H0j5cPqHWwSMm6dNU4GmODRoqxLiDzdx9I">

<meta name="octolytics-url" content="https://collector.github.com/github/collect"><meta name="octolytics-actor-id" content="130586385"><meta name="octolytics-actor-login" content="MxnuC"><meta name="octolytics-actor-hash" content="b7d1f5a2c8de63c9cdbb30e7dac3ed80dafadaa96a0b16b3fbd1695bab95f9cd">

  <meta name="analytics-location" content="/&lt;user-name&gt;/&lt;repo-name&gt;/blob/show" data-turbo-transient="true">

  




  

    <meta name="user-login" content="MxnuC">

  <link rel="sudo-modal" href="https://github.com/sessions/sudo_modal">

    <meta name="viewport" content="width=device-width">
    
      <meta name="description" content="Contribute to Adyael/ml_2023 development by creating an account on GitHub.">
      <link rel="search" type="application/opensearchdescription+xml" href="https://github.com/opensearch.xml" title="GitHub">
    <link rel="fluid-icon" href="https://github.com/fluidicon.png" title="GitHub">
    <meta property="fb:app_id" content="1401488693436528">
    <meta name="apple-itunes-app" content="app-id=1477376905">
      <meta name="twitter:image:src" content="https://opengraph.githubassets.com/bd16e11a80f0c564779c6782f84289ce01388ba2b81e5a9859ae6f479d71c89c/Adyael/ml_2023"><meta name="twitter:site" content="@github"><meta name="twitter:card" content="summary_large_image"><meta name="twitter:title" content="ml_2023/simple_linear_regression.ipynb at main · Adyael/ml_2023"><meta name="twitter:description" content="Contribute to Adyael/ml_2023 development by creating an account on GitHub.">
      <meta property="og:image" content="https://opengraph.githubassets.com/bd16e11a80f0c564779c6782f84289ce01388ba2b81e5a9859ae6f479d71c89c/Adyael/ml_2023"><meta property="og:image:alt" content="Contribute to Adyael/ml_2023 development by creating an account on GitHub."><meta property="og:image:width" content="1200"><meta property="og:image:height" content="600"><meta property="og:site_name" content="GitHub"><meta property="og:type" content="object"><meta property="og:title" content="ml_2023/simple_linear_regression.ipynb at main · Adyael/ml_2023"><meta property="og:url" content="https://github.com/Adyael/ml_2023"><meta property="og:description" content="Contribute to Adyael/ml_2023 development by creating an account on GitHub.">
      

      <link rel="shared-web-socket" href="wss://alive.github.com/_sockets/u/130586385/ws?session=eyJ2IjoiVjMiLCJ1IjoxMzA1ODYzODUsInMiOjExMzQwMTU3NTEsImMiOjIxMzU5NzMyMzgsInQiOjE2ODYxMTUyNjV9--e6ea81f912a388b2b1d26e9c16a6efb6d76075926d0f23dc98340586eeffbefe" data-refresh-url="/_alive" data-session-id="ce387d6d3724ff7ea45ed25f4d67a960eedd15ef15f515fff0cb29ec82d0d4ab">
      <link rel="shared-web-socket-src" href="https://github.com/assets-cdn/worker/socket-worker-71e98f781d79.js">


        <meta name="hostname" content="github.com">


      <meta name="keyboard-shortcuts-preference" content="all">

        <meta name="expected-hostname" content="github.com">

    <meta name="enabled-features" content="TURBO_EXPERIMENT_RISKY,IMAGE_METRIC_TRACKING,GEOJSON_AZURE_MAPS,SUDO_MODAL_FOCUS">


  <meta http-equiv="x-pjax-version" content="d2c25b65f66d77caed9dd7a485f5337d5697a1903321d71e886f0fc93b8d444b" data-turbo-track="reload">
  <meta http-equiv="x-pjax-csp-version" content="0db263f9a873141d8256f783c35f244c06d490aacc3b680f99794dd8fd59fb59" data-turbo-track="reload">
  <meta http-equiv="x-pjax-css-version" content="90cb3d3e6b3f1755257a318c01cd6f6879ce75b4510614935481784a01ff3202" data-turbo-track="reload">
  <meta http-equiv="x-pjax-js-version" content="d2172d98e9ba81880d1d47f81ab9150044d40dd776d7d5cb993bfe2ddfb9b9e5" data-turbo-track="reload">

  <meta name="turbo-cache-control" content="no-preview" data-turbo-transient="">

      <meta name="turbo-cache-control" content="no-cache" data-turbo-transient="">
    <meta data-hydrostats="publish">

  <meta name="go-import" content="github.com/Adyael/ml_2023 git https://github.com/Adyael/ml_2023.git">

  <meta name="octolytics-dimension-user_id" content="70920061"><meta name="octolytics-dimension-user_login" content="Adyael"><meta name="octolytics-dimension-repository_id" content="633019129"><meta name="octolytics-dimension-repository_nwo" content="Adyael/ml_2023"><meta name="octolytics-dimension-repository_public" content="true"><meta name="octolytics-dimension-repository_is_fork" content="false"><meta name="octolytics-dimension-repository_network_root_id" content="633019129"><meta name="octolytics-dimension-repository_network_root_nwo" content="Adyael/ml_2023">



  <meta name="turbo-body-classes" content="logged-in env-production page-responsive">


  <meta name="browser-stats-url" content="https://api.github.com/_private/browser/stats">

  <meta name="browser-errors-url" content="https://api.github.com/_private/browser/errors">

  <meta name="browser-optimizely-client-errors-url" content="https://api.github.com/_private/browser/optimizely_client/errors">

  <link rel="mask-icon" href="https://github.githubassets.com/pinned-octocat.svg" color="#000000">
  <link rel="alternate icon" class="js-site-favicon" type="image/png" href="https://github.githubassets.com/favicons/favicon-dark.png">
  <link rel="icon" class="js-site-favicon" type="image/svg+xml" href="https://github.githubassets.com/favicons/favicon-dark.svg">

<meta name="theme-color" content="#1e2327">
<meta name="color-scheme" content="light dark">


  <link rel="manifest" href="https://github.com/manifest.json" crossorigin="use-credentials">

  <style data-styled="active" data-styled-version="5.3.6"></style></head>

  <body class="logged-in env-production page-responsive intent-mouse" style="word-wrap: break-word;">
    <div data-turbo-body="" class="logged-in env-production page-responsive" style="word-wrap: break-word;">
      


    <div class="position-relative js-header-wrapper ">
      <a href="https://github.com/Adyael/ml_2023/blob/main/desicion_tree_regresion.ipynb#start-of-content" class="p-3 color-bg-accent-emphasis color-fg-on-emphasis show-on-focus js-skip-to-content">Skip to content</a>
      <span data-view-component="true" class="progress-pjax-loader Progress position-fixed width-full">
    <span style="width: 0%;" data-view-component="true" class="Progress-item progress-pjax-loader-bar left-0 top-0 color-bg-accent-emphasis"></span>
</span>      
      


        <script crossorigin="anonymous" defer="defer" type="application/javascript" src="./desicion_tree_regresion_files/vendors-node_modules_allex_crc32_lib_crc32_esm_js-node_modules_github_mini-throttle_dist_deco-26fa0f-02e7ed68dae1.js.descarga"></script>
<script crossorigin="anonymous" defer="defer" type="application/javascript" src="./desicion_tree_regresion_files/vendors-node_modules_github_clipboard-copy-element_dist_index_esm_js-node_modules_delegated-e-b37f7d-a9177ba414f2.js.descarga"></script>
<script crossorigin="anonymous" defer="defer" type="application/javascript" src="./desicion_tree_regresion_files/app_assets_modules_github_command-palette_items_help-item_ts-app_assets_modules_github_comman-48ad9d-00d3adc66bc7.js.descarga"></script>
<script crossorigin="anonymous" defer="defer" type="application/javascript" src="./desicion_tree_regresion_files/command-palette-18b40480e145.js.descarga"></script>

            <header class="Header js-details-container Details px-3 px-md-4 px-lg-5 flex-wrap flex-md-nowrap" role="banner">

    <div class="Header-item mt-n1 mb-n1  d-none d-md-flex">
      <a class="Header-link" href="https://github.com/" data-hotkey="g d" aria-label="Homepage " data-turbo="false" data-analytics-event="{&quot;category&quot;:&quot;Header&quot;,&quot;action&quot;:&quot;go to dashboard&quot;,&quot;label&quot;:&quot;icon:logo&quot;}">
  <svg height="32" aria-hidden="true" viewBox="0 0 16 16" version="1.1" width="32" data-view-component="true" class="octicon octicon-mark-github v-align-middle">
    <path d="M8 0c4.42 0 8 3.58 8 8a8.013 8.013 0 0 1-5.45 7.59c-.4.08-.55-.17-.55-.38 0-.27.01-1.13.01-2.2 0-.75-.25-1.23-.54-1.48 1.78-.2 3.65-.88 3.65-3.95 0-.88-.31-1.59-.82-2.15.08-.2.36-1.02-.08-2.12 0 0-.67-.22-2.2.82-.64-.18-1.32-.27-2-.27-.68 0-1.36.09-2 .27-1.53-1.03-2.2-.82-2.2-.82-.44 1.1-.16 1.92-.08 2.12-.51.56-.82 1.28-.82 2.15 0 3.06 1.86 3.75 3.64 3.95-.23.2-.44.55-.51 1.07-.46.21-1.61.55-2.33-.66-.15-.24-.6-.83-1.23-.82-.67.01-.27.38.01.53.34.19.73.9.82 1.13.16.45.68 1.31 2.69.94 0 .67.01 1.3.01 1.49 0 .21-.15.45-.55.38A7.995 7.995 0 0 1 0 8c0-4.42 3.58-8 8-8Z"></path>
</svg>
</a>

    </div>

    <div class="Header-item d-md-none">
        <button aria-label="Toggle navigation" aria-expanded="false" type="button" data-view-component="true" class="Header-link js-details-target btn-link">    <svg aria-hidden="true" height="24" viewBox="0 0 16 16" version="1.1" width="24" data-view-component="true" class="octicon octicon-three-bars">
    <path d="M1 2.75A.75.75 0 0 1 1.75 2h12.5a.75.75 0 0 1 0 1.5H1.75A.75.75 0 0 1 1 2.75Zm0 5A.75.75 0 0 1 1.75 7h12.5a.75.75 0 0 1 0 1.5H1.75A.75.75 0 0 1 1 7.75ZM1.75 12h12.5a.75.75 0 0 1 0 1.5H1.75a.75.75 0 0 1 0-1.5Z"></path>
</svg>
</button>    </div>

    <div class="Header-item Header-item--full flex-column flex-md-row width-full flex-order-2 flex-md-order-none mr-0 mt-3 mt-md-0 Details-content--hidden-not-important d-md-flex">
              


<template id="search-icon"></template>

<template id="code-icon"></template>

<template id="file-code-icon"></template>

<template id="history-icon"></template>

<template id="repo-icon"></template>

<template id="bookmark-icon"></template>

<template id="plus-circle-icon"></template>

<template id="circle-icon"></template>

<template id="trash-icon"></template>

<template id="team-icon"></template>

<template id="project-icon"></template>

<template id="pencil-icon"></template>

<qbsearch-input class="search-input" data-scope="repo:Adyael/ml_2023" data-custom-scopes-path="/search/custom_scopes" data-delete-custom-scopes-csrf="BQUt6a9fZHHxlDlyl7g6r3UeLTvLfZXULAPCzKTQaKyDmdMeqKQEvapFcumyBySEWchluMdJm3x8y7758l1Ntg" data-max-custom-scopes="10" data-header-redesign-enabled="false" data-initial-value="" data-blackbird-suggestions-path="/search/suggestions" data-jump-to-suggestions-path="/_graphql/GetSuggestedNavigationDestinations" data-current-repository="Adyael/ml_2023" data-current-org="" data-current-owner="Adyael" data-catalyst="">
  <div class="search-input-container search-with-dialog position-relative d-flex flex-row flex-items-center mr-4 rounded" data-action="click:qbsearch-input#searchInputContainerClicked">
      <button type="button" class="header-search-button placeholder input-button form-control d-flex flex-1 flex-self-stretch flex-items-center no-wrap width-full py-0 pl-2 pr-0 text-left border-0 box-shadow-none" data-target="qbsearch-input.inputButton" placeholder="Search or jump to..." data-hotkey="s,/" autocapitalize="off" data-action="click:qbsearch-input#handleExpand">
        <div class="mr-2 color-fg-muted">
          <svg aria-hidden="true" height="16" viewBox="0 0 16 16" version="1.1" width="16" data-view-component="true" class="octicon octicon-search">
    <path d="M10.68 11.74a6 6 0 0 1-7.922-8.982 6 6 0 0 1 8.982 7.922l3.04 3.04a.749.749 0 0 1-.326 1.275.749.749 0 0 1-.734-.215ZM11.5 7a4.499 4.499 0 1 0-8.997 0A4.499 4.499 0 0 0 11.5 7Z"></path>
</svg>
        </div>
        <span class="flex-1" data-target="qbsearch-input.inputButtonText">Search or jump to...</span>
          <div class="d-flex" data-target="qbsearch-input.hotkeyIndicator">
            <svg xmlns="http://www.w3.org/2000/svg" width="22" height="20" aria-hidden="true" class="mr-1"><path fill="none" stroke="#979A9C" opacity=".4" d="M3.5.5h12c1.7 0 3 1.3 3 3v13c0 1.7-1.3 3-3 3h-12c-1.7 0-3-1.3-3-3v-13c0-1.7 1.3-3 3-3z"></path><path fill="#979A9C" d="M11.8 6L8 15.1h-.9L10.8 6h1z"></path></svg>

          </div>
      </button>

    <input type="hidden" name="type" class="js-site-search-type-field">

    
<div class="Overlay--hidden " data-modal-dialog-overlay="">
  <modal-dialog data-action="close:qbsearch-input#handleClose cancel:qbsearch-input#handleClose" data-target="qbsearch-input.searchSuggestionsDialog" role="dialog" id="search-suggestions-dialog" aria-modal="true" aria-labelledby="search-suggestions-dialog-header" data-view-component="true" class="Overlay Overlay--width-large Overlay--height-auto">
      <h1 id="search-suggestions-dialog-header" class="sr-only">Search code, repositories, users, issues, pull requests...</h1>
    <div class="Overlay-body Overlay-body--paddingNone">
      
          <div data-view-component="true">        <div class="search-suggestions position-absolute width-full color-shadow-large border color-fg-default color-bg-default overflow-hidden d-flex flex-column query-builder-container" style="border-radius: 12px;" data-target="qbsearch-input.queryBuilderContainer" hidden="">
          <!-- '"` --><!-- </textarea></xmp> --><form id="query-builder-test-form" action="https://github.com/Adyael/ml_2023/blob/main/desicion_tree_regresion.ipynb" accept-charset="UTF-8" method="get">
  <query-builder data-target="qbsearch-input.queryBuilder" id="query-builder-query-builder-test" data-filter-key=":" data-view-component="true" class="QueryBuilder search-query-builder" data-catalyst="">
    <div class="FormControl FormControl--fullWidth">
      <label id="query-builder-test-label" for="query-builder-test" class="FormControl-label sr-only">
        Search
      </label>
      <div class="QueryBuilder-StyledInput width-fit" data-target="query-builder.styledInput">
          <span id="query-builder-test-leadingvisual-wrap" class="FormControl-input-leadingVisualWrap QueryBuilder-leadingVisualWrap">
            <svg aria-hidden="true" height="16" viewBox="0 0 16 16" version="1.1" width="16" data-view-component="true" class="octicon octicon-search FormControl-input-leadingVisual">
    <path d="M10.68 11.74a6 6 0 0 1-7.922-8.982 6 6 0 0 1 8.982 7.922l3.04 3.04a.749.749 0 0 1-.326 1.275.749.749 0 0 1-.734-.215ZM11.5 7a4.499 4.499 0 1 0-8.997 0A4.499 4.499 0 0 0 11.5 7Z"></path>
</svg>
          </span>
        <div data-target="query-builder.styledInputContainer" class="QueryBuilder-StyledInputContainer">
          <div aria-hidden="true" class="QueryBuilder-StyledInputContent" data-target="query-builder.styledInputContent"></div>
          <div class="QueryBuilder-InputWrapper">
            <div aria-hidden="true" class="QueryBuilder-Sizer" data-target="query-builder.sizer"><span></span></div>
            <input id="query-builder-test" name="query-builder-test" value="" autocomplete="off" type="text" role="combobox" spellcheck="false" aria-expanded="false" data-target="query-builder.input" data-action="
          input:query-builder#inputChange
          blur:query-builder#inputBlur
          keydown:query-builder#inputKeydown
          focus:query-builder#inputFocus
        " data-view-component="true" class="FormControl-input QueryBuilder-Input FormControl-medium" aria-controls="query-builder-test-results" aria-autocomplete="list" aria-haspopup="listbox">
          </div>
        </div>
          <span class="sr-only" id="query-builder-test-clear">Clear</span>
          
  <button role="button" id="query-builder-test-clear-button" aria-labelledby="query-builder-test-clear query-builder-test-label" data-target="query-builder.clearButton" data-action="
                click:query-builder#clear
                focus:query-builder#clearButtonFocus
                blur:query-builder#clearButtonBlur
              " variant="small" hidden="" type="button" data-view-component="true" class="Button Button--iconOnly Button--invisible Button--medium mr-1 px-2 py-0 d-flex flex-items-center rounded-1 color-fg-muted">    <svg aria-hidden="true" height="16" viewBox="0 0 16 16" version="1.1" width="16" data-view-component="true" class="octicon octicon-x-circle-fill Button-visual">
    <path d="M2.343 13.657A8 8 0 1 1 13.658 2.343 8 8 0 0 1 2.343 13.657ZM6.03 4.97a.751.751 0 0 0-1.042.018.751.751 0 0 0-.018 1.042L6.94 8 4.97 9.97a.749.749 0 0 0 .326 1.275.749.749 0 0 0 .734-.215L8 9.06l1.97 1.97a.749.749 0 0 0 1.275-.326.749.749 0 0 0-.215-.734L9.06 8l1.97-1.97a.749.749 0 0 0-.326-1.275.749.749 0 0 0-.734.215L8 6.94Z"></path>
</svg>
</button>  

      </div>
      <template id="search-icon"></template>

<template id="code-icon"></template>

<template id="file-code-icon"></template>

<template id="history-icon"></template>

<template id="repo-icon"></template>

<template id="bookmark-icon"></template>

<template id="plus-circle-icon"></template>

<template id="circle-icon"></template>

<template id="trash-icon"></template>

<template id="team-icon"></template>

<template id="project-icon"></template>

<template id="pencil-icon"></template>

        <div class="position-relative">
                <ul role="listbox" class="ActionListWrap QueryBuilder-ListWrap" aria-label="Suggestions" data-action="
                    combobox-commit:query-builder#comboboxCommit
                    mousedown:query-builder#resultsMousedown
                  " data-target="query-builder.resultsList" data-persist-list="false" id="query-builder-test-results"><li role="presentation" class="ActionList-sectionDivider">
        <ul role="presentation">
          <li role="option" class="ActionListItem" data-type="command-result" id="query-builder-test-result-repo:adyael/ml_2023-" data-value="repo:Adyael/ml_2023 " data-command-name="blackbird-monolith.search" data-command-payload="{&quot;query&quot;:&quot;repo:Adyael/ml_2023 &quot;}" aria-label="repo:Adyael/ml_2023 , Search in this repository">
        <span class="ActionListContent ActionListContent--visual16 QueryBuilder-ListItem">
          <span id="query-builder-test-result-repo:adyael/ml_2023---leading" class="ActionListItem-visual ActionListItem-visual--leading">
                <svg aria-hidden="true" height="16" viewBox="0 0 16 16" version="1.1" width="16" data-view-component="true" class="octicon octicon-search">
    <path d="M10.68 11.74a6 6 0 0 1-7.922-8.982 6 6 0 0 1 8.982 7.922l3.04 3.04a.749.749 0 0 1-.326 1.275.749.749 0 0 1-.734-.215ZM11.5 7a4.499 4.499 0 1 0-8.997 0A4.499 4.499 0 0 0 11.5 7Z"></path>
</svg>
              </span>
          <span class="ActionListItem-descriptionWrap">
            <span class="ActionListItem-label text-normal"> <span class="">repo:</span><span class="qb-filter-value">Adyael/ml_2023</span><span class=""> </span> </span>
            
          </span>

          <span aria-hidden="true" class="ActionListItem-description QueryBuilder-ListItem-trailing">Search in this repository</span>
        </span>
      </li><li role="option" class="ActionListItem" data-type="command-result" id="query-builder-test-result-user:adyael-" data-value="user:Adyael " data-command-name="blackbird-monolith.search" data-command-payload="{&quot;query&quot;:&quot;user:Adyael &quot;}" aria-label="user:Adyael , Search in this owner">
        <span class="ActionListContent ActionListContent--visual16 QueryBuilder-ListItem">
          <span id="query-builder-test-result-user:adyael---leading" class="ActionListItem-visual ActionListItem-visual--leading">
                <svg aria-hidden="true" height="16" viewBox="0 0 16 16" version="1.1" width="16" data-view-component="true" class="octicon octicon-search">
    <path d="M10.68 11.74a6 6 0 0 1-7.922-8.982 6 6 0 0 1 8.982 7.922l3.04 3.04a.749.749 0 0 1-.326 1.275.749.749 0 0 1-.734-.215ZM11.5 7a4.499 4.499 0 1 0-8.997 0A4.499 4.499 0 0 0 11.5 7Z"></path>
</svg>
              </span>
          <span class="ActionListItem-descriptionWrap">
            <span class="ActionListItem-label text-normal"> <span class="">user:</span><span class="qb-filter-value">Adyael</span><span class=""> </span> </span>
            
          </span>

          <span aria-hidden="true" class="ActionListItem-description QueryBuilder-ListItem-trailing">Search in this owner</span>
        </span>
      </li>
        </ul>
      </li>
                <li aria-hidden="true" class="ActionList-sectionDivider"></li><li role="presentation" class="ActionList-sectionDivider">
        <h3 role="presentation" class="ActionList-sectionDivider-title QueryBuilder-sectionTitle p-2 text-left" aria-hidden="true">
          Owners
        </h3>
        <ul role="presentation">
          <li role="option" class="ActionListItem" data-type="url-result" id="query-builder-test-result-microsoft" data-value="microsoft" aria-label="microsoft, jump to this owner">
        <a href="https://github.com/microsoft" data-action="click:query-builder#navigate" tabindex="-1" class="QueryBuilder-ListItem-link ActionListContent ActionListContent--visual16 QueryBuilder-ListItem">
          <span id="query-builder-test-result-microsoft--leading" class="ActionListItem-visual ActionListItem-visual--leading">
                <svg aria-hidden="true" height="16" viewBox="0 0 16 16" version="1.1" width="16" data-view-component="true" class="octicon octicon-repo">
    <path d="M2 2.5A2.5 2.5 0 0 1 4.5 0h8.75a.75.75 0 0 1 .75.75v12.5a.75.75 0 0 1-.75.75h-2.5a.75.75 0 0 1 0-1.5h1.75v-2h-8a1 1 0 0 0-.714 1.7.75.75 0 1 1-1.072 1.05A2.495 2.495 0 0 1 2 11.5Zm10.5-1h-8a1 1 0 0 0-1 1v6.708A2.486 2.486 0 0 1 4.5 9h8ZM5 12.25a.25.25 0 0 1 .25-.25h3.5a.25.25 0 0 1 .25.25v3.25a.25.25 0 0 1-.4.2l-1.45-1.087a.249.249 0 0 0-.3 0L5.4 15.7a.25.25 0 0 1-.4-.2Z"></path>
</svg>
              </span>
          <span class="ActionListItem-descriptionWrap">
            <span class="ActionListItem-label text-normal"> <span class="">microsoft</span> </span>
            
          </span>

          <span aria-hidden="true" class="ActionListItem-description QueryBuilder-ListItem-trailing">Jump to</span>
        </a>
      </li><li role="option" class="ActionListItem" data-type="url-result" id="query-builder-test-result-mxnuc" data-value="MxnuC" aria-label="MxnuC, jump to this owner">
        <a href="https://github.com/MxnuC" data-action="click:query-builder#navigate" tabindex="-1" class="QueryBuilder-ListItem-link ActionListContent ActionListContent--visual16 QueryBuilder-ListItem">
          <span id="query-builder-test-result-mxnuc--leading" class="ActionListItem-visual ActionListItem-visual--leading">
                <svg aria-hidden="true" height="16" viewBox="0 0 16 16" version="1.1" width="16" data-view-component="true" class="octicon octicon-repo">
    <path d="M2 2.5A2.5 2.5 0 0 1 4.5 0h8.75a.75.75 0 0 1 .75.75v12.5a.75.75 0 0 1-.75.75h-2.5a.75.75 0 0 1 0-1.5h1.75v-2h-8a1 1 0 0 0-.714 1.7.75.75 0 1 1-1.072 1.05A2.495 2.495 0 0 1 2 11.5Zm10.5-1h-8a1 1 0 0 0-1 1v6.708A2.486 2.486 0 0 1 4.5 9h8ZM5 12.25a.25.25 0 0 1 .25-.25h3.5a.25.25 0 0 1 .25.25v3.25a.25.25 0 0 1-.4.2l-1.45-1.087a.249.249 0 0 0-.3 0L5.4 15.7a.25.25 0 0 1-.4-.2Z"></path>
</svg>
              </span>
          <span class="ActionListItem-descriptionWrap">
            <span class="ActionListItem-label text-normal"> <span class="">MxnuC</span> </span>
            
          </span>

          <span aria-hidden="true" class="ActionListItem-description QueryBuilder-ListItem-trailing">Jump to</span>
        </a>
      </li><li role="option" class="ActionListItem" data-type="url-result" id="query-builder-test-result-federhuaman" data-value="FederHuaman" aria-label="FederHuaman, jump to this owner">
        <a href="https://github.com/FederHuaman" data-action="click:query-builder#navigate" tabindex="-1" class="QueryBuilder-ListItem-link ActionListContent ActionListContent--visual16 QueryBuilder-ListItem">
          <span id="query-builder-test-result-federhuaman--leading" class="ActionListItem-visual ActionListItem-visual--leading">
                <svg aria-hidden="true" height="16" viewBox="0 0 16 16" version="1.1" width="16" data-view-component="true" class="octicon octicon-repo">
    <path d="M2 2.5A2.5 2.5 0 0 1 4.5 0h8.75a.75.75 0 0 1 .75.75v12.5a.75.75 0 0 1-.75.75h-2.5a.75.75 0 0 1 0-1.5h1.75v-2h-8a1 1 0 0 0-.714 1.7.75.75 0 1 1-1.072 1.05A2.495 2.495 0 0 1 2 11.5Zm10.5-1h-8a1 1 0 0 0-1 1v6.708A2.486 2.486 0 0 1 4.5 9h8ZM5 12.25a.25.25 0 0 1 .25-.25h3.5a.25.25 0 0 1 .25.25v3.25a.25.25 0 0 1-.4.2l-1.45-1.087a.249.249 0 0 0-.3 0L5.4 15.7a.25.25 0 0 1-.4-.2Z"></path>
</svg>
              </span>
          <span class="ActionListItem-descriptionWrap">
            <span class="ActionListItem-label text-normal"> <span class="">FederHuaman</span> </span>
            
          </span>

          <span aria-hidden="true" class="ActionListItem-description QueryBuilder-ListItem-trailing">Jump to</span>
        </a>
      </li><li role="option" class="ActionListItem" data-type="url-result" id="query-builder-test-result-adyael" data-value="Adyael" aria-label="Adyael, jump to this owner">
        <a href="https://github.com/Adyael" data-action="click:query-builder#navigate" tabindex="-1" class="QueryBuilder-ListItem-link ActionListContent ActionListContent--visual16 QueryBuilder-ListItem">
          <span id="query-builder-test-result-adyael--leading" class="ActionListItem-visual ActionListItem-visual--leading">
                <svg aria-hidden="true" height="16" viewBox="0 0 16 16" version="1.1" width="16" data-view-component="true" class="octicon octicon-repo">
    <path d="M2 2.5A2.5 2.5 0 0 1 4.5 0h8.75a.75.75 0 0 1 .75.75v12.5a.75.75 0 0 1-.75.75h-2.5a.75.75 0 0 1 0-1.5h1.75v-2h-8a1 1 0 0 0-.714 1.7.75.75 0 1 1-1.072 1.05A2.495 2.495 0 0 1 2 11.5Zm10.5-1h-8a1 1 0 0 0-1 1v6.708A2.486 2.486 0 0 1 4.5 9h8ZM5 12.25a.25.25 0 0 1 .25-.25h3.5a.25.25 0 0 1 .25.25v3.25a.25.25 0 0 1-.4.2l-1.45-1.087a.249.249 0 0 0-.3 0L5.4 15.7a.25.25 0 0 1-.4-.2Z"></path>
</svg>
              </span>
          <span class="ActionListItem-descriptionWrap">
            <span class="ActionListItem-label text-normal"> <span class="">Adyael</span> </span>
            
          </span>

          <span aria-hidden="true" class="ActionListItem-description QueryBuilder-ListItem-trailing">Jump to</span>
        </a>
      </li>
        </ul>
      </li>
                <li aria-hidden="true" class="ActionList-sectionDivider"></li><li role="presentation" class="ActionList-sectionDivider">
        <h3 role="presentation" class="ActionList-sectionDivider-title QueryBuilder-sectionTitle p-2 text-left" aria-hidden="true">
          Repositories
        </h3>
        <ul role="presentation">
          <li role="option" class="ActionListItem" data-type="url-result" id="query-builder-test-result-microsoft/pyright" data-value="microsoft/pyright" aria-label="microsoft/pyright, jump to this repository">
        <a href="https://github.com/microsoft/pyright" data-action="click:query-builder#navigate" tabindex="-1" class="QueryBuilder-ListItem-link ActionListContent ActionListContent--visual16 QueryBuilder-ListItem">
          <span id="query-builder-test-result-microsoft/pyright--leading" class="ActionListItem-visual ActionListItem-visual--leading">
                <svg aria-hidden="true" height="16" viewBox="0 0 16 16" version="1.1" width="16" data-view-component="true" class="octicon octicon-repo">
    <path d="M2 2.5A2.5 2.5 0 0 1 4.5 0h8.75a.75.75 0 0 1 .75.75v12.5a.75.75 0 0 1-.75.75h-2.5a.75.75 0 0 1 0-1.5h1.75v-2h-8a1 1 0 0 0-.714 1.7.75.75 0 1 1-1.072 1.05A2.495 2.495 0 0 1 2 11.5Zm10.5-1h-8a1 1 0 0 0-1 1v6.708A2.486 2.486 0 0 1 4.5 9h8ZM5 12.25a.25.25 0 0 1 .25-.25h3.5a.25.25 0 0 1 .25.25v3.25a.25.25 0 0 1-.4.2l-1.45-1.087a.249.249 0 0 0-.3 0L5.4 15.7a.25.25 0 0 1-.4-.2Z"></path>
</svg>
              </span>
          <span class="ActionListItem-descriptionWrap">
            <span class="ActionListItem-label text-normal"> <span class="">microsoft/pyright</span> </span>
            
          </span>

          <span aria-hidden="true" class="ActionListItem-description QueryBuilder-ListItem-trailing">Jump to</span>
        </a>
      </li><li role="option" class="ActionListItem" data-type="url-result" id="query-builder-test-result-mxnuc/lp3thw" data-value="MxnuC/LP3THW" aria-label="MxnuC/LP3THW, jump to this repository">
        <a href="https://github.com/MxnuC/LP3THW" data-action="click:query-builder#navigate" tabindex="-1" class="QueryBuilder-ListItem-link ActionListContent ActionListContent--visual16 QueryBuilder-ListItem">
          <span id="query-builder-test-result-mxnuc/lp3thw--leading" class="ActionListItem-visual ActionListItem-visual--leading">
                <svg aria-hidden="true" height="16" viewBox="0 0 16 16" version="1.1" width="16" data-view-component="true" class="octicon octicon-repo">
    <path d="M2 2.5A2.5 2.5 0 0 1 4.5 0h8.75a.75.75 0 0 1 .75.75v12.5a.75.75 0 0 1-.75.75h-2.5a.75.75 0 0 1 0-1.5h1.75v-2h-8a1 1 0 0 0-.714 1.7.75.75 0 1 1-1.072 1.05A2.495 2.495 0 0 1 2 11.5Zm10.5-1h-8a1 1 0 0 0-1 1v6.708A2.486 2.486 0 0 1 4.5 9h8ZM5 12.25a.25.25 0 0 1 .25-.25h3.5a.25.25 0 0 1 .25.25v3.25a.25.25 0 0 1-.4.2l-1.45-1.087a.249.249 0 0 0-.3 0L5.4 15.7a.25.25 0 0 1-.4-.2Z"></path>
</svg>
              </span>
          <span class="ActionListItem-descriptionWrap">
            <span class="ActionListItem-label text-normal"> <span class="">MxnuC/LP3THW</span> </span>
            
          </span>

          <span aria-hidden="true" class="ActionListItem-description QueryBuilder-ListItem-trailing">Jump to</span>
        </a>
      </li><li role="option" class="ActionListItem" data-type="url-result" id="query-builder-test-result-federhuaman/qrgenerator" data-value="FederHuaman/QRGenerator" aria-label="FederHuaman/QRGenerator, jump to this repository">
        <a href="https://github.com/FederHuaman/QRGenerator" data-action="click:query-builder#navigate" tabindex="-1" class="QueryBuilder-ListItem-link ActionListContent ActionListContent--visual16 QueryBuilder-ListItem">
          <span id="query-builder-test-result-federhuaman/qrgenerator--leading" class="ActionListItem-visual ActionListItem-visual--leading">
                <svg aria-hidden="true" height="16" viewBox="0 0 16 16" version="1.1" width="16" data-view-component="true" class="octicon octicon-repo">
    <path d="M2 2.5A2.5 2.5 0 0 1 4.5 0h8.75a.75.75 0 0 1 .75.75v12.5a.75.75 0 0 1-.75.75h-2.5a.75.75 0 0 1 0-1.5h1.75v-2h-8a1 1 0 0 0-.714 1.7.75.75 0 1 1-1.072 1.05A2.495 2.495 0 0 1 2 11.5Zm10.5-1h-8a1 1 0 0 0-1 1v6.708A2.486 2.486 0 0 1 4.5 9h8ZM5 12.25a.25.25 0 0 1 .25-.25h3.5a.25.25 0 0 1 .25.25v3.25a.25.25 0 0 1-.4.2l-1.45-1.087a.249.249 0 0 0-.3 0L5.4 15.7a.25.25 0 0 1-.4-.2Z"></path>
</svg>
              </span>
          <span class="ActionListItem-descriptionWrap">
            <span class="ActionListItem-label text-normal"> <span class="">FederHuaman/QRGenerator</span> </span>
            
          </span>

          <span aria-hidden="true" class="ActionListItem-description QueryBuilder-ListItem-trailing">Jump to</span>
        </a>
      </li><li role="option" class="ActionListItem" data-type="url-result" id="query-builder-test-result-mxnuc/ml_2023" data-value="MxnuC/ml_2023" aria-label="MxnuC/ml_2023, jump to this repository">
        <a href="https://github.com/MxnuC/ml_2023" data-action="click:query-builder#navigate" tabindex="-1" class="QueryBuilder-ListItem-link ActionListContent ActionListContent--visual16 QueryBuilder-ListItem">
          <span id="query-builder-test-result-mxnuc/ml_2023--leading" class="ActionListItem-visual ActionListItem-visual--leading">
                <svg aria-hidden="true" height="16" viewBox="0 0 16 16" version="1.1" width="16" data-view-component="true" class="octicon octicon-repo">
    <path d="M2 2.5A2.5 2.5 0 0 1 4.5 0h8.75a.75.75 0 0 1 .75.75v12.5a.75.75 0 0 1-.75.75h-2.5a.75.75 0 0 1 0-1.5h1.75v-2h-8a1 1 0 0 0-.714 1.7.75.75 0 1 1-1.072 1.05A2.495 2.495 0 0 1 2 11.5Zm10.5-1h-8a1 1 0 0 0-1 1v6.708A2.486 2.486 0 0 1 4.5 9h8ZM5 12.25a.25.25 0 0 1 .25-.25h3.5a.25.25 0 0 1 .25.25v3.25a.25.25 0 0 1-.4.2l-1.45-1.087a.249.249 0 0 0-.3 0L5.4 15.7a.25.25 0 0 1-.4-.2Z"></path>
</svg>
              </span>
          <span class="ActionListItem-descriptionWrap">
            <span class="ActionListItem-label text-normal"> <span class="">MxnuC/ml_2023</span> </span>
            
          </span>

          <span aria-hidden="true" class="ActionListItem-description QueryBuilder-ListItem-trailing">Jump to</span>
        </a>
      </li><li role="option" class="ActionListItem" data-type="url-result" id="query-builder-test-result-adyael/ml_2023" data-value="Adyael/ml_2023" aria-label="Adyael/ml_2023, jump to this repository">
        <a href="https://github.com/Adyael/ml_2023" data-action="click:query-builder#navigate" tabindex="-1" class="QueryBuilder-ListItem-link ActionListContent ActionListContent--visual16 QueryBuilder-ListItem">
          <span id="query-builder-test-result-adyael/ml_2023--leading" class="ActionListItem-visual ActionListItem-visual--leading">
                <svg aria-hidden="true" height="16" viewBox="0 0 16 16" version="1.1" width="16" data-view-component="true" class="octicon octicon-repo">
    <path d="M2 2.5A2.5 2.5 0 0 1 4.5 0h8.75a.75.75 0 0 1 .75.75v12.5a.75.75 0 0 1-.75.75h-2.5a.75.75 0 0 1 0-1.5h1.75v-2h-8a1 1 0 0 0-.714 1.7.75.75 0 1 1-1.072 1.05A2.495 2.495 0 0 1 2 11.5Zm10.5-1h-8a1 1 0 0 0-1 1v6.708A2.486 2.486 0 0 1 4.5 9h8ZM5 12.25a.25.25 0 0 1 .25-.25h3.5a.25.25 0 0 1 .25.25v3.25a.25.25 0 0 1-.4.2l-1.45-1.087a.249.249 0 0 0-.3 0L5.4 15.7a.25.25 0 0 1-.4-.2Z"></path>
</svg>
              </span>
          <span class="ActionListItem-descriptionWrap">
            <span class="ActionListItem-label text-normal"> <span class="">Adyael/ml_2023</span> </span>
            
          </span>

          <span aria-hidden="true" class="ActionListItem-description QueryBuilder-ListItem-trailing">Jump to</span>
        </a>
      </li>
        </ul>
      </li></ul>
        </div>
    </div>
    <div data-target="query-builder.screenReaderFeedback" aria-live="polite" aria-atomic="true" class="sr-only">11 suggestions.</div>
</query-builder></form>
          <div class="d-flex flex-row color-fg-muted px-3 text-small color-bg-default search-feedback-prompt">
            <a target="_blank" href="https://docs.github.com/en/search-github/github-code-search/understanding-github-code-search-syntax" data-view-component="true" class="color-fg-accent text-normal ml-2">
              Search syntax tips
</a>            <div class="d-flex flex-1"></div>
              <button data-action="click:qbsearch-input#showFeedbackDialog" type="button" data-view-component="true" class="Button--link Button--medium Button color-fg-accent text-normal ml-2">    <span class="Button-content">
      <span class="Button-label">Give feedback</span>
    </span>
</button>  
          </div>
        </div>
</div>

    </div>
</modal-dialog></div>
  </div>
  <div data-action="click:qbsearch-input#retract" class="dark-backdrop position-fixed width-full" hidden="" data-target="qbsearch-input.darkBackdrop"></div>
  <div class="color-fg-default">
    
<div class="Overlay--hidden Overlay-backdrop--center" data-modal-dialog-overlay="">
  <modal-dialog data-target="qbsearch-input.feedbackDialog" data-action="close:qbsearch-input#handleDialogClose cancel:qbsearch-input#handleDialogClose" role="dialog" id="feedback-dialog" aria-modal="true" aria-disabled="true" aria-describedby="feedback-dialog-title feedback-dialog-description" data-view-component="true" class="Overlay Overlay-whenNarrow Overlay--size-medium Overlay--motion-scaleFade">
    <div data-view-component="true" class="Overlay-header">
  <div class="Overlay-headerContentWrap">
    <div class="Overlay-titleWrap">
      <h1 class="Overlay-title " id="feedback-dialog-title">
        Provide feedback
      </h1>
    </div>
    <div class="Overlay-actionWrap">
      <button data-close-dialog-id="feedback-dialog" aria-label="Close" type="button" data-view-component="true" class="close-button Overlay-closeButton"><svg aria-hidden="true" height="16" viewBox="0 0 16 16" version="1.1" width="16" data-view-component="true" class="octicon octicon-x">
    <path d="M3.72 3.72a.75.75 0 0 1 1.06 0L8 6.94l3.22-3.22a.749.749 0 0 1 1.275.326.749.749 0 0 1-.215.734L9.06 8l3.22 3.22a.749.749 0 0 1-.326 1.275.749.749 0 0 1-.734-.215L8 9.06l-3.22 3.22a.751.751 0 0 1-1.042-.018.751.751 0 0 1-.018-1.042L6.94 8 3.72 4.78a.75.75 0 0 1 0-1.06Z"></path>
</svg></button>
    </div>
  </div>
</div>
      <div data-view-component="true" class="Overlay-body">        <!-- '"` --><!-- </textarea></xmp> --><form id="code-search-feedback-form" data-turbo="false" action="https://github.com/search/feedback" accept-charset="UTF-8" method="post"><input type="hidden" name="authenticity_token" value="fvyTIIUEbt_Ou_q_N4xNvNDFZblhtvN5sDM4uU9H5t6Cp9_zVEUih4EbsG9FuQl1rooieJZWOKMgfZ32jTUmgQ">
          <p>We read every piece of feedback, and take your input very seriously.</p>
          <textarea name="feedback" class="form-control width-full mb-2" style="height: 120px" id="feedback"></textarea>
          <input name="include_email" id="include_email" aria-label="Include my email address so I can be contacted" class="form-control mr-2" type="checkbox">
          <label for="include_email" style="font-weight: normal">Include my email address so I can be contacted</label>
</form></div>
      <div data-view-component="true" class="Overlay-footer Overlay-footer--alignEnd">          <button data-close-dialog-id="feedback-dialog" type="button" data-view-component="true" class="btn">    Cancel
</button>
          <button form="code-search-feedback-form" data-action="click:qbsearch-input#submitFeedback" type="submit" data-view-component="true" class="btn-primary btn">    Submit feedback
</button>
</div>
</modal-dialog></div>

    <custom-scopes data-target="qbsearch-input.customScopesManager" data-catalyst="">
    
<div class="Overlay--hidden Overlay-backdrop--center" data-modal-dialog-overlay="">
  <modal-dialog data-target="custom-scopes.customScopesModalDialog" data-action="close:qbsearch-input#handleDialogClose cancel:qbsearch-input#handleDialogClose" role="dialog" id="custom-scopes-dialog" aria-modal="true" aria-disabled="true" aria-describedby="custom-scopes-dialog-title custom-scopes-dialog-description" data-view-component="true" class="Overlay Overlay-whenNarrow Overlay--size-medium Overlay--motion-scaleFade">
    <div data-view-component="true" class="Overlay-header Overlay-header--divided">
  <div class="Overlay-headerContentWrap">
    <div class="Overlay-titleWrap">
      <h1 class="Overlay-title " id="custom-scopes-dialog-title">
        Saved searches
      </h1>
        <h2 id="custom-scopes-dialog-description" class="Overlay-description">Use saved searches to filter your results more quickly</h2>
    </div>
    <div class="Overlay-actionWrap">
      <button data-close-dialog-id="custom-scopes-dialog" aria-label="Close" type="button" data-view-component="true" class="close-button Overlay-closeButton"><svg aria-hidden="true" height="16" viewBox="0 0 16 16" version="1.1" width="16" data-view-component="true" class="octicon octicon-x">
    <path d="M3.72 3.72a.75.75 0 0 1 1.06 0L8 6.94l3.22-3.22a.749.749 0 0 1 1.275.326.749.749 0 0 1-.215.734L9.06 8l3.22 3.22a.749.749 0 0 1-.326 1.275.749.749 0 0 1-.734-.215L8 9.06l-3.22 3.22a.751.751 0 0 1-1.042-.018.751.751 0 0 1-.018-1.042L6.94 8 3.72 4.78a.75.75 0 0 1 0-1.06Z"></path>
</svg></button>
    </div>
  </div>
</div>
      <div data-view-component="true" class="Overlay-body">        <div data-target="custom-scopes.customScopesModalDialogFlash"></div>

        <div hidden="" class="create-custom-scope-form" data-target="custom-scopes.createCustomScopeForm">
        <!-- '"` --><!-- </textarea></xmp> --><form id="custom-scopes-dialog-form" data-turbo="false" action="https://github.com/search/custom_scopes" accept-charset="UTF-8" method="post"><input type="hidden" name="authenticity_token" value="VEt8ltY4Hd5qppSugU9Ub35D8cQGwSkdi3jtY652_v1n-3jKtGRzfjt3FEkP4ujp36bLpeubOYDLBfdZcqH9Cw">
          <div data-target="custom-scopes.customScopesModalDialogFlash"></div>

          <input type="hidden" id="custom_scope_id" name="custom_scope_id" data-target="custom-scopes.customScopesIdField">

          <div class="form-group">
            <label for="custom_scope_name">Name</label>
            <auto-check src="/search/custom_scopes/check_name" required="">
              <input type="text" name="custom_scope_name" id="custom_scope_name" data-target="custom-scopes.customScopesNameField" class="form-control" autocomplete="off" placeholder="github-ruby" required="" maxlength="50" spellcheck="false">
              <input type="hidden" value="OEV7FCaRcbq9merE-crVgJfker7YiWQfVbBwasvFdfqWUdjSQL-JjGGn0rixjj3akNzVBued9eZfdVGbtpPTLg" data-csrf="true">
            </auto-check>
          </div>

          <div class="form-group">
            <label for="custom_scope_query">Query</label>
            <input type="text" name="custom_scope_query" id="custom_scope_query" data-target="custom-scopes.customScopesQueryField" class="form-control" autocomplete="off" placeholder="(repo:mona/a OR repo:mona/b) AND lang:python" required="" maxlength="500">
          </div>

          <p class="text-small color-fg-muted">
            To see all available qualifiers, see our <a href="https://docs.github.com/en/search-github/github-code-search/understanding-github-code-search-syntax">documentation</a>.
          </p>
</form>        </div>

        <div data-target="custom-scopes.manageCustomScopesForm">
          <div data-target="custom-scopes.list"></div>
        </div>

</div>
      <div data-view-component="true" class="Overlay-footer Overlay-footer--alignEnd Overlay-footer--divided">          <button data-action="click:custom-scopes#customScopesCancel" type="button" data-view-component="true" class="btn">    Cancel
</button>
          <button form="custom-scopes-dialog-form" data-action="click:custom-scopes#customScopesSubmit" data-target="custom-scopes.customScopesSubmitButton" type="submit" data-view-component="true" class="btn-primary btn">    Create saved search
</button>
</div>
</modal-dialog></div>
    </custom-scopes>
  </div>
</qbsearch-input><input type="hidden" value="IyNy6YJY-CBWX40u-kpfqMqjti_tLZTYGSJbSUDju2mpqShrD0iy3a_hwe02HJTpKETy_N2ZbOMHbZtRsi_PNw" data-csrf="true" class="js-data-jump-to-suggestions-path-csrf">

        <nav id="global-nav" class="d-flex flex-column flex-md-row flex-self-stretch flex-md-self-auto" aria-label="Global">
    <a class="Header-link py-md-3 d-block d-md-none py-2 border-top border-md-top-0 border-white-fade" data-ga-click="Header, click, Nav menu - item:dashboard:user" aria-label="Dashboard" data-turbo="false" href="https://github.com/dashboard">Dashboard</a>

  <a class="js-selected-navigation-item Header-link mt-md-n3 mb-md-n3 py-2 py-md-3 mr-0 mr-md-3 border-top border-md-top-0 border-white-fade" data-hotkey="g p" data-ga-click="Header, click, Nav menu - item:pulls context:user" aria-label="Pull requests you created" data-turbo="false" data-selected-links="/pulls /pulls/assigned /pulls/mentioned /pulls" href="https://github.com/pulls">
      Pull<span class="d-inline d-md-none d-lg-inline"> request</span>s
</a>
  <a class="js-selected-navigation-item Header-link mt-md-n3 mb-md-n3 py-2 py-md-3 mr-0 mr-md-3 border-top border-md-top-0 border-white-fade" data-hotkey="g i" data-ga-click="Header, click, Nav menu - item:issues context:user" aria-label="Issues you created" data-turbo="false" data-selected-links="/issues /issues/assigned /issues/mentioned /issues" href="https://github.com/issues">Issues</a>

      <a class="js-selected-navigation-item Header-link mt-md-n3 mb-md-n3 py-2 py-md-3 mr-0 mr-md-3 border-top border-md-top-0 border-white-fade" data-ga-click="Header, click, Nav menu - item:workspaces context:user" data-turbo="false" data-selected-links="/codespaces /codespaces" href="https://github.com/codespaces">Codespaces</a>

    <div class="d-flex position-relative">
      <a class="js-selected-navigation-item Header-link flex-auto mt-md-n3 mb-md-n3 py-2 py-md-3 mr-0 mr-md-3 border-top border-md-top-0 border-white-fade" data-ga-click="Header, click, Nav menu - item:marketplace context:user" data-octo-click="marketplace_click" data-octo-dimensions="location:nav_bar" data-turbo="false" data-selected-links=" /marketplace" href="https://github.com/marketplace">Marketplace</a>
    </div>

  <a class="js-selected-navigation-item Header-link mt-md-n3 mb-md-n3 py-2 py-md-3 mr-0 mr-md-3 border-top border-md-top-0 border-white-fade" data-ga-click="Header, click, Nav menu - item:explore" data-turbo="false" data-selected-links="/explore /trending /trending/developers /integrations /integrations/feature/code /integrations/feature/collaborate /integrations/feature/ship showcases showcases_search showcases_landing /explore" href="https://github.com/explore">Explore</a>

      <a class="js-selected-navigation-item Header-link d-block d-md-none py-2 py-md-3 border-top border-md-top-0 border-white-fade" data-ga-click="Header, click, Nav menu - item:Sponsors" data-hydro-click="{&quot;event_type&quot;:&quot;sponsors.button_click&quot;,&quot;payload&quot;:{&quot;button&quot;:&quot;HEADER_SPONSORS_DASHBOARD&quot;,&quot;sponsorable_login&quot;:&quot;MxnuC&quot;,&quot;originating_url&quot;:&quot;https://github.com/Adyael/ml_2023/blob/main/simple_linear_regression.ipynb&quot;,&quot;user_id&quot;:130586385}}" data-hydro-click-hmac="426b6ecbcd53874ef4fb9f1c7d6706ccbb93b133efefe645cc6bc661577d3753" data-turbo="false" data-selected-links=" /sponsors/accounts" href="https://github.com/sponsors/accounts">Sponsors</a>

    <a class="Header-link d-block d-md-none mr-0 mr-md-3 py-2 py-md-3 border-top border-md-top-0 border-white-fade" data-turbo="false" href="https://github.com/settings/profile">Settings</a>

    <a class="Header-link d-block d-md-none mr-0 mr-md-3 py-2 py-md-3 border-top border-md-top-0 border-white-fade" data-turbo="false" href="https://github.com/MxnuC">
      <img class="avatar avatar-user" loading="lazy" decoding="async" src="./desicion_tree_regresion_files/130586385" width="20" height="20" alt="@MxnuC">
      MxnuC
</a>
    <!-- '"` --><!-- </textarea></xmp> --><form data-turbo="false" action="https://github.com/logout" accept-charset="UTF-8" method="post"><input type="hidden" name="authenticity_token" value="yKaZbSQaHjB5l9TMoe9l4y3LFl5wAnWEaeiZYWJ_0dSy0DhJlAKQgjcBqbea3MmQFe5Vdyys4lyU79Taos0TTQ">
      <button type="submit" class="Header-link mr-0 mr-md-3 py-2 py-md-3 border-top border-md-top-0 border-white-fade d-md-none btn-link d-block width-full text-left" style="padding-left: 2px;" data-analytics-event="{&quot;category&quot;:&quot;Header&quot;,&quot;action&quot;:&quot;sign out&quot;,&quot;label&quot;:&quot;icon:logout&quot;}">
        <svg aria-hidden="true" height="16" viewBox="0 0 16 16" version="1.1" width="16" data-view-component="true" class="octicon octicon-sign-out v-align-middle">
    <path d="M2 2.75C2 1.784 2.784 1 3.75 1h2.5a.75.75 0 0 1 0 1.5h-2.5a.25.25 0 0 0-.25.25v10.5c0 .138.112.25.25.25h2.5a.75.75 0 0 1 0 1.5h-2.5A1.75 1.75 0 0 1 2 13.25Zm10.44 4.5-1.97-1.97a.749.749 0 0 1 .326-1.275.749.749 0 0 1 .734.215l3.25 3.25a.75.75 0 0 1 0 1.06l-3.25 3.25a.749.749 0 0 1-1.275-.326.749.749 0 0 1 .215-.734l1.97-1.97H6.75a.75.75 0 0 1 0-1.5Z"></path>
</svg>
        Sign out
      </button>
</form></nav>

    </div>

    <div class="Header-item Header-item--full flex-justify-center d-md-none position-relative">
        <a class="Header-link" href="https://github.com/" data-hotkey="g d" aria-label="Homepage " data-turbo="false" data-analytics-event="{&quot;category&quot;:&quot;Header&quot;,&quot;action&quot;:&quot;go to dashboard&quot;,&quot;label&quot;:&quot;icon:logo&quot;}">
  <svg height="32" aria-hidden="true" viewBox="0 0 16 16" version="1.1" width="32" data-view-component="true" class="octicon octicon-mark-github v-align-middle">
    <path d="M8 0c4.42 0 8 3.58 8 8a8.013 8.013 0 0 1-5.45 7.59c-.4.08-.55-.17-.55-.38 0-.27.01-1.13.01-2.2 0-.75-.25-1.23-.54-1.48 1.78-.2 3.65-.88 3.65-3.95 0-.88-.31-1.59-.82-2.15.08-.2.36-1.02-.08-2.12 0 0-.67-.22-2.2.82-.64-.18-1.32-.27-2-.27-.68 0-1.36.09-2 .27-1.53-1.03-2.2-.82-2.2-.82-.44 1.1-.16 1.92-.08 2.12-.51.56-.82 1.28-.82 2.15 0 3.06 1.86 3.75 3.64 3.95-.23.2-.44.55-.51 1.07-.46.21-1.61.55-2.33-.66-.15-.24-.6-.83-1.23-.82-.67.01-.27.38.01.53.34.19.73.9.82 1.13.16.45.68 1.31 2.69.94 0 .67.01 1.3.01 1.49 0 .21-.15.45-.55.38A7.995 7.995 0 0 1 0 8c0-4.42 3.58-8 8-8Z"></path>
</svg>
</a>

    </div>

    <div class="Header-item mr-0 mr-md-3 flex-order-1 flex-md-order-none">
        

<notification-indicator data-channel="eyJjIjoibm90aWZpY2F0aW9uLWNoYW5nZWQ6MTMwNTg2Mzg1IiwidCI6MTY4NjExNTI2NX0=--ab4999311bc9e9c9ef1d011cf8d97a6ab99913dfa0fada5cc0b5ed6d2b80888a" data-indicator-mode="none" data-tooltip-global="You have unread notifications" data-tooltip-unavailable="Notifications are unavailable at the moment." data-tooltip-none="You have no unread notifications" data-fetch-indicator-src="/notifications/indicator" data-fetch-indicator-enabled="true" data-view-component="true" class="js-socket-channel" data-fetch-retry-delay-time="500" data-catalyst="">
  <a id="AppHeader-notifications-button" href="https://github.com/notifications" class="Header-link notification-indicator position-relative tooltipped tooltipped-sw" data-hotkey="g n" data-target="notification-indicator.link" aria-label="You have no unread notifications" data-analytics-event="{&quot;category&quot;:&quot;Header&quot;,&quot;action&quot;:&quot;go to notifications&quot;,&quot;label&quot;:&quot;icon:read&quot;}">

    <span data-target="notification-indicator.badge" class="mail-status unread" hidden="">
    </span>

      <svg aria-hidden="true" height="16" viewBox="0 0 16 16" version="1.1" width="16" data-view-component="true" class="octicon octicon-bell">
    <path d="M8 16a2 2 0 0 0 1.985-1.75c.017-.137-.097-.25-.235-.25h-3.5c-.138 0-.252.113-.235.25A2 2 0 0 0 8 16ZM3 5a5 5 0 0 1 10 0v2.947c0 .05.015.098.042.139l1.703 2.555A1.519 1.519 0 0 1 13.482 13H2.518a1.516 1.516 0 0 1-1.263-2.36l1.703-2.554A.255.255 0 0 0 3 7.947Zm5-3.5A3.5 3.5 0 0 0 4.5 5v2.947c0 .346-.102.683-.294.97l-1.703 2.556a.017.017 0 0 0-.003.01l.001.006c0 .002.002.004.004.006l.006.004.007.001h10.964l.007-.001.006-.004.004-.006.001-.007a.017.017 0 0 0-.003-.01l-1.703-2.554a1.745 1.745 0 0 1-.294-.97V5A3.5 3.5 0 0 0 8 1.5Z"></path>
</svg>
  </a>

</notification-indicator>
    </div>


    <div class="Header-item position-relative d-none d-md-flex">
        <details class="details-overlay details-reset">
  <summary class="Header-link" aria-label="Create new…" data-analytics-event="{&quot;category&quot;:&quot;Header&quot;,&quot;action&quot;:&quot;create new&quot;,&quot;label&quot;:&quot;icon:add&quot;}" aria-haspopup="menu" role="button">
    <svg aria-hidden="true" height="16" viewBox="0 0 16 16" version="1.1" width="16" data-view-component="true" class="octicon octicon-plus">
    <path d="M7.75 2a.75.75 0 0 1 .75.75V7h4.25a.75.75 0 0 1 0 1.5H8.5v4.25a.75.75 0 0 1-1.5 0V8.5H2.75a.75.75 0 0 1 0-1.5H7V2.75A.75.75 0 0 1 7.75 2Z"></path>
</svg> <span class="dropdown-caret"></span>
  </summary>
  <details-menu class="dropdown-menu dropdown-menu-sw" role="menu">
    
<a role="menuitem" class="dropdown-item" href="https://github.com/new" data-ga-click="Header, create new repository">
  New repository
</a>

  <a role="menuitem" class="dropdown-item" href="https://github.com/new/import" data-ga-click="Header, import a repository">
    Import repository
  </a>

  <a role="menuitem" class="dropdown-item" href="https://github.com/codespaces/new">
    New codespace
  </a>

<a role="menuitem" class="dropdown-item" href="https://gist.github.com/" data-ga-click="Header, create new gist">
  New gist
</a>

  <a role="menuitem" class="dropdown-item" href="https://github.com/organizations/new" data-ga-click="Header, create new organization">
    New organization
  </a>



  </details-menu>
</details>

    </div>

    <div class="Header-item position-relative mr-0 d-none d-md-flex">
        
  <details class="details-overlay details-reset js-feature-preview-indicator-container" data-feature-preview-indicator-src="/users/MxnuC/feature_preview/indicator_check">

  <summary class="Header-link" aria-label="View profile and more" data-analytics-event="{&quot;category&quot;:&quot;Header&quot;,&quot;action&quot;:&quot;show menu&quot;,&quot;label&quot;:&quot;icon:avatar&quot;}" aria-haspopup="menu" role="button">
    <img src="./desicion_tree_regresion_files/130586385" alt="@MxnuC" size="20" height="20" width="20" data-view-component="true" class="avatar avatar-small circle">
      <span class="unread-indicator js-feature-preview-indicator" style="top: 1px;"></span>
    <span class="dropdown-caret"></span>
  </summary>
  <details-menu class="dropdown-menu dropdown-menu-sw" style="width: 180px" preload="" role="menu">
      <include-fragment src="/users/130586385/menu" loading="lazy"><template shadowrootmode="open"><style>:host {display: block;}</style><slot></slot></template>
        <p class="text-center mt-3" data-hide-on-error="">
          <svg style="box-sizing: content-box; color: var(--color-icon-primary);" width="32" height="32" viewBox="0 0 16 16" fill="none" data-view-component="true" class="anim-rotate">
  <circle cx="8" cy="8" r="7" stroke="currentColor" stroke-opacity="0.25" stroke-width="2" vector-effect="non-scaling-stroke"></circle>
  <path d="M15 8a7.002 7.002 0 00-7-7" stroke="currentColor" stroke-width="2" stroke-linecap="round" vector-effect="non-scaling-stroke"></path>
</svg>
        </p>
        <p class="ml-1 mb-2 mt-2 color-fg-default" data-show-on-error="">
          <svg aria-hidden="true" height="16" viewBox="0 0 16 16" version="1.1" width="16" data-view-component="true" class="octicon octicon-alert">
    <path d="M6.457 1.047c.659-1.234 2.427-1.234 3.086 0l6.082 11.378A1.75 1.75 0 0 1 14.082 15H1.918a1.75 1.75 0 0 1-1.543-2.575Zm1.763.707a.25.25 0 0 0-.44 0L1.698 13.132a.25.25 0 0 0 .22.368h12.164a.25.25 0 0 0 .22-.368Zm.53 3.996v2.5a.75.75 0 0 1-1.5 0v-2.5a.75.75 0 0 1 1.5 0ZM9 11a1 1 0 1 1-2 0 1 1 0 0 1 2 0Z"></path>
</svg>
          Sorry, something went wrong.
        </p>
      </include-fragment>
  </details-menu>
</details>

    </div>
</header>

          
    </div>

  <div id="start-of-content" class="show-on-focus"></div>








    <div id="js-flash-container" data-turbo-replace="">





  <template class="js-flash-template"></template>
</div>


    
    <notification-shelf-watcher data-base-url="https://github.com/notifications/beta/shelf" data-channel="eyJjIjoibm90aWZpY2F0aW9uLWNoYW5nZWQ6MTMwNTg2Mzg1IiwidCI6MTY4NjExNTI2NX0=--ab4999311bc9e9c9ef1d011cf8d97a6ab99913dfa0fada5cc0b5ed6d2b80888a" data-view-component="true" class="js-socket-channel" data-refresh-delay="500" data-catalyst=""></notification-shelf-watcher>
  <div hidden="" data-initial="" data-target="notification-shelf-watcher.placeholder"></div>






      <details class="details-reset details-overlay details-overlay-dark js-command-palette-dialog" id="command-palette-pjax-container" data-turbo-replace="">
  <summary aria-label="command palette trigger" tabindex="-1" role="button"></summary>
  <details-dialog class="command-palette-details-dialog d-flex flex-column flex-justify-center height-fit" aria-label="command palette" role="dialog" aria-modal="true">
    <command-palette class="command-palette color-bg-default rounded-3 border color-shadow-small" return-to="/Adyael/ml_2023/blob/main/simple_linear_regression.ipynb" user-id="130586385" activation-hotkey="Mod+k,Mod+Alt+k" command-mode-hotkey="Mod+Shift+k" data-action="
        command-palette-input-ready:command-palette#inputReady
        command-palette-page-stack-updated:command-palette#updateInputScope
        itemsUpdated:command-palette#itemsUpdated
        keydown:command-palette#onKeydown
        loadingStateChanged:command-palette#loadingStateChanged
        selectedItemChanged:command-palette#selectedItemChanged
        pageFetchError:command-palette#pageFetchError
      " data-catalyst="">

        <command-palette-mode data-char="#" data-scope-types="[&quot;&quot;]" data-placeholder="Search issues and pull requests" data-catalyst=""></command-palette-mode>
        <command-palette-mode data-char="#" data-scope-types="[&quot;owner&quot;,&quot;repository&quot;]" data-placeholder="Search issues, pull requests, discussions, and projects" data-catalyst=""></command-palette-mode>
        <command-palette-mode data-char="!" data-scope-types="[&quot;owner&quot;,&quot;repository&quot;]" data-placeholder="Search projects" data-catalyst=""></command-palette-mode>
        <command-palette-mode data-char="@" data-scope-types="[&quot;&quot;]" data-placeholder="Search or jump to a user, organization, or repository" data-catalyst=""></command-palette-mode>
        <command-palette-mode data-char="@" data-scope-types="[&quot;owner&quot;]" data-placeholder="Search or jump to a repository" data-catalyst=""></command-palette-mode>
        <command-palette-mode data-char="/" data-scope-types="[&quot;repository&quot;]" data-placeholder="Search files" data-catalyst=""></command-palette-mode>
        <command-palette-mode data-char="?" data-placeholder="" data-catalyst="" data-scope-types=""></command-palette-mode>
        <command-palette-mode data-char="&gt;" data-placeholder="Run a command" data-scope-types="" data-catalyst=""></command-palette-mode>
        <command-palette-mode data-char="" data-scope-types="[&quot;&quot;]" data-placeholder="Search or jump to..." data-catalyst=""></command-palette-mode>
        <command-palette-mode data-char="" data-scope-types="[&quot;owner&quot;]" data-placeholder="Search or jump to..." data-catalyst=""></command-palette-mode>
      <command-palette-mode class="js-command-palette-default-mode" data-char="" data-placeholder="Search or jump to..." data-scope-types="" data-catalyst=""></command-palette-mode>

      <command-palette-input placeholder="Search or jump to..." data-action="
          command-palette-input:command-palette#onInput
          command-palette-select:command-palette#onSelect
          command-palette-descope:command-palette#onDescope
          command-palette-cleared:command-palette#onInputClear
        " data-catalyst="" class="d-flex flex-items-center flex-nowrap py-1 pl-3 pr-2 border-bottom">
        <div class="js-search-icon d-flex flex-items-center mr-2" style="height: 26px">
          <svg aria-hidden="true" height="16" viewBox="0 0 16 16" version="1.1" width="16" data-view-component="true" class="octicon octicon-search color-fg-muted">
    <path d="M10.68 11.74a6 6 0 0 1-7.922-8.982 6 6 0 0 1 8.982 7.922l3.04 3.04a.749.749 0 0 1-.326 1.275.749.749 0 0 1-.734-.215ZM11.5 7a4.499 4.499 0 1 0-8.997 0A4.499 4.499 0 0 0 11.5 7Z"></path>
</svg>
        </div>
        <div class="js-spinner d-flex flex-items-center mr-2 color-fg-muted" hidden="">
          <svg aria-label="Loading" class="anim-rotate" viewBox="0 0 16 16" fill="none" width="16" height="16">
            <circle cx="8" cy="8" r="7" stroke="currentColor" stroke-opacity="0.25" stroke-width="2" vector-effect="non-scaling-stroke"></circle>
            <path d="M15 8a7.002 7.002 0 00-7-7" stroke="currentColor" stroke-width="2" stroke-linecap="round" vector-effect="non-scaling-stroke"></path>
          </svg>
        </div>
        <command-palette-scope data-catalyst="" class="d-inline-flex">
          <div data-target="command-palette-scope.placeholder" hidden="" class="color-fg-subtle">/&nbsp;&nbsp;<span class="text-semibold color-fg-default">...</span>&nbsp;&nbsp;/&nbsp;&nbsp;</div>
              <command-palette-token data-text="Adyael" data-id="MDQ6VXNlcjcwOTIwMDYx" data-type="owner" data-value="Adyael" data-targets="command-palette-scope.tokens" class="color-fg-default text-semibold" style="white-space:nowrap;line-height:20px;" id="" data-catalyst="">Adyael<span class="color-fg-subtle text-normal">&nbsp;&nbsp;/&nbsp;&nbsp;</span></command-palette-token>
              <command-palette-token data-text="ml_2023" data-id="R_kgDOJbsa-Q" data-type="repository" data-value="ml_2023" data-targets="command-palette-scope.tokens" class="color-fg-default text-semibold" style="white-space:nowrap;line-height:20px;" id="" data-catalyst="">ml_2023<span class="color-fg-subtle text-normal">&nbsp;&nbsp;/&nbsp;&nbsp;</span></command-palette-token>
        </command-palette-scope>
        <div class="command-palette-input-group flex-1 form-control border-0 box-shadow-none" style="z-index: 0">
          <div class="command-palette-typeahead position-absolute d-flex flex-items-center Truncate">
            <span class="typeahead-segment input-mirror" data-target="command-palette-input.mirror"></span>
            <span class="Truncate-text" data-target="command-palette-input.typeaheadText"></span>
            <span class="typeahead-segment" data-target="command-palette-input.typeaheadPlaceholder"></span>
          </div>
          <input class="js-overlay-input typeahead-input d-none" disabled="" tabindex="-1" aria-label="Hidden input for typeahead">
          <input type="text" autocomplete="off" autocorrect="off" autocapitalize="off" spellcheck="false" class="js-input typeahead-input form-control border-0 box-shadow-none input-block width-full no-focus-indicator" aria-label="Command palette input" aria-haspopup="listbox" aria-expanded="false" aria-autocomplete="list" aria-controls="command-palette-page-stack" role="combobox" data-action="
              input:command-palette-input#onInput
              keydown:command-palette-input#onKeydown
            " placeholder="Search or jump to...">
        </div>
          <div data-view-component="true" class="position-relative d-inline-block">
    <button aria-keyshortcuts="Control+Backspace" data-action="click:command-palette-input#onClear keypress:command-palette-input#onClear" data-target="command-palette-input.clearButton" id="command-palette-clear-button" hidden="hidden" type="button" data-view-component="true" class="btn-octicon command-palette-input-clear-button" aria-labelledby="tooltip-e0947659-f998-4caa-abb0-16fd2f7e04ce">      <svg aria-hidden="true" height="16" viewBox="0 0 16 16" version="1.1" width="16" data-view-component="true" class="octicon octicon-x-circle-fill">
    <path d="M2.343 13.657A8 8 0 1 1 13.658 2.343 8 8 0 0 1 2.343 13.657ZM6.03 4.97a.751.751 0 0 0-1.042.018.751.751 0 0 0-.018 1.042L6.94 8 4.97 9.97a.749.749 0 0 0 .326 1.275.749.749 0 0 0 .734-.215L8 9.06l1.97 1.97a.749.749 0 0 0 1.275-.326.749.749 0 0 0-.215-.734L9.06 8l1.97-1.97a.749.749 0 0 0-.326-1.275.749.749 0 0 0-.734.215L8 6.94Z"></path>
</svg>
</button>    <tool-tip id="tooltip-e0947659-f998-4caa-abb0-16fd2f7e04ce" for="command-palette-clear-button" data-direction="w" data-type="label" data-view-component="true" class="sr-only position-absolute" aria-hidden="true" role="tooltip"><template shadowrootmode="open"><style>
      :host {
        position: absolute;
        z-index: 1000000;
        padding: .5em .75em;
        font: normal normal 11px/1.5 -apple-system, BlinkMacSystemFont, "Segoe UI", Helvetica, Arial, sans-serif, "Apple Color Emoji", "Segoe UI Emoji";
        -webkit-font-smoothing: subpixel-antialiased;
        color: var(--color-fg-on-emphasis);
        text-align: center;
        text-decoration: none;
        text-shadow: none;
        text-transform: none;
        letter-spacing: normal;
        word-wrap: break-word;
        white-space: pre;
        background: var(--color-neutral-emphasis-plus);
        border-radius: 6px;
        opacity: 0;
        max-width: 250px;
        word-wrap: break-word;
        white-space: normal;
        width: max-content;
      }

      :host:before{
        position: absolute;
        z-index: 1000001;
        color: var(--color-neutral-emphasis-plus);
        content: "";
        border: 6px solid transparent;
        opacity: 0
      }

      @keyframes tooltip-appear {
        from {
          opacity: 0
        }
        to {
          opacity: 1
        }
      }

      :host:after{
        position: absolute;
        display: block;
        right: 0;
        left: 0;
        height: 12px;
        content: ""
      }

      :host(.tooltip-open),
      :host(.tooltip-open):before {
        animation-name: tooltip-appear;
        animation-duration: .1s;
        animation-fill-mode: forwards;
        animation-timing-function: ease-in;
        animation-delay: .4s
      }

      :host(.tooltip-s):before,
      :host(.tooltip-n):before {
        right: 50%;
        margin-right: -6px;
      }

      :host(.tooltip-s):before,
      :host(.tooltip-se):before,
      :host(.tooltip-sw):before {
        bottom: 100%;
        border-bottom-color: var(--color-neutral-emphasis-plus)
      }

      :host(.tooltip-s):after,
      :host(.tooltip-se):after,
      :host(.tooltip-sw):after {
        bottom: 100%
      }

      :host(.tooltip-n):before,
      :host(.tooltip-ne):before,
      :host(.tooltip-nw):before {
        top: 100%;
        border-top-color: var(--color-neutral-emphasis-plus)
      }

      :host(.tooltip-n):after,
      :host(.tooltip-ne):after,
      :host(.tooltip-nw):after {
        top: 100%
      }

      :host(.tooltip-se):before,
      :host(.tooltip-ne):before {
        left: 0;
        margin-left: 6px;
      }

      :host(.tooltip-sw):before,
      :host(.tooltip-nw):before {
        right: 0;
        margin-right: 6px;
      }

      :host(.tooltip-w):before {
        top: 50%;
        bottom: 50%;
        left: 100%;
        margin-top: -6px;
        border-left-color: var(--color-neutral-emphasis-plus)
      }

      :host(.tooltip-e):before {
        top: 50%;
        right: 100%;
        bottom: 50%;
        margin-top: -6px;
        border-right-color: var(--color-neutral-emphasis-plus)
      }
    </style><slot></slot></template>Clear Command Palette</tool-tip>
</div>
      </command-palette-input>

      <command-palette-page-stack data-default-scope-id="R_kgDOJbsa-Q" data-default-scope-type="Repository" data-action="command-palette-page-octicons-cached:command-palette-page-stack#cacheOcticons" data-current-mode="" data-catalyst="" data-target="command-palette.pageStack" data-current-query-text="">
          <command-palette-tip class="color-fg-muted f6 px-3 py-1 my-2" data-scope-types="[&quot;&quot;,&quot;owner&quot;,&quot;repository&quot;]" data-mode="" data-value="" data-match-mode="" data-catalyst="" hidden="">
            <div class="d-flex flex-items-start flex-justify-between">
              <div>
                <span class="text-bold">Tip:</span>
                  Type <kbd class="hx_kbd">#</kbd> to search pull requests
              </div>
              <div class="ml-2 flex-shrink-0">
                Type <kbd class="hx_kbd">?</kbd> for help and tips
              </div>
            </div>
          </command-palette-tip>
          <command-palette-tip class="color-fg-muted f6 px-3 py-1 my-2" data-scope-types="[&quot;&quot;,&quot;owner&quot;,&quot;repository&quot;]" data-mode="" data-value="" data-match-mode="" data-catalyst="" hidden="">
            <div class="d-flex flex-items-start flex-justify-between">
              <div>
                <span class="text-bold">Tip:</span>
                  Type <kbd class="hx_kbd">#</kbd> to search issues
              </div>
              <div class="ml-2 flex-shrink-0">
                Type <kbd class="hx_kbd">?</kbd> for help and tips
              </div>
            </div>
          </command-palette-tip>
          <command-palette-tip class="color-fg-muted f6 px-3 py-1 my-2" data-scope-types="[&quot;owner&quot;,&quot;repository&quot;]" data-mode="" data-value="" data-match-mode="" data-catalyst="" hidden="">
            <div class="d-flex flex-items-start flex-justify-between">
              <div>
                <span class="text-bold">Tip:</span>
                  Type <kbd class="hx_kbd">#</kbd> to search discussions
              </div>
              <div class="ml-2 flex-shrink-0">
                Type <kbd class="hx_kbd">?</kbd> for help and tips
              </div>
            </div>
          </command-palette-tip>
          <command-palette-tip class="color-fg-muted f6 px-3 py-1 my-2" data-scope-types="[&quot;owner&quot;,&quot;repository&quot;]" data-mode="" data-value="" data-match-mode="" data-catalyst="" hidden="">
            <div class="d-flex flex-items-start flex-justify-between">
              <div>
                <span class="text-bold">Tip:</span>
                  Type <kbd class="hx_kbd">!</kbd> to search projects
              </div>
              <div class="ml-2 flex-shrink-0">
                Type <kbd class="hx_kbd">?</kbd> for help and tips
              </div>
            </div>
          </command-palette-tip>
          <command-palette-tip class="color-fg-muted f6 px-3 py-1 my-2" data-scope-types="[&quot;owner&quot;]" data-mode="" data-value="" data-match-mode="" data-catalyst="" hidden="">
            <div class="d-flex flex-items-start flex-justify-between">
              <div>
                <span class="text-bold">Tip:</span>
                  Type <kbd class="hx_kbd">@</kbd> to search teams
              </div>
              <div class="ml-2 flex-shrink-0">
                Type <kbd class="hx_kbd">?</kbd> for help and tips
              </div>
            </div>
          </command-palette-tip>
          <command-palette-tip class="color-fg-muted f6 px-3 py-1 my-2" data-scope-types="[&quot;&quot;]" data-mode="" data-value="" data-match-mode="" data-catalyst="" hidden="">
            <div class="d-flex flex-items-start flex-justify-between">
              <div>
                <span class="text-bold">Tip:</span>
                  Type <kbd class="hx_kbd">@</kbd> to search people and organizations
              </div>
              <div class="ml-2 flex-shrink-0">
                Type <kbd class="hx_kbd">?</kbd> for help and tips
              </div>
            </div>
          </command-palette-tip>
          <command-palette-tip class="color-fg-muted f6 px-3 py-1 my-2" data-scope-types="[&quot;&quot;,&quot;owner&quot;,&quot;repository&quot;]" data-mode="" data-value="" data-match-mode="" data-catalyst="" hidden="">
            <div class="d-flex flex-items-start flex-justify-between">
              <div>
                <span class="text-bold">Tip:</span>
                  Type <kbd class="hx_kbd">&gt;</kbd> to activate command mode
              </div>
              <div class="ml-2 flex-shrink-0">
                Type <kbd class="hx_kbd">?</kbd> for help and tips
              </div>
            </div>
          </command-palette-tip>
          <command-palette-tip class="color-fg-muted f6 px-3 py-1 my-2" data-scope-types="[&quot;&quot;,&quot;owner&quot;,&quot;repository&quot;]" data-mode="" data-value="" data-match-mode="" data-catalyst="" hidden="">
            <div class="d-flex flex-items-start flex-justify-between">
              <div>
                <span class="text-bold">Tip:</span>
                  Go to your accessibility settings to change your keyboard shortcuts
              </div>
              <div class="ml-2 flex-shrink-0">
                Type <kbd class="hx_kbd">?</kbd> for help and tips
              </div>
            </div>
          </command-palette-tip>
          <command-palette-tip class="color-fg-muted f6 px-3 py-1 my-2" data-scope-types="[&quot;&quot;,&quot;owner&quot;,&quot;repository&quot;]" data-mode="#" data-value="" data-match-mode="" data-catalyst="" hidden="">
            <div class="d-flex flex-items-start flex-justify-between">
              <div>
                <span class="text-bold">Tip:</span>
                  Type author:@me to search your content
              </div>
              <div class="ml-2 flex-shrink-0">
                Type <kbd class="hx_kbd">?</kbd> for help and tips
              </div>
            </div>
          </command-palette-tip>
          <command-palette-tip class="color-fg-muted f6 px-3 py-1 my-2" data-scope-types="[&quot;&quot;,&quot;owner&quot;,&quot;repository&quot;]" data-mode="#" data-value="" data-match-mode="" data-catalyst="" hidden="">
            <div class="d-flex flex-items-start flex-justify-between">
              <div>
                <span class="text-bold">Tip:</span>
                  Type is:pr to filter to pull requests
              </div>
              <div class="ml-2 flex-shrink-0">
                Type <kbd class="hx_kbd">?</kbd> for help and tips
              </div>
            </div>
          </command-palette-tip>
          <command-palette-tip class="color-fg-muted f6 px-3 py-1 my-2" data-scope-types="[&quot;&quot;,&quot;owner&quot;,&quot;repository&quot;]" data-mode="#" data-value="" data-match-mode="" data-catalyst="" hidden="">
            <div class="d-flex flex-items-start flex-justify-between">
              <div>
                <span class="text-bold">Tip:</span>
                  Type is:issue to filter to issues
              </div>
              <div class="ml-2 flex-shrink-0">
                Type <kbd class="hx_kbd">?</kbd> for help and tips
              </div>
            </div>
          </command-palette-tip>
          <command-palette-tip class="color-fg-muted f6 px-3 py-1 my-2" data-scope-types="[&quot;owner&quot;,&quot;repository&quot;]" data-mode="#" data-value="" data-match-mode="" data-catalyst="" hidden="">
            <div class="d-flex flex-items-start flex-justify-between">
              <div>
                <span class="text-bold">Tip:</span>
                  Type is:project to filter to projects
              </div>
              <div class="ml-2 flex-shrink-0">
                Type <kbd class="hx_kbd">?</kbd> for help and tips
              </div>
            </div>
          </command-palette-tip>
          <command-palette-tip class="color-fg-muted f6 px-3 py-1 my-2" data-scope-types="[&quot;&quot;,&quot;owner&quot;,&quot;repository&quot;]" data-mode="#" data-value="" data-match-mode="" data-catalyst="" hidden="">
            <div class="d-flex flex-items-start flex-justify-between">
              <div>
                <span class="text-bold">Tip:</span>
                  Type is:open to filter to open content
              </div>
              <div class="ml-2 flex-shrink-0">
                Type <kbd class="hx_kbd">?</kbd> for help and tips
              </div>
            </div>
          </command-palette-tip>
        <command-palette-tip class="mx-3 my-2 flash flash-error d-flex flex-items-center" data-scope-types="*" data-on-error="" data-mode="*" data-catalyst="" hidden="" data-match-mode="" data-value="*">
          <div>
            <svg aria-hidden="true" height="16" viewBox="0 0 16 16" version="1.1" width="16" data-view-component="true" class="octicon octicon-alert">
    <path d="M6.457 1.047c.659-1.234 2.427-1.234 3.086 0l6.082 11.378A1.75 1.75 0 0 1 14.082 15H1.918a1.75 1.75 0 0 1-1.543-2.575Zm1.763.707a.25.25 0 0 0-.44 0L1.698 13.132a.25.25 0 0 0 .22.368h12.164a.25.25 0 0 0 .22-.368Zm.53 3.996v2.5a.75.75 0 0 1-1.5 0v-2.5a.75.75 0 0 1 1.5 0ZM9 11a1 1 0 1 1-2 0 1 1 0 0 1 2 0Z"></path>
</svg>
          </div>
          <div class="px-2">
            We’ve encountered an error and some results aren't available at this time. Type a new search or try again later.
          </div>
        </command-palette-tip>
        <command-palette-tip class="h4 color-fg-default pl-3 pb-2 pt-3" data-on-empty="" data-scope-types="*" data-match-mode="[^?]|^$" data-mode="*" data-catalyst="" hidden="" data-value="*">
          No results matched your search
        </command-palette-tip>

        <div hidden="">

            <div data-targets="command-palette-page-stack.localOcticons" data-octicon-id="arrow-right-color-fg-muted">
              <svg height="16" class="octicon octicon-arrow-right color-fg-muted" viewBox="0 0 16 16" version="1.1" width="16" aria-hidden="true"><path d="M8.22 2.97a.75.75 0 0 1 1.06 0l4.25 4.25a.75.75 0 0 1 0 1.06l-4.25 4.25a.751.751 0 0 1-1.042-.018.751.751 0 0 1-.018-1.042l2.97-2.97H3.75a.75.75 0 0 1 0-1.5h7.44L8.22 4.03a.75.75 0 0 1 0-1.06Z"></path></svg>
            </div>
            <div data-targets="command-palette-page-stack.localOcticons" data-octicon-id="arrow-right-color-fg-default">
              <svg height="16" class="octicon octicon-arrow-right color-fg-default" viewBox="0 0 16 16" version="1.1" width="16" aria-hidden="true"><path d="M8.22 2.97a.75.75 0 0 1 1.06 0l4.25 4.25a.75.75 0 0 1 0 1.06l-4.25 4.25a.751.751 0 0 1-1.042-.018.751.751 0 0 1-.018-1.042l2.97-2.97H3.75a.75.75 0 0 1 0-1.5h7.44L8.22 4.03a.75.75 0 0 1 0-1.06Z"></path></svg>
            </div>
            <div data-targets="command-palette-page-stack.localOcticons" data-octicon-id="codespaces-color-fg-muted">
              <svg height="16" class="octicon octicon-codespaces color-fg-muted" viewBox="0 0 16 16" version="1.1" width="16" aria-hidden="true"><path d="M0 11.25c0-.966.784-1.75 1.75-1.75h12.5c.966 0 1.75.784 1.75 1.75v3A1.75 1.75 0 0 1 14.25 16H1.75A1.75 1.75 0 0 1 0 14.25Zm2-9.5C2 .784 2.784 0 3.75 0h8.5C13.216 0 14 .784 14 1.75v5a1.75 1.75 0 0 1-1.75 1.75h-8.5A1.75 1.75 0 0 1 2 6.75Zm1.75-.25a.25.25 0 0 0-.25.25v5c0 .138.112.25.25.25h8.5a.25.25 0 0 0 .25-.25v-5a.25.25 0 0 0-.25-.25Zm-2 9.5a.25.25 0 0 0-.25.25v3c0 .138.112.25.25.25h12.5a.25.25 0 0 0 .25-.25v-3a.25.25 0 0 0-.25-.25Z"></path><path d="M7 12.75a.75.75 0 0 1 .75-.75h4.5a.75.75 0 0 1 0 1.5h-4.5a.75.75 0 0 1-.75-.75Zm-4 0a.75.75 0 0 1 .75-.75h.5a.75.75 0 0 1 0 1.5h-.5a.75.75 0 0 1-.75-.75Z"></path></svg>
            </div>
            <div data-targets="command-palette-page-stack.localOcticons" data-octicon-id="copy-color-fg-muted">
              <svg height="16" class="octicon octicon-copy color-fg-muted" viewBox="0 0 16 16" version="1.1" width="16" aria-hidden="true"><path d="M0 6.75C0 5.784.784 5 1.75 5h1.5a.75.75 0 0 1 0 1.5h-1.5a.25.25 0 0 0-.25.25v7.5c0 .138.112.25.25.25h7.5a.25.25 0 0 0 .25-.25v-1.5a.75.75 0 0 1 1.5 0v1.5A1.75 1.75 0 0 1 9.25 16h-7.5A1.75 1.75 0 0 1 0 14.25Z"></path><path d="M5 1.75C5 .784 5.784 0 6.75 0h7.5C15.216 0 16 .784 16 1.75v7.5A1.75 1.75 0 0 1 14.25 11h-7.5A1.75 1.75 0 0 1 5 9.25Zm1.75-.25a.25.25 0 0 0-.25.25v7.5c0 .138.112.25.25.25h7.5a.25.25 0 0 0 .25-.25v-7.5a.25.25 0 0 0-.25-.25Z"></path></svg>
            </div>
            <div data-targets="command-palette-page-stack.localOcticons" data-octicon-id="dash-color-fg-muted">
              <svg height="16" class="octicon octicon-dash color-fg-muted" viewBox="0 0 16 16" version="1.1" width="16" aria-hidden="true"><path d="M2 7.75A.75.75 0 0 1 2.75 7h10a.75.75 0 0 1 0 1.5h-10A.75.75 0 0 1 2 7.75Z"></path></svg>
            </div>
            <div data-targets="command-palette-page-stack.localOcticons" data-octicon-id="file-color-fg-muted">
              <svg height="16" class="octicon octicon-file color-fg-muted" viewBox="0 0 16 16" version="1.1" width="16" aria-hidden="true"><path d="M2 1.75C2 .784 2.784 0 3.75 0h6.586c.464 0 .909.184 1.237.513l2.914 2.914c.329.328.513.773.513 1.237v9.586A1.75 1.75 0 0 1 13.25 16h-9.5A1.75 1.75 0 0 1 2 14.25Zm1.75-.25a.25.25 0 0 0-.25.25v12.5c0 .138.112.25.25.25h9.5a.25.25 0 0 0 .25-.25V6h-2.75A1.75 1.75 0 0 1 9 4.25V1.5Zm6.75.062V4.25c0 .138.112.25.25.25h2.688l-.011-.013-2.914-2.914-.013-.011Z"></path></svg>
            </div>
            <div data-targets="command-palette-page-stack.localOcticons" data-octicon-id="gear-color-fg-muted">
              <svg height="16" class="octicon octicon-gear color-fg-muted" viewBox="0 0 16 16" version="1.1" width="16" aria-hidden="true"><path d="M8 0a8.2 8.2 0 0 1 .701.031C9.444.095 9.99.645 10.16 1.29l.288 1.107c.018.066.079.158.212.224.231.114.454.243.668.386.123.082.233.09.299.071l1.103-.303c.644-.176 1.392.021 1.82.63.27.385.506.792.704 1.218.315.675.111 1.422-.364 1.891l-.814.806c-.049.048-.098.147-.088.294.016.257.016.515 0 .772-.01.147.038.246.088.294l.814.806c.475.469.679 1.216.364 1.891a7.977 7.977 0 0 1-.704 1.217c-.428.61-1.176.807-1.82.63l-1.102-.302c-.067-.019-.177-.011-.3.071a5.909 5.909 0 0 1-.668.386c-.133.066-.194.158-.211.224l-.29 1.106c-.168.646-.715 1.196-1.458 1.26a8.006 8.006 0 0 1-1.402 0c-.743-.064-1.289-.614-1.458-1.26l-.289-1.106c-.018-.066-.079-.158-.212-.224a5.738 5.738 0 0 1-.668-.386c-.123-.082-.233-.09-.299-.071l-1.103.303c-.644.176-1.392-.021-1.82-.63a8.12 8.12 0 0 1-.704-1.218c-.315-.675-.111-1.422.363-1.891l.815-.806c.05-.048.098-.147.088-.294a6.214 6.214 0 0 1 0-.772c.01-.147-.038-.246-.088-.294l-.815-.806C.635 6.045.431 5.298.746 4.623a7.92 7.92 0 0 1 .704-1.217c.428-.61 1.176-.807 1.82-.63l1.102.302c.067.019.177.011.3-.071.214-.143.437-.272.668-.386.133-.066.194-.158.211-.224l.29-1.106C6.009.645 6.556.095 7.299.03 7.53.01 7.764 0 8 0Zm-.571 1.525c-.036.003-.108.036-.137.146l-.289 1.105c-.147.561-.549.967-.998 1.189-.173.086-.34.183-.5.29-.417.278-.97.423-1.529.27l-1.103-.303c-.109-.03-.175.016-.195.045-.22.312-.412.644-.573.99-.014.031-.021.11.059.19l.815.806c.411.406.562.957.53 1.456a4.709 4.709 0 0 0 0 .582c.032.499-.119 1.05-.53 1.456l-.815.806c-.081.08-.073.159-.059.19.162.346.353.677.573.989.02.03.085.076.195.046l1.102-.303c.56-.153 1.113-.008 1.53.27.161.107.328.204.501.29.447.222.85.629.997 1.189l.289 1.105c.029.109.101.143.137.146a6.6 6.6 0 0 0 1.142 0c.036-.003.108-.036.137-.146l.289-1.105c.147-.561.549-.967.998-1.189.173-.086.34-.183.5-.29.417-.278.97-.423 1.529-.27l1.103.303c.109.029.175-.016.195-.045.22-.313.411-.644.573-.99.014-.031.021-.11-.059-.19l-.815-.806c-.411-.406-.562-.957-.53-1.456a4.709 4.709 0 0 0 0-.582c-.032-.499.119-1.05.53-1.456l.815-.806c.081-.08.073-.159.059-.19a6.464 6.464 0 0 0-.573-.989c-.02-.03-.085-.076-.195-.046l-1.102.303c-.56.153-1.113.008-1.53-.27a4.44 4.44 0 0 0-.501-.29c-.447-.222-.85-.629-.997-1.189l-.289-1.105c-.029-.11-.101-.143-.137-.146a6.6 6.6 0 0 0-1.142 0ZM11 8a3 3 0 1 1-6 0 3 3 0 0 1 6 0ZM9.5 8a1.5 1.5 0 1 0-3.001.001A1.5 1.5 0 0 0 9.5 8Z"></path></svg>
            </div>
            <div data-targets="command-palette-page-stack.localOcticons" data-octicon-id="lock-color-fg-muted">
              <svg height="16" class="octicon octicon-lock color-fg-muted" viewBox="0 0 16 16" version="1.1" width="16" aria-hidden="true"><path d="M4 4a4 4 0 0 1 8 0v2h.25c.966 0 1.75.784 1.75 1.75v5.5A1.75 1.75 0 0 1 12.25 15h-8.5A1.75 1.75 0 0 1 2 13.25v-5.5C2 6.784 2.784 6 3.75 6H4Zm8.25 3.5h-8.5a.25.25 0 0 0-.25.25v5.5c0 .138.112.25.25.25h8.5a.25.25 0 0 0 .25-.25v-5.5a.25.25 0 0 0-.25-.25ZM10.5 6V4a2.5 2.5 0 1 0-5 0v2Z"></path></svg>
            </div>
            <div data-targets="command-palette-page-stack.localOcticons" data-octicon-id="moon-color-fg-muted">
              <svg height="16" class="octicon octicon-moon color-fg-muted" viewBox="0 0 16 16" version="1.1" width="16" aria-hidden="true"><path d="M9.598 1.591a.749.749 0 0 1 .785-.175 7.001 7.001 0 1 1-8.967 8.967.75.75 0 0 1 .961-.96 5.5 5.5 0 0 0 7.046-7.046.75.75 0 0 1 .175-.786Zm1.616 1.945a7 7 0 0 1-7.678 7.678 5.499 5.499 0 1 0 7.678-7.678Z"></path></svg>
            </div>
            <div data-targets="command-palette-page-stack.localOcticons" data-octicon-id="person-color-fg-muted">
              <svg height="16" class="octicon octicon-person color-fg-muted" viewBox="0 0 16 16" version="1.1" width="16" aria-hidden="true"><path d="M10.561 8.073a6.005 6.005 0 0 1 3.432 5.142.75.75 0 1 1-1.498.07 4.5 4.5 0 0 0-8.99 0 .75.75 0 0 1-1.498-.07 6.004 6.004 0 0 1 3.431-5.142 3.999 3.999 0 1 1 5.123 0ZM10.5 5a2.5 2.5 0 1 0-5 0 2.5 2.5 0 0 0 5 0Z"></path></svg>
            </div>
            <div data-targets="command-palette-page-stack.localOcticons" data-octicon-id="pencil-color-fg-muted">
              <svg height="16" class="octicon octicon-pencil color-fg-muted" viewBox="0 0 16 16" version="1.1" width="16" aria-hidden="true"><path d="M11.013 1.427a1.75 1.75 0 0 1 2.474 0l1.086 1.086a1.75 1.75 0 0 1 0 2.474l-8.61 8.61c-.21.21-.47.364-.756.445l-3.251.93a.75.75 0 0 1-.927-.928l.929-3.25c.081-.286.235-.547.445-.758l8.61-8.61Zm.176 4.823L9.75 4.81l-6.286 6.287a.253.253 0 0 0-.064.108l-.558 1.953 1.953-.558a.253.253 0 0 0 .108-.064Zm1.238-3.763a.25.25 0 0 0-.354 0L10.811 3.75l1.439 1.44 1.263-1.263a.25.25 0 0 0 0-.354Z"></path></svg>
            </div>
            <div data-targets="command-palette-page-stack.localOcticons" data-octicon-id="issue-opened-open">
              <svg height="16" class="octicon octicon-issue-opened open" viewBox="0 0 16 16" version="1.1" width="16" aria-hidden="true"><path d="M8 9.5a1.5 1.5 0 1 0 0-3 1.5 1.5 0 0 0 0 3Z"></path><path d="M8 0a8 8 0 1 1 0 16A8 8 0 0 1 8 0ZM1.5 8a6.5 6.5 0 1 0 13 0 6.5 6.5 0 0 0-13 0Z"></path></svg>
            </div>
            <div data-targets="command-palette-page-stack.localOcticons" data-octicon-id="git-pull-request-draft-color-fg-muted">
              <svg height="16" class="octicon octicon-git-pull-request-draft color-fg-muted" viewBox="0 0 16 16" version="1.1" width="16" aria-hidden="true"><path d="M3.25 1A2.25 2.25 0 0 1 4 5.372v5.256a2.251 2.251 0 1 1-1.5 0V5.372A2.251 2.251 0 0 1 3.25 1Zm9.5 14a2.25 2.25 0 1 1 0-4.5 2.25 2.25 0 0 1 0 4.5ZM2.5 3.25a.75.75 0 1 0 1.5 0 .75.75 0 0 0-1.5 0ZM3.25 12a.75.75 0 1 0 0 1.5.75.75 0 0 0 0-1.5Zm9.5 0a.75.75 0 1 0 0 1.5.75.75 0 0 0 0-1.5ZM14 7.5a1.25 1.25 0 1 1-2.5 0 1.25 1.25 0 0 1 2.5 0Zm0-4.25a1.25 1.25 0 1 1-2.5 0 1.25 1.25 0 0 1 2.5 0Z"></path></svg>
            </div>
            <div data-targets="command-palette-page-stack.localOcticons" data-octicon-id="search-color-fg-muted">
              <svg height="16" class="octicon octicon-search color-fg-muted" viewBox="0 0 16 16" version="1.1" width="16" aria-hidden="true"><path d="M10.68 11.74a6 6 0 0 1-7.922-8.982 6 6 0 0 1 8.982 7.922l3.04 3.04a.749.749 0 0 1-.326 1.275.749.749 0 0 1-.734-.215ZM11.5 7a4.499 4.499 0 1 0-8.997 0A4.499 4.499 0 0 0 11.5 7Z"></path></svg>
            </div>
            <div data-targets="command-palette-page-stack.localOcticons" data-octicon-id="sun-color-fg-muted">
              <svg height="16" class="octicon octicon-sun color-fg-muted" viewBox="0 0 16 16" version="1.1" width="16" aria-hidden="true"><path d="M8 12a4 4 0 1 1 0-8 4 4 0 0 1 0 8Zm0-1.5a2.5 2.5 0 1 0 0-5 2.5 2.5 0 0 0 0 5Zm5.657-8.157a.75.75 0 0 1 0 1.061l-1.061 1.06a.749.749 0 0 1-1.275-.326.749.749 0 0 1 .215-.734l1.06-1.06a.75.75 0 0 1 1.06 0Zm-9.193 9.193a.75.75 0 0 1 0 1.06l-1.06 1.061a.75.75 0 1 1-1.061-1.06l1.06-1.061a.75.75 0 0 1 1.061 0ZM8 0a.75.75 0 0 1 .75.75v1.5a.75.75 0 0 1-1.5 0V.75A.75.75 0 0 1 8 0ZM3 8a.75.75 0 0 1-.75.75H.75a.75.75 0 0 1 0-1.5h1.5A.75.75 0 0 1 3 8Zm13 0a.75.75 0 0 1-.75.75h-1.5a.75.75 0 0 1 0-1.5h1.5A.75.75 0 0 1 16 8Zm-8 5a.75.75 0 0 1 .75.75v1.5a.75.75 0 0 1-1.5 0v-1.5A.75.75 0 0 1 8 13Zm3.536-1.464a.75.75 0 0 1 1.06 0l1.061 1.06a.75.75 0 0 1-1.06 1.061l-1.061-1.06a.75.75 0 0 1 0-1.061ZM2.343 2.343a.75.75 0 0 1 1.061 0l1.06 1.061a.751.751 0 0 1-.018 1.042.751.751 0 0 1-1.042.018l-1.06-1.06a.75.75 0 0 1 0-1.06Z"></path></svg>
            </div>
            <div data-targets="command-palette-page-stack.localOcticons" data-octicon-id="sync-color-fg-muted">
              <svg height="16" class="octicon octicon-sync color-fg-muted" viewBox="0 0 16 16" version="1.1" width="16" aria-hidden="true"><path d="M1.705 8.005a.75.75 0 0 1 .834.656 5.5 5.5 0 0 0 9.592 2.97l-1.204-1.204a.25.25 0 0 1 .177-.427h3.646a.25.25 0 0 1 .25.25v3.646a.25.25 0 0 1-.427.177l-1.38-1.38A7.002 7.002 0 0 1 1.05 8.84a.75.75 0 0 1 .656-.834ZM8 2.5a5.487 5.487 0 0 0-4.131 1.869l1.204 1.204A.25.25 0 0 1 4.896 6H1.25A.25.25 0 0 1 1 5.75V2.104a.25.25 0 0 1 .427-.177l1.38 1.38A7.002 7.002 0 0 1 14.95 7.16a.75.75 0 0 1-1.49.178A5.5 5.5 0 0 0 8 2.5Z"></path></svg>
            </div>
            <div data-targets="command-palette-page-stack.localOcticons" data-octicon-id="trash-color-fg-muted">
              <svg height="16" class="octicon octicon-trash color-fg-muted" viewBox="0 0 16 16" version="1.1" width="16" aria-hidden="true"><path d="M11 1.75V3h2.25a.75.75 0 0 1 0 1.5H2.75a.75.75 0 0 1 0-1.5H5V1.75C5 .784 5.784 0 6.75 0h2.5C10.216 0 11 .784 11 1.75ZM4.496 6.675l.66 6.6a.25.25 0 0 0 .249.225h5.19a.25.25 0 0 0 .249-.225l.66-6.6a.75.75 0 0 1 1.492.149l-.66 6.6A1.748 1.748 0 0 1 10.595 15h-5.19a1.75 1.75 0 0 1-1.741-1.575l-.66-6.6a.75.75 0 1 1 1.492-.15ZM6.5 1.75V3h3V1.75a.25.25 0 0 0-.25-.25h-2.5a.25.25 0 0 0-.25.25Z"></path></svg>
            </div>
            <div data-targets="command-palette-page-stack.localOcticons" data-octicon-id="key-color-fg-muted">
              <svg height="16" class="octicon octicon-key color-fg-muted" viewBox="0 0 16 16" version="1.1" width="16" aria-hidden="true"><path d="M10.5 0a5.499 5.499 0 1 1-1.288 10.848l-.932.932a.749.749 0 0 1-.53.22H7v.75a.749.749 0 0 1-.22.53l-.5.5a.749.749 0 0 1-.53.22H5v.75a.749.749 0 0 1-.22.53l-.5.5a.749.749 0 0 1-.53.22h-2A1.75 1.75 0 0 1 0 14.25v-2c0-.199.079-.389.22-.53l4.932-4.932A5.5 5.5 0 0 1 10.5 0Zm-4 5.5c-.001.431.069.86.205 1.269a.75.75 0 0 1-.181.768L1.5 12.56v1.69c0 .138.112.25.25.25h1.69l.06-.06v-1.19a.75.75 0 0 1 .75-.75h1.19l.06-.06v-1.19a.75.75 0 0 1 .75-.75h1.19l1.023-1.025a.75.75 0 0 1 .768-.18A4 4 0 1 0 6.5 5.5ZM11 6a1 1 0 1 1 0-2 1 1 0 0 1 0 2Z"></path></svg>
            </div>
            <div data-targets="command-palette-page-stack.localOcticons" data-octicon-id="comment-discussion-color-fg-muted">
              <svg height="16" class="octicon octicon-comment-discussion color-fg-muted" viewBox="0 0 16 16" version="1.1" width="16" aria-hidden="true"><path d="M1.75 1h8.5c.966 0 1.75.784 1.75 1.75v5.5A1.75 1.75 0 0 1 10.25 10H7.061l-2.574 2.573A1.458 1.458 0 0 1 2 11.543V10h-.25A1.75 1.75 0 0 1 0 8.25v-5.5C0 1.784.784 1 1.75 1ZM1.5 2.75v5.5c0 .138.112.25.25.25h1a.75.75 0 0 1 .75.75v2.19l2.72-2.72a.749.749 0 0 1 .53-.22h3.5a.25.25 0 0 0 .25-.25v-5.5a.25.25 0 0 0-.25-.25h-8.5a.25.25 0 0 0-.25.25Zm13 2a.25.25 0 0 0-.25-.25h-.5a.75.75 0 0 1 0-1.5h.5c.966 0 1.75.784 1.75 1.75v5.5A1.75 1.75 0 0 1 14.25 12H14v1.543a1.458 1.458 0 0 1-2.487 1.03L9.22 12.28a.749.749 0 0 1 .326-1.275.749.749 0 0 1 .734.215l2.22 2.22v-2.19a.75.75 0 0 1 .75-.75h1a.25.25 0 0 0 .25-.25Z"></path></svg>
            </div>
            <div data-targets="command-palette-page-stack.localOcticons" data-octicon-id="bell-color-fg-muted">
              <svg height="16" class="octicon octicon-bell color-fg-muted" viewBox="0 0 16 16" version="1.1" width="16" aria-hidden="true"><path d="M8 16a2 2 0 0 0 1.985-1.75c.017-.137-.097-.25-.235-.25h-3.5c-.138 0-.252.113-.235.25A2 2 0 0 0 8 16ZM3 5a5 5 0 0 1 10 0v2.947c0 .05.015.098.042.139l1.703 2.555A1.519 1.519 0 0 1 13.482 13H2.518a1.516 1.516 0 0 1-1.263-2.36l1.703-2.554A.255.255 0 0 0 3 7.947Zm5-3.5A3.5 3.5 0 0 0 4.5 5v2.947c0 .346-.102.683-.294.97l-1.703 2.556a.017.017 0 0 0-.003.01l.001.006c0 .002.002.004.004.006l.006.004.007.001h10.964l.007-.001.006-.004.004-.006.001-.007a.017.017 0 0 0-.003-.01l-1.703-2.554a1.745 1.745 0 0 1-.294-.97V5A3.5 3.5 0 0 0 8 1.5Z"></path></svg>
            </div>
            <div data-targets="command-palette-page-stack.localOcticons" data-octicon-id="bell-slash-color-fg-muted">
              <svg height="16" class="octicon octicon-bell-slash color-fg-muted" viewBox="0 0 16 16" version="1.1" width="16" aria-hidden="true"><path d="m4.182 4.31.016.011 10.104 7.316.013.01 1.375.996a.75.75 0 1 1-.88 1.214L13.626 13H2.518a1.516 1.516 0 0 1-1.263-2.36l1.703-2.554A.255.255 0 0 0 3 7.947V5.305L.31 3.357a.75.75 0 1 1 .88-1.214Zm7.373 7.19L4.5 6.391v1.556c0 .346-.102.683-.294.97l-1.703 2.556a.017.017 0 0 0-.003.01c0 .005.002.009.005.012l.006.004.007.001ZM8 1.5c-.997 0-1.895.416-2.534 1.086A.75.75 0 1 1 4.38 1.55 5 5 0 0 1 13 5v2.373a.75.75 0 0 1-1.5 0V5A3.5 3.5 0 0 0 8 1.5ZM8 16a2 2 0 0 1-1.985-1.75c-.017-.137.097-.25.235-.25h3.5c.138 0 .252.113.235.25A2 2 0 0 1 8 16Z"></path></svg>
            </div>
            <div data-targets="command-palette-page-stack.localOcticons" data-octicon-id="paintbrush-color-fg-muted">
              <svg height="16" class="octicon octicon-paintbrush color-fg-muted" viewBox="0 0 16 16" version="1.1" width="16" aria-hidden="true"><path d="M11.134 1.535c.7-.509 1.416-.942 2.076-1.155.649-.21 1.463-.267 2.069.34.603.601.568 1.411.368 2.07-.202.668-.624 1.39-1.125 2.096-1.011 1.424-2.496 2.987-3.775 4.249-1.098 1.084-2.132 1.839-3.04 2.3a3.744 3.744 0 0 1-1.055 3.217c-.431.431-1.065.691-1.657.861-.614.177-1.294.287-1.914.357A21.151 21.151 0 0 1 .797 16H.743l.007-.75H.749L.742 16a.75.75 0 0 1-.743-.742l.743-.008-.742.007v-.054a21.25 21.25 0 0 1 .13-2.284c.067-.647.187-1.287.358-1.914.17-.591.43-1.226.86-1.657a3.746 3.746 0 0 1 3.227-1.054c.466-.893 1.225-1.907 2.314-2.982 1.271-1.255 2.833-2.75 4.245-3.777ZM1.62 13.089c-.051.464-.086.929-.104 1.395.466-.018.932-.053 1.396-.104a10.511 10.511 0 0 0 1.668-.309c.526-.151.856-.325 1.011-.48a2.25 2.25 0 1 0-3.182-3.182c-.155.155-.329.485-.48 1.01a10.515 10.515 0 0 0-.309 1.67Zm10.396-10.34c-1.224.89-2.605 2.189-3.822 3.384l1.718 1.718c1.21-1.205 2.51-2.597 3.387-3.833.47-.662.78-1.227.912-1.662.134-.444.032-.551.009-.575h-.001V1.78c-.014-.014-.113-.113-.548.027-.432.14-.995.462-1.655.942Zm-4.832 7.266-.001.001a9.859 9.859 0 0 0 1.63-1.142L7.155 7.216a9.7 9.7 0 0 0-1.161 1.607c.482.302.889.71 1.19 1.192Z"></path></svg>
            </div>

            <command-palette-item-group data-group-id="top" data-group-title="Top result" data-group-hint="" data-group-limits="{}" data-default-priority="0" data-catalyst="" class="py-2 border-top" hidden="true" data-skip-template="">
            
          <div class="d-flex flex-justify-between my-2 px-3">
            <span data-target="command-palette-item-group.header" class="color-fg-muted text-bold f6 text-normal">
              Top result
            </span>
            <span data-target="command-palette-item-group.header" class="color-fg-muted f6 text-normal">
              
            </span>
          </div>
          <div role="listbox" class="list-style-none" data-target="command-palette-item-group.list" aria-label="Top result results"></div>
        </command-palette-item-group>
            <command-palette-item-group data-group-id="commands" data-group-title="Commands" data-group-hint="Type &gt; to filter" data-group-limits="{&quot;static_items_page&quot;:50,&quot;issue&quot;:50,&quot;pull_request&quot;:50,&quot;discussion&quot;:50}" data-default-priority="1" data-catalyst="" class="py-2 border-top" hidden="true" data-skip-template="">
            
          <div class="d-flex flex-justify-between my-2 px-3">
            <span data-target="command-palette-item-group.header" class="color-fg-muted text-bold f6 text-normal">
              Commands
            </span>
            <span data-target="command-palette-item-group.header" class="color-fg-muted f6 text-normal">
              Type &gt; to filter
            </span>
          </div>
          <div role="listbox" class="list-style-none" data-target="command-palette-item-group.list" aria-label="Commands results"></div>
        </command-palette-item-group>
            <command-palette-item-group data-group-id="global_commands" data-group-title="Global Commands" data-group-hint="Type &gt; to filter" data-group-limits="{&quot;issue&quot;:0,&quot;pull_request&quot;:0,&quot;discussion&quot;:0}" data-default-priority="2" data-catalyst="" class="py-2 border-top" hidden="true" data-skip-template="">
            
          <div class="d-flex flex-justify-between my-2 px-3">
            <span data-target="command-palette-item-group.header" class="color-fg-muted text-bold f6 text-normal">
              Global Commands
            </span>
            <span data-target="command-palette-item-group.header" class="color-fg-muted f6 text-normal">
              Type &gt; to filter
            </span>
          </div>
          <div role="listbox" class="list-style-none" data-target="command-palette-item-group.list" aria-label="Global Commands results"></div>
        </command-palette-item-group>
            <command-palette-item-group data-group-id="this_page" data-group-title="This Page" data-group-hint="" data-group-limits="{}" data-default-priority="3" data-catalyst="" class="py-2 border-top" hidden="true" data-skip-template="">
            
          <div class="d-flex flex-justify-between my-2 px-3">
            <span data-target="command-palette-item-group.header" class="color-fg-muted text-bold f6 text-normal">
              This Page
            </span>
            <span data-target="command-palette-item-group.header" class="color-fg-muted f6 text-normal">
              
            </span>
          </div>
          <div role="listbox" class="list-style-none" data-target="command-palette-item-group.list" aria-label="This Page results"></div>
        </command-palette-item-group>
            <command-palette-item-group data-group-id="files" data-group-title="Files" data-group-hint="" data-group-limits="{}" data-default-priority="4" data-catalyst="" class="py-2 border-top" hidden="true" data-skip-template="">
            
          <div class="d-flex flex-justify-between my-2 px-3">
            <span data-target="command-palette-item-group.header" class="color-fg-muted text-bold f6 text-normal">
              Files
            </span>
            <span data-target="command-palette-item-group.header" class="color-fg-muted f6 text-normal">
              
            </span>
          </div>
          <div role="listbox" class="list-style-none" data-target="command-palette-item-group.list" aria-label="Files results"></div>
        </command-palette-item-group>
            <command-palette-item-group data-group-id="default" data-group-title="Default" data-group-hint="" data-group-limits="{&quot;static_items_page&quot;:50}" data-default-priority="5" data-catalyst="" class="py-2 border-top" hidden="true" data-skip-template="">
            
          <div role="listbox" class="list-style-none" data-target="command-palette-item-group.list" aria-label="Default results"></div>
        </command-palette-item-group>
            <command-palette-item-group data-group-id="pages" data-group-title="Pages" data-group-hint="" data-group-limits="{&quot;repository&quot;:10}" data-default-priority="6" data-catalyst="" class="py-2 border-top" hidden="true" data-skip-template="">
            
          <div class="d-flex flex-justify-between my-2 px-3">
            <span data-target="command-palette-item-group.header" class="color-fg-muted text-bold f6 text-normal">
              Pages
            </span>
            <span data-target="command-palette-item-group.header" class="color-fg-muted f6 text-normal">
              
            </span>
          </div>
          <div role="listbox" class="list-style-none" data-target="command-palette-item-group.list" aria-label="Pages results"></div>
        </command-palette-item-group>
            <command-palette-item-group data-group-id="access_policies" data-group-title="Access Policies" data-group-hint="" data-group-limits="{}" data-default-priority="7" data-catalyst="" class="py-2 border-top" hidden="true" data-skip-template="">
            
          <div class="d-flex flex-justify-between my-2 px-3">
            <span data-target="command-palette-item-group.header" class="color-fg-muted text-bold f6 text-normal">
              Access Policies
            </span>
            <span data-target="command-palette-item-group.header" class="color-fg-muted f6 text-normal">
              
            </span>
          </div>
          <div role="listbox" class="list-style-none" data-target="command-palette-item-group.list" aria-label="Access Policies results"></div>
        </command-palette-item-group>
            <command-palette-item-group data-group-id="organizations" data-group-title="Organizations" data-group-hint="" data-group-limits="{}" data-default-priority="8" data-catalyst="" class="py-2 border-top" hidden="true" data-skip-template="">
            
          <div class="d-flex flex-justify-between my-2 px-3">
            <span data-target="command-palette-item-group.header" class="color-fg-muted text-bold f6 text-normal">
              Organizations
            </span>
            <span data-target="command-palette-item-group.header" class="color-fg-muted f6 text-normal">
              
            </span>
          </div>
          <div role="listbox" class="list-style-none" data-target="command-palette-item-group.list" aria-label="Organizations results"></div>
        </command-palette-item-group>
            <command-palette-item-group data-group-id="repositories" data-group-title="Repositories" data-group-hint="" data-group-limits="{}" data-default-priority="9" data-catalyst="" class="py-2 border-top" hidden="true" data-skip-template="">
            
          <div class="d-flex flex-justify-between my-2 px-3">
            <span data-target="command-palette-item-group.header" class="color-fg-muted text-bold f6 text-normal">
              Repositories
            </span>
            <span data-target="command-palette-item-group.header" class="color-fg-muted f6 text-normal">
              
            </span>
          </div>
          <div role="listbox" class="list-style-none" data-target="command-palette-item-group.list" aria-label="Repositories results"></div>
        </command-palette-item-group>
            <command-palette-item-group data-group-id="references" data-group-title="Issues, pull requests, and discussions" data-group-hint="Type # to filter" data-group-limits="{}" data-default-priority="10" data-catalyst="" class="py-2 border-top" hidden="true" data-skip-template="">
            
          <div class="d-flex flex-justify-between my-2 px-3">
            <span data-target="command-palette-item-group.header" class="color-fg-muted text-bold f6 text-normal">
              Issues, pull requests, and discussions
            </span>
            <span data-target="command-palette-item-group.header" class="color-fg-muted f6 text-normal">
              Type # to filter
            </span>
          </div>
          <div role="listbox" class="list-style-none" data-target="command-palette-item-group.list" aria-label="Issues, pull requests, and discussions results"></div>
        </command-palette-item-group>
            <command-palette-item-group data-group-id="teams" data-group-title="Teams" data-group-hint="" data-group-limits="{}" data-default-priority="11" data-catalyst="" class="py-2 border-top" hidden="true" data-skip-template="">
            
          <div class="d-flex flex-justify-between my-2 px-3">
            <span data-target="command-palette-item-group.header" class="color-fg-muted text-bold f6 text-normal">
              Teams
            </span>
            <span data-target="command-palette-item-group.header" class="color-fg-muted f6 text-normal">
              
            </span>
          </div>
          <div role="listbox" class="list-style-none" data-target="command-palette-item-group.list" aria-label="Teams results"></div>
        </command-palette-item-group>
            <command-palette-item-group data-group-id="users" data-group-title="Users" data-group-hint="" data-group-limits="{}" data-default-priority="12" data-catalyst="" class="py-2 border-top" hidden="true" data-skip-template="">
            
          <div class="d-flex flex-justify-between my-2 px-3">
            <span data-target="command-palette-item-group.header" class="color-fg-muted text-bold f6 text-normal">
              Users
            </span>
            <span data-target="command-palette-item-group.header" class="color-fg-muted f6 text-normal">
              
            </span>
          </div>
          <div role="listbox" class="list-style-none" data-target="command-palette-item-group.list" aria-label="Users results"></div>
        </command-palette-item-group>
            <command-palette-item-group data-group-id="memex_projects" data-group-title="Projects" data-group-hint="" data-group-limits="{}" data-default-priority="13" data-catalyst="" class="py-2 border-top" hidden="true" data-skip-template="">
            
          <div class="d-flex flex-justify-between my-2 px-3">
            <span data-target="command-palette-item-group.header" class="color-fg-muted text-bold f6 text-normal">
              Projects
            </span>
            <span data-target="command-palette-item-group.header" class="color-fg-muted f6 text-normal">
              
            </span>
          </div>
          <div role="listbox" class="list-style-none" data-target="command-palette-item-group.list" aria-label="Projects results"></div>
        </command-palette-item-group>
            <command-palette-item-group data-group-id="projects" data-group-title="Projects (classic)" data-group-hint="" data-group-limits="{}" data-default-priority="14" data-catalyst="" class="py-2 border-top" hidden="true" data-skip-template="">
            
          <div class="d-flex flex-justify-between my-2 px-3">
            <span data-target="command-palette-item-group.header" class="color-fg-muted text-bold f6 text-normal">
              Projects (classic)
            </span>
            <span data-target="command-palette-item-group.header" class="color-fg-muted f6 text-normal">
              
            </span>
          </div>
          <div role="listbox" class="list-style-none" data-target="command-palette-item-group.list" aria-label="Projects (classic) results"></div>
        </command-palette-item-group>
            <command-palette-item-group data-group-id="footer" data-group-title="Footer" data-group-hint="" data-group-limits="{}" data-default-priority="15" data-catalyst="" class="py-2 border-top" hidden="true" data-skip-template="">
            
          <div role="listbox" class="list-style-none" data-target="command-palette-item-group.list" aria-label="Footer results"></div>
        </command-palette-item-group>
            <command-palette-item-group data-group-id="modes_help" data-group-title="Modes" data-group-hint="" data-group-limits="{}" data-default-priority="16" data-catalyst="" class="py-2 border-top" hidden="true" data-skip-template="">
            
          <div class="d-flex flex-justify-between my-2 px-3">
            <span data-target="command-palette-item-group.header" class="color-fg-muted text-bold f6 text-normal">
              Modes
            </span>
            <span data-target="command-palette-item-group.header" class="color-fg-muted f6 text-normal">
              
            </span>
          </div>
          <div role="listbox" class="list-style-none" data-target="command-palette-item-group.list" aria-label="Modes results"></div>
        </command-palette-item-group>
            <command-palette-item-group data-group-id="filters_help" data-group-title="Use filters in issues, pull requests, discussions, and projects" data-group-hint="" data-group-limits="{}" data-default-priority="17" data-catalyst="" class="py-2 border-top" hidden="true" data-skip-template="">
            
          <div class="d-flex flex-justify-between my-2 px-3">
            <span data-target="command-palette-item-group.header" class="color-fg-muted text-bold f6 text-normal">
              Use filters in issues, pull requests, discussions, and projects
            </span>
            <span data-target="command-palette-item-group.header" class="color-fg-muted f6 text-normal">
              
            </span>
          </div>
          <div role="listbox" class="list-style-none" data-target="command-palette-item-group.list" aria-label="Use filters in issues, pull requests, discussions, and projects results"></div>
        </command-palette-item-group>

            <command-palette-page data-page-title="Adyael" data-scope-id="MDQ6VXNlcjcwOTIwMDYx" data-scope-type="owner" data-targets="command-palette-page-stack.defaultPages" hidden="" data-catalyst="" class="rounded-bottom-2 page-stack-transition-height" style="max-height:400px;">
            </command-palette-page>
            <command-palette-page data-page-title="ml_2023" data-scope-id="R_kgDOJbsa-Q" data-scope-type="repository" data-targets="command-palette-page-stack.defaultPages" hidden="" data-catalyst="" class="rounded-bottom-2 page-stack-transition-height" style="max-height:400px;">
            </command-palette-page>
        </div>

        <command-palette-page data-is-root="" hidden="" data-page-title="" data-catalyst="" class="rounded-bottom-2 page-stack-transition-height" data-targets="command-palette-page-stack.pages" style="max-height:400px;" data-scope-id="" data-scope-type="">
        </command-palette-page>
          <command-palette-page data-page-title="Adyael" data-scope-id="MDQ6VXNlcjcwOTIwMDYx" data-scope-type="owner" hidden="" data-catalyst="" class="rounded-bottom-2 page-stack-transition-height" data-targets="command-palette-page-stack.pages" style="max-height:400px;">
          </command-palette-page>
          <command-palette-page data-page-title="ml_2023" data-scope-id="R_kgDOJbsa-Q" data-scope-type="repository" hidden="" data-catalyst="" class="rounded-bottom-2 page-stack-transition-height" data-targets="command-palette-page-stack.pages" style="max-height:400px;">
          </command-palette-page>
      </command-palette-page-stack>

      <server-defined-provider data-type="search-links" data-targets="command-palette.serverDefinedProviderElements" data-supported-modes="" data-catalyst="" data-fetch-debounce="" data-supported-scope-types="" data-src="" data-supports-commands=""></server-defined-provider>
      <server-defined-provider data-type="help" data-targets="command-palette.serverDefinedProviderElements" data-supported-modes="" data-catalyst="" data-fetch-debounce="" data-supported-scope-types="" data-src="" data-supports-commands="">
          <command-palette-help data-group="modes_help" data-prefix="#" data-scope-types="[&quot;&quot;]" data-catalyst="" hidden="">
            <span data-target="command-palette-help.titleElement">Search for <strong>issues</strong> and <strong>pull requests</strong></span>
              <span data-target="command-palette-help.hintElement">
                <kbd class="hx_kbd">#</kbd>
              </span>
          </command-palette-help>
          <command-palette-help data-group="modes_help" data-prefix="#" data-scope-types="[&quot;owner&quot;,&quot;repository&quot;]" data-catalyst="" hidden="">
            <span data-target="command-palette-help.titleElement">Search for <strong>issues, pull requests, discussions,</strong> and <strong>projects</strong></span>
              <span data-target="command-palette-help.hintElement">
                <kbd class="hx_kbd">#</kbd>
              </span>
          </command-palette-help>
          <command-palette-help data-group="modes_help" data-prefix="@" data-scope-types="[&quot;&quot;]" data-catalyst="" hidden="">
            <span data-target="command-palette-help.titleElement">Search for <strong>organizations, repositories,</strong> and <strong>users</strong></span>
              <span data-target="command-palette-help.hintElement">
                <kbd class="hx_kbd">@</kbd>
              </span>
          </command-palette-help>
          <command-palette-help data-group="modes_help" data-prefix="!" data-scope-types="[&quot;owner&quot;,&quot;repository&quot;]" data-catalyst="" hidden="">
            <span data-target="command-palette-help.titleElement">Search for <strong>projects</strong></span>
              <span data-target="command-palette-help.hintElement">
                <kbd class="hx_kbd">!</kbd>
              </span>
          </command-palette-help>
          <command-palette-help data-group="modes_help" data-prefix="/" data-scope-types="[&quot;repository&quot;]" data-catalyst="" hidden="">
            <span data-target="command-palette-help.titleElement">Search for <strong>files</strong></span>
              <span data-target="command-palette-help.hintElement">
                <kbd class="hx_kbd">/</kbd>
              </span>
          </command-palette-help>
          <command-palette-help data-group="modes_help" data-prefix="&gt;" data-scope-types="" data-catalyst="" hidden="">
            <span data-target="command-palette-help.titleElement">Activate <strong>command mode</strong></span>
              <span data-target="command-palette-help.hintElement">
                <kbd class="hx_kbd">&gt;</kbd>
              </span>
          </command-palette-help>
          <command-palette-help data-group="filters_help" data-prefix="# author:@me" data-scope-types="" data-catalyst="" hidden="">
            <span data-target="command-palette-help.titleElement">Search your issues, pull requests, and discussions</span>
              <span data-target="command-palette-help.hintElement">
                <kbd class="hx_kbd"># author:@me</kbd>
              </span>
          </command-palette-help>
          <command-palette-help data-group="filters_help" data-prefix="# author:@me" data-scope-types="" data-catalyst="" hidden="">
            <span data-target="command-palette-help.titleElement">Search your issues, pull requests, and discussions</span>
              <span data-target="command-palette-help.hintElement">
                <kbd class="hx_kbd"># author:@me</kbd>
              </span>
          </command-palette-help>
          <command-palette-help data-group="filters_help" data-prefix="# is:pr" data-scope-types="" data-catalyst="" hidden="">
            <span data-target="command-palette-help.titleElement">Filter to pull requests</span>
              <span data-target="command-palette-help.hintElement">
                <kbd class="hx_kbd"># is:pr</kbd>
              </span>
          </command-palette-help>
          <command-palette-help data-group="filters_help" data-prefix="# is:issue" data-scope-types="" data-catalyst="" hidden="">
            <span data-target="command-palette-help.titleElement">Filter to issues</span>
              <span data-target="command-palette-help.hintElement">
                <kbd class="hx_kbd"># is:issue</kbd>
              </span>
          </command-palette-help>
          <command-palette-help data-group="filters_help" data-prefix="# is:discussion" data-scope-types="[&quot;owner&quot;,&quot;repository&quot;]" data-catalyst="" hidden="">
            <span data-target="command-palette-help.titleElement">Filter to discussions</span>
              <span data-target="command-palette-help.hintElement">
                <kbd class="hx_kbd"># is:discussion</kbd>
              </span>
          </command-palette-help>
          <command-palette-help data-group="filters_help" data-prefix="# is:project" data-scope-types="[&quot;owner&quot;,&quot;repository&quot;]" data-catalyst="" hidden="">
            <span data-target="command-palette-help.titleElement">Filter to projects</span>
              <span data-target="command-palette-help.hintElement">
                <kbd class="hx_kbd"># is:project</kbd>
              </span>
          </command-palette-help>
          <command-palette-help data-group="filters_help" data-prefix="# is:open" data-scope-types="" data-catalyst="" hidden="">
            <span data-target="command-palette-help.titleElement">Filter to open issues, pull requests, and discussions</span>
              <span data-target="command-palette-help.hintElement">
                <kbd class="hx_kbd"># is:open</kbd>
              </span>
          </command-palette-help>
      </server-defined-provider>

        <server-defined-provider data-type="commands" data-fetch-debounce="0" data-src="/command_palette/commands" data-supported-modes="[]" data-supports-commands="" data-targets="command-palette.serverDefinedProviderElements" data-supported-scope-types="" data-catalyst=""></server-defined-provider>
        <server-defined-provider data-type="prefetched" data-fetch-debounce="0" data-src="/command_palette/jump_to_page_navigation" data-supported-modes="[&quot;&quot;]" data-supported-scope-types="[&quot;&quot;,&quot;owner&quot;,&quot;repository&quot;]" data-targets="command-palette.serverDefinedProviderElements" data-supports-commands="" data-catalyst=""></server-defined-provider>
        <server-defined-provider data-type="remote" data-fetch-debounce="200" data-src="/command_palette/issues" data-supported-modes="[&quot;#&quot;,&quot;#&quot;]" data-supported-scope-types="[&quot;owner&quot;,&quot;repository&quot;,&quot;&quot;]" data-targets="command-palette.serverDefinedProviderElements" data-supports-commands="" data-catalyst=""></server-defined-provider>
        <server-defined-provider data-type="remote" data-fetch-debounce="200" data-src="/command_palette/jump_to" data-supported-modes="[&quot;@&quot;,&quot;@&quot;]" data-supported-scope-types="[&quot;&quot;,&quot;owner&quot;]" data-targets="command-palette.serverDefinedProviderElements" data-supports-commands="" data-catalyst=""></server-defined-provider>
        <server-defined-provider data-type="remote" data-fetch-debounce="200" data-src="/command_palette/jump_to_members_only" data-supported-modes="[&quot;@&quot;,&quot;@&quot;,&quot;&quot;,&quot;&quot;]" data-supported-scope-types="[&quot;&quot;,&quot;owner&quot;]" data-targets="command-palette.serverDefinedProviderElements" data-supports-commands="" data-catalyst=""></server-defined-provider>
        <server-defined-provider data-type="prefetched" data-fetch-debounce="0" data-src="/command_palette/jump_to_members_only_prefetched" data-supported-modes="[&quot;@&quot;,&quot;@&quot;,&quot;&quot;,&quot;&quot;]" data-supported-scope-types="[&quot;&quot;,&quot;owner&quot;]" data-targets="command-palette.serverDefinedProviderElements" data-supports-commands="" data-catalyst=""></server-defined-provider>
        <server-defined-provider data-type="files" data-fetch-debounce="0" data-src="/command_palette/files" data-supported-modes="[&quot;/&quot;]" data-supported-scope-types="[&quot;repository&quot;]" data-targets="command-palette.serverDefinedProviderElements" data-supports-commands="" data-catalyst=""></server-defined-provider>
        <server-defined-provider data-type="remote" data-fetch-debounce="200" data-src="/command_palette/discussions" data-supported-modes="[&quot;#&quot;]" data-supported-scope-types="[&quot;owner&quot;,&quot;repository&quot;]" data-targets="command-palette.serverDefinedProviderElements" data-supports-commands="" data-catalyst=""></server-defined-provider>
        <server-defined-provider data-type="remote" data-fetch-debounce="200" data-src="/command_palette/projects" data-supported-modes="[&quot;#&quot;,&quot;!&quot;]" data-supported-scope-types="[&quot;owner&quot;,&quot;repository&quot;]" data-targets="command-palette.serverDefinedProviderElements" data-supports-commands="" data-catalyst=""></server-defined-provider>
        <server-defined-provider data-type="prefetched" data-fetch-debounce="0" data-src="/command_palette/recent_issues" data-supported-modes="[&quot;#&quot;,&quot;#&quot;]" data-supported-scope-types="[&quot;owner&quot;,&quot;repository&quot;,&quot;&quot;]" data-targets="command-palette.serverDefinedProviderElements" data-supports-commands="" data-catalyst=""></server-defined-provider>
        <server-defined-provider data-type="remote" data-fetch-debounce="200" data-src="/command_palette/teams" data-supported-modes="[&quot;@&quot;,&quot;&quot;]" data-supported-scope-types="[&quot;owner&quot;]" data-targets="command-palette.serverDefinedProviderElements" data-supports-commands="" data-catalyst=""></server-defined-provider>
        <server-defined-provider data-type="remote" data-fetch-debounce="200" data-src="/command_palette/name_with_owner_repository" data-supported-modes="[&quot;@&quot;,&quot;@&quot;,&quot;&quot;,&quot;&quot;]" data-supported-scope-types="[&quot;&quot;,&quot;owner&quot;]" data-targets="command-palette.serverDefinedProviderElements" data-supports-commands="" data-catalyst=""></server-defined-provider>
    <client-defined-provider data-catalyst="" data-provider-id="main-window-commands-provider" data-targets="command-palette.clientDefinedProviderElements"></client-defined-provider></command-palette>
  </details-dialog>
</details>

<div class="position-fixed bottom-0 left-0 ml-5 mb-5 js-command-palette-toasts" style="z-index: 1000">
  <div hidden="" class="Toast Toast--loading">
    <span class="Toast-icon">
      <svg class="Toast--spinner" viewBox="0 0 32 32" width="18" height="18" aria-hidden="true">
        <path fill="#959da5" d="M16 0 A16 16 0 0 0 16 32 A16 16 0 0 0 16 0 M16 4 A12 12 0 0 1 16 28 A12 12 0 0 1 16 4"></path>
        <path fill="#ffffff" d="M16 0 A16 16 0 0 1 32 16 L28 16 A12 12 0 0 0 16 4z"></path>
      </svg>
    </span>
    <span class="Toast-content"></span>
  </div>

  <div hidden="" class="anim-fade-in fast Toast Toast--error">
    <span class="Toast-icon">
      <svg aria-hidden="true" height="16" viewBox="0 0 16 16" version="1.1" width="16" data-view-component="true" class="octicon octicon-stop">
    <path d="M4.47.22A.749.749 0 0 1 5 0h6c.199 0 .389.079.53.22l4.25 4.25c.141.14.22.331.22.53v6a.749.749 0 0 1-.22.53l-4.25 4.25A.749.749 0 0 1 11 16H5a.749.749 0 0 1-.53-.22L.22 11.53A.749.749 0 0 1 0 11V5c0-.199.079-.389.22-.53Zm.84 1.28L1.5 5.31v5.38l3.81 3.81h5.38l3.81-3.81V5.31L10.69 1.5ZM8 4a.75.75 0 0 1 .75.75v3.5a.75.75 0 0 1-1.5 0v-3.5A.75.75 0 0 1 8 4Zm0 8a1 1 0 1 1 0-2 1 1 0 0 1 0 2Z"></path>
</svg>
    </span>
    <span class="Toast-content"></span>
  </div>

  <div hidden="" class="anim-fade-in fast Toast Toast--warning">
    <span class="Toast-icon">
      <svg aria-hidden="true" height="16" viewBox="0 0 16 16" version="1.1" width="16" data-view-component="true" class="octicon octicon-alert">
    <path d="M6.457 1.047c.659-1.234 2.427-1.234 3.086 0l6.082 11.378A1.75 1.75 0 0 1 14.082 15H1.918a1.75 1.75 0 0 1-1.543-2.575Zm1.763.707a.25.25 0 0 0-.44 0L1.698 13.132a.25.25 0 0 0 .22.368h12.164a.25.25 0 0 0 .22-.368Zm.53 3.996v2.5a.75.75 0 0 1-1.5 0v-2.5a.75.75 0 0 1 1.5 0ZM9 11a1 1 0 1 1-2 0 1 1 0 0 1 2 0Z"></path>
</svg>
    </span>
    <span class="Toast-content"></span>
  </div>


  <div hidden="" class="anim-fade-in fast Toast Toast--success">
    <span class="Toast-icon">
      <svg aria-hidden="true" height="16" viewBox="0 0 16 16" version="1.1" width="16" data-view-component="true" class="octicon octicon-check">
    <path d="M13.78 4.22a.75.75 0 0 1 0 1.06l-7.25 7.25a.75.75 0 0 1-1.06 0L2.22 9.28a.751.751 0 0 1 .018-1.042.751.751 0 0 1 1.042-.018L6 10.94l6.72-6.72a.75.75 0 0 1 1.06 0Z"></path>
</svg>
    </span>
    <span class="Toast-content"></span>
  </div>

  <div hidden="" class="anim-fade-in fast Toast">
    <span class="Toast-icon">
      <svg aria-hidden="true" height="16" viewBox="0 0 16 16" version="1.1" width="16" data-view-component="true" class="octicon octicon-info">
    <path d="M0 8a8 8 0 1 1 16 0A8 8 0 0 1 0 8Zm8-6.5a6.5 6.5 0 1 0 0 13 6.5 6.5 0 0 0 0-13ZM6.5 7.75A.75.75 0 0 1 7.25 7h1a.75.75 0 0 1 .75.75v2.75h.25a.75.75 0 0 1 0 1.5h-2a.75.75 0 0 1 0-1.5h.25v-2h-.25a.75.75 0 0 1-.75-.75ZM8 6a1 1 0 1 1 0-2 1 1 0 0 1 0 2Z"></path>
</svg>
    </span>
    <span class="Toast-content"></span>
  </div>
</div>


  <div class="application-main " data-commit-hovercards-enabled="" data-discussion-hovercards-enabled="" data-issue-and-pr-hovercards-enabled="">
        <div itemscope="" itemtype="http://schema.org/SoftwareSourceCode" class="">
    <main id="js-repo-pjax-container">
      
      






  
  <div id="repository-container-header" class="pt-3 hide-full-screen" style="background-color: var(--color-page-header-bg);" data-turbo-replace="">

      <div class="d-flex flex-wrap flex-justify-end mb-3  px-3 px-md-4 px-lg-5" style="gap: 1rem;">

        <div class="flex-auto min-width-0 width-fit mr-3">
            
  <div class=" d-flex flex-wrap flex-items-center wb-break-word f3 text-normal">
      <svg aria-hidden="true" height="16" viewBox="0 0 16 16" version="1.1" width="16" data-view-component="true" class="octicon octicon-repo color-fg-muted mr-2">
    <path d="M2 2.5A2.5 2.5 0 0 1 4.5 0h8.75a.75.75 0 0 1 .75.75v12.5a.75.75 0 0 1-.75.75h-2.5a.75.75 0 0 1 0-1.5h1.75v-2h-8a1 1 0 0 0-.714 1.7.75.75 0 1 1-1.072 1.05A2.495 2.495 0 0 1 2 11.5Zm10.5-1h-8a1 1 0 0 0-1 1v6.708A2.486 2.486 0 0 1 4.5 9h8ZM5 12.25a.25.25 0 0 1 .25-.25h3.5a.25.25 0 0 1 .25.25v3.25a.25.25 0 0 1-.4.2l-1.45-1.087a.249.249 0 0 0-.3 0L5.4 15.7a.25.25 0 0 1-.4-.2Z"></path>
</svg>
    
    <span class="author flex-self-stretch" itemprop="author">
      <a class="url fn" rel="author" data-hovercard-type="user" data-hovercard-url="/users/Adyael/hovercard" data-octo-click="hovercard-link-click" data-octo-dimensions="link_type:self" href="https://github.com/Adyael">
        Adyael
</a>    </span>
    <span class="mx-1 flex-self-stretch color-fg-muted">/</span>
    <strong itemprop="name" class="mr-2 flex-self-stretch">
      <a data-pjax="#repo-content-pjax-container" data-turbo-frame="repo-content-turbo-frame" href="https://github.com/Adyael/ml_2023">ml_2023</a>
    </strong>

    <span></span><span class="Label Label--secondary v-align-middle mr-1">Public</span>
  </div>


        </div>

        <div id="repository-details-container" data-turbo-replace="">
            <ul class="pagehead-actions flex-shrink-0 d-none d-md-inline" style="padding: 2px 0;">
    
      

  <li>
              <notifications-list-subscription-form data-action="notifications-dialog-label-toggled:notifications-list-subscription-form#handleDialogLabelToggle" class="f5 position-relative" data-catalyst="">
        <details class="details-reset details-overlay f5 position-relative" data-target="notifications-list-subscription-form.details" data-action="toggle:notifications-list-subscription-form#detailsToggled">

          <summary data-hydro-click="{&quot;event_type&quot;:&quot;repository.click&quot;,&quot;payload&quot;:{&quot;target&quot;:&quot;WATCH_BUTTON&quot;,&quot;repository_id&quot;:633019129,&quot;originating_url&quot;:&quot;https://github.com/notifications/633019129/watch_subscription?aria_id_prefix=repository-details&amp;button_block=false&amp;show_count=true&quot;,&quot;user_id&quot;:130586385}}" data-hydro-click-hmac="c39f1ad66f3e6dbc614c4c0fc58cd59f7c8b67a68907146658dac4e62f9d0142" data-ga-click="Repository, click Watch settings, action:notifications#watch_subscription" aria-label="Adyael/ml_2023 repository watch options" id="repository-details-watch-button" data-view-component="true" class="btn-sm btn" aria-haspopup="menu" role="button">    <span data-menu-button="">
              <span hidden="" data-target="notifications-list-subscription-form.unwatchButtonCopy">
                <svg aria-hidden="true" height="16" viewBox="0 0 16 16" version="1.1" width="16" data-view-component="true" class="octicon octicon-eye">
    <path d="M8 2c1.981 0 3.671.992 4.933 2.078 1.27 1.091 2.187 2.345 2.637 3.023a1.62 1.62 0 0 1 0 1.798c-.45.678-1.367 1.932-2.637 3.023C11.67 13.008 9.981 14 8 14c-1.981 0-3.671-.992-4.933-2.078C1.797 10.83.88 9.576.43 8.898a1.62 1.62 0 0 1 0-1.798c.45-.677 1.367-1.931 2.637-3.022C4.33 2.992 6.019 2 8 2ZM1.679 7.932a.12.12 0 0 0 0 .136c.411.622 1.241 1.75 2.366 2.717C5.176 11.758 6.527 12.5 8 12.5c1.473 0 2.825-.742 3.955-1.715 1.124-.967 1.954-2.096 2.366-2.717a.12.12 0 0 0 0-.136c-.412-.621-1.242-1.75-2.366-2.717C10.824 4.242 9.473 3.5 8 3.5c-1.473 0-2.825.742-3.955 1.715-1.124.967-1.954 2.096-2.366 2.717ZM8 10a2 2 0 1 1-.001-3.999A2 2 0 0 1 8 10Z"></path>
</svg>
                Unwatch
              </span>
              <span hidden="" data-target="notifications-list-subscription-form.stopIgnoringButtonCopy">
                <svg aria-hidden="true" height="16" viewBox="0 0 16 16" version="1.1" width="16" data-view-component="true" class="octicon octicon-bell-slash">
    <path d="m4.182 4.31.016.011 10.104 7.316.013.01 1.375.996a.75.75 0 1 1-.88 1.214L13.626 13H2.518a1.516 1.516 0 0 1-1.263-2.36l1.703-2.554A.255.255 0 0 0 3 7.947V5.305L.31 3.357a.75.75 0 1 1 .88-1.214Zm7.373 7.19L4.5 6.391v1.556c0 .346-.102.683-.294.97l-1.703 2.556a.017.017 0 0 0-.003.01c0 .005.002.009.005.012l.006.004.007.001ZM8 1.5c-.997 0-1.895.416-2.534 1.086A.75.75 0 1 1 4.38 1.55 5 5 0 0 1 13 5v2.373a.75.75 0 0 1-1.5 0V5A3.5 3.5 0 0 0 8 1.5ZM8 16a2 2 0 0 1-1.985-1.75c-.017-.137.097-.25.235-.25h3.5c.138 0 .252.113.235.25A2 2 0 0 1 8 16Z"></path>
</svg>
                Stop ignoring
              </span>
              <span data-target="notifications-list-subscription-form.watchButtonCopy">
                <svg aria-hidden="true" height="16" viewBox="0 0 16 16" version="1.1" width="16" data-view-component="true" class="octicon octicon-eye">
    <path d="M8 2c1.981 0 3.671.992 4.933 2.078 1.27 1.091 2.187 2.345 2.637 3.023a1.62 1.62 0 0 1 0 1.798c-.45.678-1.367 1.932-2.637 3.023C11.67 13.008 9.981 14 8 14c-1.981 0-3.671-.992-4.933-2.078C1.797 10.83.88 9.576.43 8.898a1.62 1.62 0 0 1 0-1.798c.45-.677 1.367-1.931 2.637-3.022C4.33 2.992 6.019 2 8 2ZM1.679 7.932a.12.12 0 0 0 0 .136c.411.622 1.241 1.75 2.366 2.717C5.176 11.758 6.527 12.5 8 12.5c1.473 0 2.825-.742 3.955-1.715 1.124-.967 1.954-2.096 2.366-2.717a.12.12 0 0 0 0-.136c-.412-.621-1.242-1.75-2.366-2.717C10.824 4.242 9.473 3.5 8 3.5c-1.473 0-2.825.742-3.955 1.715-1.124.967-1.954 2.096-2.366 2.717ZM8 10a2 2 0 1 1-.001-3.999A2 2 0 0 1 8 10Z"></path>
</svg>
                Watch
              </span>
            </span>
              <span id="repo-notifications-counter" data-target="notifications-list-subscription-form.socialCount" data-pjax-replace="true" data-turbo-replace="true" title="1" data-view-component="true" class="Counter">1</span>
            <span class="dropdown-caret"></span>
</summary>
          <details-menu class="SelectMenu  " role="menu" data-target="notifications-list-subscription-form.menu">
            <div class="SelectMenu-modal notifications-component-menu-modal">
              <header class="SelectMenu-header">
                <h3 class="SelectMenu-title">Notifications</h3>
                <button class="SelectMenu-closeButton" type="button" aria-label="Close menu" data-action="click:notifications-list-subscription-form#closeMenu">
                  <svg aria-hidden="true" height="16" viewBox="0 0 16 16" version="1.1" width="16" data-view-component="true" class="octicon octicon-x">
    <path d="M3.72 3.72a.75.75 0 0 1 1.06 0L8 6.94l3.22-3.22a.749.749 0 0 1 1.275.326.749.749 0 0 1-.215.734L9.06 8l3.22 3.22a.749.749 0 0 1-.326 1.275.749.749 0 0 1-.734-.215L8 9.06l-3.22 3.22a.751.751 0 0 1-1.042-.018.751.751 0 0 1-.018-1.042L6.94 8 3.72 4.78a.75.75 0 0 1 0-1.06Z"></path>
</svg>
                </button>
              </header>

              <div class="SelectMenu-list">
                <!-- '"` --><!-- </textarea></xmp> --><form data-target="notifications-list-subscription-form.form" data-action="submit:notifications-list-subscription-form#submitForm" data-turbo="false" action="https://github.com/notifications/subscribe" accept-charset="UTF-8" method="post"><input type="hidden" name="authenticity_token" value="cXfZLj6sPhoZr1nZRKdl4qolrwqH6xT-CojOOIBp0hWG0OqszqZHROrHqICJBdSMhO3y4SWlXKbTgL-bRRPIIg" autocomplete="off">

                  <input type="hidden" name="repository_id" value="633019129">

                  <button type="submit" name="do" value="included" class="SelectMenu-item flex-items-start" role="menuitemradio" aria-checked="true" data-targets="notifications-list-subscription-form.subscriptionButtons">
                    <span class="f5">
                      <svg aria-hidden="true" height="16" viewBox="0 0 16 16" version="1.1" width="16" data-view-component="true" class="octicon octicon-check SelectMenu-icon SelectMenu-icon--check">
    <path d="M13.78 4.22a.75.75 0 0 1 0 1.06l-7.25 7.25a.75.75 0 0 1-1.06 0L2.22 9.28a.751.751 0 0 1 .018-1.042.751.751 0 0 1 1.042-.018L6 10.94l6.72-6.72a.75.75 0 0 1 1.06 0Z"></path>
</svg>
                    </span>
                    <div>
                      <div class="f5 text-bold">
                        Participating and @mentions
                      </div>
                      <div class="text-small color-fg-muted text-normal pb-1">
                        Only receive notifications from this repository when participating or @mentioned.
                      </div>
                    </div>
                  </button>

                  <button type="submit" name="do" value="subscribed" class="SelectMenu-item flex-items-start" role="menuitemradio" aria-checked="false" data-targets="notifications-list-subscription-form.subscriptionButtons">
                    <span class="f5">
                      <svg aria-hidden="true" height="16" viewBox="0 0 16 16" version="1.1" width="16" data-view-component="true" class="octicon octicon-check SelectMenu-icon SelectMenu-icon--check">
    <path d="M13.78 4.22a.75.75 0 0 1 0 1.06l-7.25 7.25a.75.75 0 0 1-1.06 0L2.22 9.28a.751.751 0 0 1 .018-1.042.751.751 0 0 1 1.042-.018L6 10.94l6.72-6.72a.75.75 0 0 1 1.06 0Z"></path>
</svg>
                    </span>
                    <div>
                      <div class="f5 text-bold">
                        All Activity
                      </div>
                      <div class="text-small color-fg-muted text-normal pb-1">
                        Notified of all notifications on this repository.
                      </div>
                    </div>
                  </button>

                  <button type="submit" name="do" value="ignore" class="SelectMenu-item flex-items-start" role="menuitemradio" aria-checked="false" data-targets="notifications-list-subscription-form.subscriptionButtons">
                    <span class="f5">
                      <svg aria-hidden="true" height="16" viewBox="0 0 16 16" version="1.1" width="16" data-view-component="true" class="octicon octicon-check SelectMenu-icon SelectMenu-icon--check">
    <path d="M13.78 4.22a.75.75 0 0 1 0 1.06l-7.25 7.25a.75.75 0 0 1-1.06 0L2.22 9.28a.751.751 0 0 1 .018-1.042.751.751 0 0 1 1.042-.018L6 10.94l6.72-6.72a.75.75 0 0 1 1.06 0Z"></path>
</svg>
                    </span>
                    <div>
                      <div class="f5 text-bold">
                        Ignore
                      </div>
                      <div class="text-small color-fg-muted text-normal pb-1">
                        Never be notified.
                      </div>
                    </div>
                  </button>
</form>
                <button class="SelectMenu-item flex-items-start pr-3" type="button" role="menuitemradio" data-target="notifications-list-subscription-form.customButton" data-action="click:notifications-list-subscription-form#openCustomDialog" aria-haspopup="true" aria-checked="false">
                  <span class="f5">
                    <svg aria-hidden="true" height="16" viewBox="0 0 16 16" version="1.1" width="16" data-view-component="true" class="octicon octicon-check SelectMenu-icon SelectMenu-icon--check">
    <path d="M13.78 4.22a.75.75 0 0 1 0 1.06l-7.25 7.25a.75.75 0 0 1-1.06 0L2.22 9.28a.751.751 0 0 1 .018-1.042.751.751 0 0 1 1.042-.018L6 10.94l6.72-6.72a.75.75 0 0 1 1.06 0Z"></path>
</svg>
                  </span>
                  <div>
                    <div class="d-flex flex-items-start flex-justify-between">
                      <div class="f5 text-bold">Custom</div>
                      <div class="f5 pr-1">
                        <svg aria-hidden="true" height="16" viewBox="0 0 16 16" version="1.1" width="16" data-view-component="true" class="octicon octicon-arrow-right">
    <path d="M8.22 2.97a.75.75 0 0 1 1.06 0l4.25 4.25a.75.75 0 0 1 0 1.06l-4.25 4.25a.751.751 0 0 1-1.042-.018.751.751 0 0 1-.018-1.042l2.97-2.97H3.75a.75.75 0 0 1 0-1.5h7.44L8.22 4.03a.75.75 0 0 1 0-1.06Z"></path>
</svg>
                      </div>
                    </div>
                    <div class="text-small color-fg-muted text-normal pb-1">
                      Select events you want to be notified of in addition to participating and @mentions.
                    </div>
                  </div>
                </button>

                  <div class="px-3 py-2 d-flex color-bg-subtle flex-items-center">
                    <span class="f5">
                      <svg aria-hidden="true" height="16" viewBox="0 0 16 16" version="1.1" width="16" data-view-component="true" class="octicon octicon-device-mobile SelectMenu-icon SelectMenu-icon--device-mobile">
    <path d="M3.75 0h8.5C13.216 0 14 .784 14 1.75v12.5A1.75 1.75 0 0 1 12.25 16h-8.5A1.75 1.75 0 0 1 2 14.25V1.75C2 .784 2.784 0 3.75 0ZM3.5 1.75v12.5c0 .138.112.25.25.25h8.5a.25.25 0 0 0 .25-.25V1.75a.25.25 0 0 0-.25-.25h-8.5a.25.25 0 0 0-.25.25ZM8 13a1 1 0 1 1 0-2 1 1 0 0 1 0 2Z"></path>
</svg>
                    </span>
                    <span classname="text-small color-fg-muted text-normal pb-1">
                      Get push notifications on <a target="_blank" rel="noopener noreferrer" href="https://apps.apple.com/app/apple-store/id1477376905?ct=watch-dropdown&amp;mt=8&amp;pt=524675">iOS</a> or <a target="_blank" rel="noopener noreferrer" href="https://play.google.com/store/apps/details?id=com.github.android&amp;referrer=utm_campaign%3Dwatch-dropdown%26utm_medium%3Dweb%26utm_source%3Dgithub">Android</a>.
                    </span>
                  </div>
              </div>
            </div>
          </details-menu>

          <details-dialog class="notifications-component-dialog " data-target="notifications-list-subscription-form.customDialog" aria-label="Custom dialog" hidden="" role="dialog" aria-modal="true">
            <div class="SelectMenu-modal notifications-component-dialog-modal overflow-visible">
              <!-- '"` --><!-- </textarea></xmp> --><form data-target="notifications-list-subscription-form.customform" data-action="submit:notifications-list-subscription-form#submitCustomForm" data-turbo="false" action="https://github.com/notifications/subscribe" accept-charset="UTF-8" method="post"><input type="hidden" name="authenticity_token" value="pQTXTNQw_tFjNU6ZFxfwffFUQFgg9yOV0gFlIpxF36NSo-TOJDqHj5Bdv8DatUET35wds4K5a80LCRSBWT_FlA" autocomplete="off">

                <input type="hidden" name="repository_id" value="633019129">

                <header class="d-sm-none SelectMenu-header pb-0 border-bottom-0 px-2 px-sm-3">
                  <h1 class="f3 SelectMenu-title d-inline-flex">
                    <button class="color-bg-default border-0 px-2 py-0 m-0 Link--secondary f5" aria-label="Return to menu" type="button" data-action="click:notifications-list-subscription-form#closeCustomDialog">
                      <svg aria-hidden="true" height="16" viewBox="0 0 16 16" version="1.1" width="16" data-view-component="true" class="octicon octicon-arrow-left">
    <path d="M7.78 12.53a.75.75 0 0 1-1.06 0L2.47 8.28a.75.75 0 0 1 0-1.06l4.25-4.25a.751.751 0 0 1 1.042.018.751.751 0 0 1 .018 1.042L4.81 7h7.44a.75.75 0 0 1 0 1.5H4.81l2.97 2.97a.75.75 0 0 1 0 1.06Z"></path>
</svg>
                    </button>
                    Custom
                  </h1>
                </header>

                <header class="d-none d-sm-flex flex-items-start pt-1">
                  <button class="border-0 px-2 pt-1 m-0 Link--secondary f5" style="background-color: transparent;" aria-label="Return to menu" type="button" data-action="click:notifications-list-subscription-form#closeCustomDialog">
                    <svg style="position: relative; left: 2px; top: 1px" aria-hidden="true" height="16" viewBox="0 0 16 16" version="1.1" width="16" data-view-component="true" class="octicon octicon-arrow-left">
    <path d="M7.78 12.53a.75.75 0 0 1-1.06 0L2.47 8.28a.75.75 0 0 1 0-1.06l4.25-4.25a.751.751 0 0 1 1.042.018.751.751 0 0 1 .018 1.042L4.81 7h7.44a.75.75 0 0 1 0 1.5H4.81l2.97 2.97a.75.75 0 0 1 0 1.06Z"></path>
</svg>
                  </button>

                  <h1 class="pt-1 pr-4 pb-0 pl-0 f5 text-bold">
                    Custom
                  </h1>
                </header>

                <fieldset>
                  <legend>
                    <div class="text-small color-fg-muted pt-0 pr-3 pb-3 pl-6 pl-sm-5 border-bottom mb-3">
                      Select events you want to be notified of in addition to participating and @mentions.
                    </div>
                  </legend>
                  <div data-target="notifications-list-subscription-form.labelInputs">
                  </div>
                    <div class="form-checkbox mr-3 ml-6 ml-sm-5 mb-2 mt-0">
                      <label class="f5 text-normal">
                        <input type="checkbox" name="thread_types[]" value="Issue" data-targets="notifications-list-subscription-form.threadTypeCheckboxes" data-action="change:notifications-list-subscription-form#threadTypeCheckboxesUpdated">
                        Issues
                      </label>


                    </div>
                    <div class="form-checkbox mr-3 ml-6 ml-sm-5 mb-2 mt-0">
                      <label class="f5 text-normal">
                        <input type="checkbox" name="thread_types[]" value="PullRequest" data-targets="notifications-list-subscription-form.threadTypeCheckboxes" data-action="change:notifications-list-subscription-form#threadTypeCheckboxesUpdated">
                        Pull requests
                      </label>


                    </div>
                    <div class="form-checkbox mr-3 ml-6 ml-sm-5 mb-2 mt-0">
                      <label class="f5 text-normal">
                        <input type="checkbox" name="thread_types[]" value="Release" data-targets="notifications-list-subscription-form.threadTypeCheckboxes" data-action="change:notifications-list-subscription-form#threadTypeCheckboxesUpdated">
                        Releases
                      </label>


                    </div>
                    <div class="form-checkbox mr-3 ml-6 ml-sm-5 mb-2 mt-0">
                      <label class="f5 text-normal">
                        <input type="checkbox" name="thread_types[]" value="Discussion" data-targets="notifications-list-subscription-form.threadTypeCheckboxes" data-action="change:notifications-list-subscription-form#threadTypeCheckboxesUpdated" aria-describedby="Discussion-disabled" aria-disabled="true">
                        Discussions
                      </label>

                        <div id="Discussion-repository-details-disabled" class="color-fg-muted">
                          Discussions are not enabled for this repository
                        </div>

                    </div>
                    <div class="form-checkbox mr-3 ml-6 ml-sm-5 mb-2 mt-0">
                      <label class="f5 text-normal">
                        <input type="checkbox" name="thread_types[]" value="SecurityAlert" data-targets="notifications-list-subscription-form.threadTypeCheckboxes" data-action="change:notifications-list-subscription-form#threadTypeCheckboxesUpdated">
                        Security alerts
                      </label>


                    </div>
                </fieldset>
                <div class="pt-2 pb-3 px-3 d-flex flex-justify-start flex-row-reverse">
                    <button name="do" value="custom" data-target="notifications-list-subscription-form.customSubmit" disabled="disabled" type="submit" data-view-component="true" class="btn-primary btn-sm btn ml-2">    Apply
</button>

                    <button data-action="click:notifications-list-subscription-form#resetForm" data-close-dialog="" type="button" data-view-component="true" class="btn-sm btn">    Cancel
</button>
                </div>
</form>            </div>
          </details-dialog>


          <div class="notifications-component-dialog-overlay"></div>
        </details>
      </notifications-list-subscription-form>



  </li>

  <li>
        <div data-view-component="true" class="d-flex">
        <div data-view-component="true" class="position-relative d-inline-block">
    <a icon="repo-forked" id="fork-button" href="https://github.com/Adyael/ml_2023/fork" data-hydro-click="{&quot;event_type&quot;:&quot;repository.click&quot;,&quot;payload&quot;:{&quot;target&quot;:&quot;FORK_BUTTON&quot;,&quot;repository_id&quot;:633019129,&quot;originating_url&quot;:&quot;https://github.com/Adyael/ml_2023/blob/main/simple_linear_regression.ipynb&quot;,&quot;user_id&quot;:130586385}}" data-hydro-click-hmac="8acd52155da3d0b4a9cd3c633f3dcc9a3d7bfb5c2d04711aa86280e2f705aaba" data-ga-click="Repository, show fork modal, action:blob#show; text:Fork" data-view-component="true" class="btn-sm btn BtnGroup-item border-right-0" aria-describedby="tooltip-6cdc4e4e-47a6-4a36-bcd5-579ea4e207fa">      <svg aria-hidden="true" height="16" viewBox="0 0 16 16" version="1.1" width="16" data-view-component="true" class="octicon octicon-repo-forked mr-2">
    <path d="M5 5.372v.878c0 .414.336.75.75.75h4.5a.75.75 0 0 0 .75-.75v-.878a2.25 2.25 0 1 1 1.5 0v.878a2.25 2.25 0 0 1-2.25 2.25h-1.5v2.128a2.251 2.251 0 1 1-1.5 0V8.5h-1.5A2.25 2.25 0 0 1 3.5 6.25v-.878a2.25 2.25 0 1 1 1.5 0ZM5 3.25a.75.75 0 1 0-1.5 0 .75.75 0 0 0 1.5 0Zm6.75.75a.75.75 0 1 0 0-1.5.75.75 0 0 0 0 1.5Zm-3 8.75a.75.75 0 1 0-1.5 0 .75.75 0 0 0 1.5 0Z"></path>
</svg>Fork
          <span id="repo-network-counter" data-pjax-replace="true" data-turbo-replace="true" title="0" data-view-component="true" class="Counter">0</span>
</a>    <tool-tip id="tooltip-6cdc4e4e-47a6-4a36-bcd5-579ea4e207fa" for="fork-button" data-direction="s" data-type="description" data-view-component="true" class="sr-only position-absolute" role="tooltip"><template shadowrootmode="open"><style>
      :host {
        position: absolute;
        z-index: 1000000;
        padding: .5em .75em;
        font: normal normal 11px/1.5 -apple-system, BlinkMacSystemFont, "Segoe UI", Helvetica, Arial, sans-serif, "Apple Color Emoji", "Segoe UI Emoji";
        -webkit-font-smoothing: subpixel-antialiased;
        color: var(--color-fg-on-emphasis);
        text-align: center;
        text-decoration: none;
        text-shadow: none;
        text-transform: none;
        letter-spacing: normal;
        word-wrap: break-word;
        white-space: pre;
        background: var(--color-neutral-emphasis-plus);
        border-radius: 6px;
        opacity: 0;
        max-width: 250px;
        word-wrap: break-word;
        white-space: normal;
        width: max-content;
      }

      :host:before{
        position: absolute;
        z-index: 1000001;
        color: var(--color-neutral-emphasis-plus);
        content: "";
        border: 6px solid transparent;
        opacity: 0
      }

      @keyframes tooltip-appear {
        from {
          opacity: 0
        }
        to {
          opacity: 1
        }
      }

      :host:after{
        position: absolute;
        display: block;
        right: 0;
        left: 0;
        height: 12px;
        content: ""
      }

      :host(.tooltip-open),
      :host(.tooltip-open):before {
        animation-name: tooltip-appear;
        animation-duration: .1s;
        animation-fill-mode: forwards;
        animation-timing-function: ease-in;
        animation-delay: .4s
      }

      :host(.tooltip-s):before,
      :host(.tooltip-n):before {
        right: 50%;
        margin-right: -6px;
      }

      :host(.tooltip-s):before,
      :host(.tooltip-se):before,
      :host(.tooltip-sw):before {
        bottom: 100%;
        border-bottom-color: var(--color-neutral-emphasis-plus)
      }

      :host(.tooltip-s):after,
      :host(.tooltip-se):after,
      :host(.tooltip-sw):after {
        bottom: 100%
      }

      :host(.tooltip-n):before,
      :host(.tooltip-ne):before,
      :host(.tooltip-nw):before {
        top: 100%;
        border-top-color: var(--color-neutral-emphasis-plus)
      }

      :host(.tooltip-n):after,
      :host(.tooltip-ne):after,
      :host(.tooltip-nw):after {
        top: 100%
      }

      :host(.tooltip-se):before,
      :host(.tooltip-ne):before {
        left: 0;
        margin-left: 6px;
      }

      :host(.tooltip-sw):before,
      :host(.tooltip-nw):before {
        right: 0;
        margin-right: 6px;
      }

      :host(.tooltip-w):before {
        top: 50%;
        bottom: 50%;
        left: 100%;
        margin-top: -6px;
        border-left-color: var(--color-neutral-emphasis-plus)
      }

      :host(.tooltip-e):before {
        top: 50%;
        right: 100%;
        bottom: 50%;
        margin-top: -6px;
        border-right-color: var(--color-neutral-emphasis-plus)
      }
    </style><slot></slot></template>Fork your own copy of Adyael/ml_2023</tool-tip>
</div>
      <details group_item="true" id="my-forks-menu-633019129" data-view-component="true" class="details-reset details-overlay BtnGroup-parent d-inline-block position-relative">
              <summary aria-label="See your forks of this repository" data-view-component="true" class="btn-sm btn BtnGroup-item px-2 float-none" aria-haspopup="menu" role="button">    <svg aria-hidden="true" height="16" viewBox="0 0 16 16" version="1.1" width="16" data-view-component="true" class="octicon octicon-triangle-down">
    <path d="m4.427 7.427 3.396 3.396a.25.25 0 0 0 .354 0l3.396-3.396A.25.25 0 0 0 11.396 7H4.604a.25.25 0 0 0-.177.427Z"></path>
</svg>
</summary>
  <details-menu class="SelectMenu right-0" src="/Adyael/ml_2023/my_forks_menu_content?can_fork=true" role="menu">
    <div class="SelectMenu-modal">
        <button class="SelectMenu-closeButton position-absolute right-0 m-2" type="button" aria-label="Close menu" data-toggle-for="details-c35bdb">
          <svg aria-hidden="true" height="16" viewBox="0 0 16 16" version="1.1" width="16" data-view-component="true" class="octicon octicon-x">
    <path d="M3.72 3.72a.75.75 0 0 1 1.06 0L8 6.94l3.22-3.22a.749.749 0 0 1 1.275.326.749.749 0 0 1-.215.734L9.06 8l3.22 3.22a.749.749 0 0 1-.326 1.275.749.749 0 0 1-.734-.215L8 9.06l-3.22 3.22a.751.751 0 0 1-1.042-.018.751.751 0 0 1-.018-1.042L6.94 8 3.72 4.78a.75.75 0 0 1 0-1.06Z"></path>
</svg>
        </button>
      <div id="filter-menu-c35bdb" class="d-flex flex-column flex-1 overflow-hidden">
        <div class="SelectMenu-list">

            <include-fragment class="SelectMenu-loading" aria-label="Loading"><template shadowrootmode="open"><style>:host {display: block;}</style><slot></slot></template>
              <svg role="menuitem" style="box-sizing: content-box; color: var(--color-icon-primary);" width="32" height="32" viewBox="0 0 16 16" fill="none" data-view-component="true" class="anim-rotate">
  <circle cx="8" cy="8" r="7" stroke="currentColor" stroke-opacity="0.25" stroke-width="2" vector-effect="non-scaling-stroke"></circle>
  <path d="M15 8a7.002 7.002 0 00-7-7" stroke="currentColor" stroke-width="2" stroke-linecap="round" vector-effect="non-scaling-stroke"></path>
</svg>
            </include-fragment>
        </div>
        
      </div>
    </div>
  </details-menu>
</details></div>
  </li>

  <li>
        <template class="js-unstar-confirmation-dialog-template"></template>

  <div data-view-component="true" class="js-toggler-container js-social-container starring-container d-flex">
    <div data-view-component="true" class="starred BtnGroup flex-1">
      <!-- '"` --><!-- </textarea></xmp> --><form class="js-social-form BtnGroup-parent flex-auto js-deferred-toggler-target" data-turbo="false" action="https://github.com/Adyael/ml_2023/unstar" accept-charset="UTF-8" method="post"><input type="hidden" name="authenticity_token" value="V6SoUcb--7xnAi-4yk1HnUTmay34j4SRNwp-sLnAERTWygNRbr-yfNsgEC1RofyCpiBw1jHJed5_JNeAjJ6zng" autocomplete="off">
          <input type="hidden" value="6GCTQF-tr6oviZR9XG2-xDAj0i62kzKm4-xZL80225RpDjhA9-zmapOrq-jHgQXb0uXJ1X_Vz-mrwvAf-Gh5Hg" data-csrf="true" class="js-confirm-csrf-token">
        <input type="hidden" name="context" value="repository">
          <button data-hydro-click="{&quot;event_type&quot;:&quot;repository.click&quot;,&quot;payload&quot;:{&quot;target&quot;:&quot;UNSTAR_BUTTON&quot;,&quot;repository_id&quot;:633019129,&quot;originating_url&quot;:&quot;https://github.com/Adyael/ml_2023/blob/main/simple_linear_regression.ipynb&quot;,&quot;user_id&quot;:130586385}}" data-hydro-click-hmac="9e98ba8c4cadaf12de62c09a098fb052e7901929dda34401143455909fd06820" data-ga-click="Repository, click unstar button, action:blob#show; text:Unstar" aria-label="Unstar this repository (0)" type="submit" data-view-component="true" class="rounded-left-2 btn-sm btn BtnGroup-item">    <svg aria-hidden="true" height="16" viewBox="0 0 16 16" version="1.1" width="16" data-view-component="true" class="octicon octicon-star-fill starred-button-icon d-inline-block mr-2">
    <path d="M8 .25a.75.75 0 0 1 .673.418l1.882 3.815 4.21.612a.75.75 0 0 1 .416 1.279l-3.046 2.97.719 4.192a.751.751 0 0 1-1.088.791L8 12.347l-3.766 1.98a.75.75 0 0 1-1.088-.79l.72-4.194L.818 6.374a.75.75 0 0 1 .416-1.28l4.21-.611L7.327.668A.75.75 0 0 1 8 .25Z"></path>
</svg><span data-view-component="true" class="d-inline">
              Starred
</span>              <span id="repo-stars-counter-unstar" aria-label="0 users starred this repository" data-singular-suffix="user starred this repository" data-plural-suffix="users starred this repository" data-turbo-replace="true" title="0" data-view-component="true" class="Counter js-social-count">0</span>
</button></form>        <details id="details-user-list-633019129-starred" data-view-component="true" class="details-reset details-overlay BtnGroup-parent js-user-list-menu d-inline-block position-relative">
        <summary aria-label="Add this repository to a list" data-view-component="true" class="btn-sm btn BtnGroup-item px-2 float-none" aria-haspopup="menu" role="button">    <svg aria-hidden="true" height="16" viewBox="0 0 16 16" version="1.1" width="16" data-view-component="true" class="octicon octicon-triangle-down">
    <path d="m4.427 7.427 3.396 3.396a.25.25 0 0 0 .354 0l3.396-3.396A.25.25 0 0 0 11.396 7H4.604a.25.25 0 0 0-.177.427Z"></path>
</svg>
</summary>
  <details-menu class="SelectMenu right-0" src="/Adyael/ml_2023/lists" role="menu">
    <div class="SelectMenu-modal">
        <button class="SelectMenu-closeButton position-absolute right-0 m-2" type="button" aria-label="Close menu" data-toggle-for="details-9b732f">
          <svg aria-hidden="true" height="16" viewBox="0 0 16 16" version="1.1" width="16" data-view-component="true" class="octicon octicon-x">
    <path d="M3.72 3.72a.75.75 0 0 1 1.06 0L8 6.94l3.22-3.22a.749.749 0 0 1 1.275.326.749.749 0 0 1-.215.734L9.06 8l3.22 3.22a.749.749 0 0 1-.326 1.275.749.749 0 0 1-.734-.215L8 9.06l-3.22 3.22a.751.751 0 0 1-1.042-.018.751.751 0 0 1-.018-1.042L6.94 8 3.72 4.78a.75.75 0 0 1 0-1.06Z"></path>
</svg>
        </button>
      <div id="filter-menu-9b732f" class="d-flex flex-column flex-1 overflow-hidden">
        <div class="SelectMenu-list">

            <include-fragment class="SelectMenu-loading" aria-label="Loading"><template shadowrootmode="open"><style>:host {display: block;}</style><slot></slot></template>
              <svg role="menuitem" style="box-sizing: content-box; color: var(--color-icon-primary);" width="32" height="32" viewBox="0 0 16 16" fill="none" data-view-component="true" class="anim-rotate">
  <circle cx="8" cy="8" r="7" stroke="currentColor" stroke-opacity="0.25" stroke-width="2" vector-effect="non-scaling-stroke"></circle>
  <path d="M15 8a7.002 7.002 0 00-7-7" stroke="currentColor" stroke-width="2" stroke-linecap="round" vector-effect="non-scaling-stroke"></path>
</svg>
            </include-fragment>
        </div>
        
      </div>
    </div>
  </details-menu>
</details>
</div>
    <div data-view-component="true" class="unstarred BtnGroup flex-1">
      <!-- '"` --><!-- </textarea></xmp> --><form class="js-social-form BtnGroup-parent flex-auto" data-turbo="false" action="https://github.com/Adyael/ml_2023/star" accept-charset="UTF-8" method="post"><input type="hidden" name="authenticity_token" value="LqwB7-Eu3PjdSncQxtSvYaLXiqFDkbNyYD63h-pJS8jBLHsVYGt39k7clsW0IrpJcpIN_inNqHUlrADOtT0r9A" autocomplete="off">
        <input type="hidden" name="context" value="repository">
          <button data-hydro-click="{&quot;event_type&quot;:&quot;repository.click&quot;,&quot;payload&quot;:{&quot;target&quot;:&quot;STAR_BUTTON&quot;,&quot;repository_id&quot;:633019129,&quot;originating_url&quot;:&quot;https://github.com/Adyael/ml_2023/blob/main/simple_linear_regression.ipynb&quot;,&quot;user_id&quot;:130586385}}" data-hydro-click-hmac="63c83d21913e4e41778c8f2ba02e59be1fac58455686d2c4ec612d83865cd35f" data-ga-click="Repository, click star button, action:blob#show; text:Star" aria-label="Star this repository (0)" type="submit" data-view-component="true" class="js-toggler-target rounded-left-2 btn-sm btn BtnGroup-item">    <svg aria-hidden="true" height="16" viewBox="0 0 16 16" version="1.1" width="16" data-view-component="true" class="octicon octicon-star d-inline-block mr-2">
    <path d="M8 .25a.75.75 0 0 1 .673.418l1.882 3.815 4.21.612a.75.75 0 0 1 .416 1.279l-3.046 2.97.719 4.192a.751.751 0 0 1-1.088.791L8 12.347l-3.766 1.98a.75.75 0 0 1-1.088-.79l.72-4.194L.818 6.374a.75.75 0 0 1 .416-1.28l4.21-.611L7.327.668A.75.75 0 0 1 8 .25Zm0 2.445L6.615 5.5a.75.75 0 0 1-.564.41l-3.097.45 2.24 2.184a.75.75 0 0 1 .216.664l-.528 3.084 2.769-1.456a.75.75 0 0 1 .698 0l2.77 1.456-.53-3.084a.75.75 0 0 1 .216-.664l2.24-2.183-3.096-.45a.75.75 0 0 1-.564-.41L8 2.694Z"></path>
</svg><span data-view-component="true" class="d-inline">
              Star
</span>              <span id="repo-stars-counter-star" aria-label="0 users starred this repository" data-singular-suffix="user starred this repository" data-plural-suffix="users starred this repository" data-turbo-replace="true" title="0" data-view-component="true" class="Counter js-social-count">0</span>
</button></form>        <details id="details-user-list-633019129-unstarred" data-view-component="true" class="details-reset details-overlay BtnGroup-parent js-user-list-menu d-inline-block position-relative">
        <summary aria-label="Add this repository to a list" data-view-component="true" class="btn-sm btn BtnGroup-item px-2 float-none" aria-haspopup="menu" role="button">    <svg aria-hidden="true" height="16" viewBox="0 0 16 16" version="1.1" width="16" data-view-component="true" class="octicon octicon-triangle-down">
    <path d="m4.427 7.427 3.396 3.396a.25.25 0 0 0 .354 0l3.396-3.396A.25.25 0 0 0 11.396 7H4.604a.25.25 0 0 0-.177.427Z"></path>
</svg>
</summary>
  <details-menu class="SelectMenu right-0" src="/Adyael/ml_2023/lists" role="menu">
    <div class="SelectMenu-modal">
        <button class="SelectMenu-closeButton position-absolute right-0 m-2" type="button" aria-label="Close menu" data-toggle-for="details-85c8c1">
          <svg aria-hidden="true" height="16" viewBox="0 0 16 16" version="1.1" width="16" data-view-component="true" class="octicon octicon-x">
    <path d="M3.72 3.72a.75.75 0 0 1 1.06 0L8 6.94l3.22-3.22a.749.749 0 0 1 1.275.326.749.749 0 0 1-.215.734L9.06 8l3.22 3.22a.749.749 0 0 1-.326 1.275.749.749 0 0 1-.734-.215L8 9.06l-3.22 3.22a.751.751 0 0 1-1.042-.018.751.751 0 0 1-.018-1.042L6.94 8 3.72 4.78a.75.75 0 0 1 0-1.06Z"></path>
</svg>
        </button>
      <div id="filter-menu-85c8c1" class="d-flex flex-column flex-1 overflow-hidden">
        <div class="SelectMenu-list">

            <include-fragment class="SelectMenu-loading" aria-label="Loading"><template shadowrootmode="open"><style>:host {display: block;}</style><slot></slot></template>
              <svg role="menuitem" style="box-sizing: content-box; color: var(--color-icon-primary);" width="32" height="32" viewBox="0 0 16 16" fill="none" data-view-component="true" class="anim-rotate">
  <circle cx="8" cy="8" r="7" stroke="currentColor" stroke-opacity="0.25" stroke-width="2" vector-effect="non-scaling-stroke"></circle>
  <path d="M15 8a7.002 7.002 0 00-7-7" stroke="currentColor" stroke-width="2" stroke-linecap="round" vector-effect="non-scaling-stroke"></path>
</svg>
            </include-fragment>
        </div>
        
      </div>
    </div>
  </details-menu>
</details>
</div></div>
  </li>


    

</ul>

        </div>
      </div>

        <div id="responsive-meta-container" data-turbo-replace="">
</div>


          <nav data-pjax="#js-repo-pjax-container" aria-label="Repository" data-view-component="true" class="js-repo-nav js-sidenav-container-pjax js-responsive-underlinenav overflow-hidden UnderlineNav px-3 px-md-4 px-lg-5">

  <ul data-view-component="true" class="UnderlineNav-body list-style-none">
      <li data-view-component="true" class="d-inline-flex">
  <a id="code-tab" href="https://github.com/Adyael/ml_2023" data-tab-item="i0code-tab" data-selected-links="repo_source repo_downloads repo_commits repo_releases repo_tags repo_branches repo_packages repo_deployments /Adyael/ml_2023" data-pjax="#repo-content-pjax-container" data-turbo-frame="repo-content-turbo-frame" data-hotkey="g c" data-analytics-event="{&quot;category&quot;:&quot;Underline navbar&quot;,&quot;action&quot;:&quot;Click tab&quot;,&quot;label&quot;:&quot;Code&quot;,&quot;target&quot;:&quot;UNDERLINE_NAV.TAB&quot;}" aria-current="page" data-view-component="true" class="UnderlineNav-item no-wrap js-responsive-underlinenav-item js-selected-navigation-item selected">
    
              <svg aria-hidden="true" height="16" viewBox="0 0 16 16" version="1.1" width="16" data-view-component="true" class="octicon octicon-code UnderlineNav-octicon d-none d-sm-inline">
    <path d="m11.28 3.22 4.25 4.25a.75.75 0 0 1 0 1.06l-4.25 4.25a.749.749 0 0 1-1.275-.326.749.749 0 0 1 .215-.734L13.94 8l-3.72-3.72a.749.749 0 0 1 .326-1.275.749.749 0 0 1 .734.215Zm-6.56 0a.751.751 0 0 1 1.042.018.751.751 0 0 1 .018 1.042L2.06 8l3.72 3.72a.749.749 0 0 1-.326 1.275.749.749 0 0 1-.734-.215L.47 8.53a.75.75 0 0 1 0-1.06Z"></path>
</svg>
        <span data-content="Code">Code</span>
          <span id="code-repo-tab-count" data-pjax-replace="" data-turbo-replace="" title="Not available" data-view-component="true" class="Counter"></span>


    
</a></li>
      <li data-view-component="true" class="d-inline-flex">
  <a id="issues-tab" href="https://github.com/Adyael/ml_2023/issues" data-tab-item="i1issues-tab" data-selected-links="repo_issues repo_labels repo_milestones /Adyael/ml_2023/issues" data-pjax="#repo-content-pjax-container" data-turbo-frame="repo-content-turbo-frame" data-hotkey="g i" data-analytics-event="{&quot;category&quot;:&quot;Underline navbar&quot;,&quot;action&quot;:&quot;Click tab&quot;,&quot;label&quot;:&quot;Issues&quot;,&quot;target&quot;:&quot;UNDERLINE_NAV.TAB&quot;}" data-view-component="true" class="UnderlineNav-item no-wrap js-responsive-underlinenav-item js-selected-navigation-item">
    
              <svg aria-hidden="true" height="16" viewBox="0 0 16 16" version="1.1" width="16" data-view-component="true" class="octicon octicon-issue-opened UnderlineNav-octicon d-none d-sm-inline">
    <path d="M8 9.5a1.5 1.5 0 1 0 0-3 1.5 1.5 0 0 0 0 3Z"></path><path d="M8 0a8 8 0 1 1 0 16A8 8 0 0 1 8 0ZM1.5 8a6.5 6.5 0 1 0 13 0 6.5 6.5 0 0 0-13 0Z"></path>
</svg>
        <span data-content="Issues">Issues</span>
          <span id="issues-repo-tab-count" data-pjax-replace="" data-turbo-replace="" title="0" hidden="hidden" data-view-component="true" class="Counter">0</span>


    
</a></li>
      <li data-view-component="true" class="d-inline-flex">
  <a id="pull-requests-tab" href="https://github.com/Adyael/ml_2023/pulls" data-tab-item="i2pull-requests-tab" data-selected-links="repo_pulls checks /Adyael/ml_2023/pulls" data-pjax="#repo-content-pjax-container" data-turbo-frame="repo-content-turbo-frame" data-hotkey="g p" data-analytics-event="{&quot;category&quot;:&quot;Underline navbar&quot;,&quot;action&quot;:&quot;Click tab&quot;,&quot;label&quot;:&quot;Pull requests&quot;,&quot;target&quot;:&quot;UNDERLINE_NAV.TAB&quot;}" data-view-component="true" class="UnderlineNav-item no-wrap js-responsive-underlinenav-item js-selected-navigation-item">
    
              <svg aria-hidden="true" height="16" viewBox="0 0 16 16" version="1.1" width="16" data-view-component="true" class="octicon octicon-git-pull-request UnderlineNav-octicon d-none d-sm-inline">
    <path d="M1.5 3.25a2.25 2.25 0 1 1 3 2.122v5.256a2.251 2.251 0 1 1-1.5 0V5.372A2.25 2.25 0 0 1 1.5 3.25Zm5.677-.177L9.573.677A.25.25 0 0 1 10 .854V2.5h1A2.5 2.5 0 0 1 13.5 5v5.628a2.251 2.251 0 1 1-1.5 0V5a1 1 0 0 0-1-1h-1v1.646a.25.25 0 0 1-.427.177L7.177 3.427a.25.25 0 0 1 0-.354ZM3.75 2.5a.75.75 0 1 0 0 1.5.75.75 0 0 0 0-1.5Zm0 9.5a.75.75 0 1 0 0 1.5.75.75 0 0 0 0-1.5Zm8.25.75a.75.75 0 1 0 1.5 0 .75.75 0 0 0-1.5 0Z"></path>
</svg>
        <span data-content="Pull requests">Pull requests</span>
          <span id="pull-requests-repo-tab-count" data-pjax-replace="" data-turbo-replace="" title="0" hidden="hidden" data-view-component="true" class="Counter">0</span>


    
</a></li>
      <li data-view-component="true" class="d-inline-flex">
  <a id="actions-tab" href="https://github.com/Adyael/ml_2023/actions" data-tab-item="i3actions-tab" data-selected-links="repo_actions /Adyael/ml_2023/actions" data-pjax="#repo-content-pjax-container" data-turbo-frame="repo-content-turbo-frame" data-hotkey="g a" data-analytics-event="{&quot;category&quot;:&quot;Underline navbar&quot;,&quot;action&quot;:&quot;Click tab&quot;,&quot;label&quot;:&quot;Actions&quot;,&quot;target&quot;:&quot;UNDERLINE_NAV.TAB&quot;}" data-view-component="true" class="UnderlineNav-item no-wrap js-responsive-underlinenav-item js-selected-navigation-item">
    
              <svg aria-hidden="true" height="16" viewBox="0 0 16 16" version="1.1" width="16" data-view-component="true" class="octicon octicon-play UnderlineNav-octicon d-none d-sm-inline">
    <path d="M8 0a8 8 0 1 1 0 16A8 8 0 0 1 8 0ZM1.5 8a6.5 6.5 0 1 0 13 0 6.5 6.5 0 0 0-13 0Zm4.879-2.773 4.264 2.559a.25.25 0 0 1 0 .428l-4.264 2.559A.25.25 0 0 1 6 10.559V5.442a.25.25 0 0 1 .379-.215Z"></path>
</svg>
        <span data-content="Actions">Actions</span>
          <span id="actions-repo-tab-count" data-pjax-replace="" data-turbo-replace="" title="Not available" data-view-component="true" class="Counter"></span>


    
</a></li>
      <li data-view-component="true" class="d-inline-flex">
  <a id="projects-tab" href="https://github.com/Adyael/ml_2023/projects" data-tab-item="i4projects-tab" data-selected-links="repo_projects new_repo_project repo_project /Adyael/ml_2023/projects" data-pjax="#repo-content-pjax-container" data-turbo-frame="repo-content-turbo-frame" data-hotkey="g b" data-analytics-event="{&quot;category&quot;:&quot;Underline navbar&quot;,&quot;action&quot;:&quot;Click tab&quot;,&quot;label&quot;:&quot;Projects&quot;,&quot;target&quot;:&quot;UNDERLINE_NAV.TAB&quot;}" data-view-component="true" class="UnderlineNav-item no-wrap js-responsive-underlinenav-item js-selected-navigation-item">
    
              <svg aria-hidden="true" height="16" viewBox="0 0 16 16" version="1.1" width="16" data-view-component="true" class="octicon octicon-table UnderlineNav-octicon d-none d-sm-inline">
    <path d="M0 1.75C0 .784.784 0 1.75 0h12.5C15.216 0 16 .784 16 1.75v12.5A1.75 1.75 0 0 1 14.25 16H1.75A1.75 1.75 0 0 1 0 14.25ZM6.5 6.5v8h7.75a.25.25 0 0 0 .25-.25V6.5Zm8-1.5V1.75a.25.25 0 0 0-.25-.25H6.5V5Zm-13 1.5v7.75c0 .138.112.25.25.25H5v-8ZM5 5V1.5H1.75a.25.25 0 0 0-.25.25V5Z"></path>
</svg>
        <span data-content="Projects">Projects</span>
          <span id="projects-repo-tab-count" data-pjax-replace="" data-turbo-replace="" title="0" hidden="hidden" data-view-component="true" class="Counter">0</span>


    
</a></li>
      <li data-view-component="true" class="d-inline-flex">
  <a id="security-tab" href="https://github.com/Adyael/ml_2023/security" data-tab-item="i5security-tab" data-selected-links="security overview alerts policy token_scanning code_scanning /Adyael/ml_2023/security" data-pjax="#repo-content-pjax-container" data-turbo-frame="repo-content-turbo-frame" data-hotkey="g s" data-analytics-event="{&quot;category&quot;:&quot;Underline navbar&quot;,&quot;action&quot;:&quot;Click tab&quot;,&quot;label&quot;:&quot;Security&quot;,&quot;target&quot;:&quot;UNDERLINE_NAV.TAB&quot;}" data-view-component="true" class="UnderlineNav-item no-wrap js-responsive-underlinenav-item js-selected-navigation-item">
    
              <svg aria-hidden="true" height="16" viewBox="0 0 16 16" version="1.1" width="16" data-view-component="true" class="octicon octicon-shield UnderlineNav-octicon d-none d-sm-inline">
    <path d="M7.467.133a1.748 1.748 0 0 1 1.066 0l5.25 1.68A1.75 1.75 0 0 1 15 3.48V7c0 1.566-.32 3.182-1.303 4.682-.983 1.498-2.585 2.813-5.032 3.855a1.697 1.697 0 0 1-1.33 0c-2.447-1.042-4.049-2.357-5.032-3.855C1.32 10.182 1 8.566 1 7V3.48a1.75 1.75 0 0 1 1.217-1.667Zm.61 1.429a.25.25 0 0 0-.153 0l-5.25 1.68a.25.25 0 0 0-.174.238V7c0 1.358.275 2.666 1.057 3.86.784 1.194 2.121 2.34 4.366 3.297a.196.196 0 0 0 .154 0c2.245-.956 3.582-2.104 4.366-3.298C13.225 9.666 13.5 8.36 13.5 7V3.48a.251.251 0 0 0-.174-.237l-5.25-1.68ZM8.75 4.75v3a.75.75 0 0 1-1.5 0v-3a.75.75 0 0 1 1.5 0ZM9 10.5a1 1 0 1 1-2 0 1 1 0 0 1 2 0Z"></path>
</svg>
        <span data-content="Security">Security</span>
          

    
</a></li>
      <li data-view-component="true" class="d-inline-flex">
  <a id="insights-tab" href="https://github.com/Adyael/ml_2023/pulse" data-tab-item="i6insights-tab" data-selected-links="repo_graphs repo_contributors dependency_graph dependabot_updates pulse people community /Adyael/ml_2023/pulse" data-pjax="#repo-content-pjax-container" data-turbo-frame="repo-content-turbo-frame" data-analytics-event="{&quot;category&quot;:&quot;Underline navbar&quot;,&quot;action&quot;:&quot;Click tab&quot;,&quot;label&quot;:&quot;Insights&quot;,&quot;target&quot;:&quot;UNDERLINE_NAV.TAB&quot;}" data-view-component="true" class="UnderlineNav-item no-wrap js-responsive-underlinenav-item js-selected-navigation-item">
    
              <svg aria-hidden="true" height="16" viewBox="0 0 16 16" version="1.1" width="16" data-view-component="true" class="octicon octicon-graph UnderlineNav-octicon d-none d-sm-inline">
    <path d="M1.5 1.75V13.5h13.75a.75.75 0 0 1 0 1.5H.75a.75.75 0 0 1-.75-.75V1.75a.75.75 0 0 1 1.5 0Zm14.28 2.53-5.25 5.25a.75.75 0 0 1-1.06 0L7 7.06 4.28 9.78a.751.751 0 0 1-1.042-.018.751.751 0 0 1-.018-1.042l3.25-3.25a.75.75 0 0 1 1.06 0L10 7.94l4.72-4.72a.751.751 0 0 1 1.042.018.751.751 0 0 1 .018 1.042Z"></path>
</svg>
        <span data-content="Insights">Insights</span>
          <span id="insights-repo-tab-count" data-pjax-replace="" data-turbo-replace="" title="Not available" data-view-component="true" class="Counter"></span>


    
</a></li>
</ul>
    <div style="visibility:hidden;" data-view-component="true" class="UnderlineNav-actions js-responsive-underlinenav-overflow position-absolute pr-3 pr-md-4 pr-lg-5 right-0">      <details data-view-component="true" class="details-overlay details-reset position-relative">
  <summary role="button" data-view-component="true" aria-haspopup="menu">          <div class="UnderlineNav-item mr-0 border-0">
            <svg aria-hidden="true" height="16" viewBox="0 0 16 16" version="1.1" width="16" data-view-component="true" class="octicon octicon-kebab-horizontal">
    <path d="M8 9a1.5 1.5 0 1 0 0-3 1.5 1.5 0 0 0 0 3ZM1.5 9a1.5 1.5 0 1 0 0-3 1.5 1.5 0 0 0 0 3Zm13 0a1.5 1.5 0 1 0 0-3 1.5 1.5 0 0 0 0 3Z"></path>
</svg>
            <span class="sr-only">More</span>
          </div>
</summary>
  <details-menu role="menu" data-view-component="true" class="dropdown-menu dropdown-menu-sw">          <ul>
              <li data-menu-item="i0code-tab" hidden="">
                <a role="menuitem" class="js-selected-navigation-item selected dropdown-item" aria-current="page" data-selected-links="repo_source repo_downloads repo_commits repo_releases repo_tags repo_branches repo_packages repo_deployments /Adyael/ml_2023" href="https://github.com/Adyael/ml_2023">
                  Code
</a>              </li>
              <li data-menu-item="i1issues-tab" hidden="">
                <a role="menuitem" class="js-selected-navigation-item dropdown-item" data-selected-links="repo_issues repo_labels repo_milestones /Adyael/ml_2023/issues" href="https://github.com/Adyael/ml_2023/issues">
                  Issues
</a>              </li>
              <li data-menu-item="i2pull-requests-tab" hidden="">
                <a role="menuitem" class="js-selected-navigation-item dropdown-item" data-selected-links="repo_pulls checks /Adyael/ml_2023/pulls" href="https://github.com/Adyael/ml_2023/pulls">
                  Pull requests
</a>              </li>
              <li data-menu-item="i3actions-tab" hidden="">
                <a role="menuitem" class="js-selected-navigation-item dropdown-item" data-selected-links="repo_actions /Adyael/ml_2023/actions" href="https://github.com/Adyael/ml_2023/actions">
                  Actions
</a>              </li>
              <li data-menu-item="i4projects-tab" hidden="">
                <a role="menuitem" class="js-selected-navigation-item dropdown-item" data-selected-links="repo_projects new_repo_project repo_project /Adyael/ml_2023/projects" href="https://github.com/Adyael/ml_2023/projects">
                  Projects
</a>              </li>
              <li data-menu-item="i5security-tab" hidden="">
                <a role="menuitem" class="js-selected-navigation-item dropdown-item" data-selected-links="security overview alerts policy token_scanning code_scanning /Adyael/ml_2023/security" href="https://github.com/Adyael/ml_2023/security">
                  Security
</a>              </li>
              <li data-menu-item="i6insights-tab" hidden="">
                <a role="menuitem" class="js-selected-navigation-item dropdown-item" data-selected-links="repo_graphs repo_contributors dependency_graph dependabot_updates pulse people community /Adyael/ml_2023/pulse" href="https://github.com/Adyael/ml_2023/pulse">
                  Insights
</a>              </li>
          </ul>
</details-menu>
</details></div>
</nav>

  </div>

  



<turbo-frame id="repo-content-turbo-frame" target="_top" data-turbo-action="advance" class="">
    <div id="repo-content-pjax-container" class="repository-content ">
      <a href="https://github.dev/" class="d-none js-github-dev-shortcut" data-hotkey=".">Open in github.dev</a>
  <a href="https://github.dev/" class="d-none js-github-dev-new-tab-shortcut" data-hotkey="Shift+.,Shift+&gt;,&gt;" target="_blank">Open in a new github.dev tab</a>
    <a class="d-none" data-hotkey="," target="_blank" href="https://github.com/codespaces/new/Adyael/ml_2023/tree/main?resume=1">Open in codespace</a>



    
      
    





<react-app app-name="react-code-view" initial-path="/Adyael/ml_2023/blob/main/simple_linear_regression.ipynb" style="min-height: calc(100vh - 62px)" data-ssr="false" data-lazy="false" data-alternate="false" data-catalyst="" class="loaded">
  
  <script type="application/json" data-target="react-app.embeddedData">{"payload":{"allShortcutsEnabled":true,"fileTree":{"":{"items":[{"name":".gitignore","path":".gitignore","contentType":"file"},{"name":"50_Startups.csv","path":"50_Startups.csv","contentType":"file"},{"name":"Churn_Modelling.csv","path":"Churn_Modelling.csv","contentType":"file"},{"name":"Data.csv","path":"Data.csv","contentType":"file"},{"name":"Position_Salaries.csv","path":"Position_Salaries.csv","contentType":"file"},{"name":"README.md","path":"README.md","contentType":"file"},{"name":"Salary_Data.csv","path":"Salary_Data.csv","contentType":"file"},{"name":"Social_Network_Ads.csv","path":"Social_Network_Ads.csv","contentType":"file"},{"name":"artificial_neural_network.ipynb","path":"artificial_neural_network.ipynb","contentType":"file"},{"name":"data_preprossecing_tools.ipynb","path":"data_preprossecing_tools.ipynb","contentType":"file"},{"name":"desicion_tree_regresion.ipynb","path":"desicion_tree_regresion.ipynb","contentType":"file"},{"name":"k_nearest_neighbors_k_nn.ipynb","path":"k_nearest_neighbors_k_nn.ipynb","contentType":"file"},{"name":"lin_reg.ipynb","path":"lin_reg.ipynb","contentType":"file"},{"name":"logistic_regression.ipynb","path":"logistic_regression.ipynb","contentType":"file"},{"name":"logistic_regression_colab.ipynb","path":"logistic_regression_colab.ipynb","contentType":"file"},{"name":"multiple_linear_regression.ipynb","path":"multiple_linear_regression.ipynb","contentType":"file"},{"name":"polynominal_regression.ipynb","path":"polynominal_regression.ipynb","contentType":"file"},{"name":"simple_linear_regression.ipynb","path":"simple_linear_regression.ipynb","contentType":"file"},{"name":"support_vector_machine.ipynb","path":"support_vector_machine.ipynb","contentType":"file"},{"name":"support_vector_machine_colab.ipynb","path":"support_vector_machine_colab.ipynb","contentType":"file"},{"name":"support_vector_regression.ipynb","path":"support_vector_regression.ipynb","contentType":"file"}],"totalCount":21}},"fileTreeProcessingTime":3.1557429999999997,"foldersToFetch":[],"reducedMotionEnabled":"system","repo":{"id":633019129,"defaultBranch":"main","name":"ml_2023","ownerLogin":"Adyael","currentUserCanPush":false,"isFork":false,"isEmpty":false,"createdAt":"2023-04-26T09:52:21.000-06:00","ownerAvatar":"https://avatars.githubusercontent.com/u/70920061?v=4","public":true,"private":false},"refInfo":{"name":"main","listCacheKey":"v0:1682525666.0","canEdit":true,"refType":"branch","currentOid":"5fda2022c00163f0dea3bf1b8c5e0068d3db0c99"},"path":"simple_linear_regression.ipynb","currentUser":{"id":130586385,"login":"MxnuC","userEmail":"manucelis99@hotmail.com"},"blob":{"rawBlob":"{\n \"cells\": [\n  {\n   \"attachments\": {},\n   \"cell_type\": \"markdown\",\n   \"metadata\": {},\n   \"source\": [\n    \"# Simple Linear Regression\"\n   ]\n  },\n  {\n   \"attachments\": {},\n   \"cell_type\": \"markdown\",\n   \"metadata\": {},\n   \"source\": [\n    \"## Importing the libraries\"\n   ]\n  },\n  {\n   \"cell_type\": \"code\",\n   \"execution_count\": 1,\n   \"metadata\": {},\n   \"outputs\": [],\n   \"source\": [\n    \"import numpy as np\\n\",\n    \"import matplotlib.pyplot as plt\\n\",\n    \"import pandas as pd\"\n   ]\n  },\n  {\n   \"attachments\": {},\n   \"cell_type\": \"markdown\",\n   \"metadata\": {},\n   \"source\": [\n    \"## Import the dataset\"\n   ]\n  },\n  {\n   \"cell_type\": \"code\",\n   \"execution_count\": 2,\n   \"metadata\": {},\n   \"outputs\": [],\n   \"source\": [\n    \"dataset = pd.read_csv('Salary_Data.csv')\\n\",\n    \"X = dataset.iloc[:, :-1].values\\n\",\n    \"y = dataset.iloc[:, 1].values\"\n   ]\n  },\n  {\n   \"attachments\": {},\n   \"cell_type\": \"markdown\",\n   \"metadata\": {},\n   \"source\": [\n    \"## Splitting the dataset into the Training set and Test set\"\n   ]\n  },\n  {\n   \"cell_type\": \"code\",\n   \"execution_count\": 3,\n   \"metadata\": {},\n   \"outputs\": [],\n   \"source\": [\n    \"from sklearn.model_selection import train_test_split\\n\",\n    \"X_train, X_test, y_train, y_test = train_test_split(X,y,test_size=1/3, random_state=0)\"\n   ]\n  },\n  {\n   \"attachments\": {},\n   \"cell_type\": \"markdown\",\n   \"metadata\": {},\n   \"source\": [\n    \"## Training the Simple Linear Regression model on the Training set\"\n   ]\n  },\n  {\n   \"cell_type\": \"code\",\n   \"execution_count\": 4,\n   \"metadata\": {},\n   \"outputs\": [\n    {\n     \"data\": {\n      \"text/html\": [\n       \"\u003cstyle\u003e#sk-container-id-1 {color: black;background-color: white;}#sk-container-id-1 pre{padding: 0;}#sk-container-id-1 div.sk-toggleable {background-color: white;}#sk-container-id-1 label.sk-toggleable__label {cursor: pointer;display: block;width: 100%;margin-bottom: 0;padding: 0.3em;box-sizing: border-box;text-align: center;}#sk-container-id-1 label.sk-toggleable__label-arrow:before {content: \\\"▸\\\";float: left;margin-right: 0.25em;color: #696969;}#sk-container-id-1 label.sk-toggleable__label-arrow:hover:before {color: black;}#sk-container-id-1 div.sk-estimator:hover label.sk-toggleable__label-arrow:before {color: black;}#sk-container-id-1 div.sk-toggleable__content {max-height: 0;max-width: 0;overflow: hidden;text-align: left;background-color: #f0f8ff;}#sk-container-id-1 div.sk-toggleable__content pre {margin: 0.2em;color: black;border-radius: 0.25em;background-color: #f0f8ff;}#sk-container-id-1 input.sk-toggleable__control:checked~div.sk-toggleable__content {max-height: 200px;max-width: 100%;overflow: auto;}#sk-container-id-1 input.sk-toggleable__control:checked~label.sk-toggleable__label-arrow:before {content: \\\"▾\\\";}#sk-container-id-1 div.sk-estimator input.sk-toggleable__control:checked~label.sk-toggleable__label {background-color: #d4ebff;}#sk-container-id-1 div.sk-label input.sk-toggleable__control:checked~label.sk-toggleable__label {background-color: #d4ebff;}#sk-container-id-1 input.sk-hidden--visually {border: 0;clip: rect(1px 1px 1px 1px);clip: rect(1px, 1px, 1px, 1px);height: 1px;margin: -1px;overflow: hidden;padding: 0;position: absolute;width: 1px;}#sk-container-id-1 div.sk-estimator {font-family: monospace;background-color: #f0f8ff;border: 1px dotted black;border-radius: 0.25em;box-sizing: border-box;margin-bottom: 0.5em;}#sk-container-id-1 div.sk-estimator:hover {background-color: #d4ebff;}#sk-container-id-1 div.sk-parallel-item::after {content: \\\"\\\";width: 100%;border-bottom: 1px solid gray;flex-grow: 1;}#sk-container-id-1 div.sk-label:hover label.sk-toggleable__label {background-color: #d4ebff;}#sk-container-id-1 div.sk-serial::before {content: \\\"\\\";position: absolute;border-left: 1px solid gray;box-sizing: border-box;top: 0;bottom: 0;left: 50%;z-index: 0;}#sk-container-id-1 div.sk-serial {display: flex;flex-direction: column;align-items: center;background-color: white;padding-right: 0.2em;padding-left: 0.2em;position: relative;}#sk-container-id-1 div.sk-item {position: relative;z-index: 1;}#sk-container-id-1 div.sk-parallel {display: flex;align-items: stretch;justify-content: center;background-color: white;position: relative;}#sk-container-id-1 div.sk-item::before, #sk-container-id-1 div.sk-parallel-item::before {content: \\\"\\\";position: absolute;border-left: 1px solid gray;box-sizing: border-box;top: 0;bottom: 0;left: 50%;z-index: -1;}#sk-container-id-1 div.sk-parallel-item {display: flex;flex-direction: column;z-index: 1;position: relative;background-color: white;}#sk-container-id-1 div.sk-parallel-item:first-child::after {align-self: flex-end;width: 50%;}#sk-container-id-1 div.sk-parallel-item:last-child::after {align-self: flex-start;width: 50%;}#sk-container-id-1 div.sk-parallel-item:only-child::after {width: 0;}#sk-container-id-1 div.sk-dashed-wrapped {border: 1px dashed gray;margin: 0 0.4em 0.5em 0.4em;box-sizing: border-box;padding-bottom: 0.4em;background-color: white;}#sk-container-id-1 div.sk-label label {font-family: monospace;font-weight: bold;display: inline-block;line-height: 1.2em;}#sk-container-id-1 div.sk-label-container {text-align: center;}#sk-container-id-1 div.sk-container {/* jupyter's `normalize.less` sets `[hidden] { display: none; }` but bootstrap.min.css set `[hidden] { display: none !important; }` so we also need the `!important` here to be able to override the default hidden behavior on the sphinx rendered scikit-learn.org. See: https://github.com/scikit-learn/scikit-learn/issues/21755 */display: inline-block !important;position: relative;}#sk-container-id-1 div.sk-text-repr-fallback {display: none;}\u003c/style\u003e\u003cdiv id=\\\"sk-container-id-1\\\" class=\\\"sk-top-container\\\"\u003e\u003cdiv class=\\\"sk-text-repr-fallback\\\"\u003e\u003cpre\u003eLinearRegression()\u003c/pre\u003e\u003cb\u003eIn a Jupyter environment, please rerun this cell to show the HTML representation or trust the notebook. \u003cbr /\u003eOn GitHub, the HTML representation is unable to render, please try loading this page with nbviewer.org.\u003c/b\u003e\u003c/div\u003e\u003cdiv class=\\\"sk-container\\\" hidden\u003e\u003cdiv class=\\\"sk-item\\\"\u003e\u003cdiv class=\\\"sk-estimator sk-toggleable\\\"\u003e\u003cinput class=\\\"sk-toggleable__control sk-hidden--visually\\\" id=\\\"sk-estimator-id-1\\\" type=\\\"checkbox\\\" checked\u003e\u003clabel for=\\\"sk-estimator-id-1\\\" class=\\\"sk-toggleable__label sk-toggleable__label-arrow\\\"\u003eLinearRegression\u003c/label\u003e\u003cdiv class=\\\"sk-toggleable__content\\\"\u003e\u003cpre\u003eLinearRegression()\u003c/pre\u003e\u003c/div\u003e\u003c/div\u003e\u003c/div\u003e\u003c/div\u003e\u003c/div\u003e\"\n      ],\n      \"text/plain\": [\n       \"LinearRegression()\"\n      ]\n     },\n     \"execution_count\": 4,\n     \"metadata\": {},\n     \"output_type\": \"execute_result\"\n    }\n   ],\n   \"source\": [\n    \"from sklearn.linear_model import LinearRegression\\n\",\n    \"regressor = LinearRegression()\\n\",\n    \"regressor.fit(X_train, y_train)\"\n   ]\n  },\n  {\n   \"attachments\": {},\n   \"cell_type\": \"markdown\",\n   \"metadata\": {},\n   \"source\": [\n    \"## Predicting the Test set results\"\n   ]\n  },\n  {\n   \"cell_type\": \"code\",\n   \"execution_count\": 5,\n   \"metadata\": {},\n   \"outputs\": [],\n   \"source\": [\n    \"y_pred = regressor.predict(X_test)\"\n   ]\n  },\n  {\n   \"attachments\": {},\n   \"cell_type\": \"markdown\",\n   \"metadata\": {},\n   \"source\": [\n    \"## Visualising the Training set results\"\n   ]\n  },\n  {\n   \"cell_type\": \"code\",\n   \"execution_count\": 6,\n   \"metadata\": {},\n   \"outputs\": [\n    {\n     \"data\": {\n      \"image/png\": \"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\",\n      \"text/plain\": [\n       \"\u003cFigure size 640x480 with 1 Axes\u003e\"\n      ]\n     },\n     \"metadata\": {},\n     \"output_type\": \"display_data\"\n    }\n   ],\n   \"source\": [\n    \"plt.scatter(X_train, y_train, color='red')\\n\",\n    \"plt.plot(X_train, regressor.predict(X_train), color='blue')\\n\",\n    \"plt.title(\\\"Salary vs Experience (Training set)\\\")\\n\",\n    \"plt.xlabel(\\\"Years of Experience\\\")\\n\",\n    \"plt.ylabel(\\\"Salary\\\")\\n\",\n    \"plt.show()\"\n   ]\n  },\n  {\n   \"attachments\": {},\n   \"cell_type\": \"markdown\",\n   \"metadata\": {},\n   \"source\": [\n    \"## Visualising the Test set results\"\n   ]\n  },\n  {\n   \"cell_type\": \"code\",\n   \"execution_count\": 7,\n   \"metadata\": {},\n   \"outputs\": [\n    {\n     \"data\": {\n      \"image/png\": \"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\",\n      \"text/plain\": [\n       \"\u003cFigure size 640x480 with 1 Axes\u003e\"\n      ]\n     },\n     \"metadata\": {},\n     \"output_type\": \"display_data\"\n    }\n   ],\n   \"source\": [\n    \"plt.scatter(X_test, y_test, color='red')\\n\",\n    \"plt.plot(X_train, regressor.predict(X_train), color='blue')\\n\",\n    \"plt.title(\\\"Salary vs Experience (Test set)\\\")\\n\",\n    \"plt.xlabel(\\\"Years of Experience\\\")\\n\",\n    \"plt.ylabel(\\\"Salary\\\")\\n\",\n    \"plt.show()\"\n   ]\n  }\n ],\n \"metadata\": {\n  \"kernelspec\": {\n   \"display_name\": \"ml2023\",\n   \"language\": \"python\",\n   \"name\": \"python3\"\n  },\n  \"language_info\": {\n   \"codemirror_mode\": {\n    \"name\": \"ipython\",\n    \"version\": 3\n   },\n   \"file_extension\": \".py\",\n   \"mimetype\": \"text/x-python\",\n   \"name\": \"python\",\n   \"nbconvert_exporter\": \"python\",\n   \"pygments_lexer\": \"ipython3\",\n   \"version\": \"3.10.6\"\n  },\n  \"orig_nbformat\": 4\n },\n \"nbformat\": 4,\n \"nbformat_minor\": 2\n}\n","colorizedLines":null,"stylingDirectives":null,"csv":null,"csvError":null,"dependabotInfo":{"showConfigurationBanner":false,"configFilePath":null,"networkDependabotPath":"/Adyael/ml_2023/network/updates","dismissConfigurationNoticePath":"/settings/dismiss-notice/dependabot_configuration_notice","configurationNoticeDismissed":false,"repoAlertsPath":"/Adyael/ml_2023/security/dependabot","repoSecurityAndAnalysisPath":"/Adyael/ml_2023/settings/security_analysis","repoOwnerIsOrg":false,"currentUserCanAdminRepo":false},"displayName":"simple_linear_regression.ipynb","displayUrl":"https://notebooks.githubusercontent.com/view/ipynb?browser=chrome\u0026bypass_fastly=true\u0026color_mode=auto\u0026commit=5fda2022c00163f0dea3bf1b8c5e0068d3db0c99\u0026device=unknown_device\u0026docs_host=https%3A%2F%2Fdocs.github.com\u0026enc_url=68747470733a2f2f7261772e67697468756275736572636f6e74656e742e636f6d2f41647961656c2f6d6c5f323032332f356664613230323263303031363366306465613362663162386335653030363864336462306339392f73696d706c655f6c696e6561725f72656772657373696f6e2e6970796e62\u0026logged_in=true\u0026nwo=Adyael%2Fml_2023\u0026path=simple_linear_regression.ipynb\u0026platform=windows\u0026repository_id=633019129\u0026repository_type=Repository\u0026version=114","headerInfo":{"blobSize":"71.5 KB","deleteInfo":{"deletePath":"https://github.com/Adyael/ml_2023/delete/main/simple_linear_regression.ipynb","deleteTooltip":"Fork this repository and delete the file"},"editInfo":{"editTooltip":"Fork this repository and edit the file"},"ghDesktopPath":"https://desktop.github.com","gitLfsPath":null,"onBranch":true,"shortPath":"c2e6e72","siteNavLoginPath":"/login?return_to=https%3A%2F%2Fgithub.com%2FAdyael%2Fml_2023%2Fblob%2Fmain%2Fsimple_linear_regression.ipynb","isCSV":false,"isRichtext":false,"toc":null,"lineInfo":{"truncatedLoc":"206","truncatedSloc":"206"},"mode":"file"},"image":false,"isCodeownersFile":null,"isValidLegacyIssueTemplate":false,"issueTemplateHelpUrl":"https://docs.github.com/articles/about-issue-and-pull-request-templates","issueTemplate":null,"discussionTemplate":null,"language":"Jupyter Notebook","large":false,"loggedIn":true,"newDiscussionPath":"/Adyael/ml_2023/discussions/new","newIssuePath":"/Adyael/ml_2023/issues/new","planSupportInfo":{"repoIsFork":null,"repoOwnedByCurrentUser":null,"requestFullPath":"/Adyael/ml_2023/blob/main/simple_linear_regression.ipynb","showFreeOrgGatedFeatureMessage":null,"showPlanSupportBanner":null,"upgradeDataAttributes":null,"upgradePath":null},"publishBannersInfo":{"dismissActionNoticePath":"/settings/dismiss-notice/publish_action_from_dockerfile","dismissStackNoticePath":"/settings/dismiss-notice/publish_stack_from_file","releasePath":"/Adyael/ml_2023/releases/new?marketplace=true","showPublishActionBanner":false,"showPublishStackBanner":false},"renderImageOrRaw":false,"richText":null,"renderedFileInfo":{"identityUUID":"11491ad3-588a-4518-839d-0f543707c688","renderFileType":"ipynb","size":73184},"tabSize":8,"topBannersInfo":{"overridingGlobalFundingFile":false,"globalPreferredFundingPath":null,"repoOwner":"Adyael","repoName":"ml_2023","showInvalidCitationWarning":false,"citationHelpUrl":"https://docs.github.com/en/github/creating-cloning-and-archiving-repositories/creating-a-repository-on-github/about-citation-files","showDependabotConfigurationBanner":false,"actionsOnboardingTip":null},"truncated":false,"viewable":true,"workflowRedirectUrl":null,"symbols":{"timedOut":false,"notAnalyzed":true,"symbols":[]}},"csrf_tokens":{"/Adyael/ml_2023/branches":{"post":"_0a5UwTBaP5E_ptb_I626cjj_Lt34jWH9j679M5VWRRFTvY0G0AEX1h4VcDNckIir62H8sJzZ5Ntkyn86GHAzQ"}}},"title":"ml_2023/simple_linear_regression.ipynb at main · Adyael/ml_2023","locale":"en","appPayload":{"helpUrl":"https://docs.github.com","findFileWorkerPath":"/assets-cdn/worker/find-file-worker-848bb9a5da17.js","findInFileWorkerPath":"/assets-cdn/worker/find-in-file-worker-8812f8040df6.js","githubDevUrl":"https://github.dev/","enabled_features":{"virtualize_file_tree":true,"react_repos_overview":false,"repos_new_shortcut_enabled":false,"blob_navigation_cursor":true,"code_nav_ui_events":false,"ref_selector_v2":false,"codeview_codemirror_next":false,"copilot_conversational_ux":false}}}</script>
  <div data-target="react-app.reactRoot"><div color="fg.default" font-family="normal" data-portal-root="true" class="BaseStyles__Base-sc-nfjs56-0 bmmbtJ"><div id="__primerPortalRoot__" style="z-index: 10; position: absolute; width: 100%;"></div><meta data-hydrostats="publish">    <button hidden="" data-testid="header-permalink-button" data-hotkey="y,Y" data-hotkey-scope="read-only-cursor-text-area"></button><button hidden="" data-hotkey="y,Y"></button><div class="Box-sc-g0xbh4-0"><div class="Box-sc-g0xbh4-0 fSWWem" style="--sticky-pane-height: calc(100vh - (max(100px, 0px)));"><div class="Box-sc-g0xbh4-0 kPPmzM"><div class="Box-sc-g0xbh4-0 cIAPDV"><div tabindex="0" class="Box-sc-g0xbh4-0 gvCnwW"><div class="Box-sc-g0xbh4-0 ioxSsX"><div class="Box-sc-g0xbh4-0 eUyHuk"></div><div class="Box-sc-g0xbh4-0 cvKirU"><div role="separator" class="Box-sc-g0xbh4-0 dZCkhR"></div></div><div class="Box-sc-g0xbh4-0 gNdDUH" style="--pane-width: 320px;"><span class="_VisuallyHidden__VisuallyHidden-sc-11jhm7a-0 rTZSs"><form><label for=":r0:-width-input">Pane width</label><p id=":r0:-input-hint">Use a value between 19% and 30%</p><input id=":r0:-width-input" aria-describedby=":r0:-input-hint" name="pane-width" inputmode="numeric" pattern="[0-9]*" autocorrect="off" autocomplete="off" type="text" value="23"><button type="submit">Change width</button></form></span><div id="repos-file-tree" class="Box-sc-g0xbh4-0 dkMzXD"><div class="Box-sc-g0xbh4-0 hBSSUC"><div class="Box-sc-g0xbh4-0 iPurHz"><h2 class="Heading__StyledHeading-sc-1c1dgg0-0 fNPcqd"><button data-component="IconButton" data-testid="collapse-file-tree-button" aria-label="Side panel" aria-expanded="true" aria-controls="repos-file-tree" class="types__StyledButton-sc-ws60qy-0 hNyQml" data-no-visuals="true"><svg aria-hidden="true" focusable="false" role="img" class="octicon octicon-sidebar-expand" viewBox="0 0 16 16" width="16" height="16" fill="currentColor" style="display: inline-block; user-select: none; vertical-align: text-bottom; overflow: visible;"><path d="m4.177 7.823 2.396-2.396A.25.25 0 0 1 7 5.604v4.792a.25.25 0 0 1-.427.177L4.177 8.177a.25.25 0 0 1 0-.354Z"></path><path d="M0 1.75C0 .784.784 0 1.75 0h12.5C15.216 0 16 .784 16 1.75v12.5A1.75 1.75 0 0 1 14.25 16H1.75A1.75 1.75 0 0 1 0 14.25Zm1.75-.25a.25.25 0 0 0-.25.25v12.5c0 .138.112.25.25.25H9.5v-13Zm12.5 13a.25.25 0 0 0 .25-.25V1.75a.25.25 0 0 0-.25-.25H11v13Z"></path></svg></button></h2><h2 class="Heading__StyledHeading-sc-1c1dgg0-0 imcwCi">Code</h2></div><div class="Box-sc-g0xbh4-0 hVHHYa"><div class="Box-sc-g0xbh4-0 idZfsJ"><button type="button" id="branch-picker-1686111651469" aria-haspopup="true" tabindex="0" data-hotkey="w" aria-label="main branch" data-testid="anchor-button" class="types__StyledButton-sc-ws60qy-0 cZRqXf react-repos-tree-pane-ref-selector width-full"><span data-component="buttonContent" class="Box-sc-g0xbh4-0 kkrdEu"><span data-component="text"><div class="Box-sc-g0xbh4-0 cFPoqW"><div class="Box-sc-g0xbh4-0 bwTunw"><svg aria-hidden="true" focusable="false" role="img" class="octicon octicon-git-branch" viewBox="0 0 16 16" width="16" height="16" fill="currentColor" style="display: inline-block; user-select: none; vertical-align: text-bottom; overflow: visible;"><path d="M9.5 3.25a2.25 2.25 0 1 1 3 2.122V6A2.5 2.5 0 0 1 10 8.5H6a1 1 0 0 0-1 1v1.128a2.251 2.251 0 1 1-1.5 0V5.372a2.25 2.25 0 1 1 1.5 0v1.836A2.493 2.493 0 0 1 6 7h4a1 1 0 0 0 1-1v-.628A2.25 2.25 0 0 1 9.5 3.25Zm-6 0a.75.75 0 1 0 1.5 0 .75.75 0 0 0-1.5 0Zm8.25-.75a.75.75 0 1 0 0 1.5.75.75 0 0 0 0-1.5ZM4.25 12a.75.75 0 1 0 0 1.5.75.75 0 0 0 0-1.5Z"></path></svg></div><div class="Box-sc-g0xbh4-0 caeYDk"><span class="Text-sc-17v1xeu-0 bOMzPg">&nbsp;main</span></div></div></span><span data-component="trailingVisual" class="Box-sc-g0xbh4-0 trpoQ"><svg aria-hidden="true" focusable="false" role="img" class="octicon octicon-triangle-down" viewBox="0 0 16 16" width="16" height="16" fill="currentColor" style="display: inline-block; user-select: none; vertical-align: text-bottom; overflow: visible;"><path d="m4.427 7.427 3.396 3.396a.25.25 0 0 0 .354 0l3.396-3.396A.25.25 0 0 0 11.396 7H4.604a.25.25 0 0 0-.177.427Z"></path></svg></span></span></button><button hidden="" data-hotkey="w" data-hotkey-scope="read-only-cursor-text-area"></button></div><span role="tooltip" aria-label="Add file" class="Tooltip__TooltipBase-sc-uha8qm-0 fCnxTL tooltipped-s"><a sx="[object Object]" data-component="IconButton" aria-label="Add file" data-no-visuals="true" class="types__StyledButton-sc-ws60qy-0 gTeenv" href="https://github.com/Adyael/ml_2023/new/main"><svg aria-hidden="true" focusable="false" role="img" class="octicon octicon-plus" viewBox="0 0 16 16" width="16" height="16" fill="currentColor" style="display: inline-block; user-select: none; vertical-align: text-bottom; overflow: visible;"><path d="M7.75 2a.75.75 0 0 1 .75.75V7h4.25a.75.75 0 0 1 0 1.5H8.5v4.25a.75.75 0 0 1-1.5 0V8.5H2.75a.75.75 0 0 1 0-1.5H7V2.75A.75.75 0 0 1 7.75 2Z"></path></svg></a></span><button data-component="IconButton" aria-label="Search this repository" data-hotkey="/" data-no-visuals="true" class="types__StyledButton-sc-ws60qy-0 VplrY"><svg aria-hidden="true" focusable="false" role="img" class="octicon octicon-search" viewBox="0 0 16 16" width="16" height="16" fill="currentColor" style="display: inline-block; user-select: none; vertical-align: text-bottom; overflow: visible;"><path d="M10.68 11.74a6 6 0 0 1-7.922-8.982 6 6 0 0 1 8.982 7.922l3.04 3.04a.749.749 0 0 1-.326 1.275.749.749 0 0 1-.734-.215ZM11.5 7a4.499 4.499 0 1 0-8.997 0A4.499 4.499 0 0 0 11.5 7Z"></path></svg></button><button hidden="" data-testid="" data-hotkey="/" data-hotkey-scope="read-only-cursor-text-area"></button></div></div><div class="Box-sc-g0xbh4-0 jRttMj"><button hidden="" data-testid="" data-hotkey="t,T" data-hotkey-scope="read-only-cursor-text-area"></button><button hidden="" data-hotkey="t,T"></button><span class="_TextInputWrapper__TextInputBaseWrapper-sc-apywy2-0 _TextInputWrapper__TextInputWrapper-sc-apywy2-1 bqFowW jhluSD TextInput-wrapper" aria-live="polite" aria-busy="false"><span class="TextInput-icon"><svg aria-hidden="true" focusable="false" role="img" class="octicon octicon-search" viewBox="0 0 16 16" width="16" height="16" fill="currentColor" style="display: inline-block; user-select: none; vertical-align: text-bottom; overflow: visible;"><path d="M10.68 11.74a6 6 0 0 1-7.922-8.982 6 6 0 0 1 8.982 7.922l3.04 3.04a.749.749 0 0 1-.326 1.275.749.749 0 0 1-.734-.215ZM11.5 7a4.499 4.499 0 1 0-8.997 0A4.499 4.499 0 0 0 11.5 7Z"></path></svg></span><input type="text" aria-label="Go to file" role="combobox" aria-controls="file-results-list" aria-expanded="false" aria-haspopup="dialog" autocorrect="off" spellcheck="false" placeholder="Go to file" data-component="input" class="_UnstyledTextInput__UnstyledTextInput-sc-31b2um-0 dFGJZq" value=""><span class="TextInput-icon"><div class="Box-sc-g0xbh4-0 cNvKlH"><kbd>t</kbd></div></span></span></div><div class="Box-sc-g0xbh4-0 bYLCoz"><div><div data-testid="repos-file-tree-container" class="Box-sc-g0xbh4-0 hJcmjJ"><nav aria-label="File Tree Navigation"><span role="status" aria-live="polite" aria-atomic="true" class="_VisuallyHidden__VisuallyHidden-sc-11jhm7a-0 rTZSs"></span><ul role="tree" aria-label="Files" class="TreeView__UlBox-sc-4ex6b6-0 hLwWNO"><li class="PRIVATE_TreeView-item" tabindex="-1" id=".gitignore-item" role="treeitem" aria-labelledby=":r6:" aria-describedby=":r7: :r8:" aria-level="1" aria-selected="false"><div class="PRIVATE_TreeView-item-container" style="--level: 1; content-visibility: auto; contain-intrinsic-size: auto 2rem;"><div style="grid-area: spacer / spacer / spacer / spacer; display: flex;"><div style="width: 100%; display: flex;"></div></div><div id=":r6:" class="PRIVATE_TreeView-item-content"><div class="PRIVATE_VisuallyHidden" aria-hidden="true" id=":r7:"></div><div class="PRIVATE_TreeView-item-visual" aria-hidden="true"><svg aria-hidden="true" focusable="false" role="img" class="octicon octicon-file" viewBox="0 0 16 16" width="16" height="16" fill="currentColor" style="display: inline-block; user-select: none; vertical-align: text-bottom; overflow: visible;"><path d="M2 1.75C2 .784 2.784 0 3.75 0h6.586c.464 0 .909.184 1.237.513l2.914 2.914c.329.328.513.773.513 1.237v9.586A1.75 1.75 0 0 1 13.25 16h-9.5A1.75 1.75 0 0 1 2 14.25Zm1.75-.25a.25.25 0 0 0-.25.25v12.5c0 .138.112.25.25.25h9.5a.25.25 0 0 0 .25-.25V6h-2.75A1.75 1.75 0 0 1 9 4.25V1.5Zm6.75.062V4.25c0 .138.112.25.25.25h2.688l-.011-.013-2.914-2.914-.013-.011Z"></path></svg></div><span class="PRIVATE_TreeView-item-content-text"><span>.gitignore</span></span></div></div></li><li class="PRIVATE_TreeView-item" tabindex="-1" id="50_Startups.csv-item" role="treeitem" aria-labelledby=":r9:" aria-describedby=":ra: :rb:" aria-level="1" aria-selected="false"><div class="PRIVATE_TreeView-item-container" style="--level: 1; content-visibility: auto; contain-intrinsic-size: auto 2rem;"><div style="grid-area: spacer / spacer / spacer / spacer; display: flex;"><div style="width: 100%; display: flex;"></div></div><div id=":r9:" class="PRIVATE_TreeView-item-content"><div class="PRIVATE_VisuallyHidden" aria-hidden="true" id=":ra:"></div><div class="PRIVATE_TreeView-item-visual" aria-hidden="true"><svg aria-hidden="true" focusable="false" role="img" class="octicon octicon-file" viewBox="0 0 16 16" width="16" height="16" fill="currentColor" style="display: inline-block; user-select: none; vertical-align: text-bottom; overflow: visible;"><path d="M2 1.75C2 .784 2.784 0 3.75 0h6.586c.464 0 .909.184 1.237.513l2.914 2.914c.329.328.513.773.513 1.237v9.586A1.75 1.75 0 0 1 13.25 16h-9.5A1.75 1.75 0 0 1 2 14.25Zm1.75-.25a.25.25 0 0 0-.25.25v12.5c0 .138.112.25.25.25h9.5a.25.25 0 0 0 .25-.25V6h-2.75A1.75 1.75 0 0 1 9 4.25V1.5Zm6.75.062V4.25c0 .138.112.25.25.25h2.688l-.011-.013-2.914-2.914-.013-.011Z"></path></svg></div><span class="PRIVATE_TreeView-item-content-text"><span>50_Startups.csv</span></span></div></div></li><li class="PRIVATE_TreeView-item" tabindex="-1" id="Churn_Modelling.csv-item" role="treeitem" aria-labelledby=":rc:" aria-describedby=":rd: :re:" aria-level="1" aria-selected="false"><div class="PRIVATE_TreeView-item-container" style="--level: 1; content-visibility: auto; contain-intrinsic-size: auto 2rem;"><div style="grid-area: spacer / spacer / spacer / spacer; display: flex;"><div style="width: 100%; display: flex;"></div></div><div id=":rc:" class="PRIVATE_TreeView-item-content"><div class="PRIVATE_VisuallyHidden" aria-hidden="true" id=":rd:"></div><div class="PRIVATE_TreeView-item-visual" aria-hidden="true"><svg aria-hidden="true" focusable="false" role="img" class="octicon octicon-file" viewBox="0 0 16 16" width="16" height="16" fill="currentColor" style="display: inline-block; user-select: none; vertical-align: text-bottom; overflow: visible;"><path d="M2 1.75C2 .784 2.784 0 3.75 0h6.586c.464 0 .909.184 1.237.513l2.914 2.914c.329.328.513.773.513 1.237v9.586A1.75 1.75 0 0 1 13.25 16h-9.5A1.75 1.75 0 0 1 2 14.25Zm1.75-.25a.25.25 0 0 0-.25.25v12.5c0 .138.112.25.25.25h9.5a.25.25 0 0 0 .25-.25V6h-2.75A1.75 1.75 0 0 1 9 4.25V1.5Zm6.75.062V4.25c0 .138.112.25.25.25h2.688l-.011-.013-2.914-2.914-.013-.011Z"></path></svg></div><span class="PRIVATE_TreeView-item-content-text"><span>Churn_Modelling.csv</span></span></div></div></li><li class="PRIVATE_TreeView-item" tabindex="-1" id="Data.csv-item" role="treeitem" aria-labelledby=":rf:" aria-describedby=":rg: :rh:" aria-level="1" aria-selected="false"><div class="PRIVATE_TreeView-item-container" style="--level: 1; content-visibility: auto; contain-intrinsic-size: auto 2rem;"><div style="grid-area: spacer / spacer / spacer / spacer; display: flex;"><div style="width: 100%; display: flex;"></div></div><div id=":rf:" class="PRIVATE_TreeView-item-content"><div class="PRIVATE_VisuallyHidden" aria-hidden="true" id=":rg:"></div><div class="PRIVATE_TreeView-item-visual" aria-hidden="true"><svg aria-hidden="true" focusable="false" role="img" class="octicon octicon-file" viewBox="0 0 16 16" width="16" height="16" fill="currentColor" style="display: inline-block; user-select: none; vertical-align: text-bottom; overflow: visible;"><path d="M2 1.75C2 .784 2.784 0 3.75 0h6.586c.464 0 .909.184 1.237.513l2.914 2.914c.329.328.513.773.513 1.237v9.586A1.75 1.75 0 0 1 13.25 16h-9.5A1.75 1.75 0 0 1 2 14.25Zm1.75-.25a.25.25 0 0 0-.25.25v12.5c0 .138.112.25.25.25h9.5a.25.25 0 0 0 .25-.25V6h-2.75A1.75 1.75 0 0 1 9 4.25V1.5Zm6.75.062V4.25c0 .138.112.25.25.25h2.688l-.011-.013-2.914-2.914-.013-.011Z"></path></svg></div><span class="PRIVATE_TreeView-item-content-text"><span>Data.csv</span></span></div></div></li><li class="PRIVATE_TreeView-item" tabindex="-1" id="Position_Salaries.csv-item" role="treeitem" aria-labelledby=":ri:" aria-describedby=":rj: :rk:" aria-level="1" aria-selected="false"><div class="PRIVATE_TreeView-item-container" style="--level: 1; content-visibility: auto; contain-intrinsic-size: auto 2rem;"><div style="grid-area: spacer / spacer / spacer / spacer; display: flex;"><div style="width: 100%; display: flex;"></div></div><div id=":ri:" class="PRIVATE_TreeView-item-content"><div class="PRIVATE_VisuallyHidden" aria-hidden="true" id=":rj:"></div><div class="PRIVATE_TreeView-item-visual" aria-hidden="true"><svg aria-hidden="true" focusable="false" role="img" class="octicon octicon-file" viewBox="0 0 16 16" width="16" height="16" fill="currentColor" style="display: inline-block; user-select: none; vertical-align: text-bottom; overflow: visible;"><path d="M2 1.75C2 .784 2.784 0 3.75 0h6.586c.464 0 .909.184 1.237.513l2.914 2.914c.329.328.513.773.513 1.237v9.586A1.75 1.75 0 0 1 13.25 16h-9.5A1.75 1.75 0 0 1 2 14.25Zm1.75-.25a.25.25 0 0 0-.25.25v12.5c0 .138.112.25.25.25h9.5a.25.25 0 0 0 .25-.25V6h-2.75A1.75 1.75 0 0 1 9 4.25V1.5Zm6.75.062V4.25c0 .138.112.25.25.25h2.688l-.011-.013-2.914-2.914-.013-.011Z"></path></svg></div><span class="PRIVATE_TreeView-item-content-text"><span>Position_Salaries.csv</span></span></div></div></li><li class="PRIVATE_TreeView-item" tabindex="-1" id="README.md-item" role="treeitem" aria-labelledby=":rl:" aria-describedby=":rm: :rn:" aria-level="1" aria-selected="false"><div class="PRIVATE_TreeView-item-container" style="--level: 1; content-visibility: auto; contain-intrinsic-size: auto 2rem;"><div style="grid-area: spacer / spacer / spacer / spacer; display: flex;"><div style="width: 100%; display: flex;"></div></div><div id=":rl:" class="PRIVATE_TreeView-item-content"><div class="PRIVATE_VisuallyHidden" aria-hidden="true" id=":rm:"></div><div class="PRIVATE_TreeView-item-visual" aria-hidden="true"><svg aria-hidden="true" focusable="false" role="img" class="octicon octicon-file" viewBox="0 0 16 16" width="16" height="16" fill="currentColor" style="display: inline-block; user-select: none; vertical-align: text-bottom; overflow: visible;"><path d="M2 1.75C2 .784 2.784 0 3.75 0h6.586c.464 0 .909.184 1.237.513l2.914 2.914c.329.328.513.773.513 1.237v9.586A1.75 1.75 0 0 1 13.25 16h-9.5A1.75 1.75 0 0 1 2 14.25Zm1.75-.25a.25.25 0 0 0-.25.25v12.5c0 .138.112.25.25.25h9.5a.25.25 0 0 0 .25-.25V6h-2.75A1.75 1.75 0 0 1 9 4.25V1.5Zm6.75.062V4.25c0 .138.112.25.25.25h2.688l-.011-.013-2.914-2.914-.013-.011Z"></path></svg></div><span class="PRIVATE_TreeView-item-content-text"><span>README.md</span></span></div></div></li><li class="PRIVATE_TreeView-item" tabindex="-1" id="Salary_Data.csv-item" role="treeitem" aria-labelledby=":ro:" aria-describedby=":rp: :rq:" aria-level="1" aria-selected="false"><div class="PRIVATE_TreeView-item-container" style="--level: 1; content-visibility: auto; contain-intrinsic-size: auto 2rem;"><div style="grid-area: spacer / spacer / spacer / spacer; display: flex;"><div style="width: 100%; display: flex;"></div></div><div id=":ro:" class="PRIVATE_TreeView-item-content"><div class="PRIVATE_VisuallyHidden" aria-hidden="true" id=":rp:"></div><div class="PRIVATE_TreeView-item-visual" aria-hidden="true"><svg aria-hidden="true" focusable="false" role="img" class="octicon octicon-file" viewBox="0 0 16 16" width="16" height="16" fill="currentColor" style="display: inline-block; user-select: none; vertical-align: text-bottom; overflow: visible;"><path d="M2 1.75C2 .784 2.784 0 3.75 0h6.586c.464 0 .909.184 1.237.513l2.914 2.914c.329.328.513.773.513 1.237v9.586A1.75 1.75 0 0 1 13.25 16h-9.5A1.75 1.75 0 0 1 2 14.25Zm1.75-.25a.25.25 0 0 0-.25.25v12.5c0 .138.112.25.25.25h9.5a.25.25 0 0 0 .25-.25V6h-2.75A1.75 1.75 0 0 1 9 4.25V1.5Zm6.75.062V4.25c0 .138.112.25.25.25h2.688l-.011-.013-2.914-2.914-.013-.011Z"></path></svg></div><span class="PRIVATE_TreeView-item-content-text"><span>Salary_Data.csv</span></span></div></div></li><li class="PRIVATE_TreeView-item" tabindex="-1" id="Social_Network_Ads.csv-item" role="treeitem" aria-labelledby=":rr:" aria-describedby=":rs: :rt:" aria-level="1" aria-selected="false"><div class="PRIVATE_TreeView-item-container" style="--level: 1; content-visibility: auto; contain-intrinsic-size: auto 2rem;"><div style="grid-area: spacer / spacer / spacer / spacer; display: flex;"><div style="width: 100%; display: flex;"></div></div><div id=":rr:" class="PRIVATE_TreeView-item-content"><div class="PRIVATE_VisuallyHidden" aria-hidden="true" id=":rs:"></div><div class="PRIVATE_TreeView-item-visual" aria-hidden="true"><svg aria-hidden="true" focusable="false" role="img" class="octicon octicon-file" viewBox="0 0 16 16" width="16" height="16" fill="currentColor" style="display: inline-block; user-select: none; vertical-align: text-bottom; overflow: visible;"><path d="M2 1.75C2 .784 2.784 0 3.75 0h6.586c.464 0 .909.184 1.237.513l2.914 2.914c.329.328.513.773.513 1.237v9.586A1.75 1.75 0 0 1 13.25 16h-9.5A1.75 1.75 0 0 1 2 14.25Zm1.75-.25a.25.25 0 0 0-.25.25v12.5c0 .138.112.25.25.25h9.5a.25.25 0 0 0 .25-.25V6h-2.75A1.75 1.75 0 0 1 9 4.25V1.5Zm6.75.062V4.25c0 .138.112.25.25.25h2.688l-.011-.013-2.914-2.914-.013-.011Z"></path></svg></div><span class="PRIVATE_TreeView-item-content-text"><span>Social_Network_Ads.csv</span></span></div></div></li><li class="PRIVATE_TreeView-item" tabindex="-1" id="artificial_neural_network.ipynb-item" role="treeitem" aria-labelledby=":ru:" aria-describedby=":rv: :r10:" aria-level="1" aria-selected="false"><div class="PRIVATE_TreeView-item-container" style="--level: 1; content-visibility: auto; contain-intrinsic-size: auto 2rem;"><div style="grid-area: spacer / spacer / spacer / spacer; display: flex;"><div style="width: 100%; display: flex;"></div></div><div id=":ru:" class="PRIVATE_TreeView-item-content"><div class="PRIVATE_VisuallyHidden" aria-hidden="true" id=":rv:"></div><div class="PRIVATE_TreeView-item-visual" aria-hidden="true"><svg aria-hidden="true" focusable="false" role="img" class="octicon octicon-file" viewBox="0 0 16 16" width="16" height="16" fill="currentColor" style="display: inline-block; user-select: none; vertical-align: text-bottom; overflow: visible;"><path d="M2 1.75C2 .784 2.784 0 3.75 0h6.586c.464 0 .909.184 1.237.513l2.914 2.914c.329.328.513.773.513 1.237v9.586A1.75 1.75 0 0 1 13.25 16h-9.5A1.75 1.75 0 0 1 2 14.25Zm1.75-.25a.25.25 0 0 0-.25.25v12.5c0 .138.112.25.25.25h9.5a.25.25 0 0 0 .25-.25V6h-2.75A1.75 1.75 0 0 1 9 4.25V1.5Zm6.75.062V4.25c0 .138.112.25.25.25h2.688l-.011-.013-2.914-2.914-.013-.011Z"></path></svg></div><span class="PRIVATE_TreeView-item-content-text"><span>artificial_neural_network.ipynb</span></span></div></div></li><li class="PRIVATE_TreeView-item" tabindex="-1" id="data_preprossecing_tools.ipynb-item" role="treeitem" aria-labelledby=":r11:" aria-describedby=":r12: :r13:" aria-level="1" aria-selected="false"><div class="PRIVATE_TreeView-item-container" style="--level: 1; content-visibility: auto; contain-intrinsic-size: auto 2rem;"><div style="grid-area: spacer / spacer / spacer / spacer; display: flex;"><div style="width: 100%; display: flex;"></div></div><div id=":r11:" class="PRIVATE_TreeView-item-content"><div class="PRIVATE_VisuallyHidden" aria-hidden="true" id=":r12:"></div><div class="PRIVATE_TreeView-item-visual" aria-hidden="true"><svg aria-hidden="true" focusable="false" role="img" class="octicon octicon-file" viewBox="0 0 16 16" width="16" height="16" fill="currentColor" style="display: inline-block; user-select: none; vertical-align: text-bottom; overflow: visible;"><path d="M2 1.75C2 .784 2.784 0 3.75 0h6.586c.464 0 .909.184 1.237.513l2.914 2.914c.329.328.513.773.513 1.237v9.586A1.75 1.75 0 0 1 13.25 16h-9.5A1.75 1.75 0 0 1 2 14.25Zm1.75-.25a.25.25 0 0 0-.25.25v12.5c0 .138.112.25.25.25h9.5a.25.25 0 0 0 .25-.25V6h-2.75A1.75 1.75 0 0 1 9 4.25V1.5Zm6.75.062V4.25c0 .138.112.25.25.25h2.688l-.011-.013-2.914-2.914-.013-.011Z"></path></svg></div><span class="PRIVATE_TreeView-item-content-text"><span>data_preprossecing_tools.ipynb</span></span></div></div></li><li class="PRIVATE_TreeView-item" tabindex="0" id="desicion_tree_regresion.ipynb-item" role="treeitem" aria-labelledby=":r14:" aria-describedby=":r15: :r16:" aria-level="1" aria-selected="true" aria-current="true"><div class="PRIVATE_TreeView-item-container" style="--level: 1; content-visibility: auto; contain-intrinsic-size: auto 2rem;"><div style="grid-area: spacer / spacer / spacer / spacer; display: flex;"><div style="width: 100%; display: flex;"></div></div><div id=":r14:" class="PRIVATE_TreeView-item-content"><div class="PRIVATE_VisuallyHidden" aria-hidden="true" id=":r15:"></div><div class="PRIVATE_TreeView-item-visual" aria-hidden="true"><svg aria-hidden="true" focusable="false" role="img" class="octicon octicon-file" viewBox="0 0 16 16" width="16" height="16" fill="currentColor" style="display: inline-block; user-select: none; vertical-align: text-bottom; overflow: visible;"><path d="M2 1.75C2 .784 2.784 0 3.75 0h6.586c.464 0 .909.184 1.237.513l2.914 2.914c.329.328.513.773.513 1.237v9.586A1.75 1.75 0 0 1 13.25 16h-9.5A1.75 1.75 0 0 1 2 14.25Zm1.75-.25a.25.25 0 0 0-.25.25v12.5c0 .138.112.25.25.25h9.5a.25.25 0 0 0 .25-.25V6h-2.75A1.75 1.75 0 0 1 9 4.25V1.5Zm6.75.062V4.25c0 .138.112.25.25.25h2.688l-.011-.013-2.914-2.914-.013-.011Z"></path></svg></div><span class="PRIVATE_TreeView-item-content-text"><span>desicion_tree_regresion.ipynb</span></span></div></div></li><li class="PRIVATE_TreeView-item" tabindex="-1" id="k_nearest_neighbors_k_nn.ipynb-item" role="treeitem" aria-labelledby=":r17:" aria-describedby=":r18: :r19:" aria-level="1" aria-selected="false"><div class="PRIVATE_TreeView-item-container" style="--level: 1; content-visibility: auto; contain-intrinsic-size: auto 2rem;"><div style="grid-area: spacer / spacer / spacer / spacer; display: flex;"><div style="width: 100%; display: flex;"></div></div><div id=":r17:" class="PRIVATE_TreeView-item-content"><div class="PRIVATE_VisuallyHidden" aria-hidden="true" id=":r18:"></div><div class="PRIVATE_TreeView-item-visual" aria-hidden="true"><svg aria-hidden="true" focusable="false" role="img" class="octicon octicon-file" viewBox="0 0 16 16" width="16" height="16" fill="currentColor" style="display: inline-block; user-select: none; vertical-align: text-bottom; overflow: visible;"><path d="M2 1.75C2 .784 2.784 0 3.75 0h6.586c.464 0 .909.184 1.237.513l2.914 2.914c.329.328.513.773.513 1.237v9.586A1.75 1.75 0 0 1 13.25 16h-9.5A1.75 1.75 0 0 1 2 14.25Zm1.75-.25a.25.25 0 0 0-.25.25v12.5c0 .138.112.25.25.25h9.5a.25.25 0 0 0 .25-.25V6h-2.75A1.75 1.75 0 0 1 9 4.25V1.5Zm6.75.062V4.25c0 .138.112.25.25.25h2.688l-.011-.013-2.914-2.914-.013-.011Z"></path></svg></div><span class="PRIVATE_TreeView-item-content-text"><span>k_nearest_neighbors_k_nn.ipynb</span></span></div></div></li><li class="PRIVATE_TreeView-item" tabindex="-1" id="lin_reg.ipynb-item" role="treeitem" aria-labelledby=":r1a:" aria-describedby=":r1b: :r1c:" aria-level="1" aria-selected="false"><div class="PRIVATE_TreeView-item-container" style="--level: 1; content-visibility: auto; contain-intrinsic-size: auto 2rem;"><div style="grid-area: spacer / spacer / spacer / spacer; display: flex;"><div style="width: 100%; display: flex;"></div></div><div id=":r1a:" class="PRIVATE_TreeView-item-content"><div class="PRIVATE_VisuallyHidden" aria-hidden="true" id=":r1b:"></div><div class="PRIVATE_TreeView-item-visual" aria-hidden="true"><svg aria-hidden="true" focusable="false" role="img" class="octicon octicon-file" viewBox="0 0 16 16" width="16" height="16" fill="currentColor" style="display: inline-block; user-select: none; vertical-align: text-bottom; overflow: visible;"><path d="M2 1.75C2 .784 2.784 0 3.75 0h6.586c.464 0 .909.184 1.237.513l2.914 2.914c.329.328.513.773.513 1.237v9.586A1.75 1.75 0 0 1 13.25 16h-9.5A1.75 1.75 0 0 1 2 14.25Zm1.75-.25a.25.25 0 0 0-.25.25v12.5c0 .138.112.25.25.25h9.5a.25.25 0 0 0 .25-.25V6h-2.75A1.75 1.75 0 0 1 9 4.25V1.5Zm6.75.062V4.25c0 .138.112.25.25.25h2.688l-.011-.013-2.914-2.914-.013-.011Z"></path></svg></div><span class="PRIVATE_TreeView-item-content-text"><span>lin_reg.ipynb</span></span></div></div></li><li class="PRIVATE_TreeView-item" tabindex="-1" id="logistic_regression.ipynb-item" role="treeitem" aria-labelledby=":r1d:" aria-describedby=":r1e: :r1f:" aria-level="1" aria-selected="false"><div class="PRIVATE_TreeView-item-container" style="--level: 1; content-visibility: auto; contain-intrinsic-size: auto 2rem;"><div style="grid-area: spacer / spacer / spacer / spacer; display: flex;"><div style="width: 100%; display: flex;"></div></div><div id=":r1d:" class="PRIVATE_TreeView-item-content"><div class="PRIVATE_VisuallyHidden" aria-hidden="true" id=":r1e:"></div><div class="PRIVATE_TreeView-item-visual" aria-hidden="true"><svg aria-hidden="true" focusable="false" role="img" class="octicon octicon-file" viewBox="0 0 16 16" width="16" height="16" fill="currentColor" style="display: inline-block; user-select: none; vertical-align: text-bottom; overflow: visible;"><path d="M2 1.75C2 .784 2.784 0 3.75 0h6.586c.464 0 .909.184 1.237.513l2.914 2.914c.329.328.513.773.513 1.237v9.586A1.75 1.75 0 0 1 13.25 16h-9.5A1.75 1.75 0 0 1 2 14.25Zm1.75-.25a.25.25 0 0 0-.25.25v12.5c0 .138.112.25.25.25h9.5a.25.25 0 0 0 .25-.25V6h-2.75A1.75 1.75 0 0 1 9 4.25V1.5Zm6.75.062V4.25c0 .138.112.25.25.25h2.688l-.011-.013-2.914-2.914-.013-.011Z"></path></svg></div><span class="PRIVATE_TreeView-item-content-text"><span>logistic_regression.ipynb</span></span></div></div></li><li class="PRIVATE_TreeView-item" tabindex="-1" id="logistic_regression_colab.ipynb-item" role="treeitem" aria-labelledby=":r1g:" aria-describedby=":r1h: :r1i:" aria-level="1" aria-selected="false"><div class="PRIVATE_TreeView-item-container" style="--level: 1; content-visibility: auto; contain-intrinsic-size: auto 2rem;"><div style="grid-area: spacer / spacer / spacer / spacer; display: flex;"><div style="width: 100%; display: flex;"></div></div><div id=":r1g:" class="PRIVATE_TreeView-item-content"><div class="PRIVATE_VisuallyHidden" aria-hidden="true" id=":r1h:"></div><div class="PRIVATE_TreeView-item-visual" aria-hidden="true"><svg aria-hidden="true" focusable="false" role="img" class="octicon octicon-file" viewBox="0 0 16 16" width="16" height="16" fill="currentColor" style="display: inline-block; user-select: none; vertical-align: text-bottom; overflow: visible;"><path d="M2 1.75C2 .784 2.784 0 3.75 0h6.586c.464 0 .909.184 1.237.513l2.914 2.914c.329.328.513.773.513 1.237v9.586A1.75 1.75 0 0 1 13.25 16h-9.5A1.75 1.75 0 0 1 2 14.25Zm1.75-.25a.25.25 0 0 0-.25.25v12.5c0 .138.112.25.25.25h9.5a.25.25 0 0 0 .25-.25V6h-2.75A1.75 1.75 0 0 1 9 4.25V1.5Zm6.75.062V4.25c0 .138.112.25.25.25h2.688l-.011-.013-2.914-2.914-.013-.011Z"></path></svg></div><span class="PRIVATE_TreeView-item-content-text"><span>logistic_regression_colab.ipynb</span></span></div></div></li><li class="PRIVATE_TreeView-item" tabindex="-1" id="multiple_linear_regression.ipynb-item" role="treeitem" aria-labelledby=":r1j:" aria-describedby=":r1k: :r1l:" aria-level="1" aria-selected="false"><div class="PRIVATE_TreeView-item-container" style="--level: 1; content-visibility: auto; contain-intrinsic-size: auto 2rem;"><div style="grid-area: spacer / spacer / spacer / spacer; display: flex;"><div style="width: 100%; display: flex;"></div></div><div id=":r1j:" class="PRIVATE_TreeView-item-content"><div class="PRIVATE_VisuallyHidden" aria-hidden="true" id=":r1k:"></div><div class="PRIVATE_TreeView-item-visual" aria-hidden="true"><svg aria-hidden="true" focusable="false" role="img" class="octicon octicon-file" viewBox="0 0 16 16" width="16" height="16" fill="currentColor" style="display: inline-block; user-select: none; vertical-align: text-bottom; overflow: visible;"><path d="M2 1.75C2 .784 2.784 0 3.75 0h6.586c.464 0 .909.184 1.237.513l2.914 2.914c.329.328.513.773.513 1.237v9.586A1.75 1.75 0 0 1 13.25 16h-9.5A1.75 1.75 0 0 1 2 14.25Zm1.75-.25a.25.25 0 0 0-.25.25v12.5c0 .138.112.25.25.25h9.5a.25.25 0 0 0 .25-.25V6h-2.75A1.75 1.75 0 0 1 9 4.25V1.5Zm6.75.062V4.25c0 .138.112.25.25.25h2.688l-.011-.013-2.914-2.914-.013-.011Z"></path></svg></div><span class="PRIVATE_TreeView-item-content-text"><span>multiple_linear_regression.ipynb</span></span></div></div></li><li class="PRIVATE_TreeView-item" tabindex="-1" id="polynominal_regression.ipynb-item" role="treeitem" aria-labelledby=":r1m:" aria-describedby=":r1n: :r1o:" aria-level="1" aria-selected="false"><div class="PRIVATE_TreeView-item-container" style="--level: 1; content-visibility: auto; contain-intrinsic-size: auto 2rem;"><div style="grid-area: spacer / spacer / spacer / spacer; display: flex;"><div style="width: 100%; display: flex;"></div></div><div id=":r1m:" class="PRIVATE_TreeView-item-content"><div class="PRIVATE_VisuallyHidden" aria-hidden="true" id=":r1n:"></div><div class="PRIVATE_TreeView-item-visual" aria-hidden="true"><svg aria-hidden="true" focusable="false" role="img" class="octicon octicon-file" viewBox="0 0 16 16" width="16" height="16" fill="currentColor" style="display: inline-block; user-select: none; vertical-align: text-bottom; overflow: visible;"><path d="M2 1.75C2 .784 2.784 0 3.75 0h6.586c.464 0 .909.184 1.237.513l2.914 2.914c.329.328.513.773.513 1.237v9.586A1.75 1.75 0 0 1 13.25 16h-9.5A1.75 1.75 0 0 1 2 14.25Zm1.75-.25a.25.25 0 0 0-.25.25v12.5c0 .138.112.25.25.25h9.5a.25.25 0 0 0 .25-.25V6h-2.75A1.75 1.75 0 0 1 9 4.25V1.5Zm6.75.062V4.25c0 .138.112.25.25.25h2.688l-.011-.013-2.914-2.914-.013-.011Z"></path></svg></div><span class="PRIVATE_TreeView-item-content-text"><span>polynominal_regression.ipynb</span></span></div></div></li><li class="PRIVATE_TreeView-item" tabindex="-1" id="simple_linear_regression.ipynb-item" role="treeitem" aria-labelledby=":r1p:" aria-describedby=":r1q: :r1r:" aria-level="1" aria-selected="false"><div class="PRIVATE_TreeView-item-container" style="--level: 1; content-visibility: auto; contain-intrinsic-size: auto 2rem;"><div style="grid-area: spacer / spacer / spacer / spacer; display: flex;"><div style="width: 100%; display: flex;"></div></div><div id=":r1p:" class="PRIVATE_TreeView-item-content"><div class="PRIVATE_VisuallyHidden" aria-hidden="true" id=":r1q:"></div><div class="PRIVATE_TreeView-item-visual" aria-hidden="true"><svg aria-hidden="true" focusable="false" role="img" class="octicon octicon-file" viewBox="0 0 16 16" width="16" height="16" fill="currentColor" style="display: inline-block; user-select: none; vertical-align: text-bottom; overflow: visible;"><path d="M2 1.75C2 .784 2.784 0 3.75 0h6.586c.464 0 .909.184 1.237.513l2.914 2.914c.329.328.513.773.513 1.237v9.586A1.75 1.75 0 0 1 13.25 16h-9.5A1.75 1.75 0 0 1 2 14.25Zm1.75-.25a.25.25 0 0 0-.25.25v12.5c0 .138.112.25.25.25h9.5a.25.25 0 0 0 .25-.25V6h-2.75A1.75 1.75 0 0 1 9 4.25V1.5Zm6.75.062V4.25c0 .138.112.25.25.25h2.688l-.011-.013-2.914-2.914-.013-.011Z"></path></svg></div><span class="PRIVATE_TreeView-item-content-text"><span>simple_linear_regression.ipynb</span></span></div></div></li><li class="PRIVATE_TreeView-item" tabindex="-1" id="support_vector_machine.ipynb-item" role="treeitem" aria-labelledby=":r1s:" aria-describedby=":r1t: :r1u:" aria-level="1" aria-selected="false"><div class="PRIVATE_TreeView-item-container" style="--level: 1; content-visibility: auto; contain-intrinsic-size: auto 2rem;"><div style="grid-area: spacer / spacer / spacer / spacer; display: flex;"><div style="width: 100%; display: flex;"></div></div><div id=":r1s:" class="PRIVATE_TreeView-item-content"><div class="PRIVATE_VisuallyHidden" aria-hidden="true" id=":r1t:"></div><div class="PRIVATE_TreeView-item-visual" aria-hidden="true"><svg aria-hidden="true" focusable="false" role="img" class="octicon octicon-file" viewBox="0 0 16 16" width="16" height="16" fill="currentColor" style="display: inline-block; user-select: none; vertical-align: text-bottom; overflow: visible;"><path d="M2 1.75C2 .784 2.784 0 3.75 0h6.586c.464 0 .909.184 1.237.513l2.914 2.914c.329.328.513.773.513 1.237v9.586A1.75 1.75 0 0 1 13.25 16h-9.5A1.75 1.75 0 0 1 2 14.25Zm1.75-.25a.25.25 0 0 0-.25.25v12.5c0 .138.112.25.25.25h9.5a.25.25 0 0 0 .25-.25V6h-2.75A1.75 1.75 0 0 1 9 4.25V1.5Zm6.75.062V4.25c0 .138.112.25.25.25h2.688l-.011-.013-2.914-2.914-.013-.011Z"></path></svg></div><span class="PRIVATE_TreeView-item-content-text"><span>support_vector_machine.ipynb</span></span></div></div></li><li class="PRIVATE_TreeView-item" tabindex="-1" id="support_vector_machine_colab.ipynb-item" role="treeitem" aria-labelledby=":r1v:" aria-describedby=":r20: :r21:" aria-level="1" aria-selected="false"><div class="PRIVATE_TreeView-item-container" style="--level: 1; content-visibility: auto; contain-intrinsic-size: auto 2rem;"><div style="grid-area: spacer / spacer / spacer / spacer; display: flex;"><div style="width: 100%; display: flex;"></div></div><div id=":r1v:" class="PRIVATE_TreeView-item-content"><div class="PRIVATE_VisuallyHidden" aria-hidden="true" id=":r20:"></div><div class="PRIVATE_TreeView-item-visual" aria-hidden="true"><svg aria-hidden="true" focusable="false" role="img" class="octicon octicon-file" viewBox="0 0 16 16" width="16" height="16" fill="currentColor" style="display: inline-block; user-select: none; vertical-align: text-bottom; overflow: visible;"><path d="M2 1.75C2 .784 2.784 0 3.75 0h6.586c.464 0 .909.184 1.237.513l2.914 2.914c.329.328.513.773.513 1.237v9.586A1.75 1.75 0 0 1 13.25 16h-9.5A1.75 1.75 0 0 1 2 14.25Zm1.75-.25a.25.25 0 0 0-.25.25v12.5c0 .138.112.25.25.25h9.5a.25.25 0 0 0 .25-.25V6h-2.75A1.75 1.75 0 0 1 9 4.25V1.5Zm6.75.062V4.25c0 .138.112.25.25.25h2.688l-.011-.013-2.914-2.914-.013-.011Z"></path></svg></div><span class="PRIVATE_TreeView-item-content-text"><span>support_vector_machine_colab.ipynb</span></span></div></div></li><li class="PRIVATE_TreeView-item" tabindex="-1" id="support_vector_regression.ipynb-item" role="treeitem" aria-labelledby=":r22:" aria-describedby=":r23: :r24:" aria-level="1" aria-selected="false"><div class="PRIVATE_TreeView-item-container" style="--level: 1; content-visibility: auto; contain-intrinsic-size: auto 2rem;"><div style="grid-area: spacer / spacer / spacer / spacer; display: flex;"><div style="width: 100%; display: flex;"></div></div><div id=":r22:" class="PRIVATE_TreeView-item-content"><div class="PRIVATE_VisuallyHidden" aria-hidden="true" id=":r23:"></div><div class="PRIVATE_TreeView-item-visual" aria-hidden="true"><svg aria-hidden="true" focusable="false" role="img" class="octicon octicon-file" viewBox="0 0 16 16" width="16" height="16" fill="currentColor" style="display: inline-block; user-select: none; vertical-align: text-bottom; overflow: visible;"><path d="M2 1.75C2 .784 2.784 0 3.75 0h6.586c.464 0 .909.184 1.237.513l2.914 2.914c.329.328.513.773.513 1.237v9.586A1.75 1.75 0 0 1 13.25 16h-9.5A1.75 1.75 0 0 1 2 14.25Zm1.75-.25a.25.25 0 0 0-.25.25v12.5c0 .138.112.25.25.25h9.5a.25.25 0 0 0 .25-.25V6h-2.75A1.75 1.75 0 0 1 9 4.25V1.5Zm6.75.062V4.25c0 .138.112.25.25.25h2.688l-.011-.013-2.914-2.914-.013-.011Z"></path></svg></div><span class="PRIVATE_TreeView-item-content-text"><span>support_vector_regression.ipynb</span></span></div></div></li></ul></nav></div></div><div class="Box-sc-g0xbh4-0 hwhShM"><div class="Box-sc-g0xbh4-0 cYPxpP"><a href="https://docs.github.com/en/repositories/working-with-files/managing-files/navigating-files-with-the-new-code-view" target="_blank" class="Link__StyledLink-sc-14289xe-0 bJBoUI">Documentation</a>&nbsp;•&nbsp;<a href="https://github.com/orgs/community/discussions/54546" target="_blank" class="Link__StyledLink-sc-14289xe-0 bJBoUI">Share feedback</a></div></div></div><div class="Box-sc-g0xbh4-0 fBtiVT"><div class="Box-sc-g0xbh4-0 cYPxpP"><a href="https://docs.github.com/en/repositories/working-with-files/managing-files/navigating-files-with-the-new-code-view" target="_blank" class="Link__StyledLink-sc-14289xe-0 bJBoUI">Documentation</a>&nbsp;•&nbsp;<a href="https://github.com/orgs/community/discussions/54546" target="_blank" class="Link__StyledLink-sc-14289xe-0 bJBoUI">Share feedback</a></div></div></div></div></div></div><main class="Box-sc-g0xbh4-0 emFMJu"><div class="Box-sc-g0xbh4-0"></div><div class="Box-sc-g0xbh4-0 hlUAHL"><div data-selector="repos-split-pane-content" tabindex="0" class="Box-sc-g0xbh4-0 iStsmI"><div class="Box-sc-g0xbh4-0 eIgvIk"><div id="StickyHeader" class="Box-sc-g0xbh4-0 bDwCYs" style="position: sticky;"><div class="Box-sc-g0xbh4-0 rmFvl"><div class="Box-sc-g0xbh4-0 dyczTK"><div class="Box-sc-g0xbh4-0 jJaodr"><div class="Box-sc-g0xbh4-0 eTvGbF"><nav data-testid="breadcrumbs" aria-labelledby="breadcrumb-heading" id="breadcrumb" class="Box-sc-g0xbh4-0 kzRgrI"><h2 class="Heading__StyledHeading-sc-1c1dgg0-0 cgQnMS sr-only" data-testid="screen-reader-heading" id="breadcrumb-heading">Breadcrumbs</h2><ol class="Box-sc-g0xbh4-0 cmAPIB"><li class="Box-sc-g0xbh4-0 jwXCBK"><a sx="[object Object]" data-testid="breadcrumbs-repo-link" class="Link__StyledLink-sc-14289xe-0 iJtJJh" href="https://github.com/Adyael/ml_2023/tree/main">ml_2023</a></li></ol></nav><div data-testid="breadcrumbs-filename" class="Box-sc-g0xbh4-0 jwXCBK"><span aria-hidden="true" class="Text-sc-17v1xeu-0 fWVgeN">/</span><h1 tabindex="-1" id="file-name-id" class="Heading__StyledHeading-sc-1c1dgg0-0 diwsLq">desicion_tree_regresion.ipynb</h1></div><button data-component="IconButton" aria-label="Copy path" data-testid="breadcrumb-copy-path-button" data-size="small" data-no-visuals="true" class="types__StyledButton-sc-ws60qy-0 dsNAFH"><svg aria-hidden="true" focusable="false" role="img" class="octicon octicon-copy" viewBox="0 0 16 16" width="16" height="16" fill="currentColor" style="display: inline-block; user-select: none; vertical-align: text-bottom; overflow: visible;"><path d="M0 6.75C0 5.784.784 5 1.75 5h1.5a.75.75 0 0 1 0 1.5h-1.5a.25.25 0 0 0-.25.25v7.5c0 .138.112.25.25.25h7.5a.25.25 0 0 0 .25-.25v-1.5a.75.75 0 0 1 1.5 0v1.5A1.75 1.75 0 0 1 9.25 16h-7.5A1.75 1.75 0 0 1 0 14.25Z"></path><path d="M5 1.75C5 .784 5.784 0 6.75 0h7.5C15.216 0 16 .784 16 1.75v7.5A1.75 1.75 0 0 1 14.25 11h-7.5A1.75 1.75 0 0 1 5 9.25Zm1.75-.25a.25.25 0 0 0-.25.25v7.5c0 .138.112.25.25.25h7.5a.25.25 0 0 0 .25-.25v-7.5a.25.25 0 0 0-.25-.25Z"></path></svg></button></div></div><div class="Box-sc-g0xbh4-0 gtBUEp"><div class="d-flex gap-2"> <button type="button" data-hotkey="b,B" data-no-visuals="true" class="types__StyledButton-sc-ws60qy-0 hYwHoj"><span data-component="buttonContent" class="Box-sc-g0xbh4-0 kkrdEu"><span data-component="text">Blame</span></span></button><button hidden="" data-testid="" data-hotkey="b,B" data-hotkey-scope="read-only-cursor-text-area"></button><button data-component="IconButton" aria-label="More file actions" class="types__StyledButton-sc-ws60qy-0 dXveNa js-blob-dropdown-click" title="More file actions" data-testid="more-file-actions-button" id=":r3:" aria-haspopup="true" tabindex="0" data-no-visuals="true"><svg aria-hidden="true" focusable="false" role="img" class="octicon octicon-kebab-horizontal" viewBox="0 0 16 16" width="16" height="16" fill="currentColor" style="display: inline-block; user-select: none; vertical-align: text-bottom; overflow: visible;"><path d="M8 9a1.5 1.5 0 1 0 0-3 1.5 1.5 0 0 0 0 3ZM1.5 9a1.5 1.5 0 1 0 0-3 1.5 1.5 0 0 0 0 3Zm13 0a1.5 1.5 0 1 0 0-3 1.5 1.5 0 0 0 0 3Z"></path></svg></button> </div></div></div></div></div></div><div class="Box-sc-g0xbh4-0 bhAUGf"> <div class="Box-sc-g0xbh4-0 cMYnca"></div><div class="Box-sc-g0xbh4-0"></div>   </div><div class="Box-sc-g0xbh4-0 fwKaNR">   <div class="Box-sc-g0xbh4-0 brFBoI"><div class="Box-sc-g0xbh4-0 eYedVD"><h2 class="Heading__StyledHeading-sc-1c1dgg0-0 cgQnMS sr-only" data-testid="screen-reader-heading">Latest commit</h2><div data-testid="latest-commit" class="Box-sc-g0xbh4-0 ihByZp"><div class="Box-sc-g0xbh4-0 hLLhje"><a href="https://github.com/Adyael" data-testid="avatar-icon-link" data-hovercard-url="/users/Adyael/hovercard" class="Link__StyledLink-sc-14289xe-0 bJBoUI"><img aria-label="Adyael" src="./desicion_tree_regresion_files/70920061" alt="Adyael" size="20" height="20" width="20" class="Avatar-sc-2lv0r8-0 iTMtVt"></a><span role="tooltip" aria-label="commits by Adyael" class="Tooltip__TooltipBase-sc-uha8qm-0 fCnxTL tooltipped-se"><a href="https://github.com/Adyael/ml_2023/commits?author=Adyael" aria-label="commits by Adyael" class="Link__StyledLink-sc-14289xe-0 cBrzIN">Adyael</a></span></div><div class="Box-sc-g0xbh4-0 fqNQBl react-last-commit-message"><div class="Box-sc-g0xbh4-0 jEKUjt Truncate"><span class="Text-sc-17v1xeu-0 gPDEWA Truncate-text" data-testid="latest-commit-html"><a href="https://github.com/Adyael/ml_2023/commit/72bbb59ee60d8334651e2a3545937da52834a421" class="Link--secondary" title="algoritmos" data-pjax="true" data-hovercard-url="/Adyael/ml_2023/commit/72bbb59ee60d8334651e2a3545937da52834a421/hovercard">algoritmos</a></span></div></div><span class="Text-sc-17v1xeu-0 kKFNhh react-last-commit-summary-timestamp"><relative-time class="RelativeTime-sc-lqbqy3-0" datetime="2023-05-22T22:17:06.000-06:00" tense="past" title="May 22, 2023, 10:17 PM CST"><template shadowrootmode="open">2 weeks ago</template></relative-time></span></div><div class="Box-sc-g0xbh4-0 jGfYmh"><div data-testid="latest-commit-details" class="Box-sc-g0xbh4-0 lhFvfi"><span class="Text-sc-17v1xeu-0 kKFNhh react-last-commit-oid-timestamp"><a class="Link__StyledLink-sc-14289xe-0 bJBoUI Link--secondary" aria-label="Commit 72bbb59" href="https://github.com/Adyael/ml_2023/commit/72bbb59ee60d8334651e2a3545937da52834a421">72bbb59</a>&nbsp;·&nbsp;<relative-time class="RelativeTime-sc-lqbqy3-0" datetime="2023-05-22T22:17:06.000-06:00" tense="past" title="May 22, 2023, 10:17 PM CST"><template shadowrootmode="open">2 weeks ago</template></relative-time></span><span class="Text-sc-17v1xeu-0 kKFNhh react-last-commit-timestamp"><relative-time class="RelativeTime-sc-lqbqy3-0" datetime="2023-05-22T22:17:06.000-06:00" tense="past" title="May 22, 2023, 10:17 PM CST"><template shadowrootmode="open">2 weeks ago</template></relative-time></span></div><h2 class="Heading__StyledHeading-sc-1c1dgg0-0 cgQnMS sr-only" data-testid="screen-reader-heading">History</h2><a aria-label="History" class="types__StyledButton-sc-ws60qy-0 iqAUyV react-last-commit-history-group" href="https://github.com/Adyael/ml_2023/commits/main/desicion_tree_regresion.ipynb" data-size="small"><span data-component="buttonContent" class="Box-sc-g0xbh4-0 kkrdEu"><span data-component="leadingVisual" class="Box-sc-g0xbh4-0 trpoQ"><svg aria-hidden="true" focusable="false" role="img" class="octicon octicon-history" viewBox="0 0 16 16" width="16" height="16" fill="currentColor" style="display: inline-block; user-select: none; vertical-align: text-bottom; overflow: visible;"><path d="m.427 1.927 1.215 1.215a8.002 8.002 0 1 1-1.6 5.685.75.75 0 1 1 1.493-.154 6.5 6.5 0 1 0 1.18-4.458l1.358 1.358A.25.25 0 0 1 3.896 6H.25A.25.25 0 0 1 0 5.75V2.104a.25.25 0 0 1 .427-.177ZM7.75 4a.75.75 0 0 1 .75.75v2.992l2.028.812a.75.75 0 0 1-.557 1.392l-2.5-1A.751.751 0 0 1 7 8.25v-3.5A.75.75 0 0 1 7.75 4Z"></path></svg></span><span data-component="text"><span class="Text-sc-17v1xeu-0 hfRvxg">History</span></span></span></a><div class="Box-sc-g0xbh4-0 bqgLjk"><button data-component="IconButton" aria-label="Open commit details" aria-pressed="false" aria-expanded="false" data-testid="latest-commit-details-toggle" data-no-visuals="true" class="types__StyledButton-sc-ws60qy-0 goANMA"><svg aria-hidden="true" focusable="false" role="img" class="octicon octicon-ellipsis" viewBox="0 0 16 16" width="16" height="16" fill="currentColor" style="display: inline-block; user-select: none; vertical-align: text-bottom; overflow: visible;"><path d="M0 5.75C0 4.784.784 4 1.75 4h12.5c.966 0 1.75.784 1.75 1.75v4.5A1.75 1.75 0 0 1 14.25 12H1.75A1.75 1.75 0 0 1 0 10.25ZM12 7a1 1 0 1 0 0 2 1 1 0 0 0 0-2ZM7 8a1 1 0 1 0 2 0 1 1 0 0 0-2 0ZM4 7a1 1 0 1 0 0 2 1 1 0 0 0 0-2Z"></path></svg></button></div><a aria-label="History" class="types__StyledButton-sc-ws60qy-0 iqAUyV react-last-commit-history-icon" href="https://github.com/Adyael/ml_2023/commits/main/desicion_tree_regresion.ipynb"><span data-component="buttonContent" class="Box-sc-g0xbh4-0 kkrdEu"><span data-component="leadingVisual" class="Box-sc-g0xbh4-0 trpoQ"><svg aria-hidden="true" focusable="false" role="img" class="octicon octicon-history" viewBox="0 0 16 16" width="16" height="16" fill="currentColor" style="display: inline-block; user-select: none; vertical-align: text-bottom; overflow: visible;"><path d="m.427 1.927 1.215 1.215a8.002 8.002 0 1 1-1.6 5.685.75.75 0 1 1 1.493-.154 6.5 6.5 0 1 0 1.18-4.458l1.358 1.358A.25.25 0 0 1 3.896 6H.25A.25.25 0 0 1 0 5.75V2.104a.25.25 0 0 1 .427-.177ZM7.75 4a.75.75 0 0 1 .75.75v2.992l2.028.812a.75.75 0 0 1-.557 1.392l-2.5-1A.751.751 0 0 1 7 8.25v-3.5A.75.75 0 0 1 7.75 4Z"></path></svg></span></span></a></div></div></div><div class="Box-sc-g0xbh4-0 bSdwWB react-code-size-details-banner"><div class="Box-sc-g0xbh4-0 react-code-size-details-banner"><div class="Box-sc-g0xbh4-0 fOEJrA text-mono"><div title="2.43 KB" data-testid="blob-size" class="Truncate-sc-1d9305p-0 Jyrkr"><span class="Text-sc-17v1xeu-0 gPDEWA">124 lines (124 loc) · 2.43 KB</span></div></div></div></div><div class="Box-sc-g0xbh4-0 izfgQu"><div class="Box-sc-g0xbh4-0 cQgThc"><div class="Box-sc-g0xbh4-0 gBKNLX react-blob-view-header-sticky" id="repos-sticky-header"><div class="Box-sc-g0xbh4-0"><div class="Box-sc-g0xbh4-0 ePiodO"><div class="Box-sc-g0xbh4-0 kQJlnf"><div class="Box-sc-g0xbh4-0 gJICKO"><div class="Box-sc-g0xbh4-0 iZJewz"><nav data-testid="breadcrumbs" aria-labelledby="sticky-breadcrumb-heading" id="sticky-breadcrumb" class="Box-sc-g0xbh4-0 kzRgrI"><h2 class="Heading__StyledHeading-sc-1c1dgg0-0 cgQnMS sr-only" data-testid="screen-reader-heading" id="sticky-breadcrumb-heading">Breadcrumbs</h2><ol class="Box-sc-g0xbh4-0 cmAPIB"><li class="Box-sc-g0xbh4-0 jwXCBK"><a sx="[object Object]" data-testid="breadcrumbs-repo-link" class="Link__StyledLink-sc-14289xe-0 iJtJJh" href="https://github.com/Adyael/ml_2023/tree/main">ml_2023</a></li></ol></nav><div data-testid="breadcrumbs-filename" class="Box-sc-g0xbh4-0 jwXCBK"><span aria-hidden="true" class="Text-sc-17v1xeu-0 iqTHmv">/</span><h1 tabindex="-1" id="sticky-file-name-id" class="Heading__StyledHeading-sc-1c1dgg0-0 jAEDJk">desicion_tree_regresion.ipynb</h1></div></div><button type="button" data-size="small" class="types__StyledButton-sc-ws60qy-0 fdJsWs"><span data-component="buttonContent" class="Box-sc-g0xbh4-0 kkrdEu"><span data-component="leadingVisual" class="Box-sc-g0xbh4-0 trpoQ"><svg aria-hidden="true" focusable="false" role="img" class="octicon octicon-arrow-up" viewBox="0 0 16 16" width="16" height="16" fill="currentColor" style="display: inline-block; user-select: none; vertical-align: text-bottom; overflow: visible;"><path d="M3.47 7.78a.75.75 0 0 1 0-1.06l4.25-4.25a.75.75 0 0 1 1.06 0l4.25 4.25a.751.751 0 0 1-.018 1.042.751.751 0 0 1-1.042.018L9 4.81v7.44a.75.75 0 0 1-1.5 0V4.81L4.53 7.78a.75.75 0 0 1-1.06 0Z"></path></svg></span><span data-component="text">Top</span></span></button></div></div><div class="Box-sc-g0xbh4-0 giEfVQ"><h2 class="Heading__StyledHeading-sc-1c1dgg0-0 cgQnMS sr-only" data-testid="screen-reader-heading">File metadata and controls</h2><div class="Box-sc-g0xbh4-0 bfkNRF"><ul aria-label="File view" class="SegmentedControl__SegmentedControlList-sc-1rzig82-0 ivYJSK"><li class="Box-sc-g0xbh4-0 fXBLEV"><button aria-current="true" class="SegmentedControlButton__SegmentedControlButtonStyled-sc-8lkgxl-0 gKuCoB"><span class="segmentedControl-content"><div class="Box-sc-g0xbh4-0 segmentedControl-text">Preview</div></span></button></li><li class="Box-sc-g0xbh4-0 gbKtit"><button aria-current="false" class="SegmentedControlButton__SegmentedControlButtonStyled-sc-8lkgxl-0 fCAAcl"><span class="segmentedControl-content"><div class="Box-sc-g0xbh4-0 segmentedControl-text">Code</div></span></button></li><li class="Box-sc-g0xbh4-0 gbKtit"><button aria-current="false" data-hotkey="b,B" class="SegmentedControlButton__SegmentedControlButtonStyled-sc-8lkgxl-0 dAXkSP"><span class="segmentedControl-content"><div class="Box-sc-g0xbh4-0 segmentedControl-text">Blame</div></span></button></li></ul><button hidden="" data-testid="" data-hotkey-scope="read-only-cursor-text-area"></button><button hidden="" data-testid="" data-hotkey="b,B" data-hotkey-scope="read-only-cursor-text-area"></button><button hidden="" data-testid="" data-hotkey-scope="read-only-cursor-text-area"></button><div class="Box-sc-g0xbh4-0 react-code-size-details-in-header"><div class="Box-sc-g0xbh4-0 fOEJrA text-mono"><div title="2.43 KB" data-testid="blob-size" class="Truncate-sc-1d9305p-0 Jyrkr"><span class="Text-sc-17v1xeu-0 gPDEWA">124 lines (124 loc) · 2.43 KB</span></div></div></div></div><div class="Box-sc-g0xbh4-0 iBylDf"><div class="Box-sc-g0xbh4-0 kSGBPx react-blob-header-edit-and-raw-actions"><div class="ButtonGroup-sc-1gxhls1-0 cjbBGq"><a href="https://github.com/Adyael/ml_2023/raw/main/desicion_tree_regresion.ipynb" data-testid="raw-button" data-size="small" data-no-visuals="true" class="types__StyledButton-sc-ws60qy-0 jepClM"><span data-component="buttonContent" class="Box-sc-g0xbh4-0 kkrdEu"><span data-component="text">Raw</span></span></a><button data-component="IconButton" aria-label="Copy raw content" data-testid="copy-raw-button" data-hotkey="Control+Shift+c" data-size="small" data-no-visuals="true" class="types__StyledButton-sc-ws60qy-0 kbjJSF"><svg aria-hidden="true" focusable="false" role="img" class="octicon octicon-copy" viewBox="0 0 16 16" width="16" height="16" fill="currentColor" style="display: inline-block; user-select: none; vertical-align: text-bottom; overflow: visible;"><path d="M0 6.75C0 5.784.784 5 1.75 5h1.5a.75.75 0 0 1 0 1.5h-1.5a.25.25 0 0 0-.25.25v7.5c0 .138.112.25.25.25h7.5a.25.25 0 0 0 .25-.25v-1.5a.75.75 0 0 1 1.5 0v1.5A1.75 1.75 0 0 1 9.25 16h-7.5A1.75 1.75 0 0 1 0 14.25Z"></path><path d="M5 1.75C5 .784 5.784 0 6.75 0h7.5C15.216 0 16 .784 16 1.75v7.5A1.75 1.75 0 0 1 14.25 11h-7.5A1.75 1.75 0 0 1 5 9.25Zm1.75-.25a.25.25 0 0 0-.25.25v7.5c0 .138.112.25.25.25h7.5a.25.25 0 0 0 .25-.25v-7.5a.25.25 0 0 0-.25-.25Z"></path></svg></button><span role="tooltip" aria-label="Download raw file" class="Tooltip__TooltipBase-sc-uha8qm-0 fCnxTL tooltipped-n"><button data-component="IconButton" aria-label="Download raw content" data-testid="download-raw-button" data-size="small" data-no-visuals="true" class="types__StyledButton-sc-ws60qy-0 ddNLNa"><svg aria-hidden="true" focusable="false" role="img" class="octicon octicon-download" viewBox="0 0 16 16" width="16" height="16" fill="currentColor" style="display: inline-block; user-select: none; vertical-align: text-bottom; overflow: visible;"><path d="M2.75 14A1.75 1.75 0 0 1 1 12.25v-2.5a.75.75 0 0 1 1.5 0v2.5c0 .138.112.25.25.25h10.5a.25.25 0 0 0 .25-.25v-2.5a.75.75 0 0 1 1.5 0v2.5A1.75 1.75 0 0 1 13.25 14Z"></path><path d="M7.25 7.689V2a.75.75 0 0 1 1.5 0v5.689l1.97-1.969a.749.749 0 1 1 1.06 1.06l-3.25 3.25a.749.749 0 0 1-1.06 0L4.22 6.78a.749.749 0 1 1 1.06-1.06l1.97 1.969Z"></path></svg></button></span></div><button hidden="" data-testid="raw-button" data-hotkey-scope="read-only-cursor-text-area"></button><button hidden="" data-testid="copy-raw-button" data-hotkey="Control+Shift+c" data-hotkey-scope="read-only-cursor-text-area"></button><button hidden="" data-testid="download-raw-button" data-hotkey-scope="read-only-cursor-text-area"></button><a class="Link__StyledLink-sc-14289xe-0 cTAUfh js-github-dev-shortcut" data-hotkey="." href="https://github.dev/"></a><button hidden="" data-testid="" data-hotkey="." data-hotkey-scope="read-only-cursor-text-area"></button><div class="ButtonGroup-sc-1gxhls1-0 cjbBGq"><span role="tooltip" aria-label="Fork this repository and edit the file" class="Tooltip__TooltipBase-sc-uha8qm-0 fCnxTL tooltipped-nw"><a sx="[object Object]" data-component="IconButton" aria-label="Edit file" data-hotkey="e,E" data-testid="edit-button" data-size="small" data-no-visuals="true" class="types__StyledButton-sc-ws60qy-0 kdEavw" href="https://github.com/Adyael/ml_2023/edit/main/desicion_tree_regresion.ipynb"><svg aria-hidden="true" focusable="false" role="img" class="octicon octicon-pencil" viewBox="0 0 16 16" width="16" height="16" fill="currentColor" style="display: inline-block; user-select: none; vertical-align: text-bottom; overflow: visible;"><path d="M11.013 1.427a1.75 1.75 0 0 1 2.474 0l1.086 1.086a1.75 1.75 0 0 1 0 2.474l-8.61 8.61c-.21.21-.47.364-.756.445l-3.251.93a.75.75 0 0 1-.927-.928l.929-3.25c.081-.286.235-.547.445-.758l8.61-8.61Zm.176 4.823L9.75 4.81l-6.286 6.287a.253.253 0 0 0-.064.108l-.558 1.953 1.953-.558a.253.253 0 0 0 .108-.064Zm1.238-3.763a.25.25 0 0 0-.354 0L10.811 3.75l1.439 1.44 1.263-1.263a.25.25 0 0 0 0-.354Z"></path></svg></a></span><button data-component="IconButton" aria-label="More edit options" data-testid="more-edit-button" id=":r4:" aria-haspopup="true" tabindex="0" data-size="small" data-no-visuals="true" class="types__StyledButton-sc-ws60qy-0 kbjJSF"><svg aria-hidden="true" focusable="false" role="img" class="octicon octicon-triangle-down" viewBox="0 0 16 16" width="16" height="16" fill="currentColor" style="display: inline-block; user-select: none; vertical-align: text-bottom; overflow: visible;"><path d="m4.427 7.427 3.396 3.396a.25.25 0 0 0 .354 0l3.396-3.396A.25.25 0 0 0 11.396 7H4.604a.25.25 0 0 0-.177.427Z"></path></svg></button></div><button hidden="" data-testid="" data-hotkey="e,E" data-hotkey-scope="read-only-cursor-text-area"></button></div><div class="Box-sc-g0xbh4-0 react-blob-header-edit-and-raw-actions-combined"><button data-component="IconButton" aria-label="Edit and raw actions" class="types__StyledButton-sc-ws60qy-0 eczXzy js-blob-dropdown-click" title="More file actions" data-testid="more-file-actions-button" id=":r5:" aria-haspopup="true" tabindex="0" data-size="small" data-no-visuals="true"><svg aria-hidden="true" focusable="false" role="img" class="octicon octicon-kebab-horizontal" viewBox="0 0 16 16" width="16" height="16" fill="currentColor" style="display: inline-block; user-select: none; vertical-align: text-bottom; overflow: visible;"><path d="M8 9a1.5 1.5 0 1 0 0-3 1.5 1.5 0 0 0 0 3ZM1.5 9a1.5 1.5 0 1 0 0-3 1.5 1.5 0 0 0 0 3Zm13 0a1.5 1.5 0 1 0 0-3 1.5 1.5 0 0 0 0 3Z"></path></svg></button></div></div></div></div><div class="Box-sc-g0xbh4-0"></div></div></div><div class="Box-sc-g0xbh4-0 etfROT"><section aria-labelledby="file-name-id" class="Box-sc-g0xbh4-0 cJzElx"><div class="Box-sc-g0xbh4-0 civZtx"><div data-hpc="true" data-host="https://notebooks.githubusercontent.com" data-type="ipynb" class="Box-sc-g0xbh4-0 cRYnfF" style="height: 2171.64px;"><iframe src="./desicion_tree_regresion_files/ipynb.html" sandbox="allow-scripts allow-same-origin allow-top-navigation" name="80cda331-e125-495f-8677-84e813dfe739" title="File display" class="Box-sc-g0xbh4-0 kRMcOk">Viewer requires iframe.</iframe></div></div></section></div><div class="Popover js-hovercard-content position-absolute" tabindex="0" style="display: none; outline: none;"><div class="Popover-message Popover-message--bottom-left Popover-message--large Box color-shadow-large" style="width: 360px;"></div></div></div></div>   </div></div></div><div class="Box-sc-g0xbh4-0"></div></main></div></div></div><div id="find-result-marks-container" class="Box-sc-g0xbh4-0 aZrVR"></div><button hidden="" data-testid="" data-hotkey="Control+F6,Control+Shift+F6" data-hotkey-scope="read-only-cursor-text-area"></button><button hidden="" data-hotkey="Control+F6,Control+Shift+F6"></button></div>    </div><script type="application/json" id="__PRIMER_DATA__">{"resolvedServerColorMode":"night"}</script></div>
</react-app>




  </div>

</turbo-frame>

    </main>
  </div>

  </div>

          <footer class="footer width-full container-xl p-responsive" role="contentinfo" hidden="">
  <h2 class="sr-only">Footer</h2>

  <div class="position-relative d-flex flex-items-center pb-2 f6 color-fg-muted color-border-muted flex-column-reverse flex-lg-row flex-wrap flex-lg-nowrap mt-0 pt-6">
    <div class="list-style-none d-flex flex-wrap col-0 col-lg-2 flex-justify-start flex-lg-justify-between mb-2 mb-lg-0">
      <div class="mt-2 mt-lg-0 d-flex flex-items-center">
        <a aria-label="Homepage" title="GitHub" class="footer-octicon mr-2" href="https://github.com/">
          <svg aria-hidden="true" height="24" viewBox="0 0 16 16" version="1.1" width="24" data-view-component="true" class="octicon octicon-mark-github">
    <path d="M8 0c4.42 0 8 3.58 8 8a8.013 8.013 0 0 1-5.45 7.59c-.4.08-.55-.17-.55-.38 0-.27.01-1.13.01-2.2 0-.75-.25-1.23-.54-1.48 1.78-.2 3.65-.88 3.65-3.95 0-.88-.31-1.59-.82-2.15.08-.2.36-1.02-.08-2.12 0 0-.67-.22-2.2.82-.64-.18-1.32-.27-2-.27-.68 0-1.36.09-2 .27-1.53-1.03-2.2-.82-2.2-.82-.44 1.1-.16 1.92-.08 2.12-.51.56-.82 1.28-.82 2.15 0 3.06 1.86 3.75 3.64 3.95-.23.2-.44.55-.51 1.07-.46.21-1.61.55-2.33-.66-.15-.24-.6-.83-1.23-.82-.67.01-.27.38.01.53.34.19.73.9.82 1.13.16.45.68 1.31 2.69.94 0 .67.01 1.3.01 1.49 0 .21-.15.45-.55.38A7.995 7.995 0 0 1 0 8c0-4.42 3.58-8 8-8Z"></path>
</svg>
</a>        <span>
        © 2023 GitHub, Inc.
        </span>
      </div>
    </div>

    <nav aria-label="Footer" class="col-12 col-lg-8">
      <h3 class="sr-only" id="sr-footer-heading">Footer navigation</h3>
      <ul class="list-style-none d-flex flex-wrap col-12 flex-justify-center flex-lg-justify-between mb-2 mb-lg-0" aria-labelledby="sr-footer-heading">
          <li class="mr-3 mr-lg-0"><a href="https://docs.github.com/site-policy/github-terms/github-terms-of-service" data-analytics-event="{&quot;category&quot;:&quot;Footer&quot;,&quot;action&quot;:&quot;go to terms&quot;,&quot;label&quot;:&quot;text:terms&quot;}">Terms</a></li>
          <li class="mr-3 mr-lg-0"><a href="https://docs.github.com/site-policy/privacy-policies/github-privacy-statement" data-analytics-event="{&quot;category&quot;:&quot;Footer&quot;,&quot;action&quot;:&quot;go to privacy&quot;,&quot;label&quot;:&quot;text:privacy&quot;}">Privacy</a></li>
          <li class="mr-3 mr-lg-0"><a data-analytics-event="{&quot;category&quot;:&quot;Footer&quot;,&quot;action&quot;:&quot;go to security&quot;,&quot;label&quot;:&quot;text:security&quot;}" href="https://github.com/security">Security</a></li>
          <li class="mr-3 mr-lg-0"><a href="https://www.githubstatus.com/" data-analytics-event="{&quot;category&quot;:&quot;Footer&quot;,&quot;action&quot;:&quot;go to status&quot;,&quot;label&quot;:&quot;text:status&quot;}">Status</a></li>
          <li class="mr-3 mr-lg-0"><a data-ga-click="Footer, go to help, text:Docs" href="https://docs.github.com/">Docs</a></li>
          <li class="mr-3 mr-lg-0"><a href="https://support.github.com/?tags=dotcom-footer" data-analytics-event="{&quot;category&quot;:&quot;Footer&quot;,&quot;action&quot;:&quot;go to contact&quot;,&quot;label&quot;:&quot;text:contact&quot;}">Contact GitHub</a></li>
          <li class="mr-3 mr-lg-0"><a href="https://github.com/pricing" data-analytics-event="{&quot;category&quot;:&quot;Footer&quot;,&quot;action&quot;:&quot;go to Pricing&quot;,&quot;label&quot;:&quot;text:Pricing&quot;}">Pricing</a></li>
        <li class="mr-3 mr-lg-0"><a href="https://docs.github.com/" data-analytics-event="{&quot;category&quot;:&quot;Footer&quot;,&quot;action&quot;:&quot;go to api&quot;,&quot;label&quot;:&quot;text:api&quot;}">API</a></li>
        <li class="mr-3 mr-lg-0"><a href="https://services.github.com/" data-analytics-event="{&quot;category&quot;:&quot;Footer&quot;,&quot;action&quot;:&quot;go to training&quot;,&quot;label&quot;:&quot;text:training&quot;}">Training</a></li>
          <li class="mr-3 mr-lg-0"><a href="https://github.blog/" data-analytics-event="{&quot;category&quot;:&quot;Footer&quot;,&quot;action&quot;:&quot;go to blog&quot;,&quot;label&quot;:&quot;text:blog&quot;}">Blog</a></li>
          <li><a data-ga-click="Footer, go to about, text:about" href="https://github.com/about">About</a></li>
      </ul>
    </nav>
  </div>

  <div class="d-flex flex-justify-center pb-6">
    <span class="f6 color-fg-muted"></span>
  </div>
</footer>




  <div id="ajax-error-message" class="ajax-error-message flash flash-error" hidden="">
    <svg aria-hidden="true" height="16" viewBox="0 0 16 16" version="1.1" width="16" data-view-component="true" class="octicon octicon-alert">
    <path d="M6.457 1.047c.659-1.234 2.427-1.234 3.086 0l6.082 11.378A1.75 1.75 0 0 1 14.082 15H1.918a1.75 1.75 0 0 1-1.543-2.575Zm1.763.707a.25.25 0 0 0-.44 0L1.698 13.132a.25.25 0 0 0 .22.368h12.164a.25.25 0 0 0 .22-.368Zm.53 3.996v2.5a.75.75 0 0 1-1.5 0v-2.5a.75.75 0 0 1 1.5 0ZM9 11a1 1 0 1 1-2 0 1 1 0 0 1 2 0Z"></path>
</svg>
    <button type="button" class="flash-close js-ajax-error-dismiss" aria-label="Dismiss error">
      <svg aria-hidden="true" height="16" viewBox="0 0 16 16" version="1.1" width="16" data-view-component="true" class="octicon octicon-x">
    <path d="M3.72 3.72a.75.75 0 0 1 1.06 0L8 6.94l3.22-3.22a.749.749 0 0 1 1.275.326.749.749 0 0 1-.215.734L9.06 8l3.22 3.22a.749.749 0 0 1-.326 1.275.749.749 0 0 1-.734-.215L8 9.06l-3.22 3.22a.751.751 0 0 1-1.042-.018.751.751 0 0 1-.018-1.042L6.94 8 3.72 4.78a.75.75 0 0 1 0-1.06Z"></path>
</svg>
    </button>
    You can’t perform that action at this time.
  </div>

  <div class="js-stale-session-flash flash flash-warn flash-banner" hidden="">
    <svg aria-hidden="true" height="16" viewBox="0 0 16 16" version="1.1" width="16" data-view-component="true" class="octicon octicon-alert">
    <path d="M6.457 1.047c.659-1.234 2.427-1.234 3.086 0l6.082 11.378A1.75 1.75 0 0 1 14.082 15H1.918a1.75 1.75 0 0 1-1.543-2.575Zm1.763.707a.25.25 0 0 0-.44 0L1.698 13.132a.25.25 0 0 0 .22.368h12.164a.25.25 0 0 0 .22-.368Zm.53 3.996v2.5a.75.75 0 0 1-1.5 0v-2.5a.75.75 0 0 1 1.5 0ZM9 11a1 1 0 1 1-2 0 1 1 0 0 1 2 0Z"></path>
</svg>
    <span class="js-stale-session-flash-signed-in" hidden="">You signed in with another tab or window. <a href="https://github.com/Adyael/ml_2023/blob/main/desicion_tree_regresion.ipynb">Reload</a> to refresh your session.</span>
    <span class="js-stale-session-flash-signed-out" hidden="">You signed out in another tab or window. <a href="https://github.com/Adyael/ml_2023/blob/main/desicion_tree_regresion.ipynb">Reload</a> to refresh your session.</span>
  </div>
    <template id="site-details-dialog"></template>

    <div class="Popover js-hovercard-content position-absolute" style="display: none; outline: none;" tabindex="0">
  <div class="Popover-message Popover-message--bottom-left Popover-message--large Box color-shadow-large" style="width:360px;">
  </div>
</div>

    <template id="snippet-clipboard-copy-button"></template>
<template id="snippet-clipboard-copy-button-unpositioned"></template>


    <style>
      .user-mention[href$="/MxnuC"] {
        color: var(--color-user-mention-fg);
        background-color: var(--color-user-mention-bg);
        border-radius: 2px;
        margin-left: -2px;
        margin-right: -2px;
        padding: 0 2px;
      }
    </style>


    </div>

    <div id="js-global-screen-reader-notice" class="sr-only" aria-live="polite">ml_2023/desicion_tree_regresion.ipynb at main · Adyael/ml_2023 · GitHub</div>
  


</body></html>