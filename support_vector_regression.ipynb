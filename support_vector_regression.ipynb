<!DOCTYPE html>
<!-- saved from url=(0075)https://github.com/Adyael/ml_2023/blob/main/support_vector_regression.ipynb -->
<html lang="en" data-color-mode="auto" data-light-theme="light" data-dark-theme="dark" data-a11y-animated-images="system" data-js-focus-visible="" data-turbo-loaded=""><head><meta http-equiv="Content-Type" content="text/html; charset=UTF-8"><style type="text/css">.turbo-progress-bar {
  position: fixed;
  display: block;
  top: 0;
  left: 0;
  height: 3px;
  background: #0076ff;
  z-index: 2147483647;
  transition:
    width 300ms ease-out,
    opacity 150ms 150ms ease-in;
  transform: translate3d(0, 0, 0);
}
</style>
    
  
  
  
  
  
  

  


  <link crossorigin="anonymous" media="all" rel="stylesheet" href="./support_vector_regression_files/light-0946cdc16f15.css"><link crossorigin="anonymous" media="all" rel="stylesheet" href="./support_vector_regression_files/dark-3946c959759a.css"><link data-color-theme="dark_dimmed" crossorigin="anonymous" media="all" rel="stylesheet" data-href="https://github.githubassets.com/assets/dark_dimmed-9b9a8c91acc5.css"><link data-color-theme="dark_high_contrast" crossorigin="anonymous" media="all" rel="stylesheet" data-href="https://github.githubassets.com/assets/dark_high_contrast-11302a585e33.css"><link data-color-theme="dark_colorblind" crossorigin="anonymous" media="all" rel="stylesheet" data-href="https://github.githubassets.com/assets/dark_colorblind-1a4564ab0fbf.css"><link data-color-theme="light_colorblind" crossorigin="anonymous" media="all" rel="stylesheet" data-href="https://github.githubassets.com/assets/light_colorblind-12a8b2aa9101.css"><link data-color-theme="light_high_contrast" crossorigin="anonymous" media="all" rel="stylesheet" data-href="https://github.githubassets.com/assets/light_high_contrast-5924a648f3e7.css"><link data-color-theme="light_tritanopia" crossorigin="anonymous" media="all" rel="stylesheet" data-href="https://github.githubassets.com/assets/light_tritanopia-05358496cb79.css"><link data-color-theme="dark_tritanopia" crossorigin="anonymous" media="all" rel="stylesheet" data-href="https://github.githubassets.com/assets/dark_tritanopia-aad6b801a158.css">
    <link crossorigin="anonymous" media="all" rel="stylesheet" href="./support_vector_regression_files/primer-primitives-fb1d51d1ef66.css">
    <link crossorigin="anonymous" media="all" rel="stylesheet" href="./support_vector_regression_files/primer-0e3420bbec16.css">
    <link crossorigin="anonymous" media="all" rel="stylesheet" href="./support_vector_regression_files/global-9ba4c9e8442e.css">
    <link crossorigin="anonymous" media="all" rel="stylesheet" href="./support_vector_regression_files/github-c7a3a0ac71d4.css">
  <link crossorigin="anonymous" media="all" rel="stylesheet" href="./support_vector_regression_files/code-9271f811184f.css">



  <script crossorigin="anonymous" defer="defer" type="application/javascript" src="./support_vector_regression_files/wp-runtime-c38e9fe991af.js.descarga"></script>
<script crossorigin="anonymous" defer="defer" type="application/javascript" src="./support_vector_regression_files/vendors-node_modules_stacktrace-parser_dist_stack-trace-parser_esm_js-node_modules_github_bro-a4c183-ae93d3fba59c.js.descarga"></script>
<script crossorigin="anonymous" defer="defer" type="application/javascript" src="./support_vector_regression_files/ui_packages_soft-nav_soft-nav_ts-899d6d5b0d82.js.descarga"></script>
<script crossorigin="anonymous" defer="defer" type="application/javascript" src="./support_vector_regression_files/environment-07edc14d05eb.js.descarga"></script>
<script crossorigin="anonymous" defer="defer" type="application/javascript" src="./support_vector_regression_files/vendors-node_modules_github_selector-observer_dist_index_esm_js-2646a2c533e3.js.descarga"></script>
<script crossorigin="anonymous" defer="defer" type="application/javascript" src="./support_vector_regression_files/vendors-node_modules_github_relative-time-element_dist_index_js-99e288659d4f.js.descarga"></script>
<script crossorigin="anonymous" defer="defer" type="application/javascript" src="./support_vector_regression_files/vendors-node_modules_fzy_js_index_js-node_modules_github_markdown-toolbar-element_dist_index_js-e3de700a4c9d.js.descarga"></script>
<script crossorigin="anonymous" defer="defer" type="application/javascript" src="./support_vector_regression_files/vendors-node_modules_delegated-events_dist_index_js-node_modules_github_auto-complete-element-5b3870-ff38694180c6.js.descarga"></script>
<script crossorigin="anonymous" defer="defer" type="application/javascript" src="./support_vector_regression_files/vendors-node_modules_github_file-attachment-element_dist_index_js-node_modules_github_text-ex-3415a8-7ecc10fb88d0.js.descarga"></script>
<script crossorigin="anonymous" defer="defer" type="application/javascript" src="./support_vector_regression_files/vendors-node_modules_github_filter-input-element_dist_index_js-node_modules_github_remote-inp-8873b7-5771678648e0.js.descarga"></script>
<script crossorigin="anonymous" defer="defer" type="application/javascript" src="./support_vector_regression_files/vendors-node_modules_primer_view-components_app_components_primer_primer_js-node_modules_gith-3af896-d8cf3e5f5813.js.descarga"></script>
<script crossorigin="anonymous" defer="defer" type="application/javascript" src="./support_vector_regression_files/github-elements-511cba34c4d0.js.descarga"></script>
<script crossorigin="anonymous" defer="defer" type="application/javascript" src="./support_vector_regression_files/element-registry-c2215309edec.js.descarga"></script>
<script crossorigin="anonymous" defer="defer" type="application/javascript" src="./support_vector_regression_files/vendors-node_modules_lit-html_lit-html_js-9d9fe1859ce5.js.descarga"></script>
<script crossorigin="anonymous" defer="defer" type="application/javascript" src="./support_vector_regression_files/vendors-node_modules_github_mini-throttle_dist_index_js-node_modules_github_alive-client_dist-bf5aa2-424aa982deef.js.descarga"></script>
<script crossorigin="anonymous" defer="defer" type="application/javascript" src="./support_vector_regression_files/vendors-node_modules_github_turbo_dist_turbo_es2017-esm_js-ba0e4d5b3207.js.descarga"></script>
<script crossorigin="anonymous" defer="defer" type="application/javascript" src="./support_vector_regression_files/vendors-node_modules_color-convert_index_js-node_modules_github_jtml_lib_index_js-40bf234a19dc.js.descarga"></script>
<script crossorigin="anonymous" defer="defer" type="application/javascript" src="./support_vector_regression_files/vendors-node_modules_github_remote-form_dist_index_js-node_modules_scroll-anchoring_dist_scro-52dc4b-e1e33bfc0b7e.js.descarga"></script>
<script crossorigin="anonymous" defer="defer" type="application/javascript" src="./support_vector_regression_files/vendors-node_modules_github_paste-markdown_dist_index_esm_js-node_modules_github_quote-select-743f1d-1b20d530fbf0.js.descarga"></script>
<script crossorigin="anonymous" defer="defer" type="application/javascript" src="./support_vector_regression_files/app_assets_modules_github_updatable-content_ts-dadb69f79923.js.descarga"></script>
<script crossorigin="anonymous" defer="defer" type="application/javascript" src="./support_vector_regression_files/app_assets_modules_github_behaviors_keyboard-shortcuts-helper_ts-app_assets_modules_github_be-f5afdb-c7480f27f9c0.js.descarga"></script>
<script crossorigin="anonymous" defer="defer" type="application/javascript" src="./support_vector_regression_files/app_assets_modules_github_sticky-scroll-into-view_ts-050ad6637d58.js.descarga"></script>
<script crossorigin="anonymous" defer="defer" type="application/javascript" src="./support_vector_regression_files/app_assets_modules_github_behaviors_ajax-error_ts-app_assets_modules_github_behaviors_include-2e2258-7effad8d88d4.js.descarga"></script>
<script crossorigin="anonymous" defer="defer" type="application/javascript" src="./support_vector_regression_files/app_assets_modules_github_behaviors_commenting_edit_ts-app_assets_modules_github_behaviors_ht-83c235-c97eacdef68a.js.descarga"></script>
<script crossorigin="anonymous" defer="defer" type="application/javascript" src="./support_vector_regression_files/app_assets_modules_github_blob-anchor_ts-app_assets_modules_github_filter-sort_ts-app_assets_-e5f169-c54621d9e188.js.descarga"></script>
<script crossorigin="anonymous" defer="defer" type="application/javascript" src="./support_vector_regression_files/behaviors-7bc44a147745.js.descarga"></script>
<script crossorigin="anonymous" defer="defer" type="application/javascript" src="./support_vector_regression_files/vendors-node_modules_delegated-events_dist_index_js-node_modules_github_catalyst_lib_index_js-623425af41e1.js.descarga"></script>
<script crossorigin="anonymous" defer="defer" type="application/javascript" src="./support_vector_regression_files/notifications-global-4dc6f295cc92.js.descarga"></script>
<script crossorigin="anonymous" defer="defer" type="application/javascript" src="./support_vector_regression_files/code-menu-7dfb8cccdca1.js.descarga"></script>
  
  <script crossorigin="anonymous" defer="defer" type="application/javascript" src="./support_vector_regression_files/react-lib-210c4b5934c3.js.descarga"></script>
<script crossorigin="anonymous" defer="defer" type="application/javascript" src="./support_vector_regression_files/vendors-node_modules_primer_octicons-react_dist_index_esm_js-node_modules_primer_react_lib-es-ca6dae-5cb928c5681d.js.descarga"></script>
<script crossorigin="anonymous" defer="defer" type="application/javascript" src="./support_vector_regression_files/vendors-node_modules_primer_react_lib-esm_Button_index_js-node_modules_primer_react_lib-esm_L-5634ab-42e8568c9a37.js.descarga"></script>
<script crossorigin="anonymous" defer="defer" type="application/javascript" src="./support_vector_regression_files/vendors-node_modules_primer_react_lib-esm_ActionList_index_js-node_modules_primer_react_lib-e-d264d6-4af000b13c2d.js.descarga"></script>
<script crossorigin="anonymous" defer="defer" type="application/javascript" src="./support_vector_regression_files/vendors-node_modules_dompurify_dist_purify_js-64d590970fa6.js.descarga"></script>
<script crossorigin="anonymous" defer="defer" type="application/javascript" src="./support_vector_regression_files/vendors-node_modules_primer_react_lib-esm_ActionMenu_js-6f5478fce534.js.descarga"></script>
<script crossorigin="anonymous" defer="defer" type="application/javascript" src="./support_vector_regression_files/vendors-node_modules_primer_react_lib-esm_deprecated_ActionList_index_js-node_modules_primer_-fed12b-aab66293925c.js.descarga"></script>
<script crossorigin="anonymous" defer="defer" type="application/javascript" src="./support_vector_regression_files/vendors-node_modules_primer_react_lib-esm_FormControl_FormControl_js-785e3d3ff3f3.js.descarga"></script>
<script crossorigin="anonymous" defer="defer" type="application/javascript" src="./support_vector_regression_files/vendors-node_modules_primer_react_lib-esm_Heading_Heading_js-node_modules_primer_react_lib-es-20c766-2f73d206e824.js.descarga"></script>
<script crossorigin="anonymous" defer="defer" type="application/javascript" src="./support_vector_regression_files/vendors-node_modules_primer_react_lib-esm_Dialog_ConfirmationDialog_js-5c0818339f06.js.descarga"></script>
<script crossorigin="anonymous" defer="defer" type="application/javascript" src="./support_vector_regression_files/vendors-node_modules_primer_behaviors_dist_esm_focus-zone_js-e11d55a242ff.js.descarga"></script>
<script crossorigin="anonymous" defer="defer" type="application/javascript" src="./support_vector_regression_files/vendors-node_modules_primer_react_lib-esm_TreeView_TreeView_js-7165830dc4a6.js.descarga"></script>
<script crossorigin="anonymous" defer="defer" type="application/javascript" src="./support_vector_regression_files/vendors-node_modules_primer_react_lib-esm_Avatar_Avatar_js-node_modules_primer_react_lib-esm_-ad6b17-ee5dd79d6342.js.descarga"></script>
<script crossorigin="anonymous" defer="defer" type="application/javascript" src="./support_vector_regression_files/vendors-node_modules_github_blackbird-parser_dist_blackbird_js-fcd9d30e9b7e.js.descarga"></script>
<script crossorigin="anonymous" defer="defer" type="application/javascript" src="./support_vector_regression_files/vendors-node_modules_primer_react_lib-esm_Button_LinkButton_js-node_modules_primer_react_lib--92b054-f72812849ac0.js.descarga"></script>
<script crossorigin="anonymous" defer="defer" type="application/javascript" src="./support_vector_regression_files/vendors-node_modules_primer_behaviors_dist_esm_anchored-position_js-node_modules_primer_react-62957b-61ce148ff6c8.js.descarga"></script>
<script crossorigin="anonymous" defer="defer" type="application/javascript" src="./support_vector_regression_files/vendors-node_modules_primer_react_lib-esm_UnderlineNav2_index_js-0f3ba9d900a1.js.descarga"></script>
<script crossorigin="anonymous" defer="defer" type="application/javascript" src="./support_vector_regression_files/vendors-node_modules_primer_behaviors_dist_esm_scroll-into-view_js-node_modules_primer_react_-67ba45-ebe1dea0d6b7.js.descarga"></script>
<script crossorigin="anonymous" defer="defer" type="application/javascript" src="./support_vector_regression_files/ui_packages_react-core_deferred-registry_ts-ui_packages_react-core_AppContextProvider_tsx-ui_-ffd985-0c6c86cde0a6.js.descarga"></script>
<script crossorigin="anonymous" defer="defer" type="application/javascript" src="./support_vector_regression_files/ui_packages_react-core_Entry_tsx-8c9ef030bd29.js.descarga"></script>
<script crossorigin="anonymous" defer="defer" type="application/javascript" src="./support_vector_regression_files/ui_packages_paths_path_ts-ui_packages_verified-fetch_verified-fetch_ts-ui_packages_safe-html_-d7e3f1-8681e57cea17.js.descarga"></script>
<script crossorigin="anonymous" defer="defer" type="application/javascript" src="./support_vector_regression_files/ui_packages_use-navigate_use-navigate_ts-ui_packages_ref-selector_RefSelector_tsx-8ee43a3ee61b.js.descarga"></script>
<script crossorigin="anonymous" defer="defer" type="application/javascript" src="./support_vector_regression_files/app_assets_modules_blackbird-monolith_hooks_use-navigate-to-query_ts-app_assets_modules_black-049373-f07bf83a5bba.js.descarga"></script>
<script crossorigin="anonymous" defer="defer" type="application/javascript" src="./support_vector_regression_files/app_assets_modules_react-code-view_pages_CodeView_tsx-40b9ff651f21.js.descarga"></script>
<script crossorigin="anonymous" defer="defer" type="application/javascript" src="./support_vector_regression_files/react-code-view-9f704d3c3b53.js.descarga"></script>


  



  

    
  


  


    


  
  

  
  

    
  
  
  
  



  

  




  

    

  

    
    
      
      
    
    
    
      
      
      

      
      


        


      

        

    


  <meta http-equiv="x-pjax-version" content="d2c25b65f66d77caed9dd7a485f5337d5697a1903321d71e886f0fc93b8d444b" data-turbo-track="reload">
  <meta http-equiv="x-pjax-csp-version" content="0db263f9a873141d8256f783c35f244c06d490aacc3b680f99794dd8fd59fb59" data-turbo-track="reload">
  <meta http-equiv="x-pjax-css-version" content="90cb3d3e6b3f1755257a318c01cd6f6879ce75b4510614935481784a01ff3202" data-turbo-track="reload">
  <meta http-equiv="x-pjax-js-version" content="d2172d98e9ba81880d1d47f81ab9150044d40dd776d7d5cb993bfe2ddfb9b9e5" data-turbo-track="reload">

  

      
    

  

  



  


  

  

  

  
  
  





  

  <style data-styled="active" data-styled-version="5.3.6"></style><script crossorigin="anonymous" defer="defer" type="application/javascript" src="./support_vector_regression_files/vendors-node_modules_optimizely_optimizely-sdk_dist_optimizely_browser_es_min_js-node_modules-089adc-2328ba323205.js.descarga"></script><script crossorigin="anonymous" defer="defer" type="application/javascript" src="./support_vector_regression_files/optimizely-c6fa9687eddf.js.descarga"></script><script crossorigin="anonymous" defer="defer" type="application/javascript" src="./support_vector_regression_files/vendors-node_modules_virtualized-list_es_index_js-node_modules_github_template-parts_lib_index_js-c3e624db1d89.js.descarga"></script><script crossorigin="anonymous" defer="defer" type="application/javascript" src="./support_vector_regression_files/vendors-node_modules_github_remote-form_dist_index_js-node_modules_delegated-events_dist_inde-911b971-b9c79ae563e3.js.descarga"></script><script crossorigin="anonymous" defer="defer" type="application/javascript" src="./support_vector_regression_files/app_assets_modules_github_ref-selector_ts-9370fb29d0d4.js.descarga"></script><script crossorigin="anonymous" defer="defer" type="application/javascript" src="./support_vector_regression_files/codespaces-9beef049e47d.js.descarga"></script><script crossorigin="anonymous" defer="defer" type="application/javascript" src="./support_vector_regression_files/vendors-node_modules_github_mini-throttle_dist_decorators_js-node_modules_github_remote-form_-e3de2b-779fd9166293.js.descarga"></script><script crossorigin="anonymous" defer="defer" type="application/javascript" src="./support_vector_regression_files/vendors-node_modules_github_file-attachment-element_dist_index_js-node_modules_github_filter--b2311f-15fe0f17a114.js.descarga"></script><script crossorigin="anonymous" defer="defer" type="application/javascript" src="./support_vector_regression_files/repositories-b9917f52082f.js.descarga"></script><script crossorigin="anonymous" defer="defer" type="application/javascript" src="./support_vector_regression_files/vendors-node_modules_github_remote-form_dist_index_js-node_modules_delegated-events_dist_index_js-0cc53ae22129.js.descarga"></script><script crossorigin="anonymous" defer="defer" type="application/javascript" src="./support_vector_regression_files/topic-suggestions-0032c6704b30.js.descarga"></script><link rel="dns-prefetch" href="https://github.githubassets.com/"><link rel="dns-prefetch" href="https://avatars.githubusercontent.com/"><link rel="dns-prefetch" href="https://github-cloud.s3.amazonaws.com/"><link rel="dns-prefetch" href="https://user-images.githubusercontent.com/"><link rel="preconnect" href="https://github.githubassets.com/" crossorigin=""><link rel="preconnect" href="https://avatars.githubusercontent.com/"><meta name="optimizely-datafile" content="{&quot;groups&quot;: [], &quot;environmentKey&quot;: &quot;production&quot;, &quot;rollouts&quot;: [], &quot;typedAudiences&quot;: [], &quot;projectId&quot;: &quot;16737760170&quot;, &quot;variables&quot;: [], &quot;featureFlags&quot;: [], &quot;experiments&quot;: [], &quot;version&quot;: &quot;4&quot;, &quot;audiences&quot;: [{&quot;conditions&quot;: &quot;[\&quot;or\&quot;, {\&quot;match\&quot;: \&quot;exact\&quot;, \&quot;name\&quot;: \&quot;$opt_dummy_attribute\&quot;, \&quot;type\&quot;: \&quot;custom_attribute\&quot;, \&quot;value\&quot;: \&quot;$opt_dummy_value\&quot;}]&quot;, &quot;id&quot;: &quot;$opt_dummy_audience&quot;, &quot;name&quot;: &quot;Optimizely-Generated Audience for Backwards Compatibility&quot;}], &quot;anonymizeIP&quot;: true, &quot;sdkKey&quot;: &quot;WTc6awnGuYDdG98CYRban&quot;, &quot;attributes&quot;: [{&quot;id&quot;: &quot;16822470375&quot;, &quot;key&quot;: &quot;user_id&quot;}, {&quot;id&quot;: &quot;17143601254&quot;, &quot;key&quot;: &quot;spammy&quot;}, {&quot;id&quot;: &quot;18175660309&quot;, &quot;key&quot;: &quot;organization_plan&quot;}, {&quot;id&quot;: &quot;18813001570&quot;, &quot;key&quot;: &quot;is_logged_in&quot;}, {&quot;id&quot;: &quot;19073851829&quot;, &quot;key&quot;: &quot;geo&quot;}, {&quot;id&quot;: &quot;20175462351&quot;, &quot;key&quot;: &quot;requestedCurrency&quot;}, {&quot;id&quot;: &quot;20785470195&quot;, &quot;key&quot;: &quot;country_code&quot;}, {&quot;id&quot;: &quot;21656311196&quot;, &quot;key&quot;: &quot;opened_downgrade_dialog&quot;}], &quot;botFiltering&quot;: false, &quot;accountId&quot;: &quot;16737760170&quot;, &quot;events&quot;: [{&quot;experimentIds&quot;: [], &quot;id&quot;: &quot;17911811441&quot;, &quot;key&quot;: &quot;hydro_click.dashboard.teacher_toolbox_cta&quot;}, {&quot;experimentIds&quot;: [], &quot;id&quot;: &quot;18124116703&quot;, &quot;key&quot;: &quot;submit.organizations.complete_sign_up&quot;}, {&quot;experimentIds&quot;: [], &quot;id&quot;: &quot;18145892387&quot;, &quot;key&quot;: &quot;no_metric.tracked_outside_of_optimizely&quot;}, {&quot;experimentIds&quot;: [], &quot;id&quot;: &quot;18178755568&quot;, &quot;key&quot;: &quot;click.org_onboarding_checklist.add_repo&quot;}, {&quot;experimentIds&quot;: [], &quot;id&quot;: &quot;18180553241&quot;, &quot;key&quot;: &quot;submit.repository_imports.create&quot;}, {&quot;experimentIds&quot;: [], &quot;id&quot;: &quot;18186103728&quot;, &quot;key&quot;: &quot;click.help.learn_more_about_repository_creation&quot;}, {&quot;experimentIds&quot;: [], &quot;id&quot;: &quot;18188530140&quot;, &quot;key&quot;: &quot;test_event&quot;}, {&quot;experimentIds&quot;: [], &quot;id&quot;: &quot;18191963644&quot;, &quot;key&quot;: &quot;click.empty_org_repo_cta.transfer_repository&quot;}, {&quot;experimentIds&quot;: [], &quot;id&quot;: &quot;18195612788&quot;, &quot;key&quot;: &quot;click.empty_org_repo_cta.import_repository&quot;}, {&quot;experimentIds&quot;: [], &quot;id&quot;: &quot;18210945499&quot;, &quot;key&quot;: &quot;click.org_onboarding_checklist.invite_members&quot;}, {&quot;experimentIds&quot;: [], &quot;id&quot;: &quot;18211063248&quot;, &quot;key&quot;: &quot;click.empty_org_repo_cta.create_repository&quot;}, {&quot;experimentIds&quot;: [], &quot;id&quot;: &quot;18215721889&quot;, &quot;key&quot;: &quot;click.org_onboarding_checklist.update_profile&quot;}, {&quot;experimentIds&quot;: [], &quot;id&quot;: &quot;18224360785&quot;, &quot;key&quot;: &quot;click.org_onboarding_checklist.dismiss&quot;}, {&quot;experimentIds&quot;: [], &quot;id&quot;: &quot;18234832286&quot;, &quot;key&quot;: &quot;submit.organization_activation.complete&quot;}, {&quot;experimentIds&quot;: [], &quot;id&quot;: &quot;18252392383&quot;, &quot;key&quot;: &quot;submit.org_repository.create&quot;}, {&quot;experimentIds&quot;: [], &quot;id&quot;: &quot;18257551537&quot;, &quot;key&quot;: &quot;submit.org_member_invitation.create&quot;}, {&quot;experimentIds&quot;: [], &quot;id&quot;: &quot;18259522260&quot;, &quot;key&quot;: &quot;submit.organization_profile.update&quot;}, {&quot;experimentIds&quot;: [], &quot;id&quot;: &quot;18564603625&quot;, &quot;key&quot;: &quot;view.classroom_select_organization&quot;}, {&quot;experimentIds&quot;: [], &quot;id&quot;: &quot;18568612016&quot;, &quot;key&quot;: &quot;click.classroom_sign_in_click&quot;}, {&quot;experimentIds&quot;: [], &quot;id&quot;: &quot;18572592540&quot;, &quot;key&quot;: &quot;view.classroom_name&quot;}, {&quot;experimentIds&quot;: [], &quot;id&quot;: &quot;18574203855&quot;, &quot;key&quot;: &quot;click.classroom_create_organization&quot;}, {&quot;experimentIds&quot;: [], &quot;id&quot;: &quot;18582053415&quot;, &quot;key&quot;: &quot;click.classroom_select_organization&quot;}, {&quot;experimentIds&quot;: [], &quot;id&quot;: &quot;18589463420&quot;, &quot;key&quot;: &quot;click.classroom_create_classroom&quot;}, {&quot;experimentIds&quot;: [], &quot;id&quot;: &quot;18591323364&quot;, &quot;key&quot;: &quot;click.classroom_create_first_classroom&quot;}, {&quot;experimentIds&quot;: [], &quot;id&quot;: &quot;18591652321&quot;, &quot;key&quot;: &quot;click.classroom_grant_access&quot;}, {&quot;experimentIds&quot;: [], &quot;id&quot;: &quot;18607131425&quot;, &quot;key&quot;: &quot;view.classroom_creation&quot;}, {&quot;experimentIds&quot;: [], &quot;id&quot;: &quot;18831680583&quot;, &quot;key&quot;: &quot;upgrade_account_plan&quot;}, {&quot;experimentIds&quot;: [], &quot;id&quot;: &quot;19064064515&quot;, &quot;key&quot;: &quot;click.signup&quot;}, {&quot;experimentIds&quot;: [], &quot;id&quot;: &quot;19075373687&quot;, &quot;key&quot;: &quot;click.view_account_billing_page&quot;}, {&quot;experimentIds&quot;: [], &quot;id&quot;: &quot;19077355841&quot;, &quot;key&quot;: &quot;click.dismiss_signup_prompt&quot;}, {&quot;experimentIds&quot;: [], &quot;id&quot;: &quot;19079713938&quot;, &quot;key&quot;: &quot;click.contact_sales&quot;}, {&quot;experimentIds&quot;: [], &quot;id&quot;: &quot;19120963070&quot;, &quot;key&quot;: &quot;click.compare_account_plans&quot;}, {&quot;experimentIds&quot;: [], &quot;id&quot;: &quot;19151690317&quot;, &quot;key&quot;: &quot;click.upgrade_account_cta&quot;}, {&quot;experimentIds&quot;: [], &quot;id&quot;: &quot;19424193129&quot;, &quot;key&quot;: &quot;click.open_account_switcher&quot;}, {&quot;experimentIds&quot;: [], &quot;id&quot;: &quot;19520330825&quot;, &quot;key&quot;: &quot;click.visit_account_profile&quot;}, {&quot;experimentIds&quot;: [], &quot;id&quot;: &quot;19540970635&quot;, &quot;key&quot;: &quot;click.switch_account_context&quot;}, {&quot;experimentIds&quot;: [], &quot;id&quot;: &quot;19730198868&quot;, &quot;key&quot;: &quot;submit.homepage_signup&quot;}, {&quot;experimentIds&quot;: [], &quot;id&quot;: &quot;19820830627&quot;, &quot;key&quot;: &quot;click.homepage_signup&quot;}, {&quot;experimentIds&quot;: [], &quot;id&quot;: &quot;19988571001&quot;, &quot;key&quot;: &quot;click.create_enterprise_trial&quot;}, {&quot;experimentIds&quot;: [], &quot;id&quot;: &quot;20036538294&quot;, &quot;key&quot;: &quot;click.create_organization_team&quot;}, {&quot;experimentIds&quot;: [], &quot;id&quot;: &quot;20040653299&quot;, &quot;key&quot;: &quot;click.input_enterprise_trial_form&quot;}, {&quot;experimentIds&quot;: [], &quot;id&quot;: &quot;20062030003&quot;, &quot;key&quot;: &quot;click.continue_with_team&quot;}, {&quot;experimentIds&quot;: [], &quot;id&quot;: &quot;20068947153&quot;, &quot;key&quot;: &quot;click.create_organization_free&quot;}, {&quot;experimentIds&quot;: [], &quot;id&quot;: &quot;20086636658&quot;, &quot;key&quot;: &quot;click.signup_continue.username&quot;}, {&quot;experimentIds&quot;: [], &quot;id&quot;: &quot;20091648988&quot;, &quot;key&quot;: &quot;click.signup_continue.create_account&quot;}, {&quot;experimentIds&quot;: [], &quot;id&quot;: &quot;20103637615&quot;, &quot;key&quot;: &quot;click.signup_continue.email&quot;}, {&quot;experimentIds&quot;: [], &quot;id&quot;: &quot;20111574253&quot;, &quot;key&quot;: &quot;click.signup_continue.password&quot;}, {&quot;experimentIds&quot;: [], &quot;id&quot;: &quot;20120044111&quot;, &quot;key&quot;: &quot;view.pricing_page&quot;}, {&quot;experimentIds&quot;: [], &quot;id&quot;: &quot;20152062109&quot;, &quot;key&quot;: &quot;submit.create_account&quot;}, {&quot;experimentIds&quot;: [], &quot;id&quot;: &quot;20165800992&quot;, &quot;key&quot;: &quot;submit.upgrade_payment_form&quot;}, {&quot;experimentIds&quot;: [], &quot;id&quot;: &quot;20171520319&quot;, &quot;key&quot;: &quot;submit.create_organization&quot;}, {&quot;experimentIds&quot;: [], &quot;id&quot;: &quot;20222645674&quot;, &quot;key&quot;: &quot;click.recommended_plan_in_signup.discuss_your_needs&quot;}, {&quot;experimentIds&quot;: [], &quot;id&quot;: &quot;20227443657&quot;, &quot;key&quot;: &quot;submit.verify_primary_user_email&quot;}, {&quot;experimentIds&quot;: [], &quot;id&quot;: &quot;20234607160&quot;, &quot;key&quot;: &quot;click.recommended_plan_in_signup.try_enterprise&quot;}, {&quot;experimentIds&quot;: [], &quot;id&quot;: &quot;20238175784&quot;, &quot;key&quot;: &quot;click.recommended_plan_in_signup.team&quot;}, {&quot;experimentIds&quot;: [], &quot;id&quot;: &quot;20239847212&quot;, &quot;key&quot;: &quot;click.recommended_plan_in_signup.continue_free&quot;}, {&quot;experimentIds&quot;: [], &quot;id&quot;: &quot;20251097193&quot;, &quot;key&quot;: &quot;recommended_plan&quot;}, {&quot;experimentIds&quot;: [], &quot;id&quot;: &quot;20438619534&quot;, &quot;key&quot;: &quot;click.pricing_calculator.1_member&quot;}, {&quot;experimentIds&quot;: [], &quot;id&quot;: &quot;20456699683&quot;, &quot;key&quot;: &quot;click.pricing_calculator.15_members&quot;}, {&quot;experimentIds&quot;: [], &quot;id&quot;: &quot;20467868331&quot;, &quot;key&quot;: &quot;click.pricing_calculator.10_members&quot;}, {&quot;experimentIds&quot;: [], &quot;id&quot;: &quot;20476267432&quot;, &quot;key&quot;: &quot;click.trial_days_remaining&quot;}, {&quot;experimentIds&quot;: [], &quot;id&quot;: &quot;20476357660&quot;, &quot;key&quot;: &quot;click.discover_feature&quot;}, {&quot;experimentIds&quot;: [], &quot;id&quot;: &quot;20479287901&quot;, &quot;key&quot;: &quot;click.pricing_calculator.custom_members&quot;}, {&quot;experimentIds&quot;: [], &quot;id&quot;: &quot;20481107083&quot;, &quot;key&quot;: &quot;click.recommended_plan_in_signup.apply_teacher_benefits&quot;}, {&quot;experimentIds&quot;: [], &quot;id&quot;: &quot;20483089392&quot;, &quot;key&quot;: &quot;click.pricing_calculator.5_members&quot;}, {&quot;experimentIds&quot;: [], &quot;id&quot;: &quot;20484283944&quot;, &quot;key&quot;: &quot;click.onboarding_task&quot;}, {&quot;experimentIds&quot;: [], &quot;id&quot;: &quot;20484996281&quot;, &quot;key&quot;: &quot;click.recommended_plan_in_signup.apply_student_benefits&quot;}, {&quot;experimentIds&quot;: [], &quot;id&quot;: &quot;20486713726&quot;, &quot;key&quot;: &quot;click.onboarding_task_breadcrumb&quot;}, {&quot;experimentIds&quot;: [], &quot;id&quot;: &quot;20490791319&quot;, &quot;key&quot;: &quot;click.upgrade_to_enterprise&quot;}, {&quot;experimentIds&quot;: [], &quot;id&quot;: &quot;20491786766&quot;, &quot;key&quot;: &quot;click.talk_to_us&quot;}, {&quot;experimentIds&quot;: [], &quot;id&quot;: &quot;20494144087&quot;, &quot;key&quot;: &quot;click.dismiss_enterprise_trial&quot;}, {&quot;experimentIds&quot;: [], &quot;id&quot;: &quot;20499722759&quot;, &quot;key&quot;: &quot;completed_all_tasks&quot;}, {&quot;experimentIds&quot;: [], &quot;id&quot;: &quot;20500710104&quot;, &quot;key&quot;: &quot;completed_onboarding_tasks&quot;}, {&quot;experimentIds&quot;: [], &quot;id&quot;: &quot;20513160672&quot;, &quot;key&quot;: &quot;click.read_doc&quot;}, {&quot;experimentIds&quot;: [], &quot;id&quot;: &quot;20516196762&quot;, &quot;key&quot;: &quot;actions_enabled&quot;}, {&quot;experimentIds&quot;: [], &quot;id&quot;: &quot;20518980986&quot;, &quot;key&quot;: &quot;click.dismiss_trial_banner&quot;}, {&quot;experimentIds&quot;: [], &quot;id&quot;: &quot;20535446721&quot;, &quot;key&quot;: &quot;click.issue_actions_prompt.dismiss_prompt&quot;}, {&quot;experimentIds&quot;: [], &quot;id&quot;: &quot;20557002247&quot;, &quot;key&quot;: &quot;click.issue_actions_prompt.setup_workflow&quot;}, {&quot;experimentIds&quot;: [], &quot;id&quot;: &quot;20595070227&quot;, &quot;key&quot;: &quot;click.pull_request_setup_workflow&quot;}, {&quot;experimentIds&quot;: [], &quot;id&quot;: &quot;20626600314&quot;, &quot;key&quot;: &quot;click.seats_input&quot;}, {&quot;experimentIds&quot;: [], &quot;id&quot;: &quot;20642310305&quot;, &quot;key&quot;: &quot;click.decrease_seats_number&quot;}, {&quot;experimentIds&quot;: [], &quot;id&quot;: &quot;20662990045&quot;, &quot;key&quot;: &quot;click.increase_seats_number&quot;}, {&quot;experimentIds&quot;: [], &quot;id&quot;: &quot;20679620969&quot;, &quot;key&quot;: &quot;click.public_product_roadmap&quot;}, {&quot;experimentIds&quot;: [], &quot;id&quot;: &quot;20761240940&quot;, &quot;key&quot;: &quot;click.dismiss_survey_banner&quot;}, {&quot;experimentIds&quot;: [], &quot;id&quot;: &quot;20767210721&quot;, &quot;key&quot;: &quot;click.take_survey&quot;}, {&quot;experimentIds&quot;: [], &quot;id&quot;: &quot;20795281201&quot;, &quot;key&quot;: &quot;click.archive_list&quot;}, {&quot;experimentIds&quot;: [], &quot;id&quot;: &quot;20966790249&quot;, &quot;key&quot;: &quot;contact_sales.submit&quot;}, {&quot;experimentIds&quot;: [], &quot;id&quot;: &quot;20996500333&quot;, &quot;key&quot;: &quot;contact_sales.existing_customer&quot;}, {&quot;experimentIds&quot;: [], &quot;id&quot;: &quot;20996890162&quot;, &quot;key&quot;: &quot;contact_sales.blank_message_field&quot;}, {&quot;experimentIds&quot;: [], &quot;id&quot;: &quot;21000470317&quot;, &quot;key&quot;: &quot;contact_sales.personal_email&quot;}, {&quot;experimentIds&quot;: [], &quot;id&quot;: &quot;21002790172&quot;, &quot;key&quot;: &quot;contact_sales.blank_phone_field&quot;}, {&quot;experimentIds&quot;: [], &quot;id&quot;: &quot;21354412592&quot;, &quot;key&quot;: &quot;click.dismiss_create_readme&quot;}, {&quot;experimentIds&quot;: [], &quot;id&quot;: &quot;21366102546&quot;, &quot;key&quot;: &quot;click.dismiss_zero_user_content&quot;}, {&quot;experimentIds&quot;: [], &quot;id&quot;: &quot;21370252505&quot;, &quot;key&quot;: &quot;account_did_downgrade&quot;}, {&quot;experimentIds&quot;: [], &quot;id&quot;: &quot;21370840408&quot;, &quot;key&quot;: &quot;click.cta_create_readme&quot;}, {&quot;experimentIds&quot;: [], &quot;id&quot;: &quot;21375451068&quot;, &quot;key&quot;: &quot;click.cta_create_new_repository&quot;}, {&quot;experimentIds&quot;: [], &quot;id&quot;: &quot;21385390948&quot;, &quot;key&quot;: &quot;click.zero_user_content&quot;}, {&quot;experimentIds&quot;: [], &quot;id&quot;: &quot;21467712175&quot;, &quot;key&quot;: &quot;click.downgrade_keep&quot;}, {&quot;experimentIds&quot;: [], &quot;id&quot;: &quot;21484112202&quot;, &quot;key&quot;: &quot;click.downgrade&quot;}, {&quot;experimentIds&quot;: [], &quot;id&quot;: &quot;21495292213&quot;, &quot;key&quot;: &quot;click.downgrade_survey_exit&quot;}, {&quot;experimentIds&quot;: [], &quot;id&quot;: &quot;21508241468&quot;, &quot;key&quot;: &quot;click.downgrade_survey_submit&quot;}, {&quot;experimentIds&quot;: [], &quot;id&quot;: &quot;21512030356&quot;, &quot;key&quot;: &quot;click.downgrade_support&quot;}, {&quot;experimentIds&quot;: [], &quot;id&quot;: &quot;21539090022&quot;, &quot;key&quot;: &quot;click.downgrade_exit&quot;}, {&quot;experimentIds&quot;: [], &quot;id&quot;: &quot;21543640644&quot;, &quot;key&quot;: &quot;click_fetch_upstream&quot;}, {&quot;experimentIds&quot;: [], &quot;id&quot;: &quot;21646510300&quot;, &quot;key&quot;: &quot;click.move_your_work&quot;}, {&quot;experimentIds&quot;: [], &quot;id&quot;: &quot;21656151116&quot;, &quot;key&quot;: &quot;click.add_branch_protection_rule&quot;}, {&quot;experimentIds&quot;: [], &quot;id&quot;: &quot;21663860599&quot;, &quot;key&quot;: &quot;click.downgrade_dialog_open&quot;}, {&quot;experimentIds&quot;: [], &quot;id&quot;: &quot;21687860483&quot;, &quot;key&quot;: &quot;click.learn_about_protected_branches&quot;}, {&quot;experimentIds&quot;: [], &quot;id&quot;: &quot;21689050333&quot;, &quot;key&quot;: &quot;click.dismiss_protect_this_branch&quot;}, {&quot;experimentIds&quot;: [], &quot;id&quot;: &quot;21864370109&quot;, &quot;key&quot;: &quot;click.sign_in&quot;}], &quot;revision&quot;: &quot;1372&quot;}"><title>ml_2023/support_vector_regression.ipynb at main · Adyael/ml_2023</title><meta name="route-pattern" content="/:user_id/:repository/tree/*name(/*path)"><meta name="current-catalog-service-hash" content="343cff545437bc2b0304c97517abf17bb80d9887520078e9757df416551ef5d6"><link rel="assets" href="https://github.githubassets.com/"><meta name="google-site-verification" content="c1kuD-K2HIVF635lypcsWPoD4kilo5-jA_wBFyT4uMY"><meta name="google-site-verification" content="KT5gs8h0wvaagLKAVWq8bbeNwnZZK1r1XQysX3xurLU"><meta name="google-site-verification" content="ZzhVyEFwb7w3e0-uOTltm8Jsck2F5StVihD0exw2fsA"><meta name="google-site-verification" content="GXs5KoUUkNCoaAZn7wPN-t01Pywp9M3sEjnt_3_ZWPc"><meta name="google-site-verification" content="Apib7-x98H0j5cPqHWwSMm6dNU4GmODRoqxLiDzdx9I"><meta name="octolytics-url" content="https://collector.github.com/github/collect"><meta name="octolytics-actor-id" content="130586385"><meta name="octolytics-actor-login" content="MxnuC"><meta name="octolytics-actor-hash" content="b7d1f5a2c8de63c9cdbb30e7dac3ed80dafadaa96a0b16b3fbd1695bab95f9cd"><meta name="user-login" content="MxnuC"><link rel="sudo-modal" href="https://github.com/sessions/sudo_modal"><meta name="enabled-features" content="TURBO_EXPERIMENT_RISKY,IMAGE_METRIC_TRACKING,GEOJSON_AZURE_MAPS,SUDO_MODAL_FOCUS"><meta name="go-import" content="github.com/Adyael/ml_2023 git https://github.com/Adyael/ml_2023.git"><meta name="octolytics-dimension-user_id" content="70920061"><meta name="octolytics-dimension-user_login" content="Adyael"><meta name="octolytics-dimension-repository_id" content="633019129"><meta name="octolytics-dimension-repository_nwo" content="Adyael/ml_2023"><meta name="octolytics-dimension-repository_public" content="true"><meta name="octolytics-dimension-repository_is_fork" content="false"><meta name="octolytics-dimension-repository_network_root_id" content="633019129"><meta name="octolytics-dimension-repository_network_root_nwo" content="Adyael/ml_2023"><meta name="turbo-body-classes" content="logged-in env-production page-responsive"><meta name="browser-stats-url" content="https://api.github.com/_private/browser/stats"><meta name="browser-errors-url" content="https://api.github.com/_private/browser/errors"><meta name="browser-optimizely-client-errors-url" content="https://api.github.com/_private/browser/optimizely_client/errors"><link rel="mask-icon" href="https://github.githubassets.com/pinned-octocat.svg" color="#000000"><link rel="alternate icon" class="js-site-favicon" type="image/png" href="https://github.githubassets.com/favicons/favicon-dark.png"><link rel="icon" class="js-site-favicon" type="image/svg+xml" href="https://github.githubassets.com/favicons/favicon-dark.svg"><meta name="theme-color" content="#1e2327"><meta name="color-scheme" content="light dark"><link rel="manifest" href="https://github.com/manifest.json" crossorigin="use-credentials"><meta name="selected-link" value="repo_source" data-turbo-transient=""><meta name="analytics-location" content="/&lt;user-name&gt;/&lt;repo-name&gt;/blob/show" data-turbo-transient=""><meta name="request-id" content="D0D3:3467:D983F5:1352ABD:648012FB" data-turbo-transient=""><meta name="html-safe-nonce" content="40844c2cf0445245fa717e77a432820869991bb2e4818503312847a3cbdf1bf7" data-turbo-transient=""><meta name="visitor-payload" content="eyJyZWZlcnJlciI6Imh0dHBzOi8vZ2l0aHViLmNvbS9BZHlhZWwvbWxfMjAyMy90cmVlL21haW4iLCJyZXF1ZXN0X2lkIjoiRDBEMzozNDY3OkQ5ODNGNToxMzUyQUJEOjY0ODAxMkZCIiwidmlzaXRvcl9pZCI6IjI1Nzk2MjY3NDQ4NTk0ODA5MDciLCJyZWdpb25fZWRnZSI6ImlhZCIsInJlZ2lvbl9yZW5kZXIiOiJpYWQifQ==" data-turbo-transient=""><meta name="visitor-hmac" content="2566375d1a6618df4af64c262aa1d5a7cd556b7fb65099b7ed6a1638f2cdd504" data-turbo-transient=""><meta name="github-keyboard-shortcuts" content="repository,source-code,file-tree" data-turbo-transient=""><meta name="hovercard-subject-tag" content="repository:633019129" data-turbo-transient=""><meta name="turbo-cache-control" content="no-preview" data-turbo-transient=""><meta name="turbo-cache-control" content="no-cache" data-turbo-transient=""></head>

  <body class="logged-in env-production page-responsive intent-mouse" style="word-wrap: break-word;">
    <div data-turbo-body="" class="logged-in env-production page-responsive" style="word-wrap: break-word;">
      


    <div class="position-relative js-header-wrapper ">
      <a href="https://github.com/Adyael/ml_2023/blob/main/support_vector_regression.ipynb#start-of-content" class="p-3 color-bg-accent-emphasis color-fg-on-emphasis show-on-focus js-skip-to-content">Skip to content</a>
      <span data-view-component="true" class="progress-pjax-loader Progress position-fixed width-full">
    <span style="width: 0%;" data-view-component="true" class="Progress-item progress-pjax-loader-bar left-0 top-0 color-bg-accent-emphasis"></span>
</span>      
      


        <script crossorigin="anonymous" defer="defer" type="application/javascript" src="./support_vector_regression_files/vendors-node_modules_allex_crc32_lib_crc32_esm_js-node_modules_github_mini-throttle_dist_deco-26fa0f-02e7ed68dae1.js.descarga"></script>
<script crossorigin="anonymous" defer="defer" type="application/javascript" src="./support_vector_regression_files/vendors-node_modules_github_clipboard-copy-element_dist_index_esm_js-node_modules_delegated-e-b37f7d-a9177ba414f2.js.descarga"></script>
<script crossorigin="anonymous" defer="defer" type="application/javascript" src="./support_vector_regression_files/app_assets_modules_github_command-palette_items_help-item_ts-app_assets_modules_github_comman-48ad9d-00d3adc66bc7.js.descarga"></script>
<script crossorigin="anonymous" defer="defer" type="application/javascript" src="./support_vector_regression_files/command-palette-18b40480e145.js.descarga"></script>

            <header class="Header js-details-container Details px-3 px-md-4 px-lg-5 flex-wrap flex-md-nowrap" role="banner">

    <div class="Header-item mt-n1 mb-n1  d-none d-md-flex">
      <a class="Header-link" href="https://github.com/" data-hotkey="g d" aria-label="Homepage " data-turbo="false" data-analytics-event="{&quot;category&quot;:&quot;Header&quot;,&quot;action&quot;:&quot;go to dashboard&quot;,&quot;label&quot;:&quot;icon:logo&quot;}">
  <svg height="32" aria-hidden="true" viewBox="0 0 16 16" version="1.1" width="32" data-view-component="true" class="octicon octicon-mark-github v-align-middle">
    <path d="M8 0c4.42 0 8 3.58 8 8a8.013 8.013 0 0 1-5.45 7.59c-.4.08-.55-.17-.55-.38 0-.27.01-1.13.01-2.2 0-.75-.25-1.23-.54-1.48 1.78-.2 3.65-.88 3.65-3.95 0-.88-.31-1.59-.82-2.15.08-.2.36-1.02-.08-2.12 0 0-.67-.22-2.2.82-.64-.18-1.32-.27-2-.27-.68 0-1.36.09-2 .27-1.53-1.03-2.2-.82-2.2-.82-.44 1.1-.16 1.92-.08 2.12-.51.56-.82 1.28-.82 2.15 0 3.06 1.86 3.75 3.64 3.95-.23.2-.44.55-.51 1.07-.46.21-1.61.55-2.33-.66-.15-.24-.6-.83-1.23-.82-.67.01-.27.38.01.53.34.19.73.9.82 1.13.16.45.68 1.31 2.69.94 0 .67.01 1.3.01 1.49 0 .21-.15.45-.55.38A7.995 7.995 0 0 1 0 8c0-4.42 3.58-8 8-8Z"></path>
</svg>
</a>

    </div>

    <div class="Header-item d-md-none">
        <button aria-label="Toggle navigation" aria-expanded="false" type="button" data-view-component="true" class="Header-link js-details-target btn-link">    <svg aria-hidden="true" height="24" viewBox="0 0 16 16" version="1.1" width="24" data-view-component="true" class="octicon octicon-three-bars">
    <path d="M1 2.75A.75.75 0 0 1 1.75 2h12.5a.75.75 0 0 1 0 1.5H1.75A.75.75 0 0 1 1 2.75Zm0 5A.75.75 0 0 1 1.75 7h12.5a.75.75 0 0 1 0 1.5H1.75A.75.75 0 0 1 1 7.75ZM1.75 12h12.5a.75.75 0 0 1 0 1.5H1.75a.75.75 0 0 1 0-1.5Z"></path>
</svg>
</button>    </div>

    <div class="Header-item Header-item--full flex-column flex-md-row width-full flex-order-2 flex-md-order-none mr-0 mt-3 mt-md-0 Details-content--hidden-not-important d-md-flex">
              


<template id="search-icon"></template>

<template id="code-icon"></template>

<template id="file-code-icon"></template>

<template id="history-icon"></template>

<template id="repo-icon"></template>

<template id="bookmark-icon"></template>

<template id="plus-circle-icon"></template>

<template id="circle-icon"></template>

<template id="trash-icon"></template>

<template id="team-icon"></template>

<template id="project-icon"></template>

<template id="pencil-icon"></template>

<qbsearch-input class="search-input" data-scope="repo:Adyael/ml_2023" data-custom-scopes-path="/search/custom_scopes" data-delete-custom-scopes-csrf="2S9grV0csL8B6che3slT23Cj8INQEOiYmEsO9WkSIiFfs55aWufQc1o4g8X7dk3wXHW4AFwk5jDIg3LAP58HOw" data-max-custom-scopes="10" data-header-redesign-enabled="false" data-initial-value="" data-blackbird-suggestions-path="/search/suggestions" data-jump-to-suggestions-path="/_graphql/GetSuggestedNavigationDestinations" data-current-repository="Adyael/ml_2023" data-current-org="" data-current-owner="Adyael" data-catalyst="">
  <div class="search-input-container search-with-dialog position-relative d-flex flex-row flex-items-center mr-4 rounded" data-action="click:qbsearch-input#searchInputContainerClicked">
      <button type="button" class="header-search-button placeholder input-button form-control d-flex flex-1 flex-self-stretch flex-items-center no-wrap width-full py-0 pl-2 pr-0 text-left border-0 box-shadow-none" data-target="qbsearch-input.inputButton" placeholder="Search or jump to..." data-hotkey="s,/" autocapitalize="off" data-action="click:qbsearch-input#handleExpand">
        <div class="mr-2 color-fg-muted">
          <svg aria-hidden="true" height="16" viewBox="0 0 16 16" version="1.1" width="16" data-view-component="true" class="octicon octicon-search">
    <path d="M10.68 11.74a6 6 0 0 1-7.922-8.982 6 6 0 0 1 8.982 7.922l3.04 3.04a.749.749 0 0 1-.326 1.275.749.749 0 0 1-.734-.215ZM11.5 7a4.499 4.499 0 1 0-8.997 0A4.499 4.499 0 0 0 11.5 7Z"></path>
</svg>
        </div>
        <span class="flex-1" data-target="qbsearch-input.inputButtonText">Search or jump to...</span>
          <div class="d-flex" data-target="qbsearch-input.hotkeyIndicator">
            <svg xmlns="http://www.w3.org/2000/svg" width="22" height="20" aria-hidden="true" class="mr-1"><path fill="none" stroke="#979A9C" opacity=".4" d="M3.5.5h12c1.7 0 3 1.3 3 3v13c0 1.7-1.3 3-3 3h-12c-1.7 0-3-1.3-3-3v-13c0-1.7 1.3-3 3-3z"></path><path fill="#979A9C" d="M11.8 6L8 15.1h-.9L10.8 6h1z"></path></svg>

          </div>
      </button>

    <input type="hidden" name="type" class="js-site-search-type-field">

    
<div class="Overlay--hidden " data-modal-dialog-overlay="">
  <modal-dialog data-action="close:qbsearch-input#handleClose cancel:qbsearch-input#handleClose" data-target="qbsearch-input.searchSuggestionsDialog" role="dialog" id="search-suggestions-dialog" aria-modal="true" aria-labelledby="search-suggestions-dialog-header" data-view-component="true" class="Overlay Overlay--width-large Overlay--height-auto">
      <h1 id="search-suggestions-dialog-header" class="sr-only">Search code, repositories, users, issues, pull requests...</h1>
    <div class="Overlay-body Overlay-body--paddingNone">
      
          <div data-view-component="true">        <div class="search-suggestions position-absolute width-full color-shadow-large border color-fg-default color-bg-default overflow-hidden d-flex flex-column query-builder-container" style="border-radius: 12px;" data-target="qbsearch-input.queryBuilderContainer" hidden="">
          <!-- '"` --><!-- </textarea></xmp> --><form id="query-builder-test-form" action="https://github.com/Adyael/ml_2023/blob/main/support_vector_regression.ipynb" accept-charset="UTF-8" method="get">
  <query-builder data-target="qbsearch-input.queryBuilder" id="query-builder-query-builder-test" data-filter-key=":" data-view-component="true" class="QueryBuilder search-query-builder" data-catalyst="">
    <div class="FormControl FormControl--fullWidth">
      <label id="query-builder-test-label" for="query-builder-test" class="FormControl-label sr-only">
        Search
      </label>
      <div class="QueryBuilder-StyledInput width-fit" data-target="query-builder.styledInput">
          <span id="query-builder-test-leadingvisual-wrap" class="FormControl-input-leadingVisualWrap QueryBuilder-leadingVisualWrap">
            <svg aria-hidden="true" height="16" viewBox="0 0 16 16" version="1.1" width="16" data-view-component="true" class="octicon octicon-search FormControl-input-leadingVisual">
    <path d="M10.68 11.74a6 6 0 0 1-7.922-8.982 6 6 0 0 1 8.982 7.922l3.04 3.04a.749.749 0 0 1-.326 1.275.749.749 0 0 1-.734-.215ZM11.5 7a4.499 4.499 0 1 0-8.997 0A4.499 4.499 0 0 0 11.5 7Z"></path>
</svg>
          </span>
        <div data-target="query-builder.styledInputContainer" class="QueryBuilder-StyledInputContainer">
          <div aria-hidden="true" class="QueryBuilder-StyledInputContent" data-target="query-builder.styledInputContent"></div>
          <div class="QueryBuilder-InputWrapper">
            <div aria-hidden="true" class="QueryBuilder-Sizer" data-target="query-builder.sizer"><span></span></div>
            <input id="query-builder-test" name="query-builder-test" value="" autocomplete="off" type="text" role="combobox" spellcheck="false" aria-expanded="false" data-target="query-builder.input" data-action="
          input:query-builder#inputChange
          blur:query-builder#inputBlur
          keydown:query-builder#inputKeydown
          focus:query-builder#inputFocus
        " data-view-component="true" class="FormControl-input QueryBuilder-Input FormControl-medium" aria-controls="query-builder-test-results" aria-autocomplete="list" aria-haspopup="listbox" style="width: 300px;">
          </div>
        </div>
          <span class="sr-only" id="query-builder-test-clear">Clear</span>
          
  <button role="button" id="query-builder-test-clear-button" aria-labelledby="query-builder-test-clear query-builder-test-label" data-target="query-builder.clearButton" data-action="
                click:query-builder#clear
                focus:query-builder#clearButtonFocus
                blur:query-builder#clearButtonBlur
              " variant="small" hidden="" type="button" data-view-component="true" class="Button Button--iconOnly Button--invisible Button--medium mr-1 px-2 py-0 d-flex flex-items-center rounded-1 color-fg-muted">    <svg aria-hidden="true" height="16" viewBox="0 0 16 16" version="1.1" width="16" data-view-component="true" class="octicon octicon-x-circle-fill Button-visual">
    <path d="M2.343 13.657A8 8 0 1 1 13.658 2.343 8 8 0 0 1 2.343 13.657ZM6.03 4.97a.751.751 0 0 0-1.042.018.751.751 0 0 0-.018 1.042L6.94 8 4.97 9.97a.749.749 0 0 0 .326 1.275.749.749 0 0 0 .734-.215L8 9.06l1.97 1.97a.749.749 0 0 0 1.275-.326.749.749 0 0 0-.215-.734L9.06 8l1.97-1.97a.749.749 0 0 0-.326-1.275.749.749 0 0 0-.734.215L8 6.94Z"></path>
</svg>
</button>  

      </div>
      <template id="search-icon"></template>

<template id="code-icon"></template>

<template id="file-code-icon"></template>

<template id="history-icon"></template>

<template id="repo-icon"></template>

<template id="bookmark-icon"></template>

<template id="plus-circle-icon"></template>

<template id="circle-icon"></template>

<template id="trash-icon"></template>

<template id="team-icon"></template>

<template id="project-icon"></template>

<template id="pencil-icon"></template>

        <div class="position-relative">
                <ul role="listbox" class="ActionListWrap QueryBuilder-ListWrap" aria-label="Suggestions" data-action="
                    combobox-commit:query-builder#comboboxCommit
                    mousedown:query-builder#resultsMousedown
                  " data-target="query-builder.resultsList" data-persist-list="false" id="query-builder-test-results"><li role="presentation" class="ActionList-sectionDivider">
        <ul role="presentation">
          <li role="option" class="ActionListItem" data-type="command-result" id="query-builder-test-result-repo:adyael/ml_2023-" data-value="repo:Adyael/ml_2023 " data-command-name="blackbird-monolith.search" data-command-payload="{&quot;query&quot;:&quot;repo:Adyael/ml_2023 &quot;}" aria-label="repo:Adyael/ml_2023 , Search in this repository">
        <span class="ActionListContent ActionListContent--visual16 QueryBuilder-ListItem">
          <span id="query-builder-test-result-repo:adyael/ml_2023---leading" class="ActionListItem-visual ActionListItem-visual--leading">
                <svg aria-hidden="true" height="16" viewBox="0 0 16 16" version="1.1" width="16" data-view-component="true" class="octicon octicon-search">
    <path d="M10.68 11.74a6 6 0 0 1-7.922-8.982 6 6 0 0 1 8.982 7.922l3.04 3.04a.749.749 0 0 1-.326 1.275.749.749 0 0 1-.734-.215ZM11.5 7a4.499 4.499 0 1 0-8.997 0A4.499 4.499 0 0 0 11.5 7Z"></path>
</svg>
              </span>
          <span class="ActionListItem-descriptionWrap">
            <span class="ActionListItem-label text-normal"> <span class="">repo:</span><span class="qb-filter-value">Adyael/ml_2023</span><span class=""> </span> </span>
            
          </span>

          <span aria-hidden="true" class="ActionListItem-description QueryBuilder-ListItem-trailing">Search in this repository</span>
        </span>
      </li><li role="option" class="ActionListItem" data-type="command-result" id="query-builder-test-result-user:adyael-" data-value="user:Adyael " data-command-name="blackbird-monolith.search" data-command-payload="{&quot;query&quot;:&quot;user:Adyael &quot;}" aria-label="user:Adyael , Search in this owner">
        <span class="ActionListContent ActionListContent--visual16 QueryBuilder-ListItem">
          <span id="query-builder-test-result-user:adyael---leading" class="ActionListItem-visual ActionListItem-visual--leading">
                <svg aria-hidden="true" height="16" viewBox="0 0 16 16" version="1.1" width="16" data-view-component="true" class="octicon octicon-search">
    <path d="M10.68 11.74a6 6 0 0 1-7.922-8.982 6 6 0 0 1 8.982 7.922l3.04 3.04a.749.749 0 0 1-.326 1.275.749.749 0 0 1-.734-.215ZM11.5 7a4.499 4.499 0 1 0-8.997 0A4.499 4.499 0 0 0 11.5 7Z"></path>
</svg>
              </span>
          <span class="ActionListItem-descriptionWrap">
            <span class="ActionListItem-label text-normal"> <span class="">user:</span><span class="qb-filter-value">Adyael</span><span class=""> </span> </span>
            
          </span>

          <span aria-hidden="true" class="ActionListItem-description QueryBuilder-ListItem-trailing">Search in this owner</span>
        </span>
      </li>
        </ul>
      </li>
                <li aria-hidden="true" class="ActionList-sectionDivider"></li><li role="presentation" class="ActionList-sectionDivider">
        <h3 role="presentation" class="ActionList-sectionDivider-title QueryBuilder-sectionTitle p-2 text-left" aria-hidden="true">
          Owners
        </h3>
        <ul role="presentation">
          <li role="option" class="ActionListItem" data-type="url-result" id="query-builder-test-result-microsoft" data-value="microsoft" aria-label="microsoft, jump to this owner">
        <a href="https://github.com/microsoft" data-action="click:query-builder#navigate" tabindex="-1" class="QueryBuilder-ListItem-link ActionListContent ActionListContent--visual16 QueryBuilder-ListItem">
          <span id="query-builder-test-result-microsoft--leading" class="ActionListItem-visual ActionListItem-visual--leading">
                <svg aria-hidden="true" height="16" viewBox="0 0 16 16" version="1.1" width="16" data-view-component="true" class="octicon octicon-repo">
    <path d="M2 2.5A2.5 2.5 0 0 1 4.5 0h8.75a.75.75 0 0 1 .75.75v12.5a.75.75 0 0 1-.75.75h-2.5a.75.75 0 0 1 0-1.5h1.75v-2h-8a1 1 0 0 0-.714 1.7.75.75 0 1 1-1.072 1.05A2.495 2.495 0 0 1 2 11.5Zm10.5-1h-8a1 1 0 0 0-1 1v6.708A2.486 2.486 0 0 1 4.5 9h8ZM5 12.25a.25.25 0 0 1 .25-.25h3.5a.25.25 0 0 1 .25.25v3.25a.25.25 0 0 1-.4.2l-1.45-1.087a.249.249 0 0 0-.3 0L5.4 15.7a.25.25 0 0 1-.4-.2Z"></path>
</svg>
              </span>
          <span class="ActionListItem-descriptionWrap">
            <span class="ActionListItem-label text-normal"> <span class="">microsoft</span> </span>
            
          </span>

          <span aria-hidden="true" class="ActionListItem-description QueryBuilder-ListItem-trailing">Jump to</span>
        </a>
      </li><li role="option" class="ActionListItem" data-type="url-result" id="query-builder-test-result-mxnuc" data-value="MxnuC" aria-label="MxnuC, jump to this owner">
        <a href="https://github.com/MxnuC" data-action="click:query-builder#navigate" tabindex="-1" class="QueryBuilder-ListItem-link ActionListContent ActionListContent--visual16 QueryBuilder-ListItem">
          <span id="query-builder-test-result-mxnuc--leading" class="ActionListItem-visual ActionListItem-visual--leading">
                <svg aria-hidden="true" height="16" viewBox="0 0 16 16" version="1.1" width="16" data-view-component="true" class="octicon octicon-repo">
    <path d="M2 2.5A2.5 2.5 0 0 1 4.5 0h8.75a.75.75 0 0 1 .75.75v12.5a.75.75 0 0 1-.75.75h-2.5a.75.75 0 0 1 0-1.5h1.75v-2h-8a1 1 0 0 0-.714 1.7.75.75 0 1 1-1.072 1.05A2.495 2.495 0 0 1 2 11.5Zm10.5-1h-8a1 1 0 0 0-1 1v6.708A2.486 2.486 0 0 1 4.5 9h8ZM5 12.25a.25.25 0 0 1 .25-.25h3.5a.25.25 0 0 1 .25.25v3.25a.25.25 0 0 1-.4.2l-1.45-1.087a.249.249 0 0 0-.3 0L5.4 15.7a.25.25 0 0 1-.4-.2Z"></path>
</svg>
              </span>
          <span class="ActionListItem-descriptionWrap">
            <span class="ActionListItem-label text-normal"> <span class="">MxnuC</span> </span>
            
          </span>

          <span aria-hidden="true" class="ActionListItem-description QueryBuilder-ListItem-trailing">Jump to</span>
        </a>
      </li><li role="option" class="ActionListItem" data-type="url-result" id="query-builder-test-result-federhuaman" data-value="FederHuaman" aria-label="FederHuaman, jump to this owner">
        <a href="https://github.com/FederHuaman" data-action="click:query-builder#navigate" tabindex="-1" class="QueryBuilder-ListItem-link ActionListContent ActionListContent--visual16 QueryBuilder-ListItem">
          <span id="query-builder-test-result-federhuaman--leading" class="ActionListItem-visual ActionListItem-visual--leading">
                <svg aria-hidden="true" height="16" viewBox="0 0 16 16" version="1.1" width="16" data-view-component="true" class="octicon octicon-repo">
    <path d="M2 2.5A2.5 2.5 0 0 1 4.5 0h8.75a.75.75 0 0 1 .75.75v12.5a.75.75 0 0 1-.75.75h-2.5a.75.75 0 0 1 0-1.5h1.75v-2h-8a1 1 0 0 0-.714 1.7.75.75 0 1 1-1.072 1.05A2.495 2.495 0 0 1 2 11.5Zm10.5-1h-8a1 1 0 0 0-1 1v6.708A2.486 2.486 0 0 1 4.5 9h8ZM5 12.25a.25.25 0 0 1 .25-.25h3.5a.25.25 0 0 1 .25.25v3.25a.25.25 0 0 1-.4.2l-1.45-1.087a.249.249 0 0 0-.3 0L5.4 15.7a.25.25 0 0 1-.4-.2Z"></path>
</svg>
              </span>
          <span class="ActionListItem-descriptionWrap">
            <span class="ActionListItem-label text-normal"> <span class="">FederHuaman</span> </span>
            
          </span>

          <span aria-hidden="true" class="ActionListItem-description QueryBuilder-ListItem-trailing">Jump to</span>
        </a>
      </li><li role="option" class="ActionListItem" data-type="url-result" id="query-builder-test-result-adyael" data-value="Adyael" aria-label="Adyael, jump to this owner">
        <a href="https://github.com/Adyael" data-action="click:query-builder#navigate" tabindex="-1" class="QueryBuilder-ListItem-link ActionListContent ActionListContent--visual16 QueryBuilder-ListItem">
          <span id="query-builder-test-result-adyael--leading" class="ActionListItem-visual ActionListItem-visual--leading">
                <svg aria-hidden="true" height="16" viewBox="0 0 16 16" version="1.1" width="16" data-view-component="true" class="octicon octicon-repo">
    <path d="M2 2.5A2.5 2.5 0 0 1 4.5 0h8.75a.75.75 0 0 1 .75.75v12.5a.75.75 0 0 1-.75.75h-2.5a.75.75 0 0 1 0-1.5h1.75v-2h-8a1 1 0 0 0-.714 1.7.75.75 0 1 1-1.072 1.05A2.495 2.495 0 0 1 2 11.5Zm10.5-1h-8a1 1 0 0 0-1 1v6.708A2.486 2.486 0 0 1 4.5 9h8ZM5 12.25a.25.25 0 0 1 .25-.25h3.5a.25.25 0 0 1 .25.25v3.25a.25.25 0 0 1-.4.2l-1.45-1.087a.249.249 0 0 0-.3 0L5.4 15.7a.25.25 0 0 1-.4-.2Z"></path>
</svg>
              </span>
          <span class="ActionListItem-descriptionWrap">
            <span class="ActionListItem-label text-normal"> <span class="">Adyael</span> </span>
            
          </span>

          <span aria-hidden="true" class="ActionListItem-description QueryBuilder-ListItem-trailing">Jump to</span>
        </a>
      </li>
        </ul>
      </li>
                <li aria-hidden="true" class="ActionList-sectionDivider"></li><li role="presentation" class="ActionList-sectionDivider">
        <h3 role="presentation" class="ActionList-sectionDivider-title QueryBuilder-sectionTitle p-2 text-left" aria-hidden="true">
          Repositories
        </h3>
        <ul role="presentation">
          <li role="option" class="ActionListItem" data-type="url-result" id="query-builder-test-result-microsoft/pyright" data-value="microsoft/pyright" aria-label="microsoft/pyright, jump to this repository">
        <a href="https://github.com/microsoft/pyright" data-action="click:query-builder#navigate" tabindex="-1" class="QueryBuilder-ListItem-link ActionListContent ActionListContent--visual16 QueryBuilder-ListItem">
          <span id="query-builder-test-result-microsoft/pyright--leading" class="ActionListItem-visual ActionListItem-visual--leading">
                <svg aria-hidden="true" height="16" viewBox="0 0 16 16" version="1.1" width="16" data-view-component="true" class="octicon octicon-repo">
    <path d="M2 2.5A2.5 2.5 0 0 1 4.5 0h8.75a.75.75 0 0 1 .75.75v12.5a.75.75 0 0 1-.75.75h-2.5a.75.75 0 0 1 0-1.5h1.75v-2h-8a1 1 0 0 0-.714 1.7.75.75 0 1 1-1.072 1.05A2.495 2.495 0 0 1 2 11.5Zm10.5-1h-8a1 1 0 0 0-1 1v6.708A2.486 2.486 0 0 1 4.5 9h8ZM5 12.25a.25.25 0 0 1 .25-.25h3.5a.25.25 0 0 1 .25.25v3.25a.25.25 0 0 1-.4.2l-1.45-1.087a.249.249 0 0 0-.3 0L5.4 15.7a.25.25 0 0 1-.4-.2Z"></path>
</svg>
              </span>
          <span class="ActionListItem-descriptionWrap">
            <span class="ActionListItem-label text-normal"> <span class="">microsoft/pyright</span> </span>
            
          </span>

          <span aria-hidden="true" class="ActionListItem-description QueryBuilder-ListItem-trailing">Jump to</span>
        </a>
      </li><li role="option" class="ActionListItem" data-type="url-result" id="query-builder-test-result-mxnuc/lp3thw" data-value="MxnuC/LP3THW" aria-label="MxnuC/LP3THW, jump to this repository">
        <a href="https://github.com/MxnuC/LP3THW" data-action="click:query-builder#navigate" tabindex="-1" class="QueryBuilder-ListItem-link ActionListContent ActionListContent--visual16 QueryBuilder-ListItem">
          <span id="query-builder-test-result-mxnuc/lp3thw--leading" class="ActionListItem-visual ActionListItem-visual--leading">
                <svg aria-hidden="true" height="16" viewBox="0 0 16 16" version="1.1" width="16" data-view-component="true" class="octicon octicon-repo">
    <path d="M2 2.5A2.5 2.5 0 0 1 4.5 0h8.75a.75.75 0 0 1 .75.75v12.5a.75.75 0 0 1-.75.75h-2.5a.75.75 0 0 1 0-1.5h1.75v-2h-8a1 1 0 0 0-.714 1.7.75.75 0 1 1-1.072 1.05A2.495 2.495 0 0 1 2 11.5Zm10.5-1h-8a1 1 0 0 0-1 1v6.708A2.486 2.486 0 0 1 4.5 9h8ZM5 12.25a.25.25 0 0 1 .25-.25h3.5a.25.25 0 0 1 .25.25v3.25a.25.25 0 0 1-.4.2l-1.45-1.087a.249.249 0 0 0-.3 0L5.4 15.7a.25.25 0 0 1-.4-.2Z"></path>
</svg>
              </span>
          <span class="ActionListItem-descriptionWrap">
            <span class="ActionListItem-label text-normal"> <span class="">MxnuC/LP3THW</span> </span>
            
          </span>

          <span aria-hidden="true" class="ActionListItem-description QueryBuilder-ListItem-trailing">Jump to</span>
        </a>
      </li><li role="option" class="ActionListItem" data-type="url-result" id="query-builder-test-result-federhuaman/qrgenerator" data-value="FederHuaman/QRGenerator" aria-label="FederHuaman/QRGenerator, jump to this repository">
        <a href="https://github.com/FederHuaman/QRGenerator" data-action="click:query-builder#navigate" tabindex="-1" class="QueryBuilder-ListItem-link ActionListContent ActionListContent--visual16 QueryBuilder-ListItem">
          <span id="query-builder-test-result-federhuaman/qrgenerator--leading" class="ActionListItem-visual ActionListItem-visual--leading">
                <svg aria-hidden="true" height="16" viewBox="0 0 16 16" version="1.1" width="16" data-view-component="true" class="octicon octicon-repo">
    <path d="M2 2.5A2.5 2.5 0 0 1 4.5 0h8.75a.75.75 0 0 1 .75.75v12.5a.75.75 0 0 1-.75.75h-2.5a.75.75 0 0 1 0-1.5h1.75v-2h-8a1 1 0 0 0-.714 1.7.75.75 0 1 1-1.072 1.05A2.495 2.495 0 0 1 2 11.5Zm10.5-1h-8a1 1 0 0 0-1 1v6.708A2.486 2.486 0 0 1 4.5 9h8ZM5 12.25a.25.25 0 0 1 .25-.25h3.5a.25.25 0 0 1 .25.25v3.25a.25.25 0 0 1-.4.2l-1.45-1.087a.249.249 0 0 0-.3 0L5.4 15.7a.25.25 0 0 1-.4-.2Z"></path>
</svg>
              </span>
          <span class="ActionListItem-descriptionWrap">
            <span class="ActionListItem-label text-normal"> <span class="">FederHuaman/QRGenerator</span> </span>
            
          </span>

          <span aria-hidden="true" class="ActionListItem-description QueryBuilder-ListItem-trailing">Jump to</span>
        </a>
      </li><li role="option" class="ActionListItem" data-type="url-result" id="query-builder-test-result-mxnuc/ml_2023" data-value="MxnuC/ml_2023" aria-label="MxnuC/ml_2023, jump to this repository">
        <a href="https://github.com/MxnuC/ml_2023" data-action="click:query-builder#navigate" tabindex="-1" class="QueryBuilder-ListItem-link ActionListContent ActionListContent--visual16 QueryBuilder-ListItem">
          <span id="query-builder-test-result-mxnuc/ml_2023--leading" class="ActionListItem-visual ActionListItem-visual--leading">
                <svg aria-hidden="true" height="16" viewBox="0 0 16 16" version="1.1" width="16" data-view-component="true" class="octicon octicon-repo">
    <path d="M2 2.5A2.5 2.5 0 0 1 4.5 0h8.75a.75.75 0 0 1 .75.75v12.5a.75.75 0 0 1-.75.75h-2.5a.75.75 0 0 1 0-1.5h1.75v-2h-8a1 1 0 0 0-.714 1.7.75.75 0 1 1-1.072 1.05A2.495 2.495 0 0 1 2 11.5Zm10.5-1h-8a1 1 0 0 0-1 1v6.708A2.486 2.486 0 0 1 4.5 9h8ZM5 12.25a.25.25 0 0 1 .25-.25h3.5a.25.25 0 0 1 .25.25v3.25a.25.25 0 0 1-.4.2l-1.45-1.087a.249.249 0 0 0-.3 0L5.4 15.7a.25.25 0 0 1-.4-.2Z"></path>
</svg>
              </span>
          <span class="ActionListItem-descriptionWrap">
            <span class="ActionListItem-label text-normal"> <span class="">MxnuC/ml_2023</span> </span>
            
          </span>

          <span aria-hidden="true" class="ActionListItem-description QueryBuilder-ListItem-trailing">Jump to</span>
        </a>
      </li><li role="option" class="ActionListItem" data-type="url-result" id="query-builder-test-result-adyael/ml_2023" data-value="Adyael/ml_2023" aria-label="Adyael/ml_2023, jump to this repository">
        <a href="https://github.com/Adyael/ml_2023" data-action="click:query-builder#navigate" tabindex="-1" class="QueryBuilder-ListItem-link ActionListContent ActionListContent--visual16 QueryBuilder-ListItem">
          <span id="query-builder-test-result-adyael/ml_2023--leading" class="ActionListItem-visual ActionListItem-visual--leading">
                <svg aria-hidden="true" height="16" viewBox="0 0 16 16" version="1.1" width="16" data-view-component="true" class="octicon octicon-repo">
    <path d="M2 2.5A2.5 2.5 0 0 1 4.5 0h8.75a.75.75 0 0 1 .75.75v12.5a.75.75 0 0 1-.75.75h-2.5a.75.75 0 0 1 0-1.5h1.75v-2h-8a1 1 0 0 0-.714 1.7.75.75 0 1 1-1.072 1.05A2.495 2.495 0 0 1 2 11.5Zm10.5-1h-8a1 1 0 0 0-1 1v6.708A2.486 2.486 0 0 1 4.5 9h8ZM5 12.25a.25.25 0 0 1 .25-.25h3.5a.25.25 0 0 1 .25.25v3.25a.25.25 0 0 1-.4.2l-1.45-1.087a.249.249 0 0 0-.3 0L5.4 15.7a.25.25 0 0 1-.4-.2Z"></path>
</svg>
              </span>
          <span class="ActionListItem-descriptionWrap">
            <span class="ActionListItem-label text-normal"> <span class="">Adyael/ml_2023</span> </span>
            
          </span>

          <span aria-hidden="true" class="ActionListItem-description QueryBuilder-ListItem-trailing">Jump to</span>
        </a>
      </li>
        </ul>
      </li></ul>
        </div>
    </div>
    <div data-target="query-builder.screenReaderFeedback" aria-live="polite" aria-atomic="true" class="sr-only">11 suggestions.</div>
</query-builder></form>
          <div class="d-flex flex-row color-fg-muted px-3 text-small color-bg-default search-feedback-prompt">
            <a target="_blank" href="https://docs.github.com/en/search-github/github-code-search/understanding-github-code-search-syntax" data-view-component="true" class="color-fg-accent text-normal ml-2">
              Search syntax tips
</a>            <div class="d-flex flex-1"></div>
              <button data-action="click:qbsearch-input#showFeedbackDialog" type="button" data-view-component="true" class="Button--link Button--medium Button color-fg-accent text-normal ml-2">    <span class="Button-content">
      <span class="Button-label">Give feedback</span>
    </span>
</button>  
          </div>
        </div>
</div>

    </div>
</modal-dialog></div>
  </div>
  <div data-action="click:qbsearch-input#retract" class="dark-backdrop position-fixed width-full" hidden="" data-target="qbsearch-input.darkBackdrop"></div>
  <div class="color-fg-default">
    
<div class="Overlay--hidden Overlay-backdrop--center" data-modal-dialog-overlay="">
  <modal-dialog data-target="qbsearch-input.feedbackDialog" data-action="close:qbsearch-input#handleDialogClose cancel:qbsearch-input#handleDialogClose" role="dialog" id="feedback-dialog" aria-modal="true" aria-disabled="true" aria-describedby="feedback-dialog-title feedback-dialog-description" data-view-component="true" class="Overlay Overlay-whenNarrow Overlay--size-medium Overlay--motion-scaleFade">
    <div data-view-component="true" class="Overlay-header">
  <div class="Overlay-headerContentWrap">
    <div class="Overlay-titleWrap">
      <h1 class="Overlay-title " id="feedback-dialog-title">
        Provide feedback
      </h1>
    </div>
    <div class="Overlay-actionWrap">
      <button data-close-dialog-id="feedback-dialog" aria-label="Close" type="button" data-view-component="true" class="close-button Overlay-closeButton"><svg aria-hidden="true" height="16" viewBox="0 0 16 16" version="1.1" width="16" data-view-component="true" class="octicon octicon-x">
    <path d="M3.72 3.72a.75.75 0 0 1 1.06 0L8 6.94l3.22-3.22a.749.749 0 0 1 1.275.326.749.749 0 0 1-.215.734L9.06 8l3.22 3.22a.749.749 0 0 1-.326 1.275.749.749 0 0 1-.734-.215L8 9.06l-3.22 3.22a.751.751 0 0 1-1.042-.018.751.751 0 0 1-.018-1.042L6.94 8 3.72 4.78a.75.75 0 0 1 0-1.06Z"></path>
</svg></button>
    </div>
  </div>
</div>
      <div data-view-component="true" class="Overlay-body">        <!-- '"` --><!-- </textarea></xmp> --><form id="code-search-feedback-form" data-turbo="false" action="https://github.com/search/feedback" accept-charset="UTF-8" method="post"><input type="hidden" name="authenticity_token" value="sxoOiC0gRp3U2e7bge7A8EC44_2htiC0Mz31ajdOwZdPQUJb_GEKxZt5pAvz24Q5PvekPFZW626jc1Al9TwByA">
          <p>We read every piece of feedback, and take your input very seriously.</p>
          <textarea name="feedback" class="form-control width-full mb-2" style="height: 120px" id="feedback"></textarea>
          <input name="include_email" id="include_email" aria-label="Include my email address so I can be contacted" class="form-control mr-2" type="checkbox">
          <label for="include_email" style="font-weight: normal">Include my email address so I can be contacted</label>
</form></div>
      <div data-view-component="true" class="Overlay-footer Overlay-footer--alignEnd">          <button data-close-dialog-id="feedback-dialog" type="button" data-view-component="true" class="btn">    Cancel
</button>
          <button form="code-search-feedback-form" data-action="click:qbsearch-input#submitFeedback" type="submit" data-view-component="true" class="btn-primary btn">    Submit feedback
</button>
</div>
</modal-dialog></div>

    <custom-scopes data-target="qbsearch-input.customScopesManager" data-catalyst="">
    
<div class="Overlay--hidden Overlay-backdrop--center" data-modal-dialog-overlay="">
  <modal-dialog data-target="custom-scopes.customScopesModalDialog" data-action="close:qbsearch-input#handleDialogClose cancel:qbsearch-input#handleDialogClose" role="dialog" id="custom-scopes-dialog" aria-modal="true" aria-disabled="true" aria-describedby="custom-scopes-dialog-title custom-scopes-dialog-description" data-view-component="true" class="Overlay Overlay-whenNarrow Overlay--size-medium Overlay--motion-scaleFade">
    <div data-view-component="true" class="Overlay-header Overlay-header--divided">
  <div class="Overlay-headerContentWrap">
    <div class="Overlay-titleWrap">
      <h1 class="Overlay-title " id="custom-scopes-dialog-title">
        Saved searches
      </h1>
        <h2 id="custom-scopes-dialog-description" class="Overlay-description">Use saved searches to filter your results more quickly</h2>
    </div>
    <div class="Overlay-actionWrap">
      <button data-close-dialog-id="custom-scopes-dialog" aria-label="Close" type="button" data-view-component="true" class="close-button Overlay-closeButton"><svg aria-hidden="true" height="16" viewBox="0 0 16 16" version="1.1" width="16" data-view-component="true" class="octicon octicon-x">
    <path d="M3.72 3.72a.75.75 0 0 1 1.06 0L8 6.94l3.22-3.22a.749.749 0 0 1 1.275.326.749.749 0 0 1-.215.734L9.06 8l3.22 3.22a.749.749 0 0 1-.326 1.275.749.749 0 0 1-.734-.215L8 9.06l-3.22 3.22a.751.751 0 0 1-1.042-.018.751.751 0 0 1-.018-1.042L6.94 8 3.72 4.78a.75.75 0 0 1 0-1.06Z"></path>
</svg></button>
    </div>
  </div>
</div>
      <div data-view-component="true" class="Overlay-body">        <div data-target="custom-scopes.customScopesModalDialogFlash"></div>

        <div hidden="" class="create-custom-scope-form" data-target="custom-scopes.createCustomScopeForm">
        <!-- '"` --><!-- </textarea></xmp> --><form id="custom-scopes-dialog-form" data-turbo="false" action="https://github.com/search/custom_scopes" accept-charset="UTF-8" method="post"><input type="hidden" name="authenticity_token" value="rUzo5be6KtzzjoVZCjHPjdWfF2dFSRo1Fq463c6DTiye_Oy51eZEfKJfBb6EnHMLdHotBqgTCqhW0yDnElRN2g">
          <div data-target="custom-scopes.customScopesModalDialogFlash"></div>

          <input type="hidden" id="custom_scope_id" name="custom_scope_id" data-target="custom-scopes.customScopesIdField">

          <div class="form-group">
            <label for="custom_scope_name">Name</label>
            <auto-check src="/search/custom_scopes/check_name" required="">
              <input type="text" name="custom_scope_name" id="custom_scope_name" data-target="custom-scopes.customScopesNameField" class="form-control" autocomplete="off" placeholder="github-ruby" required="" maxlength="50" spellcheck="false">
              <input type="hidden" value="ekuyyi4WYj6_WZFfI1Y7uPWLswwJJYxEmEhdrS2kV1PUXxEMSDiaCGNnqSNrEtPi8rMctDYxHb2SjXxcUPLxhw" data-csrf="true">
            </auto-check>
          </div>

          <div class="form-group">
            <label for="custom_scope_query">Query</label>
            <input type="text" name="custom_scope_query" id="custom_scope_query" data-target="custom-scopes.customScopesQueryField" class="form-control" autocomplete="off" placeholder="(repo:mona/a OR repo:mona/b) AND lang:python" required="" maxlength="500">
          </div>

          <p class="text-small color-fg-muted">
            To see all available qualifiers, see our <a href="https://docs.github.com/en/search-github/github-code-search/understanding-github-code-search-syntax">documentation</a>.
          </p>
</form>        </div>

        <div data-target="custom-scopes.manageCustomScopesForm">
          <div data-target="custom-scopes.list"></div>
        </div>

</div>
      <div data-view-component="true" class="Overlay-footer Overlay-footer--alignEnd Overlay-footer--divided">          <button data-action="click:custom-scopes#customScopesCancel" type="button" data-view-component="true" class="btn">    Cancel
</button>
          <button form="custom-scopes-dialog-form" data-action="click:custom-scopes#customScopesSubmit" data-target="custom-scopes.customScopesSubmitButton" type="submit" data-view-component="true" class="btn-primary btn">    Create saved search
</button>
</div>
</modal-dialog></div>
    </custom-scopes>
  </div>
</qbsearch-input><input type="hidden" value="--Is8D7jJYBjVAXi7pNH6YYrsHryugryOJnDLSxk3cRxaHZys_NvfZrqSSEixYyoZMz0qcIO8skm1gM13qipmg" data-csrf="true" class="js-data-jump-to-suggestions-path-csrf">

        <nav id="global-nav" class="d-flex flex-column flex-md-row flex-self-stretch flex-md-self-auto" aria-label="Global">
    <a class="Header-link py-md-3 d-block d-md-none py-2 border-top border-md-top-0 border-white-fade" data-ga-click="Header, click, Nav menu - item:dashboard:user" aria-label="Dashboard" data-turbo="false" href="https://github.com/dashboard">Dashboard</a>

  <a class="js-selected-navigation-item Header-link mt-md-n3 mb-md-n3 py-2 py-md-3 mr-0 mr-md-3 border-top border-md-top-0 border-white-fade" data-hotkey="g p" data-ga-click="Header, click, Nav menu - item:pulls context:user" aria-label="Pull requests you created" data-turbo="false" data-selected-links="/pulls /pulls/assigned /pulls/mentioned /pulls" href="https://github.com/pulls">
      Pull<span class="d-inline d-md-none d-lg-inline"> request</span>s
</a>
  <a class="js-selected-navigation-item Header-link mt-md-n3 mb-md-n3 py-2 py-md-3 mr-0 mr-md-3 border-top border-md-top-0 border-white-fade" data-hotkey="g i" data-ga-click="Header, click, Nav menu - item:issues context:user" aria-label="Issues you created" data-turbo="false" data-selected-links="/issues /issues/assigned /issues/mentioned /issues" href="https://github.com/issues">Issues</a>

      <a class="js-selected-navigation-item Header-link mt-md-n3 mb-md-n3 py-2 py-md-3 mr-0 mr-md-3 border-top border-md-top-0 border-white-fade" data-ga-click="Header, click, Nav menu - item:workspaces context:user" data-turbo="false" data-selected-links="/codespaces /codespaces" href="https://github.com/codespaces">Codespaces</a>

    <div class="d-flex position-relative">
      <a class="js-selected-navigation-item Header-link flex-auto mt-md-n3 mb-md-n3 py-2 py-md-3 mr-0 mr-md-3 border-top border-md-top-0 border-white-fade" data-ga-click="Header, click, Nav menu - item:marketplace context:user" data-octo-click="marketplace_click" data-octo-dimensions="location:nav_bar" data-turbo="false" data-selected-links=" /marketplace" href="https://github.com/marketplace">Marketplace</a>
    </div>

  <a class="js-selected-navigation-item Header-link mt-md-n3 mb-md-n3 py-2 py-md-3 mr-0 mr-md-3 border-top border-md-top-0 border-white-fade" data-ga-click="Header, click, Nav menu - item:explore" data-turbo="false" data-selected-links="/explore /trending /trending/developers /integrations /integrations/feature/code /integrations/feature/collaborate /integrations/feature/ship showcases showcases_search showcases_landing /explore" href="https://github.com/explore">Explore</a>

      <a class="js-selected-navigation-item Header-link d-block d-md-none py-2 py-md-3 border-top border-md-top-0 border-white-fade" data-ga-click="Header, click, Nav menu - item:Sponsors" data-hydro-click="{&quot;event_type&quot;:&quot;sponsors.button_click&quot;,&quot;payload&quot;:{&quot;button&quot;:&quot;HEADER_SPONSORS_DASHBOARD&quot;,&quot;sponsorable_login&quot;:&quot;MxnuC&quot;,&quot;originating_url&quot;:&quot;https://github.com/Adyael/ml_2023/tree/main&quot;,&quot;user_id&quot;:130586385}}" data-hydro-click-hmac="abb0daf95f2b7b80ba3ab90515f1f7639e7ae2cac0e06206339489e998ce0d05" data-turbo="false" data-selected-links=" /sponsors/accounts" href="https://github.com/sponsors/accounts">Sponsors</a>

    <a class="Header-link d-block d-md-none mr-0 mr-md-3 py-2 py-md-3 border-top border-md-top-0 border-white-fade" data-turbo="false" href="https://github.com/settings/profile">Settings</a>

    <a class="Header-link d-block d-md-none mr-0 mr-md-3 py-2 py-md-3 border-top border-md-top-0 border-white-fade" data-turbo="false" href="https://github.com/MxnuC">
      <img class="avatar avatar-user" loading="lazy" decoding="async" src="./support_vector_regression_files/130586385" width="20" height="20" alt="@MxnuC">
      MxnuC
</a>
    <!-- '"` --><!-- </textarea></xmp> --><form data-turbo="false" action="https://github.com/logout" accept-charset="UTF-8" method="post"><input type="hidden" name="authenticity_token" value="fDq8toqIe-AoWsk329PTMnOZZ1CcQL2ddbnlIK-bpxQGTB2SOpD1UmbMtEzg4H9BS7wkecDuKkWIvqibbylljQ">
      <button type="submit" class="Header-link mr-0 mr-md-3 py-2 py-md-3 border-top border-md-top-0 border-white-fade d-md-none btn-link d-block width-full text-left" style="padding-left: 2px;" data-analytics-event="{&quot;category&quot;:&quot;Header&quot;,&quot;action&quot;:&quot;sign out&quot;,&quot;label&quot;:&quot;icon:logout&quot;}">
        <svg aria-hidden="true" height="16" viewBox="0 0 16 16" version="1.1" width="16" data-view-component="true" class="octicon octicon-sign-out v-align-middle">
    <path d="M2 2.75C2 1.784 2.784 1 3.75 1h2.5a.75.75 0 0 1 0 1.5h-2.5a.25.25 0 0 0-.25.25v10.5c0 .138.112.25.25.25h2.5a.75.75 0 0 1 0 1.5h-2.5A1.75 1.75 0 0 1 2 13.25Zm10.44 4.5-1.97-1.97a.749.749 0 0 1 .326-1.275.749.749 0 0 1 .734.215l3.25 3.25a.75.75 0 0 1 0 1.06l-3.25 3.25a.749.749 0 0 1-1.275-.326.749.749 0 0 1 .215-.734l1.97-1.97H6.75a.75.75 0 0 1 0-1.5Z"></path>
</svg>
        Sign out
      </button>
</form></nav>

    </div>

    <div class="Header-item Header-item--full flex-justify-center d-md-none position-relative">
        <a class="Header-link" href="https://github.com/" data-hotkey="g d" aria-label="Homepage " data-turbo="false" data-analytics-event="{&quot;category&quot;:&quot;Header&quot;,&quot;action&quot;:&quot;go to dashboard&quot;,&quot;label&quot;:&quot;icon:logo&quot;}">
  <svg height="32" aria-hidden="true" viewBox="0 0 16 16" version="1.1" width="32" data-view-component="true" class="octicon octicon-mark-github v-align-middle">
    <path d="M8 0c4.42 0 8 3.58 8 8a8.013 8.013 0 0 1-5.45 7.59c-.4.08-.55-.17-.55-.38 0-.27.01-1.13.01-2.2 0-.75-.25-1.23-.54-1.48 1.78-.2 3.65-.88 3.65-3.95 0-.88-.31-1.59-.82-2.15.08-.2.36-1.02-.08-2.12 0 0-.67-.22-2.2.82-.64-.18-1.32-.27-2-.27-.68 0-1.36.09-2 .27-1.53-1.03-2.2-.82-2.2-.82-.44 1.1-.16 1.92-.08 2.12-.51.56-.82 1.28-.82 2.15 0 3.06 1.86 3.75 3.64 3.95-.23.2-.44.55-.51 1.07-.46.21-1.61.55-2.33-.66-.15-.24-.6-.83-1.23-.82-.67.01-.27.38.01.53.34.19.73.9.82 1.13.16.45.68 1.31 2.69.94 0 .67.01 1.3.01 1.49 0 .21-.15.45-.55.38A7.995 7.995 0 0 1 0 8c0-4.42 3.58-8 8-8Z"></path>
</svg>
</a>

    </div>

    <div class="Header-item mr-0 mr-md-3 flex-order-1 flex-md-order-none">
        

<notification-indicator data-channel="eyJjIjoibm90aWZpY2F0aW9uLWNoYW5nZWQ6MTMwNTg2Mzg1IiwidCI6MTY4NjExNTAzOH0=--14b900719f4a76c15a22d9133f10e2d0eff21628dcf9bcdaea48bf6f1ce19974" data-indicator-mode="none" data-tooltip-global="You have unread notifications" data-tooltip-unavailable="Notifications are unavailable at the moment." data-tooltip-none="You have no unread notifications" data-fetch-indicator-src="/notifications/indicator" data-fetch-indicator-enabled="true" data-view-component="true" class="js-socket-channel" data-fetch-retry-delay-time="500" data-catalyst="">
  <a id="AppHeader-notifications-button" href="https://github.com/notifications" class="Header-link notification-indicator position-relative tooltipped tooltipped-sw" data-hotkey="g n" data-target="notification-indicator.link" aria-label="You have no unread notifications" data-analytics-event="{&quot;category&quot;:&quot;Header&quot;,&quot;action&quot;:&quot;go to notifications&quot;,&quot;label&quot;:&quot;icon:read&quot;}">

    <span data-target="notification-indicator.badge" class="mail-status unread" hidden="">
    </span>

      <svg aria-hidden="true" height="16" viewBox="0 0 16 16" version="1.1" width="16" data-view-component="true" class="octicon octicon-bell">
    <path d="M8 16a2 2 0 0 0 1.985-1.75c.017-.137-.097-.25-.235-.25h-3.5c-.138 0-.252.113-.235.25A2 2 0 0 0 8 16ZM3 5a5 5 0 0 1 10 0v2.947c0 .05.015.098.042.139l1.703 2.555A1.519 1.519 0 0 1 13.482 13H2.518a1.516 1.516 0 0 1-1.263-2.36l1.703-2.554A.255.255 0 0 0 3 7.947Zm5-3.5A3.5 3.5 0 0 0 4.5 5v2.947c0 .346-.102.683-.294.97l-1.703 2.556a.017.017 0 0 0-.003.01l.001.006c0 .002.002.004.004.006l.006.004.007.001h10.964l.007-.001.006-.004.004-.006.001-.007a.017.017 0 0 0-.003-.01l-1.703-2.554a1.745 1.745 0 0 1-.294-.97V5A3.5 3.5 0 0 0 8 1.5Z"></path>
</svg>
  </a>

</notification-indicator>
    </div>


    <div class="Header-item position-relative d-none d-md-flex">
        <details class="details-overlay details-reset">
  <summary class="Header-link" aria-label="Create new…" data-analytics-event="{&quot;category&quot;:&quot;Header&quot;,&quot;action&quot;:&quot;create new&quot;,&quot;label&quot;:&quot;icon:add&quot;}" aria-haspopup="menu" role="button">
    <svg aria-hidden="true" height="16" viewBox="0 0 16 16" version="1.1" width="16" data-view-component="true" class="octicon octicon-plus">
    <path d="M7.75 2a.75.75 0 0 1 .75.75V7h4.25a.75.75 0 0 1 0 1.5H8.5v4.25a.75.75 0 0 1-1.5 0V8.5H2.75a.75.75 0 0 1 0-1.5H7V2.75A.75.75 0 0 1 7.75 2Z"></path>
</svg> <span class="dropdown-caret"></span>
  </summary>
  <details-menu class="dropdown-menu dropdown-menu-sw" role="menu" data-focus-trap="suspended"><span class="sentinel" tabindex="0" aria-hidden="true"></span>
    
<a role="menuitem" class="dropdown-item" href="https://github.com/new" data-ga-click="Header, create new repository">
  New repository
</a>

  <a role="menuitem" class="dropdown-item" href="https://github.com/new/import" data-ga-click="Header, import a repository">
    Import repository
  </a>

  <a role="menuitem" class="dropdown-item" href="https://github.com/codespaces/new">
    New codespace
  </a>

<a role="menuitem" class="dropdown-item" href="https://gist.github.com/" data-ga-click="Header, create new gist">
  New gist
</a>

  <a role="menuitem" class="dropdown-item" href="https://github.com/organizations/new" data-ga-click="Header, create new organization">
    New organization
  </a>



  <span class="sentinel" tabindex="0" aria-hidden="true"></span></details-menu>
</details>

    </div>

    <div class="Header-item position-relative mr-0 d-none d-md-flex">
        
  <details class="details-overlay details-reset js-feature-preview-indicator-container" data-feature-preview-indicator-src="/users/MxnuC/feature_preview/indicator_check">

  <summary class="Header-link" aria-label="View profile and more" data-analytics-event="{&quot;category&quot;:&quot;Header&quot;,&quot;action&quot;:&quot;show menu&quot;,&quot;label&quot;:&quot;icon:avatar&quot;}" aria-haspopup="menu" role="button">
    <img src="./support_vector_regression_files/130586385" alt="@MxnuC" size="20" height="20" width="20" data-view-component="true" class="avatar avatar-small circle">
      <span class="unread-indicator js-feature-preview-indicator" style="top: 1px;"></span>
    <span class="dropdown-caret"></span>
  </summary>
  <details-menu class="dropdown-menu dropdown-menu-sw" style="width: 180px" preload="" role="menu" data-focus-trap="suspended"><span class="sentinel" tabindex="0" aria-hidden="true"></span>
      <div class="header-nav-current-user css-truncate"><a role="menuitem" class="no-underline user-profile-link px-3 pt-2 pb-2 mb-n2 mt-n1 d-block" href="https://github.com/MxnuC" data-ga-click="Header, go to profile, text:Signed in as">Signed in as <strong class="css-truncate-target">MxnuC</strong></a></div>
<div role="none" class="dropdown-divider"></div>

  <div class="pl-3 pr-3 f6 user-status-container js-user-status-context lh-condensed" data-url="/users/status?compact=1&amp;link_mentions=0&amp;truncate=1">
    
<div class="js-user-status-container rounded-2 px-2 py-1 mt-2 border" data-team-hovercards-enabled="">
  <details class="js-user-status-details details-reset details-overlay details-overlay-dark">
    <summary class="btn-link btn-block Link--secondary no-underline js-toggle-user-status-edit toggle-user-status-edit" role="menuitem">
      <div class="d-flex flex-items-center flex-items-stretch">
        <div class="f6 lh-condensed user-status-header d-flex user-status-emoji-only-header circle">
          <div class="user-status-emoji-container flex-shrink-0 mr-2 d-flex flex-items-center flex-justify-center lh-condensed-ultra v-align-bottom">
            <svg class="octicon octicon-smiley" viewBox="0 0 16 16" version="1.1" width="16" height="16" aria-hidden="true"><path d="M8 0a8 8 0 1 1 0 16A8 8 0 0 1 8 0ZM1.5 8a6.5 6.5 0 1 0 13 0 6.5 6.5 0 0 0-13 0Zm3.82 1.636a.75.75 0 0 1 1.038.175l.007.009c.103.118.22.222.35.31.264.178.683.37 1.285.37.602 0 1.02-.192 1.285-.371.13-.088.247-.192.35-.31l.007-.008a.75.75 0 0 1 1.222.87l-.022-.015c.02.013.021.015.021.015v.001l-.001.002-.002.003-.005.007-.014.019a2.066 2.066 0 0 1-.184.213c-.16.166-.338.316-.53.445-.63.418-1.37.638-2.127.629-.946 0-1.652-.308-2.126-.63a3.331 3.331 0 0 1-.715-.657l-.014-.02-.005-.006-.002-.003v-.002h-.001l.613-.432-.614.43a.75.75 0 0 1 .183-1.044ZM12 7a1 1 0 1 1-2 0 1 1 0 0 1 2 0ZM5 8a1 1 0 1 1 0-2 1 1 0 0 1 0 2Zm5.25 2.25.592.416a97.71 97.71 0 0 0-.592-.416Z"></path></svg>
          </div>
        </div>
        <div class="
          
           user-status-message-wrapper f6 min-width-0" style="line-height: 20px;">
          <div class="css-truncate css-truncate-target width-fit color-fg-default text-left">
              <span class="color-fg-muted">Set status</span>
          </div>
        </div>
      </div>
    </summary>
    <details-dialog class="rounded-2 anim-fade-in fast Box Box--overlay overflow-visible" role="dialog" aria-label="Edit status" tabindex="-1" aria-modal="true">
      
<!-- '"` --><!-- </textarea></xmp> --><form class="position-relative flex-auto js-user-status-form" data-turbo="false" action="https://github.com/users/status?circle=0&amp;compact=1&amp;link_mentions=0&amp;truncate=1" accept-charset="UTF-8" method="post"><input type="hidden" name="_method" value="put" autocomplete="off"><input type="hidden" name="authenticity_token" value="8wlAaQhtO460qacR49vg-9O-Jnn2IRowBuSFJLGmdsFXHEKE3Uv9xXUP4rACSBREwCMDQkg9oE90A77Oy68Nkg">
    <div class="Box-header color-bg-subtle border-bottom p-3">
      <button class="Box-btn-octicon js-toggle-user-status-edit btn-octicon float-right" type="reset" aria-label="Close dialog" data-close-dialog="">
        <svg aria-hidden="true" height="16" viewBox="0 0 16 16" version="1.1" width="16" data-view-component="true" class="octicon octicon-x">
    <path d="M3.72 3.72a.75.75 0 0 1 1.06 0L8 6.94l3.22-3.22a.749.749 0 0 1 1.275.326.749.749 0 0 1-.215.734L9.06 8l3.22 3.22a.749.749 0 0 1-.326 1.275.749.749 0 0 1-.734-.215L8 9.06l-3.22 3.22a.751.751 0 0 1-1.042-.018.751.751 0 0 1-.018-1.042L6.94 8 3.72 4.78a.75.75 0 0 1 0-1.06Z"></path>
</svg>
      </button>
      <h3 class="Box-title f5 text-bold color-fg-default">Edit status</h3>
    </div>
  <input type="hidden" name="emoji" class="js-user-status-emoji-field" value="">
  <input type="hidden" name="organization_id" class="js-user-status-org-id-field" value="">
  <div class="px-3 py-2 color-fg-default">
    <div class="js-characters-remaining-container position-relative mt-2">
      <div class="input-group d-table form-group my-0 js-user-status-form-group">
        <span class="input-group-button d-table-cell v-align-middle" style="width: 1%">
            <button aria-label="Choose an emoji" style="height: 32px; width: 46px;" type="button" data-view-component="true" class="js-toggle-user-status-emoji-picker btn-outline btn p-0">    <span class="js-user-status-original-emoji" hidden=""></span>
            <span class="js-user-status-custom-emoji"></span>
            <span class="js-user-status-no-emoji-icon">
              <svg aria-hidden="true" height="16" viewBox="0 0 16 16" version="1.1" width="16" data-view-component="true" class="octicon octicon-smiley">
    <path d="M8 0a8 8 0 1 1 0 16A8 8 0 0 1 8 0ZM1.5 8a6.5 6.5 0 1 0 13 0 6.5 6.5 0 0 0-13 0Zm3.82 1.636a.75.75 0 0 1 1.038.175l.007.009c.103.118.22.222.35.31.264.178.683.37 1.285.37.602 0 1.02-.192 1.285-.371.13-.088.247-.192.35-.31l.007-.008a.75.75 0 0 1 1.222.87l-.022-.015c.02.013.021.015.021.015v.001l-.001.002-.002.003-.005.007-.014.019a2.066 2.066 0 0 1-.184.213c-.16.166-.338.316-.53.445-.63.418-1.37.638-2.127.629-.946 0-1.652-.308-2.126-.63a3.331 3.331 0 0 1-.715-.657l-.014-.02-.005-.006-.002-.003v-.002h-.001l.613-.432-.614.43a.75.75 0 0 1 .183-1.044ZM12 7a1 1 0 1 1-2 0 1 1 0 0 1 2 0ZM5 8a1 1 0 1 1 0-2 1 1 0 0 1 0 2Zm5.25 2.25.592.416a97.71 97.71 0 0 0-.592-.416Z"></path>
</svg>
            </span>
</button>        </span>
        <text-expander keys=": @" data-mention-url="/autocomplete/user-suggestions" data-emoji-url="/autocomplete/emoji">
          <input type="text" autocomplete="off" data-no-org-url="/autocomplete/user-suggestions" data-org-url="/suggestions?mention_suggester=1" data-maxlength="80" class="d-table-cell width-full form-control js-user-status-message-field js-characters-remaining-field" placeholder="What&#39;s happening?" name="message" value="" aria-label="What is your current status?">
        </text-expander>
        <div class="error">Could not update your status, please try again.</div>
      </div>
      <div style="margin-left: 53px" class="my-1 text-small label-characters-remaining js-characters-remaining" data-suffix="remaining" hidden="">
        80 remaining
      </div>
    </div>
    <include-fragment loading="lazy" src="/users/status/emoji"><template shadowrootmode="open"><style>:host {display: block;}</style><slot></slot></template></include-fragment>
    <div class="overflow-auto ml-n3 mr-n3 px-3 border-bottom" style="max-height: 33vh">
      <div class="user-status-suggestions js-user-status-suggestions collapsed overflow-hidden">
        <h4 class="f6 text-normal my-3">Suggestions:</h4>
        <div class="mx-3 mt-2 clearfix">
            <div class="float-left col-6">
                <button type="button" value=":palm_tree:" class="d-flex flex-items-baseline flex-items-stretch lh-condensed f6 btn-link Link--secondary no-underline js-predefined-user-status mb-1">
                  <div class="emoji-status-width mr-2 v-align-middle js-predefined-user-status-emoji">
                    <g-emoji alias="palm_tree" fallback-src="https://github.githubassets.com/images/icons/emoji/unicode/1f334.png">🌴</g-emoji>
                  </div>
                  <div class="d-flex flex-items-center no-underline js-predefined-user-status-message ws-normal text-left" style="border-left: 1px solid transparent">
                    On vacation
                  </div>
                </button>
                <button type="button" value=":face_with_thermometer:" class="d-flex flex-items-baseline flex-items-stretch lh-condensed f6 btn-link Link--secondary no-underline js-predefined-user-status mb-1">
                  <div class="emoji-status-width mr-2 v-align-middle js-predefined-user-status-emoji">
                    <g-emoji alias="face_with_thermometer" fallback-src="https://github.githubassets.com/images/icons/emoji/unicode/1f912.png">🤒</g-emoji>
                  </div>
                  <div class="d-flex flex-items-center no-underline js-predefined-user-status-message ws-normal text-left" style="border-left: 1px solid transparent">
                    Out sick
                  </div>
                </button>
            </div>
            <div class="float-left col-6">
                <button type="button" value=":house:" class="d-flex flex-items-baseline flex-items-stretch lh-condensed f6 btn-link Link--secondary no-underline js-predefined-user-status mb-1">
                  <div class="emoji-status-width mr-2 v-align-middle js-predefined-user-status-emoji">
                    <g-emoji alias="house" fallback-src="https://github.githubassets.com/images/icons/emoji/unicode/1f3e0.png">🏠</g-emoji>
                  </div>
                  <div class="d-flex flex-items-center no-underline js-predefined-user-status-message ws-normal text-left" style="border-left: 1px solid transparent">
                    Working from home
                  </div>
                </button>
                <button type="button" value=":dart:" class="d-flex flex-items-baseline flex-items-stretch lh-condensed f6 btn-link Link--secondary no-underline js-predefined-user-status mb-1">
                  <div class="emoji-status-width mr-2 v-align-middle js-predefined-user-status-emoji">
                    <g-emoji alias="dart" fallback-src="https://github.githubassets.com/images/icons/emoji/unicode/1f3af.png">🎯</g-emoji>
                  </div>
                  <div class="d-flex flex-items-center no-underline js-predefined-user-status-message ws-normal text-left" style="border-left: 1px solid transparent">
                    Focusing
                  </div>
                </button>
            </div>
        </div>
      </div>
      <div class="user-status-limited-availability-container">
        <div class="form-checkbox my-0">
          <input type="checkbox" name="limited_availability" value="1" class="js-user-status-limited-availability-checkbox" data-default-message="I may be slow to respond." aria-describedby="limited-availability-help-text-truncate-true-compact-true" id="limited-availability-truncate-true-compact-true">
          <label class="d-block f5 color-fg-default mb-1" for="limited-availability-truncate-true-compact-true">
            Busy
          </label>
          <p class="note" id="limited-availability-help-text-truncate-true-compact-true">
            When others mention you, assign you, or request your review,
            GitHub will let them know that you have limited availability.
          </p>
        </div>
      </div>
    </div>
    <div class="d-inline-block f5 mr-2 pt-3 pb-2">
  <div class="d-inline-block mr-1">
    Clear status
  </div>

  <details class="js-user-status-expire-drop-down f6 dropdown details-reset details-overlay d-inline-block mr-2">
      <summary aria-haspopup="true" data-view-component="true" class="btn-sm btn v-align-baseline">    <div class="js-user-status-expiration-interval-selected d-inline-block v-align-baseline">
        Never
      </div>
      <div class="dropdown-caret"></div>
</summary>
    <ul class="dropdown-menu dropdown-menu-se pl-0 overflow-auto" style="width: 220px; max-height: 15.5em">
      <li>
        <button type="button" class="btn-link dropdown-item js-user-status-expire-button ws-normal" title="Never">
          <span class="d-inline-block text-bold mb-1">Never</span>
          <div class="f6 lh-condensed">Keep this status until you clear your status or edit your status.</div>
        </button>
      </li>
      <li class="dropdown-divider" role="none"></li>
        <li>
          <button type="button" class="btn-link dropdown-item ws-normal js-user-status-expire-button" title="in 30 minutes" value="2023-06-06T23:47:44-06:00">
            in 30 minutes
          </button>
        </li>
        <li>
          <button type="button" class="btn-link dropdown-item ws-normal js-user-status-expire-button" title="in 1 hour" value="2023-06-07T00:17:44-06:00">
            in 1 hour
          </button>
        </li>
        <li>
          <button type="button" class="btn-link dropdown-item ws-normal js-user-status-expire-button" title="in 4 hours" value="2023-06-07T03:17:44-06:00">
            in 4 hours
          </button>
        </li>
        <li>
          <button type="button" class="btn-link dropdown-item ws-normal js-user-status-expire-button" title="today" value="2023-06-06T23:59:59-06:00">
            today
          </button>
        </li>
        <li>
          <button type="button" class="btn-link dropdown-item ws-normal js-user-status-expire-button" title="this week" value="2023-06-11T23:59:59-06:00">
            this week
          </button>
        </li>
    </ul>
  </details>
  <input class="js-user-status-expiration-date-input" type="hidden" name="expires_at" value="">
</div>

    <include-fragment loading="lazy" src="/users/status/organizations"><template shadowrootmode="open"><style>:host {display: block;}</style><slot></slot></template></include-fragment>
  </div>
  <div class="d-flex flex-items-center flex-justify-between p-3 border-top">
    <button type="submit" disabled="" class="width-full btn btn-primary mr-2 js-user-status-submit">
      Set status
    </button>
    <button type="button" disabled="" class="width-full js-clear-user-status-button btn ml-2 ">
      Clear status
    </button>
  </div>
</form>
    </details-dialog>
  </details>
</div>

  </div>
  <div role="none" class="dropdown-divider"></div>

<a role="menuitem" class="dropdown-item" href="https://github.com/MxnuC" data-ga-click="Header, go to profile, text:your profile" data-hydro-click="{&quot;event_type&quot;:&quot;global_header.user_menu_dropdown.click&quot;,&quot;payload&quot;:{&quot;request_url&quot;:&quot;https://github.com/users/130586385/menu&quot;,&quot;target&quot;:&quot;YOUR_PROFILE&quot;,&quot;originating_url&quot;:&quot;https://github.com/users/130586385/menu&quot;,&quot;user_id&quot;:130586385}}" data-hydro-click-hmac="137f9469b7731184e73f0d6cbd8df97d0f6f26e44c2f50b2c055aae9e8424008">Your profile</a>

<a role="menuitem" class="dropdown-item" href="https://github.com/MxnuC?tab=repositories" data-ga-click="Header, go to repositories, text:your repositories" data-hydro-click="{&quot;event_type&quot;:&quot;global_header.user_menu_dropdown.click&quot;,&quot;payload&quot;:{&quot;request_url&quot;:&quot;https://github.com/users/130586385/menu&quot;,&quot;target&quot;:&quot;YOUR_REPOSITORIES&quot;,&quot;originating_url&quot;:&quot;https://github.com/users/130586385/menu&quot;,&quot;user_id&quot;:130586385}}" data-hydro-click-hmac="77c4b80fbaf2581ca6af7069fd549be1a3b6dd7248af9438e2ee8398b8d321c1">Your repositories</a>




<a role="menuitem" class="dropdown-item" href="https://github.com/MxnuC?tab=projects" data-ga-click="Header, go to projects, text:your projects" data-hydro-click="{&quot;event_type&quot;:&quot;global_header.user_menu_dropdown.click&quot;,&quot;payload&quot;:{&quot;request_url&quot;:&quot;https://github.com/users/130586385/menu&quot;,&quot;target&quot;:&quot;YOUR_PROJECTS&quot;,&quot;originating_url&quot;:&quot;https://github.com/users/130586385/menu&quot;,&quot;user_id&quot;:130586385}}" data-hydro-click-hmac="8191132a5a822cd0de9c1fc5b3f8d047c0e64ee275d1cefbb90c29ec7d431184">Your projects</a>


<a role="menuitem" class="dropdown-item" href="https://github.com/MxnuC?tab=stars" data-ga-click="Header, go to starred repos, text:your stars" data-hydro-click="{&quot;event_type&quot;:&quot;global_header.user_menu_dropdown.click&quot;,&quot;payload&quot;:{&quot;request_url&quot;:&quot;https://github.com/users/130586385/menu&quot;,&quot;target&quot;:&quot;YOUR_STARS&quot;,&quot;originating_url&quot;:&quot;https://github.com/users/130586385/menu&quot;,&quot;user_id&quot;:130586385}}" data-hydro-click-hmac="6e8f2049bfb55ac9a508585e7bb06f73dd1a7ec24f95ba05b7e61870c5698bbc">Your stars</a>
  <a role="menuitem" class="dropdown-item" href="https://gist.github.com/mine" data-ga-click="Header, your gists, text:your gists" data-hydro-click="{&quot;event_type&quot;:&quot;global_header.user_menu_dropdown.click&quot;,&quot;payload&quot;:{&quot;request_url&quot;:&quot;https://github.com/users/130586385/menu&quot;,&quot;target&quot;:&quot;YOUR_GISTS&quot;,&quot;originating_url&quot;:&quot;https://github.com/users/130586385/menu&quot;,&quot;user_id&quot;:130586385}}" data-hydro-click-hmac="794431b558ff851b3a6e7dcf098df3ec20b0956604b57e3afb6c11609905a955">Your gists</a>

  <a role="menuitem" class="dropdown-item" data-ga-click="Header, go to GitHub Sponsors accounts page, text:your sponsors" data-hydro-click="{&quot;event_type&quot;:&quot;sponsors.button_click&quot;,&quot;payload&quot;:{&quot;button&quot;:&quot;HEADER_SPONSORS_DASHBOARD&quot;,&quot;sponsorable_login&quot;:&quot;MxnuC&quot;,&quot;originating_url&quot;:&quot;https://github.com/users/130586385/menu&quot;,&quot;user_id&quot;:130586385}}" data-hydro-click-hmac="3900fbd0aef6358fffb1550ee446b982ba23992ff80ad4dbea0c983446bbada0" href="https://github.com/sponsors/accounts">Your sponsors</a>


<div role="none" class="dropdown-divider"></div>
  <a role="menuitem" class="dropdown-item" href="https://github.com/account/choose?action=upgrade" data-ga-click="Header, go to compare plans, text:upgrade" data-hydro-click="{&quot;event_type&quot;:&quot;global_header.user_menu_dropdown.click&quot;,&quot;payload&quot;:{&quot;request_url&quot;:&quot;https://github.com/users/130586385/menu&quot;,&quot;target&quot;:&quot;UPGRADE&quot;,&quot;originating_url&quot;:&quot;https://github.com/users/130586385/menu&quot;,&quot;user_id&quot;:130586385}}" data-hydro-click-hmac="637b367a4a75caafb2e9fcec0a6820420eebcba86cec3f7f9bb1121ca3600e04">Upgrade</a>
  <a role="menuitem" class="dropdown-item" href="https://github.com/organizations/enterprise_plan?ref_cta=Try%2520Enterprise&amp;ref_loc=user_drawer_side_panel&amp;ref_page=Header+Avatar" data-analytics-event="{&quot;category&quot;:&quot;start_a_trial&quot;,&quot;action&quot;:&quot;click_to_set_up_enterprise_trial&quot;,&quot;label&quot;:&quot;ref_loc:side_panel;ref_cta:start_a_trial&quot;}">Try Enterprise</a>
  
<div id="feature-enrollment-toggle" class="hide-sm hide-md unread-indicator-container position-relative">
  <button type="button" class="dropdown-item btn-link" role="menuitem" data-feature-preview-trigger-url="/users/MxnuC/feature_previews" data-feature-preview-close-details="{&quot;event_type&quot;:&quot;feature_preview.clicks.close_modal&quot;,&quot;payload&quot;:{&quot;originating_url&quot;:&quot;https://github.com/users/130586385/menu&quot;,&quot;user_id&quot;:130586385}}" data-feature-preview-close-hmac="db9536478d088b38e61aee7b50409ebc1141ecd5d33a9f2b57220bfa31896d08" data-hydro-click="{&quot;event_type&quot;:&quot;feature_preview.clicks.open_modal&quot;,&quot;payload&quot;:{&quot;link_location&quot;:&quot;user_dropdown&quot;,&quot;originating_url&quot;:&quot;https://github.com/users/130586385/menu&quot;,&quot;user_id&quot;:130586385}}" data-hydro-click-hmac="c8d420ff79536863916a0ac823f49f57f564138e361857975c71aad97498c8fb">
    Feature preview
  </button>
    <span class="unread-indicator js-feature-preview-indicator"></span>
</div>

<a role="menuitem" class="dropdown-item" href="https://docs.github.com/" data-ga-click="Header, go to help, text:help" data-hydro-click="{&quot;event_type&quot;:&quot;global_header.user_menu_dropdown.click&quot;,&quot;payload&quot;:{&quot;request_url&quot;:&quot;https://github.com/users/130586385/menu&quot;,&quot;target&quot;:&quot;HELP&quot;,&quot;originating_url&quot;:&quot;https://github.com/users/130586385/menu&quot;,&quot;user_id&quot;:130586385}}" data-hydro-click-hmac="c2af70520a611852891bff70248a4ac862e3e7056283e80f50982f613b9685bd">Help</a>
<a role="menuitem" class="dropdown-item" href="https://github.com/settings/profile" data-ga-click="Header, go to settings, icon:settings" data-hydro-click="{&quot;event_type&quot;:&quot;global_header.user_menu_dropdown.click&quot;,&quot;payload&quot;:{&quot;request_url&quot;:&quot;https://github.com/users/130586385/menu&quot;,&quot;target&quot;:&quot;SETTINGS&quot;,&quot;originating_url&quot;:&quot;https://github.com/users/130586385/menu&quot;,&quot;user_id&quot;:130586385}}" data-hydro-click-hmac="73361dc18e521140f4cd09ecba9de89d267a4dc46655e44cef6903e98b0a9e9f">Settings</a>

<div role="none" class="dropdown-divider"></div>


<!-- '"` --><!-- </textarea></xmp> --><form class="logout-form js-loggout-form" data-turbo="false" action="https://github.com/logout" accept-charset="UTF-8" method="post"><input type="hidden" name="authenticity_token" value="zEiMYIT1LiMkwsDHMWQsAdYGdZJxZgu2F-s8wmYEq-C2Pi1ENO2gkWpUvbwKV4By7iM2uy3InG7q7HF5prZpeQ">
  
  <button type="submit" class="dropdown-item dropdown-signout" data-ga-click="Header, sign out, icon:logout" data-hydro-click="{&quot;event_type&quot;:&quot;global_header.user_menu_dropdown.click&quot;,&quot;payload&quot;:{&quot;request_url&quot;:&quot;https://github.com/users/130586385/menu&quot;,&quot;target&quot;:&quot;SIGN_OUT&quot;,&quot;originating_url&quot;:&quot;https://github.com/users/130586385/menu&quot;,&quot;user_id&quot;:130586385}}" data-hydro-click-hmac="aa72b552319673f5f6534de91ca984e351b37324f8184accae26b9e5128291d8" role="menuitem">
    Sign out
  </button>
  <input type="text" name="required_field_2bd1" hidden="hidden" class="form-control"><input type="hidden" name="timestamp" value="1686115064246" autocomplete="off" class="form-control"><input type="hidden" name="timestamp_secret" value="b2c6c02ad9766b76d729cf568ea4a81f751589642ad8b889f092d55f8eb76c8b" autocomplete="off" class="form-control">
</form>
  <span class="sentinel" tabindex="0" aria-hidden="true"></span></details-menu>
</details>

    </div>
</header>

          
    </div>

  <div id="start-of-content" class="show-on-focus"></div>








    <div id="js-flash-container" data-turbo-replace="">





  <template class="js-flash-template"></template>
</div>


    
    <notification-shelf-watcher data-base-url="https://github.com/notifications/beta/shelf" data-channel="eyJjIjoibm90aWZpY2F0aW9uLWNoYW5nZWQ6MTMwNTg2Mzg1IiwidCI6MTY4NjExNTAzOH0=--14b900719f4a76c15a22d9133f10e2d0eff21628dcf9bcdaea48bf6f1ce19974" data-view-component="true" class="js-socket-channel" data-refresh-delay="500" data-catalyst=""></notification-shelf-watcher>
  <div hidden="" data-initial="" data-target="notification-shelf-watcher.placeholder"></div>






      <details class="details-reset details-overlay details-overlay-dark js-command-palette-dialog" id="command-palette-pjax-container" data-turbo-replace="">
  <summary aria-label="command palette trigger" tabindex="-1" role="button"></summary>
  <details-dialog class="command-palette-details-dialog d-flex flex-column flex-justify-center height-fit" aria-label="command palette" role="dialog" aria-modal="true">
    <command-palette class="command-palette color-bg-default rounded-3 border color-shadow-small" return-to="/Adyael/ml_2023/blob/main/support_vector_regression.ipynb" user-id="130586385" activation-hotkey="Mod+k,Mod+Alt+k" command-mode-hotkey="Mod+Shift+k" data-action="
        command-palette-input-ready:command-palette#inputReady
        command-palette-page-stack-updated:command-palette#updateInputScope
        itemsUpdated:command-palette#itemsUpdated
        keydown:command-palette#onKeydown
        loadingStateChanged:command-palette#loadingStateChanged
        selectedItemChanged:command-palette#selectedItemChanged
        pageFetchError:command-palette#pageFetchError
      " data-catalyst="">

        <command-palette-mode data-char="#" data-scope-types="[&quot;&quot;]" data-placeholder="Search issues and pull requests" data-catalyst=""></command-palette-mode>
        <command-palette-mode data-char="#" data-scope-types="[&quot;owner&quot;,&quot;repository&quot;]" data-placeholder="Search issues, pull requests, discussions, and projects" data-catalyst=""></command-palette-mode>
        <command-palette-mode data-char="!" data-scope-types="[&quot;owner&quot;,&quot;repository&quot;]" data-placeholder="Search projects" data-catalyst=""></command-palette-mode>
        <command-palette-mode data-char="@" data-scope-types="[&quot;&quot;]" data-placeholder="Search or jump to a user, organization, or repository" data-catalyst=""></command-palette-mode>
        <command-palette-mode data-char="@" data-scope-types="[&quot;owner&quot;]" data-placeholder="Search or jump to a repository" data-catalyst=""></command-palette-mode>
        <command-palette-mode data-char="/" data-scope-types="[&quot;repository&quot;]" data-placeholder="Search files" data-catalyst=""></command-palette-mode>
        <command-palette-mode data-char="?" data-placeholder="" data-catalyst="" data-scope-types=""></command-palette-mode>
        <command-palette-mode data-char="&gt;" data-placeholder="Run a command" data-scope-types="" data-catalyst=""></command-palette-mode>
        <command-palette-mode data-char="" data-scope-types="[&quot;&quot;]" data-placeholder="Search or jump to..." data-catalyst=""></command-palette-mode>
        <command-palette-mode data-char="" data-scope-types="[&quot;owner&quot;]" data-placeholder="Search or jump to..." data-catalyst=""></command-palette-mode>
      <command-palette-mode class="js-command-palette-default-mode" data-char="" data-placeholder="Search or jump to..." data-scope-types="" data-catalyst=""></command-palette-mode>

      <command-palette-input placeholder="Search or jump to..." data-action="
          command-palette-input:command-palette#onInput
          command-palette-select:command-palette#onSelect
          command-palette-descope:command-palette#onDescope
          command-palette-cleared:command-palette#onInputClear
        " data-catalyst="" class="d-flex flex-items-center flex-nowrap py-1 pl-3 pr-2 border-bottom">
        <div class="js-search-icon d-flex flex-items-center mr-2" style="height: 26px">
          <svg aria-hidden="true" height="16" viewBox="0 0 16 16" version="1.1" width="16" data-view-component="true" class="octicon octicon-search color-fg-muted">
    <path d="M10.68 11.74a6 6 0 0 1-7.922-8.982 6 6 0 0 1 8.982 7.922l3.04 3.04a.749.749 0 0 1-.326 1.275.749.749 0 0 1-.734-.215ZM11.5 7a4.499 4.499 0 1 0-8.997 0A4.499 4.499 0 0 0 11.5 7Z"></path>
</svg>
        </div>
        <div class="js-spinner d-flex flex-items-center mr-2 color-fg-muted" hidden="">
          <svg aria-label="Loading" class="anim-rotate" viewBox="0 0 16 16" fill="none" width="16" height="16">
            <circle cx="8" cy="8" r="7" stroke="currentColor" stroke-opacity="0.25" stroke-width="2" vector-effect="non-scaling-stroke"></circle>
            <path d="M15 8a7.002 7.002 0 00-7-7" stroke="currentColor" stroke-width="2" stroke-linecap="round" vector-effect="non-scaling-stroke"></path>
          </svg>
        </div>
        <command-palette-scope data-catalyst="" class="d-inline-flex">
          <div data-target="command-palette-scope.placeholder" hidden="" class="color-fg-subtle">/&nbsp;&nbsp;<span class="text-semibold color-fg-default">...</span>&nbsp;&nbsp;/&nbsp;&nbsp;</div>
              <command-palette-token data-text="Adyael" data-id="MDQ6VXNlcjcwOTIwMDYx" data-type="owner" data-value="Adyael" data-targets="command-palette-scope.tokens" class="color-fg-default text-semibold" style="white-space:nowrap;line-height:20px;" id="" data-catalyst="">Adyael<span class="color-fg-subtle text-normal">&nbsp;&nbsp;/&nbsp;&nbsp;</span></command-palette-token>
              <command-palette-token data-text="ml_2023" data-id="R_kgDOJbsa-Q" data-type="repository" data-value="ml_2023" data-targets="command-palette-scope.tokens" class="color-fg-default text-semibold" style="white-space:nowrap;line-height:20px;" id="" data-catalyst="">ml_2023<span class="color-fg-subtle text-normal">&nbsp;&nbsp;/&nbsp;&nbsp;</span></command-palette-token>
        </command-palette-scope>
        <div class="command-palette-input-group flex-1 form-control border-0 box-shadow-none" style="z-index: 0">
          <div class="command-palette-typeahead position-absolute d-flex flex-items-center Truncate">
            <span class="typeahead-segment input-mirror" data-target="command-palette-input.mirror"></span>
            <span class="Truncate-text" data-target="command-palette-input.typeaheadText"></span>
            <span class="typeahead-segment" data-target="command-palette-input.typeaheadPlaceholder"></span>
          </div>
          <input class="js-overlay-input typeahead-input d-none" disabled="" tabindex="-1" aria-label="Hidden input for typeahead">
          <input type="text" autocomplete="off" autocorrect="off" autocapitalize="off" spellcheck="false" class="js-input typeahead-input form-control border-0 box-shadow-none input-block width-full no-focus-indicator" aria-label="Command palette input" aria-haspopup="listbox" aria-expanded="false" aria-autocomplete="list" aria-controls="command-palette-page-stack" role="combobox" data-action="
              input:command-palette-input#onInput
              keydown:command-palette-input#onKeydown
            " placeholder="Search or jump to...">
        </div>
          <div data-view-component="true" class="position-relative d-inline-block">
    <button aria-keyshortcuts="Control+Backspace" data-action="click:command-palette-input#onClear keypress:command-palette-input#onClear" data-target="command-palette-input.clearButton" id="command-palette-clear-button" hidden="hidden" type="button" data-view-component="true" class="btn-octicon command-palette-input-clear-button" aria-labelledby="tooltip-7f86529c-7b76-4a5f-82c1-191426649050">      <svg aria-hidden="true" height="16" viewBox="0 0 16 16" version="1.1" width="16" data-view-component="true" class="octicon octicon-x-circle-fill">
    <path d="M2.343 13.657A8 8 0 1 1 13.658 2.343 8 8 0 0 1 2.343 13.657ZM6.03 4.97a.751.751 0 0 0-1.042.018.751.751 0 0 0-.018 1.042L6.94 8 4.97 9.97a.749.749 0 0 0 .326 1.275.749.749 0 0 0 .734-.215L8 9.06l1.97 1.97a.749.749 0 0 0 1.275-.326.749.749 0 0 0-.215-.734L9.06 8l1.97-1.97a.749.749 0 0 0-.326-1.275.749.749 0 0 0-.734.215L8 6.94Z"></path>
</svg>
</button>    <tool-tip id="tooltip-7f86529c-7b76-4a5f-82c1-191426649050" for="command-palette-clear-button" data-direction="w" data-type="label" data-view-component="true" class="sr-only position-absolute" aria-hidden="true" role="tooltip"><template shadowrootmode="open"><style>
      :host {
        position: absolute;
        z-index: 1000000;
        padding: .5em .75em;
        font: normal normal 11px/1.5 -apple-system, BlinkMacSystemFont, "Segoe UI", Helvetica, Arial, sans-serif, "Apple Color Emoji", "Segoe UI Emoji";
        -webkit-font-smoothing: subpixel-antialiased;
        color: var(--color-fg-on-emphasis);
        text-align: center;
        text-decoration: none;
        text-shadow: none;
        text-transform: none;
        letter-spacing: normal;
        word-wrap: break-word;
        white-space: pre;
        background: var(--color-neutral-emphasis-plus);
        border-radius: 6px;
        opacity: 0;
        max-width: 250px;
        word-wrap: break-word;
        white-space: normal;
        width: max-content;
      }

      :host:before{
        position: absolute;
        z-index: 1000001;
        color: var(--color-neutral-emphasis-plus);
        content: "";
        border: 6px solid transparent;
        opacity: 0
      }

      @keyframes tooltip-appear {
        from {
          opacity: 0
        }
        to {
          opacity: 1
        }
      }

      :host:after{
        position: absolute;
        display: block;
        right: 0;
        left: 0;
        height: 12px;
        content: ""
      }

      :host(.tooltip-open),
      :host(.tooltip-open):before {
        animation-name: tooltip-appear;
        animation-duration: .1s;
        animation-fill-mode: forwards;
        animation-timing-function: ease-in;
        animation-delay: .4s
      }

      :host(.tooltip-s):before,
      :host(.tooltip-n):before {
        right: 50%;
        margin-right: -6px;
      }

      :host(.tooltip-s):before,
      :host(.tooltip-se):before,
      :host(.tooltip-sw):before {
        bottom: 100%;
        border-bottom-color: var(--color-neutral-emphasis-plus)
      }

      :host(.tooltip-s):after,
      :host(.tooltip-se):after,
      :host(.tooltip-sw):after {
        bottom: 100%
      }

      :host(.tooltip-n):before,
      :host(.tooltip-ne):before,
      :host(.tooltip-nw):before {
        top: 100%;
        border-top-color: var(--color-neutral-emphasis-plus)
      }

      :host(.tooltip-n):after,
      :host(.tooltip-ne):after,
      :host(.tooltip-nw):after {
        top: 100%
      }

      :host(.tooltip-se):before,
      :host(.tooltip-ne):before {
        left: 0;
        margin-left: 6px;
      }

      :host(.tooltip-sw):before,
      :host(.tooltip-nw):before {
        right: 0;
        margin-right: 6px;
      }

      :host(.tooltip-w):before {
        top: 50%;
        bottom: 50%;
        left: 100%;
        margin-top: -6px;
        border-left-color: var(--color-neutral-emphasis-plus)
      }

      :host(.tooltip-e):before {
        top: 50%;
        right: 100%;
        bottom: 50%;
        margin-top: -6px;
        border-right-color: var(--color-neutral-emphasis-plus)
      }
    </style><slot></slot></template>Clear Command Palette</tool-tip>
</div>
      </command-palette-input>

      <command-palette-page-stack data-default-scope-id="R_kgDOJbsa-Q" data-default-scope-type="Repository" data-action="command-palette-page-octicons-cached:command-palette-page-stack#cacheOcticons" data-current-mode="" data-catalyst="" data-target="command-palette.pageStack" data-current-query-text="">
          <command-palette-tip class="color-fg-muted f6 px-3 py-1 my-2" data-scope-types="[&quot;&quot;,&quot;owner&quot;,&quot;repository&quot;]" data-mode="" data-value="" data-match-mode="" data-catalyst="" hidden="">
            <div class="d-flex flex-items-start flex-justify-between">
              <div>
                <span class="text-bold">Tip:</span>
                  Type <kbd class="hx_kbd">#</kbd> to search pull requests
              </div>
              <div class="ml-2 flex-shrink-0">
                Type <kbd class="hx_kbd">?</kbd> for help and tips
              </div>
            </div>
          </command-palette-tip>
          <command-palette-tip class="color-fg-muted f6 px-3 py-1 my-2" data-scope-types="[&quot;&quot;,&quot;owner&quot;,&quot;repository&quot;]" data-mode="" data-value="" data-match-mode="" data-catalyst="" hidden="">
            <div class="d-flex flex-items-start flex-justify-between">
              <div>
                <span class="text-bold">Tip:</span>
                  Type <kbd class="hx_kbd">#</kbd> to search issues
              </div>
              <div class="ml-2 flex-shrink-0">
                Type <kbd class="hx_kbd">?</kbd> for help and tips
              </div>
            </div>
          </command-palette-tip>
          <command-palette-tip class="color-fg-muted f6 px-3 py-1 my-2" data-scope-types="[&quot;owner&quot;,&quot;repository&quot;]" data-mode="" data-value="" data-match-mode="" data-catalyst="" hidden="">
            <div class="d-flex flex-items-start flex-justify-between">
              <div>
                <span class="text-bold">Tip:</span>
                  Type <kbd class="hx_kbd">#</kbd> to search discussions
              </div>
              <div class="ml-2 flex-shrink-0">
                Type <kbd class="hx_kbd">?</kbd> for help and tips
              </div>
            </div>
          </command-palette-tip>
          <command-palette-tip class="color-fg-muted f6 px-3 py-1 my-2" data-scope-types="[&quot;owner&quot;,&quot;repository&quot;]" data-mode="" data-value="" data-match-mode="" data-catalyst="" hidden="">
            <div class="d-flex flex-items-start flex-justify-between">
              <div>
                <span class="text-bold">Tip:</span>
                  Type <kbd class="hx_kbd">!</kbd> to search projects
              </div>
              <div class="ml-2 flex-shrink-0">
                Type <kbd class="hx_kbd">?</kbd> for help and tips
              </div>
            </div>
          </command-palette-tip>
          <command-palette-tip class="color-fg-muted f6 px-3 py-1 my-2" data-scope-types="[&quot;owner&quot;]" data-mode="" data-value="" data-match-mode="" data-catalyst="" hidden="">
            <div class="d-flex flex-items-start flex-justify-between">
              <div>
                <span class="text-bold">Tip:</span>
                  Type <kbd class="hx_kbd">@</kbd> to search teams
              </div>
              <div class="ml-2 flex-shrink-0">
                Type <kbd class="hx_kbd">?</kbd> for help and tips
              </div>
            </div>
          </command-palette-tip>
          <command-palette-tip class="color-fg-muted f6 px-3 py-1 my-2" data-scope-types="[&quot;&quot;]" data-mode="" data-value="" data-match-mode="" data-catalyst="" hidden="">
            <div class="d-flex flex-items-start flex-justify-between">
              <div>
                <span class="text-bold">Tip:</span>
                  Type <kbd class="hx_kbd">@</kbd> to search people and organizations
              </div>
              <div class="ml-2 flex-shrink-0">
                Type <kbd class="hx_kbd">?</kbd> for help and tips
              </div>
            </div>
          </command-palette-tip>
          <command-palette-tip class="color-fg-muted f6 px-3 py-1 my-2" data-scope-types="[&quot;&quot;,&quot;owner&quot;,&quot;repository&quot;]" data-mode="" data-value="" data-match-mode="" data-catalyst="" hidden="">
            <div class="d-flex flex-items-start flex-justify-between">
              <div>
                <span class="text-bold">Tip:</span>
                  Type <kbd class="hx_kbd">&gt;</kbd> to activate command mode
              </div>
              <div class="ml-2 flex-shrink-0">
                Type <kbd class="hx_kbd">?</kbd> for help and tips
              </div>
            </div>
          </command-palette-tip>
          <command-palette-tip class="color-fg-muted f6 px-3 py-1 my-2" data-scope-types="[&quot;&quot;,&quot;owner&quot;,&quot;repository&quot;]" data-mode="" data-value="" data-match-mode="" data-catalyst="" hidden="">
            <div class="d-flex flex-items-start flex-justify-between">
              <div>
                <span class="text-bold">Tip:</span>
                  Go to your accessibility settings to change your keyboard shortcuts
              </div>
              <div class="ml-2 flex-shrink-0">
                Type <kbd class="hx_kbd">?</kbd> for help and tips
              </div>
            </div>
          </command-palette-tip>
          <command-palette-tip class="color-fg-muted f6 px-3 py-1 my-2" data-scope-types="[&quot;&quot;,&quot;owner&quot;,&quot;repository&quot;]" data-mode="#" data-value="" data-match-mode="" data-catalyst="" hidden="">
            <div class="d-flex flex-items-start flex-justify-between">
              <div>
                <span class="text-bold">Tip:</span>
                  Type author:@me to search your content
              </div>
              <div class="ml-2 flex-shrink-0">
                Type <kbd class="hx_kbd">?</kbd> for help and tips
              </div>
            </div>
          </command-palette-tip>
          <command-palette-tip class="color-fg-muted f6 px-3 py-1 my-2" data-scope-types="[&quot;&quot;,&quot;owner&quot;,&quot;repository&quot;]" data-mode="#" data-value="" data-match-mode="" data-catalyst="" hidden="">
            <div class="d-flex flex-items-start flex-justify-between">
              <div>
                <span class="text-bold">Tip:</span>
                  Type is:pr to filter to pull requests
              </div>
              <div class="ml-2 flex-shrink-0">
                Type <kbd class="hx_kbd">?</kbd> for help and tips
              </div>
            </div>
          </command-palette-tip>
          <command-palette-tip class="color-fg-muted f6 px-3 py-1 my-2" data-scope-types="[&quot;&quot;,&quot;owner&quot;,&quot;repository&quot;]" data-mode="#" data-value="" data-match-mode="" data-catalyst="" hidden="">
            <div class="d-flex flex-items-start flex-justify-between">
              <div>
                <span class="text-bold">Tip:</span>
                  Type is:issue to filter to issues
              </div>
              <div class="ml-2 flex-shrink-0">
                Type <kbd class="hx_kbd">?</kbd> for help and tips
              </div>
            </div>
          </command-palette-tip>
          <command-palette-tip class="color-fg-muted f6 px-3 py-1 my-2" data-scope-types="[&quot;owner&quot;,&quot;repository&quot;]" data-mode="#" data-value="" data-match-mode="" data-catalyst="" hidden="">
            <div class="d-flex flex-items-start flex-justify-between">
              <div>
                <span class="text-bold">Tip:</span>
                  Type is:project to filter to projects
              </div>
              <div class="ml-2 flex-shrink-0">
                Type <kbd class="hx_kbd">?</kbd> for help and tips
              </div>
            </div>
          </command-palette-tip>
          <command-palette-tip class="color-fg-muted f6 px-3 py-1 my-2" data-scope-types="[&quot;&quot;,&quot;owner&quot;,&quot;repository&quot;]" data-mode="#" data-value="" data-match-mode="" data-catalyst="" hidden="">
            <div class="d-flex flex-items-start flex-justify-between">
              <div>
                <span class="text-bold">Tip:</span>
                  Type is:open to filter to open content
              </div>
              <div class="ml-2 flex-shrink-0">
                Type <kbd class="hx_kbd">?</kbd> for help and tips
              </div>
            </div>
          </command-palette-tip>
        <command-palette-tip class="mx-3 my-2 flash flash-error d-flex flex-items-center" data-scope-types="*" data-on-error="" data-mode="*" data-catalyst="" hidden="" data-match-mode="" data-value="*">
          <div>
            <svg aria-hidden="true" height="16" viewBox="0 0 16 16" version="1.1" width="16" data-view-component="true" class="octicon octicon-alert">
    <path d="M6.457 1.047c.659-1.234 2.427-1.234 3.086 0l6.082 11.378A1.75 1.75 0 0 1 14.082 15H1.918a1.75 1.75 0 0 1-1.543-2.575Zm1.763.707a.25.25 0 0 0-.44 0L1.698 13.132a.25.25 0 0 0 .22.368h12.164a.25.25 0 0 0 .22-.368Zm.53 3.996v2.5a.75.75 0 0 1-1.5 0v-2.5a.75.75 0 0 1 1.5 0ZM9 11a1 1 0 1 1-2 0 1 1 0 0 1 2 0Z"></path>
</svg>
          </div>
          <div class="px-2">
            We’ve encountered an error and some results aren't available at this time. Type a new search or try again later.
          </div>
        </command-palette-tip>
        <command-palette-tip class="h4 color-fg-default pl-3 pb-2 pt-3" data-on-empty="" data-scope-types="*" data-match-mode="[^?]|^$" data-mode="*" data-catalyst="" hidden="" data-value="*">
          No results matched your search
        </command-palette-tip>

        <div hidden="">

            <div data-targets="command-palette-page-stack.localOcticons" data-octicon-id="arrow-right-color-fg-muted">
              <svg height="16" class="octicon octicon-arrow-right color-fg-muted" viewBox="0 0 16 16" version="1.1" width="16" aria-hidden="true"><path d="M8.22 2.97a.75.75 0 0 1 1.06 0l4.25 4.25a.75.75 0 0 1 0 1.06l-4.25 4.25a.751.751 0 0 1-1.042-.018.751.751 0 0 1-.018-1.042l2.97-2.97H3.75a.75.75 0 0 1 0-1.5h7.44L8.22 4.03a.75.75 0 0 1 0-1.06Z"></path></svg>
            </div>
            <div data-targets="command-palette-page-stack.localOcticons" data-octicon-id="arrow-right-color-fg-default">
              <svg height="16" class="octicon octicon-arrow-right color-fg-default" viewBox="0 0 16 16" version="1.1" width="16" aria-hidden="true"><path d="M8.22 2.97a.75.75 0 0 1 1.06 0l4.25 4.25a.75.75 0 0 1 0 1.06l-4.25 4.25a.751.751 0 0 1-1.042-.018.751.751 0 0 1-.018-1.042l2.97-2.97H3.75a.75.75 0 0 1 0-1.5h7.44L8.22 4.03a.75.75 0 0 1 0-1.06Z"></path></svg>
            </div>
            <div data-targets="command-palette-page-stack.localOcticons" data-octicon-id="codespaces-color-fg-muted">
              <svg height="16" class="octicon octicon-codespaces color-fg-muted" viewBox="0 0 16 16" version="1.1" width="16" aria-hidden="true"><path d="M0 11.25c0-.966.784-1.75 1.75-1.75h12.5c.966 0 1.75.784 1.75 1.75v3A1.75 1.75 0 0 1 14.25 16H1.75A1.75 1.75 0 0 1 0 14.25Zm2-9.5C2 .784 2.784 0 3.75 0h8.5C13.216 0 14 .784 14 1.75v5a1.75 1.75 0 0 1-1.75 1.75h-8.5A1.75 1.75 0 0 1 2 6.75Zm1.75-.25a.25.25 0 0 0-.25.25v5c0 .138.112.25.25.25h8.5a.25.25 0 0 0 .25-.25v-5a.25.25 0 0 0-.25-.25Zm-2 9.5a.25.25 0 0 0-.25.25v3c0 .138.112.25.25.25h12.5a.25.25 0 0 0 .25-.25v-3a.25.25 0 0 0-.25-.25Z"></path><path d="M7 12.75a.75.75 0 0 1 .75-.75h4.5a.75.75 0 0 1 0 1.5h-4.5a.75.75 0 0 1-.75-.75Zm-4 0a.75.75 0 0 1 .75-.75h.5a.75.75 0 0 1 0 1.5h-.5a.75.75 0 0 1-.75-.75Z"></path></svg>
            </div>
            <div data-targets="command-palette-page-stack.localOcticons" data-octicon-id="copy-color-fg-muted">
              <svg height="16" class="octicon octicon-copy color-fg-muted" viewBox="0 0 16 16" version="1.1" width="16" aria-hidden="true"><path d="M0 6.75C0 5.784.784 5 1.75 5h1.5a.75.75 0 0 1 0 1.5h-1.5a.25.25 0 0 0-.25.25v7.5c0 .138.112.25.25.25h7.5a.25.25 0 0 0 .25-.25v-1.5a.75.75 0 0 1 1.5 0v1.5A1.75 1.75 0 0 1 9.25 16h-7.5A1.75 1.75 0 0 1 0 14.25Z"></path><path d="M5 1.75C5 .784 5.784 0 6.75 0h7.5C15.216 0 16 .784 16 1.75v7.5A1.75 1.75 0 0 1 14.25 11h-7.5A1.75 1.75 0 0 1 5 9.25Zm1.75-.25a.25.25 0 0 0-.25.25v7.5c0 .138.112.25.25.25h7.5a.25.25 0 0 0 .25-.25v-7.5a.25.25 0 0 0-.25-.25Z"></path></svg>
            </div>
            <div data-targets="command-palette-page-stack.localOcticons" data-octicon-id="dash-color-fg-muted">
              <svg height="16" class="octicon octicon-dash color-fg-muted" viewBox="0 0 16 16" version="1.1" width="16" aria-hidden="true"><path d="M2 7.75A.75.75 0 0 1 2.75 7h10a.75.75 0 0 1 0 1.5h-10A.75.75 0 0 1 2 7.75Z"></path></svg>
            </div>
            <div data-targets="command-palette-page-stack.localOcticons" data-octicon-id="file-color-fg-muted">
              <svg height="16" class="octicon octicon-file color-fg-muted" viewBox="0 0 16 16" version="1.1" width="16" aria-hidden="true"><path d="M2 1.75C2 .784 2.784 0 3.75 0h6.586c.464 0 .909.184 1.237.513l2.914 2.914c.329.328.513.773.513 1.237v9.586A1.75 1.75 0 0 1 13.25 16h-9.5A1.75 1.75 0 0 1 2 14.25Zm1.75-.25a.25.25 0 0 0-.25.25v12.5c0 .138.112.25.25.25h9.5a.25.25 0 0 0 .25-.25V6h-2.75A1.75 1.75 0 0 1 9 4.25V1.5Zm6.75.062V4.25c0 .138.112.25.25.25h2.688l-.011-.013-2.914-2.914-.013-.011Z"></path></svg>
            </div>
            <div data-targets="command-palette-page-stack.localOcticons" data-octicon-id="gear-color-fg-muted">
              <svg height="16" class="octicon octicon-gear color-fg-muted" viewBox="0 0 16 16" version="1.1" width="16" aria-hidden="true"><path d="M8 0a8.2 8.2 0 0 1 .701.031C9.444.095 9.99.645 10.16 1.29l.288 1.107c.018.066.079.158.212.224.231.114.454.243.668.386.123.082.233.09.299.071l1.103-.303c.644-.176 1.392.021 1.82.63.27.385.506.792.704 1.218.315.675.111 1.422-.364 1.891l-.814.806c-.049.048-.098.147-.088.294.016.257.016.515 0 .772-.01.147.038.246.088.294l.814.806c.475.469.679 1.216.364 1.891a7.977 7.977 0 0 1-.704 1.217c-.428.61-1.176.807-1.82.63l-1.102-.302c-.067-.019-.177-.011-.3.071a5.909 5.909 0 0 1-.668.386c-.133.066-.194.158-.211.224l-.29 1.106c-.168.646-.715 1.196-1.458 1.26a8.006 8.006 0 0 1-1.402 0c-.743-.064-1.289-.614-1.458-1.26l-.289-1.106c-.018-.066-.079-.158-.212-.224a5.738 5.738 0 0 1-.668-.386c-.123-.082-.233-.09-.299-.071l-1.103.303c-.644.176-1.392-.021-1.82-.63a8.12 8.12 0 0 1-.704-1.218c-.315-.675-.111-1.422.363-1.891l.815-.806c.05-.048.098-.147.088-.294a6.214 6.214 0 0 1 0-.772c.01-.147-.038-.246-.088-.294l-.815-.806C.635 6.045.431 5.298.746 4.623a7.92 7.92 0 0 1 .704-1.217c.428-.61 1.176-.807 1.82-.63l1.102.302c.067.019.177.011.3-.071.214-.143.437-.272.668-.386.133-.066.194-.158.211-.224l.29-1.106C6.009.645 6.556.095 7.299.03 7.53.01 7.764 0 8 0Zm-.571 1.525c-.036.003-.108.036-.137.146l-.289 1.105c-.147.561-.549.967-.998 1.189-.173.086-.34.183-.5.29-.417.278-.97.423-1.529.27l-1.103-.303c-.109-.03-.175.016-.195.045-.22.312-.412.644-.573.99-.014.031-.021.11.059.19l.815.806c.411.406.562.957.53 1.456a4.709 4.709 0 0 0 0 .582c.032.499-.119 1.05-.53 1.456l-.815.806c-.081.08-.073.159-.059.19.162.346.353.677.573.989.02.03.085.076.195.046l1.102-.303c.56-.153 1.113-.008 1.53.27.161.107.328.204.501.29.447.222.85.629.997 1.189l.289 1.105c.029.109.101.143.137.146a6.6 6.6 0 0 0 1.142 0c.036-.003.108-.036.137-.146l.289-1.105c.147-.561.549-.967.998-1.189.173-.086.34-.183.5-.29.417-.278.97-.423 1.529-.27l1.103.303c.109.029.175-.016.195-.045.22-.313.411-.644.573-.99.014-.031.021-.11-.059-.19l-.815-.806c-.411-.406-.562-.957-.53-1.456a4.709 4.709 0 0 0 0-.582c-.032-.499.119-1.05.53-1.456l.815-.806c.081-.08.073-.159.059-.19a6.464 6.464 0 0 0-.573-.989c-.02-.03-.085-.076-.195-.046l-1.102.303c-.56.153-1.113.008-1.53-.27a4.44 4.44 0 0 0-.501-.29c-.447-.222-.85-.629-.997-1.189l-.289-1.105c-.029-.11-.101-.143-.137-.146a6.6 6.6 0 0 0-1.142 0ZM11 8a3 3 0 1 1-6 0 3 3 0 0 1 6 0ZM9.5 8a1.5 1.5 0 1 0-3.001.001A1.5 1.5 0 0 0 9.5 8Z"></path></svg>
            </div>
            <div data-targets="command-palette-page-stack.localOcticons" data-octicon-id="lock-color-fg-muted">
              <svg height="16" class="octicon octicon-lock color-fg-muted" viewBox="0 0 16 16" version="1.1" width="16" aria-hidden="true"><path d="M4 4a4 4 0 0 1 8 0v2h.25c.966 0 1.75.784 1.75 1.75v5.5A1.75 1.75 0 0 1 12.25 15h-8.5A1.75 1.75 0 0 1 2 13.25v-5.5C2 6.784 2.784 6 3.75 6H4Zm8.25 3.5h-8.5a.25.25 0 0 0-.25.25v5.5c0 .138.112.25.25.25h8.5a.25.25 0 0 0 .25-.25v-5.5a.25.25 0 0 0-.25-.25ZM10.5 6V4a2.5 2.5 0 1 0-5 0v2Z"></path></svg>
            </div>
            <div data-targets="command-palette-page-stack.localOcticons" data-octicon-id="moon-color-fg-muted">
              <svg height="16" class="octicon octicon-moon color-fg-muted" viewBox="0 0 16 16" version="1.1" width="16" aria-hidden="true"><path d="M9.598 1.591a.749.749 0 0 1 .785-.175 7.001 7.001 0 1 1-8.967 8.967.75.75 0 0 1 .961-.96 5.5 5.5 0 0 0 7.046-7.046.75.75 0 0 1 .175-.786Zm1.616 1.945a7 7 0 0 1-7.678 7.678 5.499 5.499 0 1 0 7.678-7.678Z"></path></svg>
            </div>
            <div data-targets="command-palette-page-stack.localOcticons" data-octicon-id="person-color-fg-muted">
              <svg height="16" class="octicon octicon-person color-fg-muted" viewBox="0 0 16 16" version="1.1" width="16" aria-hidden="true"><path d="M10.561 8.073a6.005 6.005 0 0 1 3.432 5.142.75.75 0 1 1-1.498.07 4.5 4.5 0 0 0-8.99 0 .75.75 0 0 1-1.498-.07 6.004 6.004 0 0 1 3.431-5.142 3.999 3.999 0 1 1 5.123 0ZM10.5 5a2.5 2.5 0 1 0-5 0 2.5 2.5 0 0 0 5 0Z"></path></svg>
            </div>
            <div data-targets="command-palette-page-stack.localOcticons" data-octicon-id="pencil-color-fg-muted">
              <svg height="16" class="octicon octicon-pencil color-fg-muted" viewBox="0 0 16 16" version="1.1" width="16" aria-hidden="true"><path d="M11.013 1.427a1.75 1.75 0 0 1 2.474 0l1.086 1.086a1.75 1.75 0 0 1 0 2.474l-8.61 8.61c-.21.21-.47.364-.756.445l-3.251.93a.75.75 0 0 1-.927-.928l.929-3.25c.081-.286.235-.547.445-.758l8.61-8.61Zm.176 4.823L9.75 4.81l-6.286 6.287a.253.253 0 0 0-.064.108l-.558 1.953 1.953-.558a.253.253 0 0 0 .108-.064Zm1.238-3.763a.25.25 0 0 0-.354 0L10.811 3.75l1.439 1.44 1.263-1.263a.25.25 0 0 0 0-.354Z"></path></svg>
            </div>
            <div data-targets="command-palette-page-stack.localOcticons" data-octicon-id="issue-opened-open">
              <svg height="16" class="octicon octicon-issue-opened open" viewBox="0 0 16 16" version="1.1" width="16" aria-hidden="true"><path d="M8 9.5a1.5 1.5 0 1 0 0-3 1.5 1.5 0 0 0 0 3Z"></path><path d="M8 0a8 8 0 1 1 0 16A8 8 0 0 1 8 0ZM1.5 8a6.5 6.5 0 1 0 13 0 6.5 6.5 0 0 0-13 0Z"></path></svg>
            </div>
            <div data-targets="command-palette-page-stack.localOcticons" data-octicon-id="git-pull-request-draft-color-fg-muted">
              <svg height="16" class="octicon octicon-git-pull-request-draft color-fg-muted" viewBox="0 0 16 16" version="1.1" width="16" aria-hidden="true"><path d="M3.25 1A2.25 2.25 0 0 1 4 5.372v5.256a2.251 2.251 0 1 1-1.5 0V5.372A2.251 2.251 0 0 1 3.25 1Zm9.5 14a2.25 2.25 0 1 1 0-4.5 2.25 2.25 0 0 1 0 4.5ZM2.5 3.25a.75.75 0 1 0 1.5 0 .75.75 0 0 0-1.5 0ZM3.25 12a.75.75 0 1 0 0 1.5.75.75 0 0 0 0-1.5Zm9.5 0a.75.75 0 1 0 0 1.5.75.75 0 0 0 0-1.5ZM14 7.5a1.25 1.25 0 1 1-2.5 0 1.25 1.25 0 0 1 2.5 0Zm0-4.25a1.25 1.25 0 1 1-2.5 0 1.25 1.25 0 0 1 2.5 0Z"></path></svg>
            </div>
            <div data-targets="command-palette-page-stack.localOcticons" data-octicon-id="search-color-fg-muted">
              <svg height="16" class="octicon octicon-search color-fg-muted" viewBox="0 0 16 16" version="1.1" width="16" aria-hidden="true"><path d="M10.68 11.74a6 6 0 0 1-7.922-8.982 6 6 0 0 1 8.982 7.922l3.04 3.04a.749.749 0 0 1-.326 1.275.749.749 0 0 1-.734-.215ZM11.5 7a4.499 4.499 0 1 0-8.997 0A4.499 4.499 0 0 0 11.5 7Z"></path></svg>
            </div>
            <div data-targets="command-palette-page-stack.localOcticons" data-octicon-id="sun-color-fg-muted">
              <svg height="16" class="octicon octicon-sun color-fg-muted" viewBox="0 0 16 16" version="1.1" width="16" aria-hidden="true"><path d="M8 12a4 4 0 1 1 0-8 4 4 0 0 1 0 8Zm0-1.5a2.5 2.5 0 1 0 0-5 2.5 2.5 0 0 0 0 5Zm5.657-8.157a.75.75 0 0 1 0 1.061l-1.061 1.06a.749.749 0 0 1-1.275-.326.749.749 0 0 1 .215-.734l1.06-1.06a.75.75 0 0 1 1.06 0Zm-9.193 9.193a.75.75 0 0 1 0 1.06l-1.06 1.061a.75.75 0 1 1-1.061-1.06l1.06-1.061a.75.75 0 0 1 1.061 0ZM8 0a.75.75 0 0 1 .75.75v1.5a.75.75 0 0 1-1.5 0V.75A.75.75 0 0 1 8 0ZM3 8a.75.75 0 0 1-.75.75H.75a.75.75 0 0 1 0-1.5h1.5A.75.75 0 0 1 3 8Zm13 0a.75.75 0 0 1-.75.75h-1.5a.75.75 0 0 1 0-1.5h1.5A.75.75 0 0 1 16 8Zm-8 5a.75.75 0 0 1 .75.75v1.5a.75.75 0 0 1-1.5 0v-1.5A.75.75 0 0 1 8 13Zm3.536-1.464a.75.75 0 0 1 1.06 0l1.061 1.06a.75.75 0 0 1-1.06 1.061l-1.061-1.06a.75.75 0 0 1 0-1.061ZM2.343 2.343a.75.75 0 0 1 1.061 0l1.06 1.061a.751.751 0 0 1-.018 1.042.751.751 0 0 1-1.042.018l-1.06-1.06a.75.75 0 0 1 0-1.06Z"></path></svg>
            </div>
            <div data-targets="command-palette-page-stack.localOcticons" data-octicon-id="sync-color-fg-muted">
              <svg height="16" class="octicon octicon-sync color-fg-muted" viewBox="0 0 16 16" version="1.1" width="16" aria-hidden="true"><path d="M1.705 8.005a.75.75 0 0 1 .834.656 5.5 5.5 0 0 0 9.592 2.97l-1.204-1.204a.25.25 0 0 1 .177-.427h3.646a.25.25 0 0 1 .25.25v3.646a.25.25 0 0 1-.427.177l-1.38-1.38A7.002 7.002 0 0 1 1.05 8.84a.75.75 0 0 1 .656-.834ZM8 2.5a5.487 5.487 0 0 0-4.131 1.869l1.204 1.204A.25.25 0 0 1 4.896 6H1.25A.25.25 0 0 1 1 5.75V2.104a.25.25 0 0 1 .427-.177l1.38 1.38A7.002 7.002 0 0 1 14.95 7.16a.75.75 0 0 1-1.49.178A5.5 5.5 0 0 0 8 2.5Z"></path></svg>
            </div>
            <div data-targets="command-palette-page-stack.localOcticons" data-octicon-id="trash-color-fg-muted">
              <svg height="16" class="octicon octicon-trash color-fg-muted" viewBox="0 0 16 16" version="1.1" width="16" aria-hidden="true"><path d="M11 1.75V3h2.25a.75.75 0 0 1 0 1.5H2.75a.75.75 0 0 1 0-1.5H5V1.75C5 .784 5.784 0 6.75 0h2.5C10.216 0 11 .784 11 1.75ZM4.496 6.675l.66 6.6a.25.25 0 0 0 .249.225h5.19a.25.25 0 0 0 .249-.225l.66-6.6a.75.75 0 0 1 1.492.149l-.66 6.6A1.748 1.748 0 0 1 10.595 15h-5.19a1.75 1.75 0 0 1-1.741-1.575l-.66-6.6a.75.75 0 1 1 1.492-.15ZM6.5 1.75V3h3V1.75a.25.25 0 0 0-.25-.25h-2.5a.25.25 0 0 0-.25.25Z"></path></svg>
            </div>
            <div data-targets="command-palette-page-stack.localOcticons" data-octicon-id="key-color-fg-muted">
              <svg height="16" class="octicon octicon-key color-fg-muted" viewBox="0 0 16 16" version="1.1" width="16" aria-hidden="true"><path d="M10.5 0a5.499 5.499 0 1 1-1.288 10.848l-.932.932a.749.749 0 0 1-.53.22H7v.75a.749.749 0 0 1-.22.53l-.5.5a.749.749 0 0 1-.53.22H5v.75a.749.749 0 0 1-.22.53l-.5.5a.749.749 0 0 1-.53.22h-2A1.75 1.75 0 0 1 0 14.25v-2c0-.199.079-.389.22-.53l4.932-4.932A5.5 5.5 0 0 1 10.5 0Zm-4 5.5c-.001.431.069.86.205 1.269a.75.75 0 0 1-.181.768L1.5 12.56v1.69c0 .138.112.25.25.25h1.69l.06-.06v-1.19a.75.75 0 0 1 .75-.75h1.19l.06-.06v-1.19a.75.75 0 0 1 .75-.75h1.19l1.023-1.025a.75.75 0 0 1 .768-.18A4 4 0 1 0 6.5 5.5ZM11 6a1 1 0 1 1 0-2 1 1 0 0 1 0 2Z"></path></svg>
            </div>
            <div data-targets="command-palette-page-stack.localOcticons" data-octicon-id="comment-discussion-color-fg-muted">
              <svg height="16" class="octicon octicon-comment-discussion color-fg-muted" viewBox="0 0 16 16" version="1.1" width="16" aria-hidden="true"><path d="M1.75 1h8.5c.966 0 1.75.784 1.75 1.75v5.5A1.75 1.75 0 0 1 10.25 10H7.061l-2.574 2.573A1.458 1.458 0 0 1 2 11.543V10h-.25A1.75 1.75 0 0 1 0 8.25v-5.5C0 1.784.784 1 1.75 1ZM1.5 2.75v5.5c0 .138.112.25.25.25h1a.75.75 0 0 1 .75.75v2.19l2.72-2.72a.749.749 0 0 1 .53-.22h3.5a.25.25 0 0 0 .25-.25v-5.5a.25.25 0 0 0-.25-.25h-8.5a.25.25 0 0 0-.25.25Zm13 2a.25.25 0 0 0-.25-.25h-.5a.75.75 0 0 1 0-1.5h.5c.966 0 1.75.784 1.75 1.75v5.5A1.75 1.75 0 0 1 14.25 12H14v1.543a1.458 1.458 0 0 1-2.487 1.03L9.22 12.28a.749.749 0 0 1 .326-1.275.749.749 0 0 1 .734.215l2.22 2.22v-2.19a.75.75 0 0 1 .75-.75h1a.25.25 0 0 0 .25-.25Z"></path></svg>
            </div>
            <div data-targets="command-palette-page-stack.localOcticons" data-octicon-id="bell-color-fg-muted">
              <svg height="16" class="octicon octicon-bell color-fg-muted" viewBox="0 0 16 16" version="1.1" width="16" aria-hidden="true"><path d="M8 16a2 2 0 0 0 1.985-1.75c.017-.137-.097-.25-.235-.25h-3.5c-.138 0-.252.113-.235.25A2 2 0 0 0 8 16ZM3 5a5 5 0 0 1 10 0v2.947c0 .05.015.098.042.139l1.703 2.555A1.519 1.519 0 0 1 13.482 13H2.518a1.516 1.516 0 0 1-1.263-2.36l1.703-2.554A.255.255 0 0 0 3 7.947Zm5-3.5A3.5 3.5 0 0 0 4.5 5v2.947c0 .346-.102.683-.294.97l-1.703 2.556a.017.017 0 0 0-.003.01l.001.006c0 .002.002.004.004.006l.006.004.007.001h10.964l.007-.001.006-.004.004-.006.001-.007a.017.017 0 0 0-.003-.01l-1.703-2.554a1.745 1.745 0 0 1-.294-.97V5A3.5 3.5 0 0 0 8 1.5Z"></path></svg>
            </div>
            <div data-targets="command-palette-page-stack.localOcticons" data-octicon-id="bell-slash-color-fg-muted">
              <svg height="16" class="octicon octicon-bell-slash color-fg-muted" viewBox="0 0 16 16" version="1.1" width="16" aria-hidden="true"><path d="m4.182 4.31.016.011 10.104 7.316.013.01 1.375.996a.75.75 0 1 1-.88 1.214L13.626 13H2.518a1.516 1.516 0 0 1-1.263-2.36l1.703-2.554A.255.255 0 0 0 3 7.947V5.305L.31 3.357a.75.75 0 1 1 .88-1.214Zm7.373 7.19L4.5 6.391v1.556c0 .346-.102.683-.294.97l-1.703 2.556a.017.017 0 0 0-.003.01c0 .005.002.009.005.012l.006.004.007.001ZM8 1.5c-.997 0-1.895.416-2.534 1.086A.75.75 0 1 1 4.38 1.55 5 5 0 0 1 13 5v2.373a.75.75 0 0 1-1.5 0V5A3.5 3.5 0 0 0 8 1.5ZM8 16a2 2 0 0 1-1.985-1.75c-.017-.137.097-.25.235-.25h3.5c.138 0 .252.113.235.25A2 2 0 0 1 8 16Z"></path></svg>
            </div>
            <div data-targets="command-palette-page-stack.localOcticons" data-octicon-id="paintbrush-color-fg-muted">
              <svg height="16" class="octicon octicon-paintbrush color-fg-muted" viewBox="0 0 16 16" version="1.1" width="16" aria-hidden="true"><path d="M11.134 1.535c.7-.509 1.416-.942 2.076-1.155.649-.21 1.463-.267 2.069.34.603.601.568 1.411.368 2.07-.202.668-.624 1.39-1.125 2.096-1.011 1.424-2.496 2.987-3.775 4.249-1.098 1.084-2.132 1.839-3.04 2.3a3.744 3.744 0 0 1-1.055 3.217c-.431.431-1.065.691-1.657.861-.614.177-1.294.287-1.914.357A21.151 21.151 0 0 1 .797 16H.743l.007-.75H.749L.742 16a.75.75 0 0 1-.743-.742l.743-.008-.742.007v-.054a21.25 21.25 0 0 1 .13-2.284c.067-.647.187-1.287.358-1.914.17-.591.43-1.226.86-1.657a3.746 3.746 0 0 1 3.227-1.054c.466-.893 1.225-1.907 2.314-2.982 1.271-1.255 2.833-2.75 4.245-3.777ZM1.62 13.089c-.051.464-.086.929-.104 1.395.466-.018.932-.053 1.396-.104a10.511 10.511 0 0 0 1.668-.309c.526-.151.856-.325 1.011-.48a2.25 2.25 0 1 0-3.182-3.182c-.155.155-.329.485-.48 1.01a10.515 10.515 0 0 0-.309 1.67Zm10.396-10.34c-1.224.89-2.605 2.189-3.822 3.384l1.718 1.718c1.21-1.205 2.51-2.597 3.387-3.833.47-.662.78-1.227.912-1.662.134-.444.032-.551.009-.575h-.001V1.78c-.014-.014-.113-.113-.548.027-.432.14-.995.462-1.655.942Zm-4.832 7.266-.001.001a9.859 9.859 0 0 0 1.63-1.142L7.155 7.216a9.7 9.7 0 0 0-1.161 1.607c.482.302.889.71 1.19 1.192Z"></path></svg>
            </div>

            <command-palette-item-group data-group-id="top" data-group-title="Top result" data-group-hint="" data-group-limits="{}" data-default-priority="0" data-catalyst="" class="py-2 border-top" hidden="true" data-skip-template="">
            
          <div class="d-flex flex-justify-between my-2 px-3">
            <span data-target="command-palette-item-group.header" class="color-fg-muted text-bold f6 text-normal">
              Top result
            </span>
            <span data-target="command-palette-item-group.header" class="color-fg-muted f6 text-normal">
              
            </span>
          </div>
          <div role="listbox" class="list-style-none" data-target="command-palette-item-group.list" aria-label="Top result results"></div>
        </command-palette-item-group>
            <command-palette-item-group data-group-id="commands" data-group-title="Commands" data-group-hint="Type &gt; to filter" data-group-limits="{&quot;static_items_page&quot;:50,&quot;issue&quot;:50,&quot;pull_request&quot;:50,&quot;discussion&quot;:50}" data-default-priority="1" data-catalyst="" class="py-2 border-top" hidden="true" data-skip-template="">
            
          <div class="d-flex flex-justify-between my-2 px-3">
            <span data-target="command-palette-item-group.header" class="color-fg-muted text-bold f6 text-normal">
              Commands
            </span>
            <span data-target="command-palette-item-group.header" class="color-fg-muted f6 text-normal">
              Type &gt; to filter
            </span>
          </div>
          <div role="listbox" class="list-style-none" data-target="command-palette-item-group.list" aria-label="Commands results"></div>
        </command-palette-item-group>
            <command-palette-item-group data-group-id="global_commands" data-group-title="Global Commands" data-group-hint="Type &gt; to filter" data-group-limits="{&quot;issue&quot;:0,&quot;pull_request&quot;:0,&quot;discussion&quot;:0}" data-default-priority="2" data-catalyst="" class="py-2 border-top" hidden="true" data-skip-template="">
            
          <div class="d-flex flex-justify-between my-2 px-3">
            <span data-target="command-palette-item-group.header" class="color-fg-muted text-bold f6 text-normal">
              Global Commands
            </span>
            <span data-target="command-palette-item-group.header" class="color-fg-muted f6 text-normal">
              Type &gt; to filter
            </span>
          </div>
          <div role="listbox" class="list-style-none" data-target="command-palette-item-group.list" aria-label="Global Commands results"></div>
        </command-palette-item-group>
            <command-palette-item-group data-group-id="this_page" data-group-title="This Page" data-group-hint="" data-group-limits="{}" data-default-priority="3" data-catalyst="" class="py-2 border-top" hidden="true" data-skip-template="">
            
          <div class="d-flex flex-justify-between my-2 px-3">
            <span data-target="command-palette-item-group.header" class="color-fg-muted text-bold f6 text-normal">
              This Page
            </span>
            <span data-target="command-palette-item-group.header" class="color-fg-muted f6 text-normal">
              
            </span>
          </div>
          <div role="listbox" class="list-style-none" data-target="command-palette-item-group.list" aria-label="This Page results"></div>
        </command-palette-item-group>
            <command-palette-item-group data-group-id="files" data-group-title="Files" data-group-hint="" data-group-limits="{}" data-default-priority="4" data-catalyst="" class="py-2 border-top" hidden="true" data-skip-template="">
            
          <div class="d-flex flex-justify-between my-2 px-3">
            <span data-target="command-palette-item-group.header" class="color-fg-muted text-bold f6 text-normal">
              Files
            </span>
            <span data-target="command-palette-item-group.header" class="color-fg-muted f6 text-normal">
              
            </span>
          </div>
          <div role="listbox" class="list-style-none" data-target="command-palette-item-group.list" aria-label="Files results"></div>
        </command-palette-item-group>
            <command-palette-item-group data-group-id="default" data-group-title="Default" data-group-hint="" data-group-limits="{&quot;static_items_page&quot;:50}" data-default-priority="5" data-catalyst="" class="py-2 border-top" hidden="true" data-skip-template="">
            
          <div role="listbox" class="list-style-none" data-target="command-palette-item-group.list" aria-label="Default results"></div>
        </command-palette-item-group>
            <command-palette-item-group data-group-id="pages" data-group-title="Pages" data-group-hint="" data-group-limits="{&quot;repository&quot;:10}" data-default-priority="6" data-catalyst="" class="py-2 border-top" hidden="true" data-skip-template="">
            
          <div class="d-flex flex-justify-between my-2 px-3">
            <span data-target="command-palette-item-group.header" class="color-fg-muted text-bold f6 text-normal">
              Pages
            </span>
            <span data-target="command-palette-item-group.header" class="color-fg-muted f6 text-normal">
              
            </span>
          </div>
          <div role="listbox" class="list-style-none" data-target="command-palette-item-group.list" aria-label="Pages results"></div>
        </command-palette-item-group>
            <command-palette-item-group data-group-id="access_policies" data-group-title="Access Policies" data-group-hint="" data-group-limits="{}" data-default-priority="7" data-catalyst="" class="py-2 border-top" hidden="true" data-skip-template="">
            
          <div class="d-flex flex-justify-between my-2 px-3">
            <span data-target="command-palette-item-group.header" class="color-fg-muted text-bold f6 text-normal">
              Access Policies
            </span>
            <span data-target="command-palette-item-group.header" class="color-fg-muted f6 text-normal">
              
            </span>
          </div>
          <div role="listbox" class="list-style-none" data-target="command-palette-item-group.list" aria-label="Access Policies results"></div>
        </command-palette-item-group>
            <command-palette-item-group data-group-id="organizations" data-group-title="Organizations" data-group-hint="" data-group-limits="{}" data-default-priority="8" data-catalyst="" class="py-2 border-top" hidden="true" data-skip-template="">
            
          <div class="d-flex flex-justify-between my-2 px-3">
            <span data-target="command-palette-item-group.header" class="color-fg-muted text-bold f6 text-normal">
              Organizations
            </span>
            <span data-target="command-palette-item-group.header" class="color-fg-muted f6 text-normal">
              
            </span>
          </div>
          <div role="listbox" class="list-style-none" data-target="command-palette-item-group.list" aria-label="Organizations results"></div>
        </command-palette-item-group>
            <command-palette-item-group data-group-id="repositories" data-group-title="Repositories" data-group-hint="" data-group-limits="{}" data-default-priority="9" data-catalyst="" class="py-2 border-top" hidden="true" data-skip-template="">
            
          <div class="d-flex flex-justify-between my-2 px-3">
            <span data-target="command-palette-item-group.header" class="color-fg-muted text-bold f6 text-normal">
              Repositories
            </span>
            <span data-target="command-palette-item-group.header" class="color-fg-muted f6 text-normal">
              
            </span>
          </div>
          <div role="listbox" class="list-style-none" data-target="command-palette-item-group.list" aria-label="Repositories results"></div>
        </command-palette-item-group>
            <command-palette-item-group data-group-id="references" data-group-title="Issues, pull requests, and discussions" data-group-hint="Type # to filter" data-group-limits="{}" data-default-priority="10" data-catalyst="" class="py-2 border-top" hidden="true" data-skip-template="">
            
          <div class="d-flex flex-justify-between my-2 px-3">
            <span data-target="command-palette-item-group.header" class="color-fg-muted text-bold f6 text-normal">
              Issues, pull requests, and discussions
            </span>
            <span data-target="command-palette-item-group.header" class="color-fg-muted f6 text-normal">
              Type # to filter
            </span>
          </div>
          <div role="listbox" class="list-style-none" data-target="command-palette-item-group.list" aria-label="Issues, pull requests, and discussions results"></div>
        </command-palette-item-group>
            <command-palette-item-group data-group-id="teams" data-group-title="Teams" data-group-hint="" data-group-limits="{}" data-default-priority="11" data-catalyst="" class="py-2 border-top" hidden="true" data-skip-template="">
            
          <div class="d-flex flex-justify-between my-2 px-3">
            <span data-target="command-palette-item-group.header" class="color-fg-muted text-bold f6 text-normal">
              Teams
            </span>
            <span data-target="command-palette-item-group.header" class="color-fg-muted f6 text-normal">
              
            </span>
          </div>
          <div role="listbox" class="list-style-none" data-target="command-palette-item-group.list" aria-label="Teams results"></div>
        </command-palette-item-group>
            <command-palette-item-group data-group-id="users" data-group-title="Users" data-group-hint="" data-group-limits="{}" data-default-priority="12" data-catalyst="" class="py-2 border-top" hidden="true" data-skip-template="">
            
          <div class="d-flex flex-justify-between my-2 px-3">
            <span data-target="command-palette-item-group.header" class="color-fg-muted text-bold f6 text-normal">
              Users
            </span>
            <span data-target="command-palette-item-group.header" class="color-fg-muted f6 text-normal">
              
            </span>
          </div>
          <div role="listbox" class="list-style-none" data-target="command-palette-item-group.list" aria-label="Users results"></div>
        </command-palette-item-group>
            <command-palette-item-group data-group-id="memex_projects" data-group-title="Projects" data-group-hint="" data-group-limits="{}" data-default-priority="13" data-catalyst="" class="py-2 border-top" hidden="true" data-skip-template="">
            
          <div class="d-flex flex-justify-between my-2 px-3">
            <span data-target="command-palette-item-group.header" class="color-fg-muted text-bold f6 text-normal">
              Projects
            </span>
            <span data-target="command-palette-item-group.header" class="color-fg-muted f6 text-normal">
              
            </span>
          </div>
          <div role="listbox" class="list-style-none" data-target="command-palette-item-group.list" aria-label="Projects results"></div>
        </command-palette-item-group>
            <command-palette-item-group data-group-id="projects" data-group-title="Projects (classic)" data-group-hint="" data-group-limits="{}" data-default-priority="14" data-catalyst="" class="py-2 border-top" hidden="true" data-skip-template="">
            
          <div class="d-flex flex-justify-between my-2 px-3">
            <span data-target="command-palette-item-group.header" class="color-fg-muted text-bold f6 text-normal">
              Projects (classic)
            </span>
            <span data-target="command-palette-item-group.header" class="color-fg-muted f6 text-normal">
              
            </span>
          </div>
          <div role="listbox" class="list-style-none" data-target="command-palette-item-group.list" aria-label="Projects (classic) results"></div>
        </command-palette-item-group>
            <command-palette-item-group data-group-id="footer" data-group-title="Footer" data-group-hint="" data-group-limits="{}" data-default-priority="15" data-catalyst="" class="py-2 border-top" hidden="true" data-skip-template="">
            
          <div role="listbox" class="list-style-none" data-target="command-palette-item-group.list" aria-label="Footer results"></div>
        </command-palette-item-group>
            <command-palette-item-group data-group-id="modes_help" data-group-title="Modes" data-group-hint="" data-group-limits="{}" data-default-priority="16" data-catalyst="" class="py-2 border-top" hidden="true" data-skip-template="">
            
          <div class="d-flex flex-justify-between my-2 px-3">
            <span data-target="command-palette-item-group.header" class="color-fg-muted text-bold f6 text-normal">
              Modes
            </span>
            <span data-target="command-palette-item-group.header" class="color-fg-muted f6 text-normal">
              
            </span>
          </div>
          <div role="listbox" class="list-style-none" data-target="command-palette-item-group.list" aria-label="Modes results"></div>
        </command-palette-item-group>
            <command-palette-item-group data-group-id="filters_help" data-group-title="Use filters in issues, pull requests, discussions, and projects" data-group-hint="" data-group-limits="{}" data-default-priority="17" data-catalyst="" class="py-2 border-top" hidden="true" data-skip-template="">
            
          <div class="d-flex flex-justify-between my-2 px-3">
            <span data-target="command-palette-item-group.header" class="color-fg-muted text-bold f6 text-normal">
              Use filters in issues, pull requests, discussions, and projects
            </span>
            <span data-target="command-palette-item-group.header" class="color-fg-muted f6 text-normal">
              
            </span>
          </div>
          <div role="listbox" class="list-style-none" data-target="command-palette-item-group.list" aria-label="Use filters in issues, pull requests, discussions, and projects results"></div>
        </command-palette-item-group>

            <command-palette-page data-page-title="Adyael" data-scope-id="MDQ6VXNlcjcwOTIwMDYx" data-scope-type="owner" data-targets="command-palette-page-stack.defaultPages" hidden="" data-catalyst="" class="rounded-bottom-2 page-stack-transition-height" style="max-height:400px;">
            </command-palette-page>
            <command-palette-page data-page-title="ml_2023" data-scope-id="R_kgDOJbsa-Q" data-scope-type="repository" data-targets="command-palette-page-stack.defaultPages" hidden="" data-catalyst="" class="rounded-bottom-2 page-stack-transition-height" style="max-height:400px;">
            </command-palette-page>
        </div>

        <command-palette-page data-is-root="" hidden="" data-page-title="" data-catalyst="" class="rounded-bottom-2 page-stack-transition-height" data-targets="command-palette-page-stack.pages" style="max-height:400px;" data-scope-id="" data-scope-type="">
        </command-palette-page>
          <command-palette-page data-page-title="Adyael" data-scope-id="MDQ6VXNlcjcwOTIwMDYx" data-scope-type="owner" hidden="" data-catalyst="" class="rounded-bottom-2 page-stack-transition-height" data-targets="command-palette-page-stack.pages" style="max-height:400px;">
          </command-palette-page>
          <command-palette-page data-page-title="ml_2023" data-scope-id="R_kgDOJbsa-Q" data-scope-type="repository" hidden="" data-catalyst="" class="rounded-bottom-2 page-stack-transition-height" data-targets="command-palette-page-stack.pages" style="max-height:400px;">
          </command-palette-page>
      </command-palette-page-stack>

      <server-defined-provider data-type="search-links" data-targets="command-palette.serverDefinedProviderElements" data-supported-modes="" data-catalyst="" data-fetch-debounce="" data-supported-scope-types="" data-src="" data-supports-commands=""></server-defined-provider>
      <server-defined-provider data-type="help" data-targets="command-palette.serverDefinedProviderElements" data-supported-modes="" data-catalyst="" data-fetch-debounce="" data-supported-scope-types="" data-src="" data-supports-commands="">
          <command-palette-help data-group="modes_help" data-prefix="#" data-scope-types="[&quot;&quot;]" data-catalyst="" hidden="">
            <span data-target="command-palette-help.titleElement">Search for <strong>issues</strong> and <strong>pull requests</strong></span>
              <span data-target="command-palette-help.hintElement">
                <kbd class="hx_kbd">#</kbd>
              </span>
          </command-palette-help>
          <command-palette-help data-group="modes_help" data-prefix="#" data-scope-types="[&quot;owner&quot;,&quot;repository&quot;]" data-catalyst="" hidden="">
            <span data-target="command-palette-help.titleElement">Search for <strong>issues, pull requests, discussions,</strong> and <strong>projects</strong></span>
              <span data-target="command-palette-help.hintElement">
                <kbd class="hx_kbd">#</kbd>
              </span>
          </command-palette-help>
          <command-palette-help data-group="modes_help" data-prefix="@" data-scope-types="[&quot;&quot;]" data-catalyst="" hidden="">
            <span data-target="command-palette-help.titleElement">Search for <strong>organizations, repositories,</strong> and <strong>users</strong></span>
              <span data-target="command-palette-help.hintElement">
                <kbd class="hx_kbd">@</kbd>
              </span>
          </command-palette-help>
          <command-palette-help data-group="modes_help" data-prefix="!" data-scope-types="[&quot;owner&quot;,&quot;repository&quot;]" data-catalyst="" hidden="">
            <span data-target="command-palette-help.titleElement">Search for <strong>projects</strong></span>
              <span data-target="command-palette-help.hintElement">
                <kbd class="hx_kbd">!</kbd>
              </span>
          </command-palette-help>
          <command-palette-help data-group="modes_help" data-prefix="/" data-scope-types="[&quot;repository&quot;]" data-catalyst="" hidden="">
            <span data-target="command-palette-help.titleElement">Search for <strong>files</strong></span>
              <span data-target="command-palette-help.hintElement">
                <kbd class="hx_kbd">/</kbd>
              </span>
          </command-palette-help>
          <command-palette-help data-group="modes_help" data-prefix="&gt;" data-scope-types="" data-catalyst="" hidden="">
            <span data-target="command-palette-help.titleElement">Activate <strong>command mode</strong></span>
              <span data-target="command-palette-help.hintElement">
                <kbd class="hx_kbd">&gt;</kbd>
              </span>
          </command-palette-help>
          <command-palette-help data-group="filters_help" data-prefix="# author:@me" data-scope-types="" data-catalyst="" hidden="">
            <span data-target="command-palette-help.titleElement">Search your issues, pull requests, and discussions</span>
              <span data-target="command-palette-help.hintElement">
                <kbd class="hx_kbd"># author:@me</kbd>
              </span>
          </command-palette-help>
          <command-palette-help data-group="filters_help" data-prefix="# author:@me" data-scope-types="" data-catalyst="" hidden="">
            <span data-target="command-palette-help.titleElement">Search your issues, pull requests, and discussions</span>
              <span data-target="command-palette-help.hintElement">
                <kbd class="hx_kbd"># author:@me</kbd>
              </span>
          </command-palette-help>
          <command-palette-help data-group="filters_help" data-prefix="# is:pr" data-scope-types="" data-catalyst="" hidden="">
            <span data-target="command-palette-help.titleElement">Filter to pull requests</span>
              <span data-target="command-palette-help.hintElement">
                <kbd class="hx_kbd"># is:pr</kbd>
              </span>
          </command-palette-help>
          <command-palette-help data-group="filters_help" data-prefix="# is:issue" data-scope-types="" data-catalyst="" hidden="">
            <span data-target="command-palette-help.titleElement">Filter to issues</span>
              <span data-target="command-palette-help.hintElement">
                <kbd class="hx_kbd"># is:issue</kbd>
              </span>
          </command-palette-help>
          <command-palette-help data-group="filters_help" data-prefix="# is:discussion" data-scope-types="[&quot;owner&quot;,&quot;repository&quot;]" data-catalyst="" hidden="">
            <span data-target="command-palette-help.titleElement">Filter to discussions</span>
              <span data-target="command-palette-help.hintElement">
                <kbd class="hx_kbd"># is:discussion</kbd>
              </span>
          </command-palette-help>
          <command-palette-help data-group="filters_help" data-prefix="# is:project" data-scope-types="[&quot;owner&quot;,&quot;repository&quot;]" data-catalyst="" hidden="">
            <span data-target="command-palette-help.titleElement">Filter to projects</span>
              <span data-target="command-palette-help.hintElement">
                <kbd class="hx_kbd"># is:project</kbd>
              </span>
          </command-palette-help>
          <command-palette-help data-group="filters_help" data-prefix="# is:open" data-scope-types="" data-catalyst="" hidden="">
            <span data-target="command-palette-help.titleElement">Filter to open issues, pull requests, and discussions</span>
              <span data-target="command-palette-help.hintElement">
                <kbd class="hx_kbd"># is:open</kbd>
              </span>
          </command-palette-help>
      </server-defined-provider>

        <server-defined-provider data-type="commands" data-fetch-debounce="0" data-src="/command_palette/commands" data-supported-modes="[]" data-supports-commands="" data-targets="command-palette.serverDefinedProviderElements" data-supported-scope-types="" data-catalyst=""></server-defined-provider>
        <server-defined-provider data-type="prefetched" data-fetch-debounce="0" data-src="/command_palette/jump_to_page_navigation" data-supported-modes="[&quot;&quot;]" data-supported-scope-types="[&quot;&quot;,&quot;owner&quot;,&quot;repository&quot;]" data-targets="command-palette.serverDefinedProviderElements" data-supports-commands="" data-catalyst=""></server-defined-provider>
        <server-defined-provider data-type="remote" data-fetch-debounce="200" data-src="/command_palette/issues" data-supported-modes="[&quot;#&quot;,&quot;#&quot;]" data-supported-scope-types="[&quot;owner&quot;,&quot;repository&quot;,&quot;&quot;]" data-targets="command-palette.serverDefinedProviderElements" data-supports-commands="" data-catalyst=""></server-defined-provider>
        <server-defined-provider data-type="remote" data-fetch-debounce="200" data-src="/command_palette/jump_to" data-supported-modes="[&quot;@&quot;,&quot;@&quot;]" data-supported-scope-types="[&quot;&quot;,&quot;owner&quot;]" data-targets="command-palette.serverDefinedProviderElements" data-supports-commands="" data-catalyst=""></server-defined-provider>
        <server-defined-provider data-type="remote" data-fetch-debounce="200" data-src="/command_palette/jump_to_members_only" data-supported-modes="[&quot;@&quot;,&quot;@&quot;,&quot;&quot;,&quot;&quot;]" data-supported-scope-types="[&quot;&quot;,&quot;owner&quot;]" data-targets="command-palette.serverDefinedProviderElements" data-supports-commands="" data-catalyst=""></server-defined-provider>
        <server-defined-provider data-type="prefetched" data-fetch-debounce="0" data-src="/command_palette/jump_to_members_only_prefetched" data-supported-modes="[&quot;@&quot;,&quot;@&quot;,&quot;&quot;,&quot;&quot;]" data-supported-scope-types="[&quot;&quot;,&quot;owner&quot;]" data-targets="command-palette.serverDefinedProviderElements" data-supports-commands="" data-catalyst=""></server-defined-provider>
        <server-defined-provider data-type="files" data-fetch-debounce="0" data-src="/command_palette/files" data-supported-modes="[&quot;/&quot;]" data-supported-scope-types="[&quot;repository&quot;]" data-targets="command-palette.serverDefinedProviderElements" data-supports-commands="" data-catalyst=""></server-defined-provider>
        <server-defined-provider data-type="remote" data-fetch-debounce="200" data-src="/command_palette/discussions" data-supported-modes="[&quot;#&quot;]" data-supported-scope-types="[&quot;owner&quot;,&quot;repository&quot;]" data-targets="command-palette.serverDefinedProviderElements" data-supports-commands="" data-catalyst=""></server-defined-provider>
        <server-defined-provider data-type="remote" data-fetch-debounce="200" data-src="/command_palette/projects" data-supported-modes="[&quot;#&quot;,&quot;!&quot;]" data-supported-scope-types="[&quot;owner&quot;,&quot;repository&quot;]" data-targets="command-palette.serverDefinedProviderElements" data-supports-commands="" data-catalyst=""></server-defined-provider>
        <server-defined-provider data-type="prefetched" data-fetch-debounce="0" data-src="/command_palette/recent_issues" data-supported-modes="[&quot;#&quot;,&quot;#&quot;]" data-supported-scope-types="[&quot;owner&quot;,&quot;repository&quot;,&quot;&quot;]" data-targets="command-palette.serverDefinedProviderElements" data-supports-commands="" data-catalyst=""></server-defined-provider>
        <server-defined-provider data-type="remote" data-fetch-debounce="200" data-src="/command_palette/teams" data-supported-modes="[&quot;@&quot;,&quot;&quot;]" data-supported-scope-types="[&quot;owner&quot;]" data-targets="command-palette.serverDefinedProviderElements" data-supports-commands="" data-catalyst=""></server-defined-provider>
        <server-defined-provider data-type="remote" data-fetch-debounce="200" data-src="/command_palette/name_with_owner_repository" data-supported-modes="[&quot;@&quot;,&quot;@&quot;,&quot;&quot;,&quot;&quot;]" data-supported-scope-types="[&quot;&quot;,&quot;owner&quot;]" data-targets="command-palette.serverDefinedProviderElements" data-supports-commands="" data-catalyst=""></server-defined-provider>
    <client-defined-provider data-catalyst="" data-provider-id="main-window-commands-provider" data-targets="command-palette.clientDefinedProviderElements"></client-defined-provider></command-palette>
  </details-dialog>
</details>

<div class="position-fixed bottom-0 left-0 ml-5 mb-5 js-command-palette-toasts" style="z-index: 1000">
  <div hidden="" class="Toast Toast--loading">
    <span class="Toast-icon">
      <svg class="Toast--spinner" viewBox="0 0 32 32" width="18" height="18" aria-hidden="true">
        <path fill="#959da5" d="M16 0 A16 16 0 0 0 16 32 A16 16 0 0 0 16 0 M16 4 A12 12 0 0 1 16 28 A12 12 0 0 1 16 4"></path>
        <path fill="#ffffff" d="M16 0 A16 16 0 0 1 32 16 L28 16 A12 12 0 0 0 16 4z"></path>
      </svg>
    </span>
    <span class="Toast-content"></span>
  </div>

  <div hidden="" class="anim-fade-in fast Toast Toast--error">
    <span class="Toast-icon">
      <svg aria-hidden="true" height="16" viewBox="0 0 16 16" version="1.1" width="16" data-view-component="true" class="octicon octicon-stop">
    <path d="M4.47.22A.749.749 0 0 1 5 0h6c.199 0 .389.079.53.22l4.25 4.25c.141.14.22.331.22.53v6a.749.749 0 0 1-.22.53l-4.25 4.25A.749.749 0 0 1 11 16H5a.749.749 0 0 1-.53-.22L.22 11.53A.749.749 0 0 1 0 11V5c0-.199.079-.389.22-.53Zm.84 1.28L1.5 5.31v5.38l3.81 3.81h5.38l3.81-3.81V5.31L10.69 1.5ZM8 4a.75.75 0 0 1 .75.75v3.5a.75.75 0 0 1-1.5 0v-3.5A.75.75 0 0 1 8 4Zm0 8a1 1 0 1 1 0-2 1 1 0 0 1 0 2Z"></path>
</svg>
    </span>
    <span class="Toast-content"></span>
  </div>

  <div hidden="" class="anim-fade-in fast Toast Toast--warning">
    <span class="Toast-icon">
      <svg aria-hidden="true" height="16" viewBox="0 0 16 16" version="1.1" width="16" data-view-component="true" class="octicon octicon-alert">
    <path d="M6.457 1.047c.659-1.234 2.427-1.234 3.086 0l6.082 11.378A1.75 1.75 0 0 1 14.082 15H1.918a1.75 1.75 0 0 1-1.543-2.575Zm1.763.707a.25.25 0 0 0-.44 0L1.698 13.132a.25.25 0 0 0 .22.368h12.164a.25.25 0 0 0 .22-.368Zm.53 3.996v2.5a.75.75 0 0 1-1.5 0v-2.5a.75.75 0 0 1 1.5 0ZM9 11a1 1 0 1 1-2 0 1 1 0 0 1 2 0Z"></path>
</svg>
    </span>
    <span class="Toast-content"></span>
  </div>


  <div hidden="" class="anim-fade-in fast Toast Toast--success">
    <span class="Toast-icon">
      <svg aria-hidden="true" height="16" viewBox="0 0 16 16" version="1.1" width="16" data-view-component="true" class="octicon octicon-check">
    <path d="M13.78 4.22a.75.75 0 0 1 0 1.06l-7.25 7.25a.75.75 0 0 1-1.06 0L2.22 9.28a.751.751 0 0 1 .018-1.042.751.751 0 0 1 1.042-.018L6 10.94l6.72-6.72a.75.75 0 0 1 1.06 0Z"></path>
</svg>
    </span>
    <span class="Toast-content"></span>
  </div>

  <div hidden="" class="anim-fade-in fast Toast">
    <span class="Toast-icon">
      <svg aria-hidden="true" height="16" viewBox="0 0 16 16" version="1.1" width="16" data-view-component="true" class="octicon octicon-info">
    <path d="M0 8a8 8 0 1 1 16 0A8 8 0 0 1 0 8Zm8-6.5a6.5 6.5 0 1 0 0 13 6.5 6.5 0 0 0 0-13ZM6.5 7.75A.75.75 0 0 1 7.25 7h1a.75.75 0 0 1 .75.75v2.75h.25a.75.75 0 0 1 0 1.5h-2a.75.75 0 0 1 0-1.5h.25v-2h-.25a.75.75 0 0 1-.75-.75ZM8 6a1 1 0 1 1 0-2 1 1 0 0 1 0 2Z"></path>
</svg>
    </span>
    <span class="Toast-content"></span>
  </div>
</div>


  <div class="application-main " data-commit-hovercards-enabled="" data-discussion-hovercards-enabled="" data-issue-and-pr-hovercards-enabled="">
        <div itemscope="" itemtype="http://schema.org/SoftwareSourceCode" class="">
    <main id="js-repo-pjax-container">
      
  

<template class="js-user-list-create-dialog-template" data-label="Create list"></template>



    






  
  <div id="repository-container-header" class="pt-3 hide-full-screen" style="background-color: var(--color-page-header-bg);" data-turbo-replace="">

      <div class="d-flex flex-wrap flex-justify-end mb-3  px-3 px-md-4 px-lg-5" style="gap: 1rem;">

        <div class="flex-auto min-width-0 width-fit mr-3">
            
  <div class=" d-flex flex-wrap flex-items-center wb-break-word f3 text-normal">
      <svg aria-hidden="true" height="16" viewBox="0 0 16 16" version="1.1" width="16" data-view-component="true" class="octicon octicon-repo color-fg-muted mr-2">
    <path d="M2 2.5A2.5 2.5 0 0 1 4.5 0h8.75a.75.75 0 0 1 .75.75v12.5a.75.75 0 0 1-.75.75h-2.5a.75.75 0 0 1 0-1.5h1.75v-2h-8a1 1 0 0 0-.714 1.7.75.75 0 1 1-1.072 1.05A2.495 2.495 0 0 1 2 11.5Zm10.5-1h-8a1 1 0 0 0-1 1v6.708A2.486 2.486 0 0 1 4.5 9h8ZM5 12.25a.25.25 0 0 1 .25-.25h3.5a.25.25 0 0 1 .25.25v3.25a.25.25 0 0 1-.4.2l-1.45-1.087a.249.249 0 0 0-.3 0L5.4 15.7a.25.25 0 0 1-.4-.2Z"></path>
</svg>
    
    <span class="author flex-self-stretch" itemprop="author">
      <a class="url fn" rel="author" data-hovercard-type="user" data-hovercard-url="/users/Adyael/hovercard" data-octo-click="hovercard-link-click" data-octo-dimensions="link_type:self" href="https://github.com/Adyael">
        Adyael
</a>    </span>
    <span class="mx-1 flex-self-stretch color-fg-muted">/</span>
    <strong itemprop="name" class="mr-2 flex-self-stretch">
      <a data-pjax="#repo-content-pjax-container" data-turbo-frame="repo-content-turbo-frame" href="https://github.com/Adyael/ml_2023">ml_2023</a>
    </strong>

    <span></span><span class="Label Label--secondary v-align-middle mr-1">Public</span>
  </div>


        </div>

        <div id="repository-details-container" data-turbo-replace="">
            <ul class="pagehead-actions flex-shrink-0 d-none d-md-inline" style="padding: 2px 0;">
    
      

  <li>
              <notifications-list-subscription-form data-action="notifications-dialog-label-toggled:notifications-list-subscription-form#handleDialogLabelToggle" class="f5 position-relative" data-catalyst="">
        <details class="details-reset details-overlay f5 position-relative" data-target="notifications-list-subscription-form.details" data-action="toggle:notifications-list-subscription-form#detailsToggled">

          <summary data-hydro-click="{&quot;event_type&quot;:&quot;repository.click&quot;,&quot;payload&quot;:{&quot;target&quot;:&quot;WATCH_BUTTON&quot;,&quot;repository_id&quot;:633019129,&quot;originating_url&quot;:&quot;https://github.com/notifications/633019129/watch_subscription?aria_id_prefix=repository-details&amp;button_block=false&amp;show_count=true&quot;,&quot;user_id&quot;:130586385}}" data-hydro-click-hmac="c39f1ad66f3e6dbc614c4c0fc58cd59f7c8b67a68907146658dac4e62f9d0142" data-ga-click="Repository, click Watch settings, action:notifications#watch_subscription" aria-label="Adyael/ml_2023 repository watch options" id="repository-details-watch-button" data-view-component="true" class="btn-sm btn" aria-haspopup="menu" role="button">    <span data-menu-button="">
              <span hidden="" data-target="notifications-list-subscription-form.unwatchButtonCopy">
                <svg aria-hidden="true" height="16" viewBox="0 0 16 16" version="1.1" width="16" data-view-component="true" class="octicon octicon-eye">
    <path d="M8 2c1.981 0 3.671.992 4.933 2.078 1.27 1.091 2.187 2.345 2.637 3.023a1.62 1.62 0 0 1 0 1.798c-.45.678-1.367 1.932-2.637 3.023C11.67 13.008 9.981 14 8 14c-1.981 0-3.671-.992-4.933-2.078C1.797 10.83.88 9.576.43 8.898a1.62 1.62 0 0 1 0-1.798c.45-.677 1.367-1.931 2.637-3.022C4.33 2.992 6.019 2 8 2ZM1.679 7.932a.12.12 0 0 0 0 .136c.411.622 1.241 1.75 2.366 2.717C5.176 11.758 6.527 12.5 8 12.5c1.473 0 2.825-.742 3.955-1.715 1.124-.967 1.954-2.096 2.366-2.717a.12.12 0 0 0 0-.136c-.412-.621-1.242-1.75-2.366-2.717C10.824 4.242 9.473 3.5 8 3.5c-1.473 0-2.825.742-3.955 1.715-1.124.967-1.954 2.096-2.366 2.717ZM8 10a2 2 0 1 1-.001-3.999A2 2 0 0 1 8 10Z"></path>
</svg>
                Unwatch
              </span>
              <span hidden="" data-target="notifications-list-subscription-form.stopIgnoringButtonCopy">
                <svg aria-hidden="true" height="16" viewBox="0 0 16 16" version="1.1" width="16" data-view-component="true" class="octicon octicon-bell-slash">
    <path d="m4.182 4.31.016.011 10.104 7.316.013.01 1.375.996a.75.75 0 1 1-.88 1.214L13.626 13H2.518a1.516 1.516 0 0 1-1.263-2.36l1.703-2.554A.255.255 0 0 0 3 7.947V5.305L.31 3.357a.75.75 0 1 1 .88-1.214Zm7.373 7.19L4.5 6.391v1.556c0 .346-.102.683-.294.97l-1.703 2.556a.017.017 0 0 0-.003.01c0 .005.002.009.005.012l.006.004.007.001ZM8 1.5c-.997 0-1.895.416-2.534 1.086A.75.75 0 1 1 4.38 1.55 5 5 0 0 1 13 5v2.373a.75.75 0 0 1-1.5 0V5A3.5 3.5 0 0 0 8 1.5ZM8 16a2 2 0 0 1-1.985-1.75c-.017-.137.097-.25.235-.25h3.5c.138 0 .252.113.235.25A2 2 0 0 1 8 16Z"></path>
</svg>
                Stop ignoring
              </span>
              <span data-target="notifications-list-subscription-form.watchButtonCopy">
                <svg aria-hidden="true" height="16" viewBox="0 0 16 16" version="1.1" width="16" data-view-component="true" class="octicon octicon-eye">
    <path d="M8 2c1.981 0 3.671.992 4.933 2.078 1.27 1.091 2.187 2.345 2.637 3.023a1.62 1.62 0 0 1 0 1.798c-.45.678-1.367 1.932-2.637 3.023C11.67 13.008 9.981 14 8 14c-1.981 0-3.671-.992-4.933-2.078C1.797 10.83.88 9.576.43 8.898a1.62 1.62 0 0 1 0-1.798c.45-.677 1.367-1.931 2.637-3.022C4.33 2.992 6.019 2 8 2ZM1.679 7.932a.12.12 0 0 0 0 .136c.411.622 1.241 1.75 2.366 2.717C5.176 11.758 6.527 12.5 8 12.5c1.473 0 2.825-.742 3.955-1.715 1.124-.967 1.954-2.096 2.366-2.717a.12.12 0 0 0 0-.136c-.412-.621-1.242-1.75-2.366-2.717C10.824 4.242 9.473 3.5 8 3.5c-1.473 0-2.825.742-3.955 1.715-1.124.967-1.954 2.096-2.366 2.717ZM8 10a2 2 0 1 1-.001-3.999A2 2 0 0 1 8 10Z"></path>
</svg>
                Watch
              </span>
            </span>
              <span id="repo-notifications-counter" data-target="notifications-list-subscription-form.socialCount" data-pjax-replace="true" data-turbo-replace="true" title="1" data-view-component="true" class="Counter">1</span>
            <span class="dropdown-caret"></span>
</summary>
          <details-menu class="SelectMenu  " role="menu" data-target="notifications-list-subscription-form.menu" data-focus-trap="active"><span class="sentinel" tabindex="0" aria-hidden="true"></span>
            <div class="SelectMenu-modal notifications-component-menu-modal">
              <header class="SelectMenu-header">
                <h3 class="SelectMenu-title">Notifications</h3>
                <button class="SelectMenu-closeButton" type="button" aria-label="Close menu" data-action="click:notifications-list-subscription-form#closeMenu">
                  <svg aria-hidden="true" height="16" viewBox="0 0 16 16" version="1.1" width="16" data-view-component="true" class="octicon octicon-x">
    <path d="M3.72 3.72a.75.75 0 0 1 1.06 0L8 6.94l3.22-3.22a.749.749 0 0 1 1.275.326.749.749 0 0 1-.215.734L9.06 8l3.22 3.22a.749.749 0 0 1-.326 1.275.749.749 0 0 1-.734-.215L8 9.06l-3.22 3.22a.751.751 0 0 1-1.042-.018.751.751 0 0 1-.018-1.042L6.94 8 3.72 4.78a.75.75 0 0 1 0-1.06Z"></path>
</svg>
                </button>
              </header>

              <div class="SelectMenu-list">
                <!-- '"` --><!-- </textarea></xmp> --><form data-target="notifications-list-subscription-form.form" data-action="submit:notifications-list-subscription-form#submitForm" data-turbo="false" action="https://github.com/notifications/subscribe" accept-charset="UTF-8" method="post"><input type="hidden" name="authenticity_token" value="HHLBlTaKQaKAw00SJoiZwkZ3U811v7cOZLC52lnBhqbr1fIXxoA4_HOrvEvrKiisaL8OJtfx_1a9uMh5nLuckQ" autocomplete="off">

                  <input type="hidden" name="repository_id" value="633019129">

                  <button type="submit" name="do" value="included" class="SelectMenu-item flex-items-start" role="menuitemradio" aria-checked="true" data-targets="notifications-list-subscription-form.subscriptionButtons">
                    <span class="f5">
                      <svg aria-hidden="true" height="16" viewBox="0 0 16 16" version="1.1" width="16" data-view-component="true" class="octicon octicon-check SelectMenu-icon SelectMenu-icon--check">
    <path d="M13.78 4.22a.75.75 0 0 1 0 1.06l-7.25 7.25a.75.75 0 0 1-1.06 0L2.22 9.28a.751.751 0 0 1 .018-1.042.751.751 0 0 1 1.042-.018L6 10.94l6.72-6.72a.75.75 0 0 1 1.06 0Z"></path>
</svg>
                    </span>
                    <div>
                      <div class="f5 text-bold">
                        Participating and @mentions
                      </div>
                      <div class="text-small color-fg-muted text-normal pb-1">
                        Only receive notifications from this repository when participating or @mentioned.
                      </div>
                    </div>
                  </button>

                  <button type="submit" name="do" value="subscribed" class="SelectMenu-item flex-items-start" role="menuitemradio" aria-checked="false" data-targets="notifications-list-subscription-form.subscriptionButtons">
                    <span class="f5">
                      <svg aria-hidden="true" height="16" viewBox="0 0 16 16" version="1.1" width="16" data-view-component="true" class="octicon octicon-check SelectMenu-icon SelectMenu-icon--check">
    <path d="M13.78 4.22a.75.75 0 0 1 0 1.06l-7.25 7.25a.75.75 0 0 1-1.06 0L2.22 9.28a.751.751 0 0 1 .018-1.042.751.751 0 0 1 1.042-.018L6 10.94l6.72-6.72a.75.75 0 0 1 1.06 0Z"></path>
</svg>
                    </span>
                    <div>
                      <div class="f5 text-bold">
                        All Activity
                      </div>
                      <div class="text-small color-fg-muted text-normal pb-1">
                        Notified of all notifications on this repository.
                      </div>
                    </div>
                  </button>

                  <button type="submit" name="do" value="ignore" class="SelectMenu-item flex-items-start" role="menuitemradio" aria-checked="false" data-targets="notifications-list-subscription-form.subscriptionButtons">
                    <span class="f5">
                      <svg aria-hidden="true" height="16" viewBox="0 0 16 16" version="1.1" width="16" data-view-component="true" class="octicon octicon-check SelectMenu-icon SelectMenu-icon--check">
    <path d="M13.78 4.22a.75.75 0 0 1 0 1.06l-7.25 7.25a.75.75 0 0 1-1.06 0L2.22 9.28a.751.751 0 0 1 .018-1.042.751.751 0 0 1 1.042-.018L6 10.94l6.72-6.72a.75.75 0 0 1 1.06 0Z"></path>
</svg>
                    </span>
                    <div>
                      <div class="f5 text-bold">
                        Ignore
                      </div>
                      <div class="text-small color-fg-muted text-normal pb-1">
                        Never be notified.
                      </div>
                    </div>
                  </button>
</form>
                <button class="SelectMenu-item flex-items-start pr-3" type="button" role="menuitemradio" data-target="notifications-list-subscription-form.customButton" data-action="click:notifications-list-subscription-form#openCustomDialog" aria-haspopup="true" aria-checked="false">
                  <span class="f5">
                    <svg aria-hidden="true" height="16" viewBox="0 0 16 16" version="1.1" width="16" data-view-component="true" class="octicon octicon-check SelectMenu-icon SelectMenu-icon--check">
    <path d="M13.78 4.22a.75.75 0 0 1 0 1.06l-7.25 7.25a.75.75 0 0 1-1.06 0L2.22 9.28a.751.751 0 0 1 .018-1.042.751.751 0 0 1 1.042-.018L6 10.94l6.72-6.72a.75.75 0 0 1 1.06 0Z"></path>
</svg>
                  </span>
                  <div>
                    <div class="d-flex flex-items-start flex-justify-between">
                      <div class="f5 text-bold">Custom</div>
                      <div class="f5 pr-1">
                        <svg aria-hidden="true" height="16" viewBox="0 0 16 16" version="1.1" width="16" data-view-component="true" class="octicon octicon-arrow-right">
    <path d="M8.22 2.97a.75.75 0 0 1 1.06 0l4.25 4.25a.75.75 0 0 1 0 1.06l-4.25 4.25a.751.751 0 0 1-1.042-.018.751.751 0 0 1-.018-1.042l2.97-2.97H3.75a.75.75 0 0 1 0-1.5h7.44L8.22 4.03a.75.75 0 0 1 0-1.06Z"></path>
</svg>
                      </div>
                    </div>
                    <div class="text-small color-fg-muted text-normal pb-1">
                      Select events you want to be notified of in addition to participating and @mentions.
                    </div>
                  </div>
                </button>

                  <div class="px-3 py-2 d-flex color-bg-subtle flex-items-center">
                    <span class="f5">
                      <svg aria-hidden="true" height="16" viewBox="0 0 16 16" version="1.1" width="16" data-view-component="true" class="octicon octicon-device-mobile SelectMenu-icon SelectMenu-icon--device-mobile">
    <path d="M3.75 0h8.5C13.216 0 14 .784 14 1.75v12.5A1.75 1.75 0 0 1 12.25 16h-8.5A1.75 1.75 0 0 1 2 14.25V1.75C2 .784 2.784 0 3.75 0ZM3.5 1.75v12.5c0 .138.112.25.25.25h8.5a.25.25 0 0 0 .25-.25V1.75a.25.25 0 0 0-.25-.25h-8.5a.25.25 0 0 0-.25.25ZM8 13a1 1 0 1 1 0-2 1 1 0 0 1 0 2Z"></path>
</svg>
                    </span>
                    <span classname="text-small color-fg-muted text-normal pb-1">
                      Get push notifications on <a target="_blank" rel="noopener noreferrer" href="https://apps.apple.com/app/apple-store/id1477376905?ct=watch-dropdown&amp;mt=8&amp;pt=524675">iOS</a> or <a target="_blank" rel="noopener noreferrer" href="https://play.google.com/store/apps/details?id=com.github.android&amp;referrer=utm_campaign%3Dwatch-dropdown%26utm_medium%3Dweb%26utm_source%3Dgithub">Android</a>.
                    </span>
                  </div>
              </div>
            </div>
          <span class="sentinel" tabindex="0" aria-hidden="true"></span></details-menu>

          <details-dialog class="notifications-component-dialog " data-target="notifications-list-subscription-form.customDialog" aria-label="Custom dialog" hidden="" role="dialog" aria-modal="true">
            <div class="SelectMenu-modal notifications-component-dialog-modal overflow-visible">
              <!-- '"` --><!-- </textarea></xmp> --><form data-target="notifications-list-subscription-form.customform" data-action="submit:notifications-list-subscription-form#submitCustomForm" data-turbo="false" action="https://github.com/notifications/subscribe" accept-charset="UTF-8" method="post"><input type="hidden" name="authenticity_token" value="z9TpkH9R2V-aE08cnJ9PgMwym82PxjDDmrFlBSHZ9cs4c9oSj1ugAWl7vkVRPf7u4vrGJi2IeJtDuRSm5KPv_A" autocomplete="off">

                <input type="hidden" name="repository_id" value="633019129">

                <header class="d-sm-none SelectMenu-header pb-0 border-bottom-0 px-2 px-sm-3">
                  <h1 class="f3 SelectMenu-title d-inline-flex">
                    <button class="color-bg-default border-0 px-2 py-0 m-0 Link--secondary f5" aria-label="Return to menu" type="button" data-action="click:notifications-list-subscription-form#closeCustomDialog">
                      <svg aria-hidden="true" height="16" viewBox="0 0 16 16" version="1.1" width="16" data-view-component="true" class="octicon octicon-arrow-left">
    <path d="M7.78 12.53a.75.75 0 0 1-1.06 0L2.47 8.28a.75.75 0 0 1 0-1.06l4.25-4.25a.751.751 0 0 1 1.042.018.751.751 0 0 1 .018 1.042L4.81 7h7.44a.75.75 0 0 1 0 1.5H4.81l2.97 2.97a.75.75 0 0 1 0 1.06Z"></path>
</svg>
                    </button>
                    Custom
                  </h1>
                </header>

                <header class="d-none d-sm-flex flex-items-start pt-1">
                  <button class="border-0 px-2 pt-1 m-0 Link--secondary f5" style="background-color: transparent;" aria-label="Return to menu" type="button" data-action="click:notifications-list-subscription-form#closeCustomDialog">
                    <svg style="position: relative; left: 2px; top: 1px" aria-hidden="true" height="16" viewBox="0 0 16 16" version="1.1" width="16" data-view-component="true" class="octicon octicon-arrow-left">
    <path d="M7.78 12.53a.75.75 0 0 1-1.06 0L2.47 8.28a.75.75 0 0 1 0-1.06l4.25-4.25a.751.751 0 0 1 1.042.018.751.751 0 0 1 .018 1.042L4.81 7h7.44a.75.75 0 0 1 0 1.5H4.81l2.97 2.97a.75.75 0 0 1 0 1.06Z"></path>
</svg>
                  </button>

                  <h1 class="pt-1 pr-4 pb-0 pl-0 f5 text-bold">
                    Custom
                  </h1>
                </header>

                <fieldset>
                  <legend>
                    <div class="text-small color-fg-muted pt-0 pr-3 pb-3 pl-6 pl-sm-5 border-bottom mb-3">
                      Select events you want to be notified of in addition to participating and @mentions.
                    </div>
                  </legend>
                  <div data-target="notifications-list-subscription-form.labelInputs">
                  </div>
                    <div class="form-checkbox mr-3 ml-6 ml-sm-5 mb-2 mt-0">
                      <label class="f5 text-normal">
                        <input type="checkbox" name="thread_types[]" value="Issue" data-targets="notifications-list-subscription-form.threadTypeCheckboxes" data-action="change:notifications-list-subscription-form#threadTypeCheckboxesUpdated">
                        Issues
                      </label>


                    </div>
                    <div class="form-checkbox mr-3 ml-6 ml-sm-5 mb-2 mt-0">
                      <label class="f5 text-normal">
                        <input type="checkbox" name="thread_types[]" value="PullRequest" data-targets="notifications-list-subscription-form.threadTypeCheckboxes" data-action="change:notifications-list-subscription-form#threadTypeCheckboxesUpdated">
                        Pull requests
                      </label>


                    </div>
                    <div class="form-checkbox mr-3 ml-6 ml-sm-5 mb-2 mt-0">
                      <label class="f5 text-normal">
                        <input type="checkbox" name="thread_types[]" value="Release" data-targets="notifications-list-subscription-form.threadTypeCheckboxes" data-action="change:notifications-list-subscription-form#threadTypeCheckboxesUpdated">
                        Releases
                      </label>


                    </div>
                    <div class="form-checkbox mr-3 ml-6 ml-sm-5 mb-2 mt-0">
                      <label class="f5 text-normal">
                        <input type="checkbox" name="thread_types[]" value="Discussion" data-targets="notifications-list-subscription-form.threadTypeCheckboxes" data-action="change:notifications-list-subscription-form#threadTypeCheckboxesUpdated" aria-describedby="Discussion-disabled" aria-disabled="true">
                        Discussions
                      </label>

                        <div id="Discussion-repository-details-disabled" class="color-fg-muted">
                          Discussions are not enabled for this repository
                        </div>

                    </div>
                    <div class="form-checkbox mr-3 ml-6 ml-sm-5 mb-2 mt-0">
                      <label class="f5 text-normal">
                        <input type="checkbox" name="thread_types[]" value="SecurityAlert" data-targets="notifications-list-subscription-form.threadTypeCheckboxes" data-action="change:notifications-list-subscription-form#threadTypeCheckboxesUpdated">
                        Security alerts
                      </label>


                    </div>
                </fieldset>
                <div class="pt-2 pb-3 px-3 d-flex flex-justify-start flex-row-reverse">
                    <button name="do" value="custom" data-target="notifications-list-subscription-form.customSubmit" disabled="disabled" type="submit" data-view-component="true" class="btn-primary btn-sm btn ml-2">    Apply
</button>

                    <button data-action="click:notifications-list-subscription-form#resetForm" data-close-dialog="" type="button" data-view-component="true" class="btn-sm btn">    Cancel
</button>
                </div>
</form>            </div>
          </details-dialog>


          <div class="notifications-component-dialog-overlay"></div>
        </details>
      </notifications-list-subscription-form>



  </li>

  <li>
        <div data-view-component="true" class="d-flex">
        <div data-view-component="true" class="position-relative d-inline-block">
    <a icon="repo-forked" id="fork-button" href="https://github.com/Adyael/ml_2023/fork" data-hydro-click="{&quot;event_type&quot;:&quot;repository.click&quot;,&quot;payload&quot;:{&quot;target&quot;:&quot;FORK_BUTTON&quot;,&quot;repository_id&quot;:633019129,&quot;originating_url&quot;:&quot;https://github.com/Adyael/ml_2023/tree/main&quot;,&quot;user_id&quot;:130586385}}" data-hydro-click-hmac="85dd1b5b91e347da24d77e4bfd5f893f776453a43c3e4f9d7b33eeec6185a1a4" data-ga-click="Repository, show fork modal, action:files#disambiguate; text:Fork" data-view-component="true" class="btn-sm btn BtnGroup-item border-right-0" aria-describedby="tooltip-0ce694fd-c0e8-461a-84f3-816d84bc1c0d">      <svg aria-hidden="true" height="16" viewBox="0 0 16 16" version="1.1" width="16" data-view-component="true" class="octicon octicon-repo-forked mr-2">
    <path d="M5 5.372v.878c0 .414.336.75.75.75h4.5a.75.75 0 0 0 .75-.75v-.878a2.25 2.25 0 1 1 1.5 0v.878a2.25 2.25 0 0 1-2.25 2.25h-1.5v2.128a2.251 2.251 0 1 1-1.5 0V8.5h-1.5A2.25 2.25 0 0 1 3.5 6.25v-.878a2.25 2.25 0 1 1 1.5 0ZM5 3.25a.75.75 0 1 0-1.5 0 .75.75 0 0 0 1.5 0Zm6.75.75a.75.75 0 1 0 0-1.5.75.75 0 0 0 0 1.5Zm-3 8.75a.75.75 0 1 0-1.5 0 .75.75 0 0 0 1.5 0Z"></path>
</svg>Fork
          <span id="repo-network-counter" data-pjax-replace="true" data-turbo-replace="true" title="0" data-view-component="true" class="Counter">0</span>
</a>    <tool-tip id="tooltip-0ce694fd-c0e8-461a-84f3-816d84bc1c0d" for="fork-button" data-direction="s" data-type="description" data-view-component="true" class="sr-only position-absolute" role="tooltip"><template shadowrootmode="open"><style>
      :host {
        position: absolute;
        z-index: 1000000;
        padding: .5em .75em;
        font: normal normal 11px/1.5 -apple-system, BlinkMacSystemFont, "Segoe UI", Helvetica, Arial, sans-serif, "Apple Color Emoji", "Segoe UI Emoji";
        -webkit-font-smoothing: subpixel-antialiased;
        color: var(--color-fg-on-emphasis);
        text-align: center;
        text-decoration: none;
        text-shadow: none;
        text-transform: none;
        letter-spacing: normal;
        word-wrap: break-word;
        white-space: pre;
        background: var(--color-neutral-emphasis-plus);
        border-radius: 6px;
        opacity: 0;
        max-width: 250px;
        word-wrap: break-word;
        white-space: normal;
        width: max-content;
      }

      :host:before{
        position: absolute;
        z-index: 1000001;
        color: var(--color-neutral-emphasis-plus);
        content: "";
        border: 6px solid transparent;
        opacity: 0
      }

      @keyframes tooltip-appear {
        from {
          opacity: 0
        }
        to {
          opacity: 1
        }
      }

      :host:after{
        position: absolute;
        display: block;
        right: 0;
        left: 0;
        height: 12px;
        content: ""
      }

      :host(.tooltip-open),
      :host(.tooltip-open):before {
        animation-name: tooltip-appear;
        animation-duration: .1s;
        animation-fill-mode: forwards;
        animation-timing-function: ease-in;
        animation-delay: .4s
      }

      :host(.tooltip-s):before,
      :host(.tooltip-n):before {
        right: 50%;
        margin-right: -6px;
      }

      :host(.tooltip-s):before,
      :host(.tooltip-se):before,
      :host(.tooltip-sw):before {
        bottom: 100%;
        border-bottom-color: var(--color-neutral-emphasis-plus)
      }

      :host(.tooltip-s):after,
      :host(.tooltip-se):after,
      :host(.tooltip-sw):after {
        bottom: 100%
      }

      :host(.tooltip-n):before,
      :host(.tooltip-ne):before,
      :host(.tooltip-nw):before {
        top: 100%;
        border-top-color: var(--color-neutral-emphasis-plus)
      }

      :host(.tooltip-n):after,
      :host(.tooltip-ne):after,
      :host(.tooltip-nw):after {
        top: 100%
      }

      :host(.tooltip-se):before,
      :host(.tooltip-ne):before {
        left: 0;
        margin-left: 6px;
      }

      :host(.tooltip-sw):before,
      :host(.tooltip-nw):before {
        right: 0;
        margin-right: 6px;
      }

      :host(.tooltip-w):before {
        top: 50%;
        bottom: 50%;
        left: 100%;
        margin-top: -6px;
        border-left-color: var(--color-neutral-emphasis-plus)
      }

      :host(.tooltip-e):before {
        top: 50%;
        right: 100%;
        bottom: 50%;
        margin-top: -6px;
        border-right-color: var(--color-neutral-emphasis-plus)
      }
    </style><slot></slot></template>Fork your own copy of Adyael/ml_2023</tool-tip>
</div>
      <details group_item="true" id="my-forks-menu-633019129" data-view-component="true" class="details-reset details-overlay BtnGroup-parent d-inline-block position-relative">
              <summary aria-label="See your forks of this repository" data-view-component="true" class="btn-sm btn BtnGroup-item px-2 float-none" aria-haspopup="menu" role="button">    <svg aria-hidden="true" height="16" viewBox="0 0 16 16" version="1.1" width="16" data-view-component="true" class="octicon octicon-triangle-down">
    <path d="m4.427 7.427 3.396 3.396a.25.25 0 0 0 .354 0l3.396-3.396A.25.25 0 0 0 11.396 7H4.604a.25.25 0 0 0-.177.427Z"></path>
</svg>
</summary>
  <details-menu class="SelectMenu right-0" src="/Adyael/ml_2023/my_forks_menu_content?can_fork=true" role="menu" data-focus-trap="suspended"><span class="sentinel" tabindex="0" aria-hidden="true"></span>
    <div class="SelectMenu-modal">
        <button class="SelectMenu-closeButton position-absolute right-0 m-2" type="button" aria-label="Close menu" data-toggle-for="details-50acfa">
          <svg aria-hidden="true" height="16" viewBox="0 0 16 16" version="1.1" width="16" data-view-component="true" class="octicon octicon-x">
    <path d="M3.72 3.72a.75.75 0 0 1 1.06 0L8 6.94l3.22-3.22a.749.749 0 0 1 1.275.326.749.749 0 0 1-.215.734L9.06 8l3.22 3.22a.749.749 0 0 1-.326 1.275.749.749 0 0 1-.734-.215L8 9.06l-3.22 3.22a.751.751 0 0 1-1.042-.018.751.751 0 0 1-.018-1.042L6.94 8 3.72 4.78a.75.75 0 0 1 0-1.06Z"></path>
</svg>
        </button>
      <div id="filter-menu-50acfa" class="d-flex flex-column flex-1 overflow-hidden">
        <div class="SelectMenu-list">

            <include-fragment class="SelectMenu-loading" aria-label="Loading"><template shadowrootmode="open"><style>:host {display: block;}</style><slot></slot></template>
              <svg role="menuitem" style="box-sizing: content-box; color: var(--color-icon-primary);" width="32" height="32" viewBox="0 0 16 16" fill="none" data-view-component="true" class="anim-rotate">
  <circle cx="8" cy="8" r="7" stroke="currentColor" stroke-opacity="0.25" stroke-width="2" vector-effect="non-scaling-stroke"></circle>
  <path d="M15 8a7.002 7.002 0 00-7-7" stroke="currentColor" stroke-width="2" stroke-linecap="round" vector-effect="non-scaling-stroke"></path>
</svg>
            </include-fragment>
        </div>
        
      </div>
    </div>
  <span class="sentinel" tabindex="0" aria-hidden="true"></span></details-menu>
</details></div>
  </li>

  <li>
        <template class="js-unstar-confirmation-dialog-template"></template>

  <div data-view-component="true" class="js-toggler-container js-social-container starring-container d-flex">
    <div data-view-component="true" class="starred BtnGroup flex-1">
      <!-- '"` --><!-- </textarea></xmp> --><form class="js-social-form BtnGroup-parent flex-auto js-deferred-toggler-target" data-turbo="false" action="https://github.com/Adyael/ml_2023/unstar" accept-charset="UTF-8" method="post"><input type="hidden" name="authenticity_token" value="2-Vv2chRDm-rjr0pG7a9THw2NenjUHUw0Eo5HcqO80Zai8TZYBBHrxesgryAWgZTnvAuEioWiH-YZJAt_9BRzA" autocomplete="off">
          <input type="hidden" value="LdFkQrwcfTh1_1dohxUVVnvvba1MOJbdShJG4ayWO4usv89CFF00-MndaP0c-a5JmSl2VoV-a5ICPO_RmciZAQ" data-csrf="true" class="js-confirm-csrf-token">
        <input type="hidden" name="context" value="repository">
          <button data-hydro-click="{&quot;event_type&quot;:&quot;repository.click&quot;,&quot;payload&quot;:{&quot;target&quot;:&quot;UNSTAR_BUTTON&quot;,&quot;repository_id&quot;:633019129,&quot;originating_url&quot;:&quot;https://github.com/Adyael/ml_2023/tree/main&quot;,&quot;user_id&quot;:130586385}}" data-hydro-click-hmac="1cd430383c4cae11599f819aadde1070d3d60123bb914ba5abe3b14b2d12115e" data-ga-click="Repository, click unstar button, action:files#disambiguate; text:Unstar" aria-label="Unstar this repository (0)" type="submit" data-view-component="true" class="rounded-left-2 btn-sm btn BtnGroup-item">    <svg aria-hidden="true" height="16" viewBox="0 0 16 16" version="1.1" width="16" data-view-component="true" class="octicon octicon-star-fill starred-button-icon d-inline-block mr-2">
    <path d="M8 .25a.75.75 0 0 1 .673.418l1.882 3.815 4.21.612a.75.75 0 0 1 .416 1.279l-3.046 2.97.719 4.192a.751.751 0 0 1-1.088.791L8 12.347l-3.766 1.98a.75.75 0 0 1-1.088-.79l.72-4.194L.818 6.374a.75.75 0 0 1 .416-1.28l4.21-.611L7.327.668A.75.75 0 0 1 8 .25Z"></path>
</svg><span data-view-component="true" class="d-inline">
              Starred
</span>              <span id="repo-stars-counter-unstar" aria-label="0 users starred this repository" data-singular-suffix="user starred this repository" data-plural-suffix="users starred this repository" data-turbo-replace="true" title="0" data-view-component="true" class="Counter js-social-count">0</span>
</button></form>        <details id="details-user-list-633019129-starred" data-view-component="true" class="details-reset details-overlay BtnGroup-parent js-user-list-menu d-inline-block position-relative">
        <summary aria-label="Add this repository to a list" data-view-component="true" class="btn-sm btn BtnGroup-item px-2 float-none" aria-haspopup="menu" role="button">    <svg aria-hidden="true" height="16" viewBox="0 0 16 16" version="1.1" width="16" data-view-component="true" class="octicon octicon-triangle-down">
    <path d="m4.427 7.427 3.396 3.396a.25.25 0 0 0 .354 0l3.396-3.396A.25.25 0 0 0 11.396 7H4.604a.25.25 0 0 0-.177.427Z"></path>
</svg>
</summary>
  <details-menu class="SelectMenu right-0" src="/Adyael/ml_2023/lists" role="menu" data-focus-trap="suspended"><span class="sentinel" tabindex="0" aria-hidden="true"></span>
    <div class="SelectMenu-modal">
        <button class="SelectMenu-closeButton position-absolute right-0 m-2" type="button" aria-label="Close menu" data-toggle-for="details-dca91c">
          <svg aria-hidden="true" height="16" viewBox="0 0 16 16" version="1.1" width="16" data-view-component="true" class="octicon octicon-x">
    <path d="M3.72 3.72a.75.75 0 0 1 1.06 0L8 6.94l3.22-3.22a.749.749 0 0 1 1.275.326.749.749 0 0 1-.215.734L9.06 8l3.22 3.22a.749.749 0 0 1-.326 1.275.749.749 0 0 1-.734-.215L8 9.06l-3.22 3.22a.751.751 0 0 1-1.042-.018.751.751 0 0 1-.018-1.042L6.94 8 3.72 4.78a.75.75 0 0 1 0-1.06Z"></path>
</svg>
        </button>
      <div id="filter-menu-dca91c" class="d-flex flex-column flex-1 overflow-hidden">
        <div class="SelectMenu-list">

            <include-fragment class="SelectMenu-loading" aria-label="Loading"><template shadowrootmode="open"><style>:host {display: block;}</style><slot></slot></template>
              <svg role="menuitem" style="box-sizing: content-box; color: var(--color-icon-primary);" width="32" height="32" viewBox="0 0 16 16" fill="none" data-view-component="true" class="anim-rotate">
  <circle cx="8" cy="8" r="7" stroke="currentColor" stroke-opacity="0.25" stroke-width="2" vector-effect="non-scaling-stroke"></circle>
  <path d="M15 8a7.002 7.002 0 00-7-7" stroke="currentColor" stroke-width="2" stroke-linecap="round" vector-effect="non-scaling-stroke"></path>
</svg>
            </include-fragment>
        </div>
        
      </div>
    </div>
  <span class="sentinel" tabindex="0" aria-hidden="true"></span></details-menu>
</details>
</div>
    <div data-view-component="true" class="unstarred BtnGroup flex-1">
      <!-- '"` --><!-- </textarea></xmp> --><form class="js-social-form BtnGroup-parent flex-auto" data-turbo="false" action="https://github.com/Adyael/ml_2023/star" accept-charset="UTF-8" method="post"><input type="hidden" name="authenticity_token" value="kysUH9mcITbMV4lFl1w2-S1VR4taSZLIhNyBcWp59v18q27lWNmKOF_BaJDlqiPR_RDA1DAVic_BTjY4NQ2WwQ" autocomplete="off">
        <input type="hidden" name="context" value="repository">
          <button data-hydro-click="{&quot;event_type&quot;:&quot;repository.click&quot;,&quot;payload&quot;:{&quot;target&quot;:&quot;STAR_BUTTON&quot;,&quot;repository_id&quot;:633019129,&quot;originating_url&quot;:&quot;https://github.com/Adyael/ml_2023/tree/main&quot;,&quot;user_id&quot;:130586385}}" data-hydro-click-hmac="bbc6b8a96db3ef4948e952bcb6ea006cf38902064687bef5b7b3f127a6e0a5c1" data-ga-click="Repository, click star button, action:files#disambiguate; text:Star" aria-label="Star this repository (0)" type="submit" data-view-component="true" class="js-toggler-target rounded-left-2 btn-sm btn BtnGroup-item">    <svg aria-hidden="true" height="16" viewBox="0 0 16 16" version="1.1" width="16" data-view-component="true" class="octicon octicon-star d-inline-block mr-2">
    <path d="M8 .25a.75.75 0 0 1 .673.418l1.882 3.815 4.21.612a.75.75 0 0 1 .416 1.279l-3.046 2.97.719 4.192a.751.751 0 0 1-1.088.791L8 12.347l-3.766 1.98a.75.75 0 0 1-1.088-.79l.72-4.194L.818 6.374a.75.75 0 0 1 .416-1.28l4.21-.611L7.327.668A.75.75 0 0 1 8 .25Zm0 2.445L6.615 5.5a.75.75 0 0 1-.564.41l-3.097.45 2.24 2.184a.75.75 0 0 1 .216.664l-.528 3.084 2.769-1.456a.75.75 0 0 1 .698 0l2.77 1.456-.53-3.084a.75.75 0 0 1 .216-.664l2.24-2.183-3.096-.45a.75.75 0 0 1-.564-.41L8 2.694Z"></path>
</svg><span data-view-component="true" class="d-inline">
              Star
</span>              <span id="repo-stars-counter-star" aria-label="0 users starred this repository" data-singular-suffix="user starred this repository" data-plural-suffix="users starred this repository" data-turbo-replace="true" title="0" data-view-component="true" class="Counter js-social-count">0</span>
</button></form>        <details id="details-user-list-633019129-unstarred" data-view-component="true" class="details-reset details-overlay BtnGroup-parent js-user-list-menu d-inline-block position-relative">
        <summary aria-label="Add this repository to a list" data-view-component="true" class="btn-sm btn BtnGroup-item px-2 float-none" aria-haspopup="menu" role="button">    <svg aria-hidden="true" height="16" viewBox="0 0 16 16" version="1.1" width="16" data-view-component="true" class="octicon octicon-triangle-down">
    <path d="m4.427 7.427 3.396 3.396a.25.25 0 0 0 .354 0l3.396-3.396A.25.25 0 0 0 11.396 7H4.604a.25.25 0 0 0-.177.427Z"></path>
</svg>
</summary>
  <details-menu class="SelectMenu right-0" src="/Adyael/ml_2023/lists" role="menu" data-focus-trap="suspended"><span class="sentinel" tabindex="0" aria-hidden="true"></span>
    <div class="SelectMenu-modal">
        <button class="SelectMenu-closeButton position-absolute right-0 m-2" type="button" aria-label="Close menu" data-toggle-for="details-f3a9c8">
          <svg aria-hidden="true" height="16" viewBox="0 0 16 16" version="1.1" width="16" data-view-component="true" class="octicon octicon-x">
    <path d="M3.72 3.72a.75.75 0 0 1 1.06 0L8 6.94l3.22-3.22a.749.749 0 0 1 1.275.326.749.749 0 0 1-.215.734L9.06 8l3.22 3.22a.749.749 0 0 1-.326 1.275.749.749 0 0 1-.734-.215L8 9.06l-3.22 3.22a.751.751 0 0 1-1.042-.018.751.751 0 0 1-.018-1.042L6.94 8 3.72 4.78a.75.75 0 0 1 0-1.06Z"></path>
</svg>
        </button>
      <div id="filter-menu-f3a9c8" class="d-flex flex-column flex-1 overflow-hidden">
        <div class="SelectMenu-list">

            <include-fragment class="SelectMenu-loading" aria-label="Loading"><template shadowrootmode="open"><style>:host {display: block;}</style><slot></slot></template>
              <svg role="menuitem" style="box-sizing: content-box; color: var(--color-icon-primary);" width="32" height="32" viewBox="0 0 16 16" fill="none" data-view-component="true" class="anim-rotate">
  <circle cx="8" cy="8" r="7" stroke="currentColor" stroke-opacity="0.25" stroke-width="2" vector-effect="non-scaling-stroke"></circle>
  <path d="M15 8a7.002 7.002 0 00-7-7" stroke="currentColor" stroke-width="2" stroke-linecap="round" vector-effect="non-scaling-stroke"></path>
</svg>
            </include-fragment>
        </div>
        
      </div>
    </div>
  <span class="sentinel" tabindex="0" aria-hidden="true"></span></details-menu>
</details>
</div></div>
  </li>


    

</ul>

        </div>
      </div>

        <div id="responsive-meta-container" data-turbo-replace="">
</div>


          <nav data-pjax="#js-repo-pjax-container" aria-label="Repository" data-view-component="true" class="js-repo-nav js-sidenav-container-pjax js-responsive-underlinenav overflow-hidden UnderlineNav px-3 px-md-4 px-lg-5">

  <ul data-view-component="true" class="UnderlineNav-body list-style-none">
      <li data-view-component="true" class="d-inline-flex">
  <a id="code-tab" href="https://github.com/Adyael/ml_2023" data-tab-item="i0code-tab" data-selected-links="repo_source repo_downloads repo_commits repo_releases repo_tags repo_branches repo_packages repo_deployments /Adyael/ml_2023" data-pjax="#repo-content-pjax-container" data-turbo-frame="repo-content-turbo-frame" data-hotkey="g c" data-analytics-event="{&quot;category&quot;:&quot;Underline navbar&quot;,&quot;action&quot;:&quot;Click tab&quot;,&quot;label&quot;:&quot;Code&quot;,&quot;target&quot;:&quot;UNDERLINE_NAV.TAB&quot;}" aria-current="page" data-view-component="true" class="UnderlineNav-item no-wrap js-responsive-underlinenav-item js-selected-navigation-item selected">
    
              <svg aria-hidden="true" height="16" viewBox="0 0 16 16" version="1.1" width="16" data-view-component="true" class="octicon octicon-code UnderlineNav-octicon d-none d-sm-inline">
    <path d="m11.28 3.22 4.25 4.25a.75.75 0 0 1 0 1.06l-4.25 4.25a.749.749 0 0 1-1.275-.326.749.749 0 0 1 .215-.734L13.94 8l-3.72-3.72a.749.749 0 0 1 .326-1.275.749.749 0 0 1 .734.215Zm-6.56 0a.751.751 0 0 1 1.042.018.751.751 0 0 1 .018 1.042L2.06 8l3.72 3.72a.749.749 0 0 1-.326 1.275.749.749 0 0 1-.734-.215L.47 8.53a.75.75 0 0 1 0-1.06Z"></path>
</svg>
        <span data-content="Code">Code</span>
          <span id="code-repo-tab-count" data-pjax-replace="" data-turbo-replace="" title="Not available" data-view-component="true" class="Counter"></span>


    
</a></li>
      <li data-view-component="true" class="d-inline-flex">
  <a id="issues-tab" href="https://github.com/Adyael/ml_2023/issues" data-tab-item="i1issues-tab" data-selected-links="repo_issues repo_labels repo_milestones /Adyael/ml_2023/issues" data-pjax="#repo-content-pjax-container" data-turbo-frame="repo-content-turbo-frame" data-hotkey="g i" data-analytics-event="{&quot;category&quot;:&quot;Underline navbar&quot;,&quot;action&quot;:&quot;Click tab&quot;,&quot;label&quot;:&quot;Issues&quot;,&quot;target&quot;:&quot;UNDERLINE_NAV.TAB&quot;}" data-view-component="true" class="UnderlineNav-item no-wrap js-responsive-underlinenav-item js-selected-navigation-item">
    
              <svg aria-hidden="true" height="16" viewBox="0 0 16 16" version="1.1" width="16" data-view-component="true" class="octicon octicon-issue-opened UnderlineNav-octicon d-none d-sm-inline">
    <path d="M8 9.5a1.5 1.5 0 1 0 0-3 1.5 1.5 0 0 0 0 3Z"></path><path d="M8 0a8 8 0 1 1 0 16A8 8 0 0 1 8 0ZM1.5 8a6.5 6.5 0 1 0 13 0 6.5 6.5 0 0 0-13 0Z"></path>
</svg>
        <span data-content="Issues">Issues</span>
          <span id="issues-repo-tab-count" data-pjax-replace="" data-turbo-replace="" title="0" hidden="hidden" data-view-component="true" class="Counter">0</span>


    
</a></li>
      <li data-view-component="true" class="d-inline-flex">
  <a id="pull-requests-tab" href="https://github.com/Adyael/ml_2023/pulls" data-tab-item="i2pull-requests-tab" data-selected-links="repo_pulls checks /Adyael/ml_2023/pulls" data-pjax="#repo-content-pjax-container" data-turbo-frame="repo-content-turbo-frame" data-hotkey="g p" data-analytics-event="{&quot;category&quot;:&quot;Underline navbar&quot;,&quot;action&quot;:&quot;Click tab&quot;,&quot;label&quot;:&quot;Pull requests&quot;,&quot;target&quot;:&quot;UNDERLINE_NAV.TAB&quot;}" data-view-component="true" class="UnderlineNav-item no-wrap js-responsive-underlinenav-item js-selected-navigation-item">
    
              <svg aria-hidden="true" height="16" viewBox="0 0 16 16" version="1.1" width="16" data-view-component="true" class="octicon octicon-git-pull-request UnderlineNav-octicon d-none d-sm-inline">
    <path d="M1.5 3.25a2.25 2.25 0 1 1 3 2.122v5.256a2.251 2.251 0 1 1-1.5 0V5.372A2.25 2.25 0 0 1 1.5 3.25Zm5.677-.177L9.573.677A.25.25 0 0 1 10 .854V2.5h1A2.5 2.5 0 0 1 13.5 5v5.628a2.251 2.251 0 1 1-1.5 0V5a1 1 0 0 0-1-1h-1v1.646a.25.25 0 0 1-.427.177L7.177 3.427a.25.25 0 0 1 0-.354ZM3.75 2.5a.75.75 0 1 0 0 1.5.75.75 0 0 0 0-1.5Zm0 9.5a.75.75 0 1 0 0 1.5.75.75 0 0 0 0-1.5Zm8.25.75a.75.75 0 1 0 1.5 0 .75.75 0 0 0-1.5 0Z"></path>
</svg>
        <span data-content="Pull requests">Pull requests</span>
          <span id="pull-requests-repo-tab-count" data-pjax-replace="" data-turbo-replace="" title="0" hidden="hidden" data-view-component="true" class="Counter">0</span>


    
</a></li>
      <li data-view-component="true" class="d-inline-flex">
  <a id="actions-tab" href="https://github.com/Adyael/ml_2023/actions" data-tab-item="i3actions-tab" data-selected-links="repo_actions /Adyael/ml_2023/actions" data-pjax="#repo-content-pjax-container" data-turbo-frame="repo-content-turbo-frame" data-hotkey="g a" data-analytics-event="{&quot;category&quot;:&quot;Underline navbar&quot;,&quot;action&quot;:&quot;Click tab&quot;,&quot;label&quot;:&quot;Actions&quot;,&quot;target&quot;:&quot;UNDERLINE_NAV.TAB&quot;}" data-view-component="true" class="UnderlineNav-item no-wrap js-responsive-underlinenav-item js-selected-navigation-item">
    
              <svg aria-hidden="true" height="16" viewBox="0 0 16 16" version="1.1" width="16" data-view-component="true" class="octicon octicon-play UnderlineNav-octicon d-none d-sm-inline">
    <path d="M8 0a8 8 0 1 1 0 16A8 8 0 0 1 8 0ZM1.5 8a6.5 6.5 0 1 0 13 0 6.5 6.5 0 0 0-13 0Zm4.879-2.773 4.264 2.559a.25.25 0 0 1 0 .428l-4.264 2.559A.25.25 0 0 1 6 10.559V5.442a.25.25 0 0 1 .379-.215Z"></path>
</svg>
        <span data-content="Actions">Actions</span>
          <span id="actions-repo-tab-count" data-pjax-replace="" data-turbo-replace="" title="Not available" data-view-component="true" class="Counter"></span>


    
</a></li>
      <li data-view-component="true" class="d-inline-flex">
  <a id="projects-tab" href="https://github.com/Adyael/ml_2023/projects" data-tab-item="i4projects-tab" data-selected-links="repo_projects new_repo_project repo_project /Adyael/ml_2023/projects" data-pjax="#repo-content-pjax-container" data-turbo-frame="repo-content-turbo-frame" data-hotkey="g b" data-analytics-event="{&quot;category&quot;:&quot;Underline navbar&quot;,&quot;action&quot;:&quot;Click tab&quot;,&quot;label&quot;:&quot;Projects&quot;,&quot;target&quot;:&quot;UNDERLINE_NAV.TAB&quot;}" data-view-component="true" class="UnderlineNav-item no-wrap js-responsive-underlinenav-item js-selected-navigation-item">
    
              <svg aria-hidden="true" height="16" viewBox="0 0 16 16" version="1.1" width="16" data-view-component="true" class="octicon octicon-table UnderlineNav-octicon d-none d-sm-inline">
    <path d="M0 1.75C0 .784.784 0 1.75 0h12.5C15.216 0 16 .784 16 1.75v12.5A1.75 1.75 0 0 1 14.25 16H1.75A1.75 1.75 0 0 1 0 14.25ZM6.5 6.5v8h7.75a.25.25 0 0 0 .25-.25V6.5Zm8-1.5V1.75a.25.25 0 0 0-.25-.25H6.5V5Zm-13 1.5v7.75c0 .138.112.25.25.25H5v-8ZM5 5V1.5H1.75a.25.25 0 0 0-.25.25V5Z"></path>
</svg>
        <span data-content="Projects">Projects</span>
          <span id="projects-repo-tab-count" data-pjax-replace="" data-turbo-replace="" title="0" hidden="hidden" data-view-component="true" class="Counter">0</span>


    
</a></li>
      <li data-view-component="true" class="d-inline-flex">
  <a id="security-tab" href="https://github.com/Adyael/ml_2023/security" data-tab-item="i5security-tab" data-selected-links="security overview alerts policy token_scanning code_scanning /Adyael/ml_2023/security" data-pjax="#repo-content-pjax-container" data-turbo-frame="repo-content-turbo-frame" data-hotkey="g s" data-analytics-event="{&quot;category&quot;:&quot;Underline navbar&quot;,&quot;action&quot;:&quot;Click tab&quot;,&quot;label&quot;:&quot;Security&quot;,&quot;target&quot;:&quot;UNDERLINE_NAV.TAB&quot;}" data-view-component="true" class="UnderlineNav-item no-wrap js-responsive-underlinenav-item js-selected-navigation-item">
    
              <svg aria-hidden="true" height="16" viewBox="0 0 16 16" version="1.1" width="16" data-view-component="true" class="octicon octicon-shield UnderlineNav-octicon d-none d-sm-inline">
    <path d="M7.467.133a1.748 1.748 0 0 1 1.066 0l5.25 1.68A1.75 1.75 0 0 1 15 3.48V7c0 1.566-.32 3.182-1.303 4.682-.983 1.498-2.585 2.813-5.032 3.855a1.697 1.697 0 0 1-1.33 0c-2.447-1.042-4.049-2.357-5.032-3.855C1.32 10.182 1 8.566 1 7V3.48a1.75 1.75 0 0 1 1.217-1.667Zm.61 1.429a.25.25 0 0 0-.153 0l-5.25 1.68a.25.25 0 0 0-.174.238V7c0 1.358.275 2.666 1.057 3.86.784 1.194 2.121 2.34 4.366 3.297a.196.196 0 0 0 .154 0c2.245-.956 3.582-2.104 4.366-3.298C13.225 9.666 13.5 8.36 13.5 7V3.48a.251.251 0 0 0-.174-.237l-5.25-1.68ZM8.75 4.75v3a.75.75 0 0 1-1.5 0v-3a.75.75 0 0 1 1.5 0ZM9 10.5a1 1 0 1 1-2 0 1 1 0 0 1 2 0Z"></path>
</svg>
        <span data-content="Security">Security</span>
          

    
</a></li>
      <li data-view-component="true" class="d-inline-flex">
  <a id="insights-tab" href="https://github.com/Adyael/ml_2023/pulse" data-tab-item="i6insights-tab" data-selected-links="repo_graphs repo_contributors dependency_graph dependabot_updates pulse people community /Adyael/ml_2023/pulse" data-pjax="#repo-content-pjax-container" data-turbo-frame="repo-content-turbo-frame" data-analytics-event="{&quot;category&quot;:&quot;Underline navbar&quot;,&quot;action&quot;:&quot;Click tab&quot;,&quot;label&quot;:&quot;Insights&quot;,&quot;target&quot;:&quot;UNDERLINE_NAV.TAB&quot;}" data-view-component="true" class="UnderlineNav-item no-wrap js-responsive-underlinenav-item js-selected-navigation-item">
    
              <svg aria-hidden="true" height="16" viewBox="0 0 16 16" version="1.1" width="16" data-view-component="true" class="octicon octicon-graph UnderlineNav-octicon d-none d-sm-inline">
    <path d="M1.5 1.75V13.5h13.75a.75.75 0 0 1 0 1.5H.75a.75.75 0 0 1-.75-.75V1.75a.75.75 0 0 1 1.5 0Zm14.28 2.53-5.25 5.25a.75.75 0 0 1-1.06 0L7 7.06 4.28 9.78a.751.751 0 0 1-1.042-.018.751.751 0 0 1-.018-1.042l3.25-3.25a.75.75 0 0 1 1.06 0L10 7.94l4.72-4.72a.751.751 0 0 1 1.042.018.751.751 0 0 1 .018 1.042Z"></path>
</svg>
        <span data-content="Insights">Insights</span>
          <span id="insights-repo-tab-count" data-pjax-replace="" data-turbo-replace="" title="Not available" data-view-component="true" class="Counter"></span>


    
</a></li>
</ul>
    <div style="visibility:hidden;" data-view-component="true" class="UnderlineNav-actions js-responsive-underlinenav-overflow position-absolute pr-3 pr-md-4 pr-lg-5 right-0">      <details data-view-component="true" class="details-overlay details-reset position-relative">
  <summary role="button" data-view-component="true" aria-haspopup="menu">          <div class="UnderlineNav-item mr-0 border-0">
            <svg aria-hidden="true" height="16" viewBox="0 0 16 16" version="1.1" width="16" data-view-component="true" class="octicon octicon-kebab-horizontal">
    <path d="M8 9a1.5 1.5 0 1 0 0-3 1.5 1.5 0 0 0 0 3ZM1.5 9a1.5 1.5 0 1 0 0-3 1.5 1.5 0 0 0 0 3Zm13 0a1.5 1.5 0 1 0 0-3 1.5 1.5 0 0 0 0 3Z"></path>
</svg>
            <span class="sr-only">More</span>
          </div>
</summary>
  <details-menu role="menu" data-view-component="true" class="dropdown-menu dropdown-menu-sw" data-focus-trap="suspended"><span class="sentinel" tabindex="0" aria-hidden="true"></span>          <ul>
              <li data-menu-item="i0code-tab" hidden="">
                <a role="menuitem" class="js-selected-navigation-item selected dropdown-item" aria-current="page" data-selected-links="repo_source repo_downloads repo_commits repo_releases repo_tags repo_branches repo_packages repo_deployments /Adyael/ml_2023" href="https://github.com/Adyael/ml_2023">
                  Code
</a>              </li>
              <li data-menu-item="i1issues-tab" hidden="">
                <a role="menuitem" class="js-selected-navigation-item dropdown-item" data-selected-links="repo_issues repo_labels repo_milestones /Adyael/ml_2023/issues" href="https://github.com/Adyael/ml_2023/issues">
                  Issues
</a>              </li>
              <li data-menu-item="i2pull-requests-tab" hidden="">
                <a role="menuitem" class="js-selected-navigation-item dropdown-item" data-selected-links="repo_pulls checks /Adyael/ml_2023/pulls" href="https://github.com/Adyael/ml_2023/pulls">
                  Pull requests
</a>              </li>
              <li data-menu-item="i3actions-tab" hidden="">
                <a role="menuitem" class="js-selected-navigation-item dropdown-item" data-selected-links="repo_actions /Adyael/ml_2023/actions" href="https://github.com/Adyael/ml_2023/actions">
                  Actions
</a>              </li>
              <li data-menu-item="i4projects-tab" hidden="">
                <a role="menuitem" class="js-selected-navigation-item dropdown-item" data-selected-links="repo_projects new_repo_project repo_project /Adyael/ml_2023/projects" href="https://github.com/Adyael/ml_2023/projects">
                  Projects
</a>              </li>
              <li data-menu-item="i5security-tab" hidden="">
                <a role="menuitem" class="js-selected-navigation-item dropdown-item" data-selected-links="security overview alerts policy token_scanning code_scanning /Adyael/ml_2023/security" href="https://github.com/Adyael/ml_2023/security">
                  Security
</a>              </li>
              <li data-menu-item="i6insights-tab" hidden="">
                <a role="menuitem" class="js-selected-navigation-item dropdown-item" data-selected-links="repo_graphs repo_contributors dependency_graph dependabot_updates pulse people community /Adyael/ml_2023/pulse" href="https://github.com/Adyael/ml_2023/pulse">
                  Insights
</a>              </li>
          </ul>
<span class="sentinel" tabindex="0" aria-hidden="true"></span></details-menu>
</details></div>
</nav>

  </div>

  



<turbo-frame id="repo-content-turbo-frame" target="_top" data-turbo-action="advance" class="" src="https://github.com/Adyael/ml_2023/blob/main/support_vector_regression.ipynb" complete="">

<react-app app-name="react-code-view" initial-path="/Adyael/ml_2023/blob/main/support_vector_regression.ipynb" style="min-height: calc(100vh - 62px)" data-ssr="false" data-lazy="false" data-alternate="false" data-catalyst="" class="loaded">
  
  <script type="application/json" data-target="react-app.embeddedData">{"payload":{"allShortcutsEnabled":true,"fileTree":{"":{"items":[{"name":".gitignore","path":".gitignore","contentType":"file"},{"name":"50_Startups.csv","path":"50_Startups.csv","contentType":"file"},{"name":"Churn_Modelling.csv","path":"Churn_Modelling.csv","contentType":"file"},{"name":"Data.csv","path":"Data.csv","contentType":"file"},{"name":"Position_Salaries.csv","path":"Position_Salaries.csv","contentType":"file"},{"name":"README.md","path":"README.md","contentType":"file"},{"name":"Salary_Data.csv","path":"Salary_Data.csv","contentType":"file"},{"name":"Social_Network_Ads.csv","path":"Social_Network_Ads.csv","contentType":"file"},{"name":"artificial_neural_network.ipynb","path":"artificial_neural_network.ipynb","contentType":"file"},{"name":"data_preprossecing_tools.ipynb","path":"data_preprossecing_tools.ipynb","contentType":"file"},{"name":"desicion_tree_regresion.ipynb","path":"desicion_tree_regresion.ipynb","contentType":"file"},{"name":"k_nearest_neighbors_k_nn.ipynb","path":"k_nearest_neighbors_k_nn.ipynb","contentType":"file"},{"name":"lin_reg.ipynb","path":"lin_reg.ipynb","contentType":"file"},{"name":"logistic_regression.ipynb","path":"logistic_regression.ipynb","contentType":"file"},{"name":"logistic_regression_colab.ipynb","path":"logistic_regression_colab.ipynb","contentType":"file"},{"name":"multiple_linear_regression.ipynb","path":"multiple_linear_regression.ipynb","contentType":"file"},{"name":"polynominal_regression.ipynb","path":"polynominal_regression.ipynb","contentType":"file"},{"name":"simple_linear_regression.ipynb","path":"simple_linear_regression.ipynb","contentType":"file"},{"name":"support_vector_machine.ipynb","path":"support_vector_machine.ipynb","contentType":"file"},{"name":"support_vector_machine_colab.ipynb","path":"support_vector_machine_colab.ipynb","contentType":"file"},{"name":"support_vector_regression.ipynb","path":"support_vector_regression.ipynb","contentType":"file"}],"totalCount":21}},"fileTreeProcessingTime":3.319139,"foldersToFetch":[],"reducedMotionEnabled":"system","repo":{"id":633019129,"defaultBranch":"main","name":"ml_2023","ownerLogin":"Adyael","currentUserCanPush":false,"isFork":false,"isEmpty":false,"createdAt":"2023-04-26T09:52:21.000-06:00","ownerAvatar":"https://avatars.githubusercontent.com/u/70920061?v=4","public":true,"private":false},"refInfo":{"name":"main","listCacheKey":"v0:1682525666.0","canEdit":true,"refType":"branch","currentOid":"5fda2022c00163f0dea3bf1b8c5e0068d3db0c99"},"path":"support_vector_regression.ipynb","currentUser":{"id":130586385,"login":"MxnuC","userEmail":"manucelis99@hotmail.com"},"blob":{"rawBlob":"{\n \"cells\": [\n  {\n   \"attachments\": {},\n   \"cell_type\": \"markdown\",\n   \"metadata\": {},\n   \"source\": [\n    \"# Support Vector Regression (SVR)\"\n   ]\n  },\n  {\n   \"attachments\": {},\n   \"cell_type\": \"markdown\",\n   \"metadata\": {},\n   \"source\": [\n    \"## Importing the libraries\"\n   ]\n  },\n  {\n   \"cell_type\": \"code\",\n   \"execution_count\": 1,\n   \"metadata\": {},\n   \"outputs\": [],\n   \"source\": [\n    \"import numpy as np\\n\",\n    \"import matplotlib.pyplot as plt\\n\",\n    \"import pandas as pd\"\n   ]\n  },\n  {\n   \"attachments\": {},\n   \"cell_type\": \"markdown\",\n   \"metadata\": {},\n   \"source\": [\n    \"## Importing the dataset\"\n   ]\n  },\n  {\n   \"cell_type\": \"code\",\n   \"execution_count\": 2,\n   \"metadata\": {},\n   \"outputs\": [\n    {\n     \"name\": \"stdout\",\n     \"output_type\": \"stream\",\n     \"text\": [\n      \"[[ 1]\\n\",\n      \" [ 2]\\n\",\n      \" [ 3]\\n\",\n      \" [ 4]\\n\",\n      \" [ 5]\\n\",\n      \" [ 6]\\n\",\n      \" [ 7]\\n\",\n      \" [ 8]\\n\",\n      \" [ 9]\\n\",\n      \" [10]]\\n\",\n      \"[  45000   50000   60000   80000  110000  150000  200000  300000  500000\\n\",\n      \" 1000000]\\n\",\n      \"[[  45000]\\n\",\n      \" [  50000]\\n\",\n      \" [  60000]\\n\",\n      \" [  80000]\\n\",\n      \" [ 110000]\\n\",\n      \" [ 150000]\\n\",\n      \" [ 200000]\\n\",\n      \" [ 300000]\\n\",\n      \" [ 500000]\\n\",\n      \" [1000000]]\\n\"\n     ]\n    }\n   ],\n   \"source\": [\n    \"dataset = pd.read_csv('Position_Salaries.csv')\\n\",\n    \"X = dataset.iloc[:, 1:-1].values\\n\",\n    \"y = dataset.iloc[:, -1].values\\n\",\n    \"print(X)\\n\",\n    \"print(y)\\n\",\n    \"y = y.reshape(len(y), 1)\\n\",\n    \"print(y)\"\n   ]\n  },\n  {\n   \"attachments\": {},\n   \"cell_type\": \"markdown\",\n   \"metadata\": {},\n   \"source\": [\n    \"## Featuring Scaling\"\n   ]\n  },\n  {\n   \"cell_type\": \"code\",\n   \"execution_count\": 3,\n   \"metadata\": {},\n   \"outputs\": [\n    {\n     \"name\": \"stdout\",\n     \"output_type\": \"stream\",\n     \"text\": [\n      \"[[-1.5666989 ]\\n\",\n      \" [-1.21854359]\\n\",\n      \" [-0.87038828]\\n\",\n      \" [-0.52223297]\\n\",\n      \" [-0.17407766]\\n\",\n      \" [ 0.17407766]\\n\",\n      \" [ 0.52223297]\\n\",\n      \" [ 0.87038828]\\n\",\n      \" [ 1.21854359]\\n\",\n      \" [ 1.5666989 ]]\\n\",\n      \"[[-0.72004253]\\n\",\n      \" [-0.70243757]\\n\",\n      \" [-0.66722767]\\n\",\n      \" [-0.59680786]\\n\",\n      \" [-0.49117815]\\n\",\n      \" [-0.35033854]\\n\",\n      \" [-0.17428902]\\n\",\n      \" [ 0.17781001]\\n\",\n      \" [ 0.88200808]\\n\",\n      \" [ 2.64250325]]\\n\"\n     ]\n    }\n   ],\n   \"source\": [\n    \"from sklearn.preprocessing import StandardScaler\\n\",\n    \"sc_X = StandardScaler()\\n\",\n    \"sc_y = StandardScaler()\\n\",\n    \"X = sc_X.fit_transform(X)\\n\",\n    \"y = sc_y.fit_transform(y)\\n\",\n    \"print(X)\\n\",\n    \"print(y)\"\n   ]\n  },\n  {\n   \"attachments\": {},\n   \"cell_type\": \"markdown\",\n   \"metadata\": {},\n   \"source\": [\n    \"## Training the SVR model on the wholes dataset\"\n   ]\n  },\n  {\n   \"cell_type\": \"code\",\n   \"execution_count\": 4,\n   \"metadata\": {},\n   \"outputs\": [\n    {\n     \"name\": \"stderr\",\n     \"output_type\": \"stream\",\n     \"text\": [\n      \"/home/isaac-adyael/Documentos/ml_2023/ml2023/lib/python3.10/site-packages/sklearn/utils/validation.py:1143: DataConversionWarning: A column-vector y was passed when a 1d array was expected. Please change the shape of y to (n_samples, ), for example using ravel().\\n\",\n      \"  y = column_or_1d(y, warn=True)\\n\"\n     ]\n    },\n    {\n     \"data\": {\n      \"text/html\": [\n       \"\u003cstyle\u003e#sk-container-id-1 {color: black;background-color: white;}#sk-container-id-1 pre{padding: 0;}#sk-container-id-1 div.sk-toggleable {background-color: white;}#sk-container-id-1 label.sk-toggleable__label {cursor: pointer;display: block;width: 100%;margin-bottom: 0;padding: 0.3em;box-sizing: border-box;text-align: center;}#sk-container-id-1 label.sk-toggleable__label-arrow:before {content: \\\"▸\\\";float: left;margin-right: 0.25em;color: #696969;}#sk-container-id-1 label.sk-toggleable__label-arrow:hover:before {color: black;}#sk-container-id-1 div.sk-estimator:hover label.sk-toggleable__label-arrow:before {color: black;}#sk-container-id-1 div.sk-toggleable__content {max-height: 0;max-width: 0;overflow: hidden;text-align: left;background-color: #f0f8ff;}#sk-container-id-1 div.sk-toggleable__content pre {margin: 0.2em;color: black;border-radius: 0.25em;background-color: #f0f8ff;}#sk-container-id-1 input.sk-toggleable__control:checked~div.sk-toggleable__content {max-height: 200px;max-width: 100%;overflow: auto;}#sk-container-id-1 input.sk-toggleable__control:checked~label.sk-toggleable__label-arrow:before {content: \\\"▾\\\";}#sk-container-id-1 div.sk-estimator input.sk-toggleable__control:checked~label.sk-toggleable__label {background-color: #d4ebff;}#sk-container-id-1 div.sk-label input.sk-toggleable__control:checked~label.sk-toggleable__label {background-color: #d4ebff;}#sk-container-id-1 input.sk-hidden--visually {border: 0;clip: rect(1px 1px 1px 1px);clip: rect(1px, 1px, 1px, 1px);height: 1px;margin: -1px;overflow: hidden;padding: 0;position: absolute;width: 1px;}#sk-container-id-1 div.sk-estimator {font-family: monospace;background-color: #f0f8ff;border: 1px dotted black;border-radius: 0.25em;box-sizing: border-box;margin-bottom: 0.5em;}#sk-container-id-1 div.sk-estimator:hover {background-color: #d4ebff;}#sk-container-id-1 div.sk-parallel-item::after {content: \\\"\\\";width: 100%;border-bottom: 1px solid gray;flex-grow: 1;}#sk-container-id-1 div.sk-label:hover label.sk-toggleable__label {background-color: #d4ebff;}#sk-container-id-1 div.sk-serial::before {content: \\\"\\\";position: absolute;border-left: 1px solid gray;box-sizing: border-box;top: 0;bottom: 0;left: 50%;z-index: 0;}#sk-container-id-1 div.sk-serial {display: flex;flex-direction: column;align-items: center;background-color: white;padding-right: 0.2em;padding-left: 0.2em;position: relative;}#sk-container-id-1 div.sk-item {position: relative;z-index: 1;}#sk-container-id-1 div.sk-parallel {display: flex;align-items: stretch;justify-content: center;background-color: white;position: relative;}#sk-container-id-1 div.sk-item::before, #sk-container-id-1 div.sk-parallel-item::before {content: \\\"\\\";position: absolute;border-left: 1px solid gray;box-sizing: border-box;top: 0;bottom: 0;left: 50%;z-index: -1;}#sk-container-id-1 div.sk-parallel-item {display: flex;flex-direction: column;z-index: 1;position: relative;background-color: white;}#sk-container-id-1 div.sk-parallel-item:first-child::after {align-self: flex-end;width: 50%;}#sk-container-id-1 div.sk-parallel-item:last-child::after {align-self: flex-start;width: 50%;}#sk-container-id-1 div.sk-parallel-item:only-child::after {width: 0;}#sk-container-id-1 div.sk-dashed-wrapped {border: 1px dashed gray;margin: 0 0.4em 0.5em 0.4em;box-sizing: border-box;padding-bottom: 0.4em;background-color: white;}#sk-container-id-1 div.sk-label label {font-family: monospace;font-weight: bold;display: inline-block;line-height: 1.2em;}#sk-container-id-1 div.sk-label-container {text-align: center;}#sk-container-id-1 div.sk-container {/* jupyter's `normalize.less` sets `[hidden] { display: none; }` but bootstrap.min.css set `[hidden] { display: none !important; }` so we also need the `!important` here to be able to override the default hidden behavior on the sphinx rendered scikit-learn.org. See: https://github.com/scikit-learn/scikit-learn/issues/21755 */display: inline-block !important;position: relative;}#sk-container-id-1 div.sk-text-repr-fallback {display: none;}\u003c/style\u003e\u003cdiv id=\\\"sk-container-id-1\\\" class=\\\"sk-top-container\\\"\u003e\u003cdiv class=\\\"sk-text-repr-fallback\\\"\u003e\u003cpre\u003eSVR()\u003c/pre\u003e\u003cb\u003eIn a Jupyter environment, please rerun this cell to show the HTML representation or trust the notebook. \u003cbr /\u003eOn GitHub, the HTML representation is unable to render, please try loading this page with nbviewer.org.\u003c/b\u003e\u003c/div\u003e\u003cdiv class=\\\"sk-container\\\" hidden\u003e\u003cdiv class=\\\"sk-item\\\"\u003e\u003cdiv class=\\\"sk-estimator sk-toggleable\\\"\u003e\u003cinput class=\\\"sk-toggleable__control sk-hidden--visually\\\" id=\\\"sk-estimator-id-1\\\" type=\\\"checkbox\\\" checked\u003e\u003clabel for=\\\"sk-estimator-id-1\\\" class=\\\"sk-toggleable__label sk-toggleable__label-arrow\\\"\u003eSVR\u003c/label\u003e\u003cdiv class=\\\"sk-toggleable__content\\\"\u003e\u003cpre\u003eSVR()\u003c/pre\u003e\u003c/div\u003e\u003c/div\u003e\u003c/div\u003e\u003c/div\u003e\u003c/div\u003e\"\n      ],\n      \"text/plain\": [\n       \"SVR()\"\n      ]\n     },\n     \"execution_count\": 4,\n     \"metadata\": {},\n     \"output_type\": \"execute_result\"\n    }\n   ],\n   \"source\": [\n    \"from sklearn.svm import SVR\\n\",\n    \"regressor = SVR(kernel='rbf')\\n\",\n    \"regressor.fit(X, y)\"\n   ]\n  },\n  {\n   \"attachments\": {},\n   \"cell_type\": \"markdown\",\n   \"metadata\": {},\n   \"source\": [\n    \"## Predicting a new result\"\n   ]\n  },\n  {\n   \"cell_type\": \"code\",\n   \"execution_count\": 5,\n   \"metadata\": {},\n   \"outputs\": [\n    {\n     \"data\": {\n      \"text/plain\": [\n       \"array([[170370.0204065]])\"\n      ]\n     },\n     \"execution_count\": 5,\n     \"metadata\": {},\n     \"output_type\": \"execute_result\"\n    }\n   ],\n   \"source\": [\n    \"sc_y.inverse_transform(regressor.predict(sc_X.transform([[6.5]])).reshape(1, -1))\"\n   ]\n  },\n  {\n   \"attachments\": {},\n   \"cell_type\": \"markdown\",\n   \"metadata\": {},\n   \"source\": [\n    \"## Visualising the SVR results\"\n   ]\n  },\n  {\n   \"cell_type\": \"code\",\n   \"execution_count\": 6,\n   \"metadata\": {},\n   \"outputs\": [\n    {\n     \"data\": {\n      \"image/png\": \"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\",\n      \"text/plain\": [\n       \"\u003cFigure size 640x480 with 1 Axes\u003e\"\n      ]\n     },\n     \"metadata\": {},\n     \"output_type\": \"display_data\"\n    }\n   ],\n   \"source\": [\n    \"plt.scatter(sc_X.inverse_transform(X), sc_y.inverse_transform(y), color='red')\\n\",\n    \"plt.plot(sc_X.inverse_transform(X), \\n\",\n    \"         sc_y.inverse_transform(regressor.predict(X).reshape(-1,1)), color='blue')\\n\",\n    \"plt.title('Truth or Bluff (SVR)')\\n\",\n    \"plt.xlabel('Position Level')\\n\",\n    \"plt.ylabel('Salary')\\n\",\n    \"plt.show()\"\n   ]\n  },\n  {\n   \"attachments\": {},\n   \"cell_type\": \"markdown\",\n   \"metadata\": {},\n   \"source\": [\n    \"## Visualising the SVR results (for higher resolution and smoother curve)\"\n   ]\n  },\n  {\n   \"cell_type\": \"code\",\n   \"execution_count\": 7,\n   \"metadata\": {},\n   \"outputs\": [\n    {\n     \"data\": {\n      \"image/png\": \"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\",\n      \"text/plain\": [\n       \"\u003cFigure size 640x480 with 1 Axes\u003e\"\n      ]\n     },\n     \"metadata\": {},\n     \"output_type\": \"display_data\"\n    }\n   ],\n   \"source\": [\n    \"X_grid = np.arange(min(sc_X.inverse_transform(X)), max(sc_X.inverse_transform(X)), 0.1)\\n\",\n    \"X_grid = X_grid.reshape((len(X_grid), 1))\\n\",\n    \"plt.scatter(sc_X.inverse_transform(X), sc_y.inverse_transform(y), color='red')\\n\",\n    \"plt.plot(X_grid,\\n\",\n    \"        sc_y.inverse_transform(regressor.predict(sc_X.transform(X_grid)).reshape(-1,1)), color='blue')\\n\",\n    \"plt.title('Truth or Bluff (SVR)')\\n\",\n    \"plt.xlabel('Position Level')\\n\",\n    \"plt.ylabel('Salary')\\n\",\n    \"plt.show()\"\n   ]\n  }\n ],\n \"metadata\": {\n  \"kernelspec\": {\n   \"display_name\": \"ml2023\",\n   \"language\": \"python\",\n   \"name\": \"python3\"\n  },\n  \"language_info\": {\n   \"codemirror_mode\": {\n    \"name\": \"ipython\",\n    \"version\": 3\n   },\n   \"file_extension\": \".py\",\n   \"mimetype\": \"text/x-python\",\n   \"name\": \"python\",\n   \"nbconvert_exporter\": \"python\",\n   \"pygments_lexer\": \"ipython3\",\n   \"version\": \"3.10.6\"\n  },\n  \"orig_nbformat\": 4\n },\n \"nbformat\": 4,\n \"nbformat_minor\": 2\n}\n","colorizedLines":null,"stylingDirectives":null,"csv":null,"csvError":null,"dependabotInfo":{"showConfigurationBanner":false,"configFilePath":null,"networkDependabotPath":"/Adyael/ml_2023/network/updates","dismissConfigurationNoticePath":"/settings/dismiss-notice/dependabot_configuration_notice","configurationNoticeDismissed":false,"repoAlertsPath":"/Adyael/ml_2023/security/dependabot","repoSecurityAndAnalysisPath":"/Adyael/ml_2023/settings/security_analysis","repoOwnerIsOrg":false,"currentUserCanAdminRepo":false},"displayName":"support_vector_regression.ipynb","displayUrl":"https://notebooks.githubusercontent.com/view/ipynb?browser=chrome\u0026bypass_fastly=true\u0026color_mode=auto\u0026commit=5fda2022c00163f0dea3bf1b8c5e0068d3db0c99\u0026device=unknown_device\u0026docs_host=https%3A%2F%2Fdocs.github.com\u0026enc_url=68747470733a2f2f7261772e67697468756275736572636f6e74656e742e636f6d2f41647961656c2f6d6c5f323032332f356664613230323263303031363366306465613362663162386335653030363864336462306339392f737570706f72745f766563746f725f72656772657373696f6e2e6970796e62\u0026logged_in=true\u0026nwo=Adyael%2Fml_2023\u0026path=support_vector_regression.ipynb\u0026platform=windows\u0026repository_id=633019129\u0026repository_type=Repository\u0026version=114","headerInfo":{"blobSize":"60.5 KB","deleteInfo":{"deletePath":"https://github.com/Adyael/ml_2023/delete/main/support_vector_regression.ipynb","deleteTooltip":"Fork this repository and delete the file"},"editInfo":{"editTooltip":"Fork this repository and edit the file"},"ghDesktopPath":"https://desktop.github.com","gitLfsPath":null,"onBranch":true,"shortPath":"3d157b2","siteNavLoginPath":"/login?return_to=https%3A%2F%2Fgithub.com%2FAdyael%2Fml_2023%2Fblob%2Fmain%2Fsupport_vector_regression.ipynb","isCSV":false,"isRichtext":false,"toc":null,"lineInfo":{"truncatedLoc":"294","truncatedSloc":"294"},"mode":"file"},"image":false,"isCodeownersFile":null,"isValidLegacyIssueTemplate":false,"issueTemplateHelpUrl":"https://docs.github.com/articles/about-issue-and-pull-request-templates","issueTemplate":null,"discussionTemplate":null,"language":"Jupyter Notebook","large":false,"loggedIn":true,"newDiscussionPath":"/Adyael/ml_2023/discussions/new","newIssuePath":"/Adyael/ml_2023/issues/new","planSupportInfo":{"repoIsFork":null,"repoOwnedByCurrentUser":null,"requestFullPath":"/Adyael/ml_2023/blob/main/support_vector_regression.ipynb","showFreeOrgGatedFeatureMessage":null,"showPlanSupportBanner":null,"upgradeDataAttributes":null,"upgradePath":null},"publishBannersInfo":{"dismissActionNoticePath":"/settings/dismiss-notice/publish_action_from_dockerfile","dismissStackNoticePath":"/settings/dismiss-notice/publish_stack_from_file","releasePath":"/Adyael/ml_2023/releases/new?marketplace=true","showPublishActionBanner":false,"showPublishStackBanner":false},"renderImageOrRaw":false,"richText":null,"renderedFileInfo":{"identityUUID":"18a452f0-e1af-48a0-98e7-7fadf425269b","renderFileType":"ipynb","size":61963},"tabSize":8,"topBannersInfo":{"overridingGlobalFundingFile":false,"globalPreferredFundingPath":null,"repoOwner":"Adyael","repoName":"ml_2023","showInvalidCitationWarning":false,"citationHelpUrl":"https://docs.github.com/en/github/creating-cloning-and-archiving-repositories/creating-a-repository-on-github/about-citation-files","showDependabotConfigurationBanner":false,"actionsOnboardingTip":null},"truncated":false,"viewable":true,"workflowRedirectUrl":null,"symbols":{"timedOut":false,"notAnalyzed":true,"symbols":[]}},"csrf_tokens":{"/Adyael/ml_2023/branches":{"post":"5hEQVCP_XbZPPQ3dRu55sTslp0O3tvFPT5dZ3S3pY2xcGV8zPH4xF1O7w0Z3Eo16XGvcCgIno1vUOsvVC936tQ"}}},"title":"ml_2023/support_vector_regression.ipynb at main · Adyael/ml_2023","locale":"en","appPayload":{"helpUrl":"https://docs.github.com","findFileWorkerPath":"/assets-cdn/worker/find-file-worker-848bb9a5da17.js","findInFileWorkerPath":"/assets-cdn/worker/find-in-file-worker-8812f8040df6.js","githubDevUrl":"https://github.dev/","enabled_features":{"virtualize_file_tree":true,"react_repos_overview":false,"repos_new_shortcut_enabled":false,"blob_navigation_cursor":true,"code_nav_ui_events":false,"ref_selector_v2":false,"codeview_codemirror_next":false,"copilot_conversational_ux":false}}}</script>
  <div data-target="react-app.reactRoot"><div color="fg.default" font-family="normal" data-portal-root="true" class="BaseStyles__Base-sc-nfjs56-0 bmmbtJ"><div id="__primerPortalRoot__" style="z-index: 10; position: absolute; width: 100%;"><div style="position: relative; z-index: 1;"><span role="tooltip" aria-label="support_vector_machine_colab.ipynb" data-testid="support_vector_machine_colab.ipynb-item-tooltip" id="support_vector_machine_colab.ipynb-item-tooltip" class="sc-bcXHqe eNQxbY tooltipped-ne tooltipped-open" style="position: absolute; left: 151.5px; top: 530px;"></span></div></div><meta data-hydrostats="publish">    <button hidden="" data-testid="header-permalink-button" data-hotkey="y,Y" data-hotkey-scope="read-only-cursor-text-area"></button><button hidden="" data-hotkey="y,Y"></button><div class="Box-sc-g0xbh4-0"><div class="Box-sc-g0xbh4-0 fSWWem" style="--sticky-pane-height: calc(100vh - (max(0px, 0px)));"><div class="Box-sc-g0xbh4-0 kPPmzM"><div class="Box-sc-g0xbh4-0 cIAPDV"><div tabindex="0" class="Box-sc-g0xbh4-0 gvCnwW"><div class="Box-sc-g0xbh4-0 ioxSsX"><div class="Box-sc-g0xbh4-0 eUyHuk"></div><div class="Box-sc-g0xbh4-0 cvKirU"><div role="separator" class="Box-sc-g0xbh4-0 dZCkhR"></div></div><div class="Box-sc-g0xbh4-0 gNdDUH" style="--pane-width: 320px;"><span class="_VisuallyHidden__VisuallyHidden-sc-11jhm7a-0 rTZSs"><form><label for=":r25:-width-input">Pane width</label><p id=":r25:-input-hint">Use a value between 19% and 30%</p><input id=":r25:-width-input" aria-describedby=":r25:-input-hint" name="pane-width" inputmode="numeric" pattern="[0-9]*" autocorrect="off" autocomplete="off" type="text" value="23"><button type="submit">Change width</button></form></span><div id="repos-file-tree" class="Box-sc-g0xbh4-0 dkMzXD"><div class="Box-sc-g0xbh4-0 hBSSUC"><div class="Box-sc-g0xbh4-0 iPurHz"><h2 class="Heading__StyledHeading-sc-1c1dgg0-0 fNPcqd"><button data-component="IconButton" data-testid="collapse-file-tree-button" aria-label="Side panel" aria-expanded="true" aria-controls="repos-file-tree" class="types__StyledButton-sc-ws60qy-0 hNyQml" data-no-visuals="true"><svg aria-hidden="true" focusable="false" role="img" class="octicon octicon-sidebar-expand" viewBox="0 0 16 16" width="16" height="16" fill="currentColor" style="display: inline-block; user-select: none; vertical-align: text-bottom; overflow: visible;"><path d="m4.177 7.823 2.396-2.396A.25.25 0 0 1 7 5.604v4.792a.25.25 0 0 1-.427.177L4.177 8.177a.25.25 0 0 1 0-.354Z"></path><path d="M0 1.75C0 .784.784 0 1.75 0h12.5C15.216 0 16 .784 16 1.75v12.5A1.75 1.75 0 0 1 14.25 16H1.75A1.75 1.75 0 0 1 0 14.25Zm1.75-.25a.25.25 0 0 0-.25.25v12.5c0 .138.112.25.25.25H9.5v-13Zm12.5 13a.25.25 0 0 0 .25-.25V1.75a.25.25 0 0 0-.25-.25H11v13Z"></path></svg></button></h2><h2 class="Heading__StyledHeading-sc-1c1dgg0-0 imcwCi">Code</h2></div><div class="Box-sc-g0xbh4-0 hVHHYa"><div class="Box-sc-g0xbh4-0 idZfsJ"><button type="button" id="branch-picker-1686111459861" aria-haspopup="true" tabindex="0" data-hotkey="w" aria-label="main branch" data-testid="anchor-button" class="types__StyledButton-sc-ws60qy-0 cZRqXf react-repos-tree-pane-ref-selector width-full"><span data-component="buttonContent" class="Box-sc-g0xbh4-0 kkrdEu"><span data-component="text"><div class="Box-sc-g0xbh4-0 cFPoqW"><div class="Box-sc-g0xbh4-0 bwTunw"><svg aria-hidden="true" focusable="false" role="img" class="octicon octicon-git-branch" viewBox="0 0 16 16" width="16" height="16" fill="currentColor" style="display: inline-block; user-select: none; vertical-align: text-bottom; overflow: visible;"><path d="M9.5 3.25a2.25 2.25 0 1 1 3 2.122V6A2.5 2.5 0 0 1 10 8.5H6a1 1 0 0 0-1 1v1.128a2.251 2.251 0 1 1-1.5 0V5.372a2.25 2.25 0 1 1 1.5 0v1.836A2.493 2.493 0 0 1 6 7h4a1 1 0 0 0 1-1v-.628A2.25 2.25 0 0 1 9.5 3.25Zm-6 0a.75.75 0 1 0 1.5 0 .75.75 0 0 0-1.5 0Zm8.25-.75a.75.75 0 1 0 0 1.5.75.75 0 0 0 0-1.5ZM4.25 12a.75.75 0 1 0 0 1.5.75.75 0 0 0 0-1.5Z"></path></svg></div><div class="Box-sc-g0xbh4-0 caeYDk"><span class="Text-sc-17v1xeu-0 bOMzPg">&nbsp;main</span></div></div></span><span data-component="trailingVisual" class="Box-sc-g0xbh4-0 trpoQ"><svg aria-hidden="true" focusable="false" role="img" class="octicon octicon-triangle-down" viewBox="0 0 16 16" width="16" height="16" fill="currentColor" style="display: inline-block; user-select: none; vertical-align: text-bottom; overflow: visible;"><path d="m4.427 7.427 3.396 3.396a.25.25 0 0 0 .354 0l3.396-3.396A.25.25 0 0 0 11.396 7H4.604a.25.25 0 0 0-.177.427Z"></path></svg></span></span></button><button hidden="" data-hotkey="w" data-hotkey-scope="read-only-cursor-text-area"></button></div><span role="tooltip" aria-label="Add file" class="Tooltip__TooltipBase-sc-uha8qm-0 fCnxTL tooltipped-s"><a sx="[object Object]" data-component="IconButton" aria-label="Add file" data-no-visuals="true" class="types__StyledButton-sc-ws60qy-0 gTeenv" href="https://github.com/Adyael/ml_2023/new/main"><svg aria-hidden="true" focusable="false" role="img" class="octicon octicon-plus" viewBox="0 0 16 16" width="16" height="16" fill="currentColor" style="display: inline-block; user-select: none; vertical-align: text-bottom; overflow: visible;"><path d="M7.75 2a.75.75 0 0 1 .75.75V7h4.25a.75.75 0 0 1 0 1.5H8.5v4.25a.75.75 0 0 1-1.5 0V8.5H2.75a.75.75 0 0 1 0-1.5H7V2.75A.75.75 0 0 1 7.75 2Z"></path></svg></a></span><button data-component="IconButton" aria-label="Search this repository" data-hotkey="/" data-no-visuals="true" class="types__StyledButton-sc-ws60qy-0 VplrY"><svg aria-hidden="true" focusable="false" role="img" class="octicon octicon-search" viewBox="0 0 16 16" width="16" height="16" fill="currentColor" style="display: inline-block; user-select: none; vertical-align: text-bottom; overflow: visible;"><path d="M10.68 11.74a6 6 0 0 1-7.922-8.982 6 6 0 0 1 8.982 7.922l3.04 3.04a.749.749 0 0 1-.326 1.275.749.749 0 0 1-.734-.215ZM11.5 7a4.499 4.499 0 1 0-8.997 0A4.499 4.499 0 0 0 11.5 7Z"></path></svg></button><button hidden="" data-testid="" data-hotkey="/" data-hotkey-scope="read-only-cursor-text-area"></button></div></div><div class="Box-sc-g0xbh4-0 jRttMj"><button hidden="" data-testid="" data-hotkey="t,T" data-hotkey-scope="read-only-cursor-text-area"></button><button hidden="" data-hotkey="t,T"></button><span class="_TextInputWrapper__TextInputBaseWrapper-sc-apywy2-0 _TextInputWrapper__TextInputWrapper-sc-apywy2-1 bqFowW jhluSD TextInput-wrapper" aria-live="polite" aria-busy="false"><span class="TextInput-icon"><svg aria-hidden="true" focusable="false" role="img" class="octicon octicon-search" viewBox="0 0 16 16" width="16" height="16" fill="currentColor" style="display: inline-block; user-select: none; vertical-align: text-bottom; overflow: visible;"><path d="M10.68 11.74a6 6 0 0 1-7.922-8.982 6 6 0 0 1 8.982 7.922l3.04 3.04a.749.749 0 0 1-.326 1.275.749.749 0 0 1-.734-.215ZM11.5 7a4.499 4.499 0 1 0-8.997 0A4.499 4.499 0 0 0 11.5 7Z"></path></svg></span><input type="text" aria-label="Go to file" role="combobox" aria-controls="file-results-list" aria-expanded="false" aria-haspopup="dialog" autocorrect="off" spellcheck="false" placeholder="Go to file" data-component="input" class="_UnstyledTextInput__UnstyledTextInput-sc-31b2um-0 dFGJZq" value=""><span class="TextInput-icon"><div class="Box-sc-g0xbh4-0 cNvKlH"><kbd>t</kbd></div></span></span></div><div class="Box-sc-g0xbh4-0 jqIGtE"></div><div class="Box-sc-g0xbh4-0 bYLCoz"><div><div data-testid="repos-file-tree-container" class="Box-sc-g0xbh4-0 hJcmjJ"><nav aria-label="File Tree Navigation"><span role="status" aria-live="polite" aria-atomic="true" class="_VisuallyHidden__VisuallyHidden-sc-11jhm7a-0 rTZSs"></span><ul role="tree" aria-label="Files" class="TreeView__UlBox-sc-4ex6b6-0 hLwWNO"><li class="PRIVATE_TreeView-item" tabindex="-1" id=".gitignore-item" role="treeitem" aria-labelledby=":r2b:" aria-describedby=":r2c: :r2d:" aria-level="1" aria-selected="false"><div class="PRIVATE_TreeView-item-container" style="--level: 1; content-visibility: auto; contain-intrinsic-size: auto 2rem;"><div style="grid-area: spacer / spacer / spacer / spacer; display: flex;"><div style="width: 100%; display: flex;"></div></div><div id=":r2b:" class="PRIVATE_TreeView-item-content"><div class="PRIVATE_VisuallyHidden" aria-hidden="true" id=":r2c:"></div><div class="PRIVATE_TreeView-item-visual" aria-hidden="true"><svg aria-hidden="true" focusable="false" role="img" class="octicon octicon-file" viewBox="0 0 16 16" width="16" height="16" fill="currentColor" style="display: inline-block; user-select: none; vertical-align: text-bottom; overflow: visible;"><path d="M2 1.75C2 .784 2.784 0 3.75 0h6.586c.464 0 .909.184 1.237.513l2.914 2.914c.329.328.513.773.513 1.237v9.586A1.75 1.75 0 0 1 13.25 16h-9.5A1.75 1.75 0 0 1 2 14.25Zm1.75-.25a.25.25 0 0 0-.25.25v12.5c0 .138.112.25.25.25h9.5a.25.25 0 0 0 .25-.25V6h-2.75A1.75 1.75 0 0 1 9 4.25V1.5Zm6.75.062V4.25c0 .138.112.25.25.25h2.688l-.011-.013-2.914-2.914-.013-.011Z"></path></svg></div><span class="PRIVATE_TreeView-item-content-text"><span>.gitignore</span></span></div></div></li><li class="PRIVATE_TreeView-item" tabindex="-1" id="50_Startups.csv-item" role="treeitem" aria-labelledby=":r2e:" aria-describedby=":r2f: :r2g:" aria-level="1" aria-selected="false"><div class="PRIVATE_TreeView-item-container" style="--level: 1; content-visibility: auto; contain-intrinsic-size: auto 2rem;"><div style="grid-area: spacer / spacer / spacer / spacer; display: flex;"><div style="width: 100%; display: flex;"></div></div><div id=":r2e:" class="PRIVATE_TreeView-item-content"><div class="PRIVATE_VisuallyHidden" aria-hidden="true" id=":r2f:"></div><div class="PRIVATE_TreeView-item-visual" aria-hidden="true"><svg aria-hidden="true" focusable="false" role="img" class="octicon octicon-file" viewBox="0 0 16 16" width="16" height="16" fill="currentColor" style="display: inline-block; user-select: none; vertical-align: text-bottom; overflow: visible;"><path d="M2 1.75C2 .784 2.784 0 3.75 0h6.586c.464 0 .909.184 1.237.513l2.914 2.914c.329.328.513.773.513 1.237v9.586A1.75 1.75 0 0 1 13.25 16h-9.5A1.75 1.75 0 0 1 2 14.25Zm1.75-.25a.25.25 0 0 0-.25.25v12.5c0 .138.112.25.25.25h9.5a.25.25 0 0 0 .25-.25V6h-2.75A1.75 1.75 0 0 1 9 4.25V1.5Zm6.75.062V4.25c0 .138.112.25.25.25h2.688l-.011-.013-2.914-2.914-.013-.011Z"></path></svg></div><span class="PRIVATE_TreeView-item-content-text"><span>50_Startups.csv</span></span></div></div></li><li class="PRIVATE_TreeView-item" tabindex="-1" id="Churn_Modelling.csv-item" role="treeitem" aria-labelledby=":r2h:" aria-describedby=":r2i: :r2j:" aria-level="1" aria-selected="false"><div class="PRIVATE_TreeView-item-container" style="--level: 1; content-visibility: auto; contain-intrinsic-size: auto 2rem;"><div style="grid-area: spacer / spacer / spacer / spacer; display: flex;"><div style="width: 100%; display: flex;"></div></div><div id=":r2h:" class="PRIVATE_TreeView-item-content"><div class="PRIVATE_VisuallyHidden" aria-hidden="true" id=":r2i:"></div><div class="PRIVATE_TreeView-item-visual" aria-hidden="true"><svg aria-hidden="true" focusable="false" role="img" class="octicon octicon-file" viewBox="0 0 16 16" width="16" height="16" fill="currentColor" style="display: inline-block; user-select: none; vertical-align: text-bottom; overflow: visible;"><path d="M2 1.75C2 .784 2.784 0 3.75 0h6.586c.464 0 .909.184 1.237.513l2.914 2.914c.329.328.513.773.513 1.237v9.586A1.75 1.75 0 0 1 13.25 16h-9.5A1.75 1.75 0 0 1 2 14.25Zm1.75-.25a.25.25 0 0 0-.25.25v12.5c0 .138.112.25.25.25h9.5a.25.25 0 0 0 .25-.25V6h-2.75A1.75 1.75 0 0 1 9 4.25V1.5Zm6.75.062V4.25c0 .138.112.25.25.25h2.688l-.011-.013-2.914-2.914-.013-.011Z"></path></svg></div><span class="PRIVATE_TreeView-item-content-text"><span>Churn_Modelling.csv</span></span></div></div></li><li class="PRIVATE_TreeView-item" tabindex="-1" id="Data.csv-item" role="treeitem" aria-labelledby=":r2k:" aria-describedby=":r2l: :r2m:" aria-level="1" aria-selected="false"><div class="PRIVATE_TreeView-item-container" style="--level: 1; content-visibility: auto; contain-intrinsic-size: auto 2rem;"><div style="grid-area: spacer / spacer / spacer / spacer; display: flex;"><div style="width: 100%; display: flex;"></div></div><div id=":r2k:" class="PRIVATE_TreeView-item-content"><div class="PRIVATE_VisuallyHidden" aria-hidden="true" id=":r2l:"></div><div class="PRIVATE_TreeView-item-visual" aria-hidden="true"><svg aria-hidden="true" focusable="false" role="img" class="octicon octicon-file" viewBox="0 0 16 16" width="16" height="16" fill="currentColor" style="display: inline-block; user-select: none; vertical-align: text-bottom; overflow: visible;"><path d="M2 1.75C2 .784 2.784 0 3.75 0h6.586c.464 0 .909.184 1.237.513l2.914 2.914c.329.328.513.773.513 1.237v9.586A1.75 1.75 0 0 1 13.25 16h-9.5A1.75 1.75 0 0 1 2 14.25Zm1.75-.25a.25.25 0 0 0-.25.25v12.5c0 .138.112.25.25.25h9.5a.25.25 0 0 0 .25-.25V6h-2.75A1.75 1.75 0 0 1 9 4.25V1.5Zm6.75.062V4.25c0 .138.112.25.25.25h2.688l-.011-.013-2.914-2.914-.013-.011Z"></path></svg></div><span class="PRIVATE_TreeView-item-content-text"><span>Data.csv</span></span></div></div></li><li class="PRIVATE_TreeView-item" tabindex="-1" id="Position_Salaries.csv-item" role="treeitem" aria-labelledby=":r2n:" aria-describedby=":r2o: :r2p:" aria-level="1" aria-selected="false"><div class="PRIVATE_TreeView-item-container" style="--level: 1; content-visibility: auto; contain-intrinsic-size: auto 2rem;"><div style="grid-area: spacer / spacer / spacer / spacer; display: flex;"><div style="width: 100%; display: flex;"></div></div><div id=":r2n:" class="PRIVATE_TreeView-item-content"><div class="PRIVATE_VisuallyHidden" aria-hidden="true" id=":r2o:"></div><div class="PRIVATE_TreeView-item-visual" aria-hidden="true"><svg aria-hidden="true" focusable="false" role="img" class="octicon octicon-file" viewBox="0 0 16 16" width="16" height="16" fill="currentColor" style="display: inline-block; user-select: none; vertical-align: text-bottom; overflow: visible;"><path d="M2 1.75C2 .784 2.784 0 3.75 0h6.586c.464 0 .909.184 1.237.513l2.914 2.914c.329.328.513.773.513 1.237v9.586A1.75 1.75 0 0 1 13.25 16h-9.5A1.75 1.75 0 0 1 2 14.25Zm1.75-.25a.25.25 0 0 0-.25.25v12.5c0 .138.112.25.25.25h9.5a.25.25 0 0 0 .25-.25V6h-2.75A1.75 1.75 0 0 1 9 4.25V1.5Zm6.75.062V4.25c0 .138.112.25.25.25h2.688l-.011-.013-2.914-2.914-.013-.011Z"></path></svg></div><span class="PRIVATE_TreeView-item-content-text"><span>Position_Salaries.csv</span></span></div></div></li><li class="PRIVATE_TreeView-item" tabindex="-1" id="README.md-item" role="treeitem" aria-labelledby=":r2q:" aria-describedby=":r2r: :r2s:" aria-level="1" aria-selected="false"><div class="PRIVATE_TreeView-item-container" style="--level: 1; content-visibility: auto; contain-intrinsic-size: auto 2rem;"><div style="grid-area: spacer / spacer / spacer / spacer; display: flex;"><div style="width: 100%; display: flex;"></div></div><div id=":r2q:" class="PRIVATE_TreeView-item-content"><div class="PRIVATE_VisuallyHidden" aria-hidden="true" id=":r2r:"></div><div class="PRIVATE_TreeView-item-visual" aria-hidden="true"><svg aria-hidden="true" focusable="false" role="img" class="octicon octicon-file" viewBox="0 0 16 16" width="16" height="16" fill="currentColor" style="display: inline-block; user-select: none; vertical-align: text-bottom; overflow: visible;"><path d="M2 1.75C2 .784 2.784 0 3.75 0h6.586c.464 0 .909.184 1.237.513l2.914 2.914c.329.328.513.773.513 1.237v9.586A1.75 1.75 0 0 1 13.25 16h-9.5A1.75 1.75 0 0 1 2 14.25Zm1.75-.25a.25.25 0 0 0-.25.25v12.5c0 .138.112.25.25.25h9.5a.25.25 0 0 0 .25-.25V6h-2.75A1.75 1.75 0 0 1 9 4.25V1.5Zm6.75.062V4.25c0 .138.112.25.25.25h2.688l-.011-.013-2.914-2.914-.013-.011Z"></path></svg></div><span class="PRIVATE_TreeView-item-content-text"><span>README.md</span></span></div></div></li><li class="PRIVATE_TreeView-item" tabindex="-1" id="Salary_Data.csv-item" role="treeitem" aria-labelledby=":r2t:" aria-describedby=":r2u: :r2v:" aria-level="1" aria-selected="false"><div class="PRIVATE_TreeView-item-container" style="--level: 1; content-visibility: auto; contain-intrinsic-size: auto 2rem;"><div style="grid-area: spacer / spacer / spacer / spacer; display: flex;"><div style="width: 100%; display: flex;"></div></div><div id=":r2t:" class="PRIVATE_TreeView-item-content"><div class="PRIVATE_VisuallyHidden" aria-hidden="true" id=":r2u:"></div><div class="PRIVATE_TreeView-item-visual" aria-hidden="true"><svg aria-hidden="true" focusable="false" role="img" class="octicon octicon-file" viewBox="0 0 16 16" width="16" height="16" fill="currentColor" style="display: inline-block; user-select: none; vertical-align: text-bottom; overflow: visible;"><path d="M2 1.75C2 .784 2.784 0 3.75 0h6.586c.464 0 .909.184 1.237.513l2.914 2.914c.329.328.513.773.513 1.237v9.586A1.75 1.75 0 0 1 13.25 16h-9.5A1.75 1.75 0 0 1 2 14.25Zm1.75-.25a.25.25 0 0 0-.25.25v12.5c0 .138.112.25.25.25h9.5a.25.25 0 0 0 .25-.25V6h-2.75A1.75 1.75 0 0 1 9 4.25V1.5Zm6.75.062V4.25c0 .138.112.25.25.25h2.688l-.011-.013-2.914-2.914-.013-.011Z"></path></svg></div><span class="PRIVATE_TreeView-item-content-text"><span>Salary_Data.csv</span></span></div></div></li><li class="PRIVATE_TreeView-item" tabindex="-1" id="Social_Network_Ads.csv-item" role="treeitem" aria-labelledby=":r30:" aria-describedby=":r31: :r32:" aria-level="1" aria-selected="false"><div class="PRIVATE_TreeView-item-container" style="--level: 1; content-visibility: auto; contain-intrinsic-size: auto 2rem;"><div style="grid-area: spacer / spacer / spacer / spacer; display: flex;"><div style="width: 100%; display: flex;"></div></div><div id=":r30:" class="PRIVATE_TreeView-item-content"><div class="PRIVATE_VisuallyHidden" aria-hidden="true" id=":r31:"></div><div class="PRIVATE_TreeView-item-visual" aria-hidden="true"><svg aria-hidden="true" focusable="false" role="img" class="octicon octicon-file" viewBox="0 0 16 16" width="16" height="16" fill="currentColor" style="display: inline-block; user-select: none; vertical-align: text-bottom; overflow: visible;"><path d="M2 1.75C2 .784 2.784 0 3.75 0h6.586c.464 0 .909.184 1.237.513l2.914 2.914c.329.328.513.773.513 1.237v9.586A1.75 1.75 0 0 1 13.25 16h-9.5A1.75 1.75 0 0 1 2 14.25Zm1.75-.25a.25.25 0 0 0-.25.25v12.5c0 .138.112.25.25.25h9.5a.25.25 0 0 0 .25-.25V6h-2.75A1.75 1.75 0 0 1 9 4.25V1.5Zm6.75.062V4.25c0 .138.112.25.25.25h2.688l-.011-.013-2.914-2.914-.013-.011Z"></path></svg></div><span class="PRIVATE_TreeView-item-content-text"><span>Social_Network_Ads.csv</span></span></div></div></li><li class="PRIVATE_TreeView-item" tabindex="-1" id="artificial_neural_network.ipynb-item" role="treeitem" aria-labelledby=":r33:" aria-describedby=":r34: :r35:" aria-level="1" aria-selected="false"><div class="PRIVATE_TreeView-item-container" style="--level: 1; content-visibility: auto; contain-intrinsic-size: auto 2rem;"><div style="grid-area: spacer / spacer / spacer / spacer; display: flex;"><div style="width: 100%; display: flex;"></div></div><div id=":r33:" class="PRIVATE_TreeView-item-content"><div class="PRIVATE_VisuallyHidden" aria-hidden="true" id=":r34:"></div><div class="PRIVATE_TreeView-item-visual" aria-hidden="true"><svg aria-hidden="true" focusable="false" role="img" class="octicon octicon-file" viewBox="0 0 16 16" width="16" height="16" fill="currentColor" style="display: inline-block; user-select: none; vertical-align: text-bottom; overflow: visible;"><path d="M2 1.75C2 .784 2.784 0 3.75 0h6.586c.464 0 .909.184 1.237.513l2.914 2.914c.329.328.513.773.513 1.237v9.586A1.75 1.75 0 0 1 13.25 16h-9.5A1.75 1.75 0 0 1 2 14.25Zm1.75-.25a.25.25 0 0 0-.25.25v12.5c0 .138.112.25.25.25h9.5a.25.25 0 0 0 .25-.25V6h-2.75A1.75 1.75 0 0 1 9 4.25V1.5Zm6.75.062V4.25c0 .138.112.25.25.25h2.688l-.011-.013-2.914-2.914-.013-.011Z"></path></svg></div><span class="PRIVATE_TreeView-item-content-text"><span>artificial_neural_network.ipynb</span></span></div></div></li><li class="PRIVATE_TreeView-item" tabindex="-1" id="data_preprossecing_tools.ipynb-item" role="treeitem" aria-labelledby=":r36:" aria-describedby=":r37: :r38:" aria-level="1" aria-selected="false"><div class="PRIVATE_TreeView-item-container" style="--level: 1; content-visibility: auto; contain-intrinsic-size: auto 2rem;"><div style="grid-area: spacer / spacer / spacer / spacer; display: flex;"><div style="width: 100%; display: flex;"></div></div><div id=":r36:" class="PRIVATE_TreeView-item-content"><div class="PRIVATE_VisuallyHidden" aria-hidden="true" id=":r37:"></div><div class="PRIVATE_TreeView-item-visual" aria-hidden="true"><svg aria-hidden="true" focusable="false" role="img" class="octicon octicon-file" viewBox="0 0 16 16" width="16" height="16" fill="currentColor" style="display: inline-block; user-select: none; vertical-align: text-bottom; overflow: visible;"><path d="M2 1.75C2 .784 2.784 0 3.75 0h6.586c.464 0 .909.184 1.237.513l2.914 2.914c.329.328.513.773.513 1.237v9.586A1.75 1.75 0 0 1 13.25 16h-9.5A1.75 1.75 0 0 1 2 14.25Zm1.75-.25a.25.25 0 0 0-.25.25v12.5c0 .138.112.25.25.25h9.5a.25.25 0 0 0 .25-.25V6h-2.75A1.75 1.75 0 0 1 9 4.25V1.5Zm6.75.062V4.25c0 .138.112.25.25.25h2.688l-.011-.013-2.914-2.914-.013-.011Z"></path></svg></div><span class="PRIVATE_TreeView-item-content-text"><span>data_preprossecing_tools.ipynb</span></span></div></div></li><li class="PRIVATE_TreeView-item" tabindex="-1" id="desicion_tree_regresion.ipynb-item" role="treeitem" aria-labelledby=":r39:" aria-describedby=":r3a: :r3b:" aria-level="1" aria-selected="false"><div class="PRIVATE_TreeView-item-container" style="--level: 1; content-visibility: auto; contain-intrinsic-size: auto 2rem;"><div style="grid-area: spacer / spacer / spacer / spacer; display: flex;"><div style="width: 100%; display: flex;"></div></div><div id=":r39:" class="PRIVATE_TreeView-item-content"><div class="PRIVATE_VisuallyHidden" aria-hidden="true" id=":r3a:"></div><div class="PRIVATE_TreeView-item-visual" aria-hidden="true"><svg aria-hidden="true" focusable="false" role="img" class="octicon octicon-file" viewBox="0 0 16 16" width="16" height="16" fill="currentColor" style="display: inline-block; user-select: none; vertical-align: text-bottom; overflow: visible;"><path d="M2 1.75C2 .784 2.784 0 3.75 0h6.586c.464 0 .909.184 1.237.513l2.914 2.914c.329.328.513.773.513 1.237v9.586A1.75 1.75 0 0 1 13.25 16h-9.5A1.75 1.75 0 0 1 2 14.25Zm1.75-.25a.25.25 0 0 0-.25.25v12.5c0 .138.112.25.25.25h9.5a.25.25 0 0 0 .25-.25V6h-2.75A1.75 1.75 0 0 1 9 4.25V1.5Zm6.75.062V4.25c0 .138.112.25.25.25h2.688l-.011-.013-2.914-2.914-.013-.011Z"></path></svg></div><span class="PRIVATE_TreeView-item-content-text"><span>desicion_tree_regresion.ipynb</span></span></div></div></li><li class="PRIVATE_TreeView-item" tabindex="-1" id="k_nearest_neighbors_k_nn.ipynb-item" role="treeitem" aria-labelledby=":r3c:" aria-describedby=":r3d: :r3e:" aria-level="1" aria-selected="false"><div class="PRIVATE_TreeView-item-container" style="--level: 1; content-visibility: auto; contain-intrinsic-size: auto 2rem;"><div style="grid-area: spacer / spacer / spacer / spacer; display: flex;"><div style="width: 100%; display: flex;"></div></div><div id=":r3c:" class="PRIVATE_TreeView-item-content"><div class="PRIVATE_VisuallyHidden" aria-hidden="true" id=":r3d:"></div><div class="PRIVATE_TreeView-item-visual" aria-hidden="true"><svg aria-hidden="true" focusable="false" role="img" class="octicon octicon-file" viewBox="0 0 16 16" width="16" height="16" fill="currentColor" style="display: inline-block; user-select: none; vertical-align: text-bottom; overflow: visible;"><path d="M2 1.75C2 .784 2.784 0 3.75 0h6.586c.464 0 .909.184 1.237.513l2.914 2.914c.329.328.513.773.513 1.237v9.586A1.75 1.75 0 0 1 13.25 16h-9.5A1.75 1.75 0 0 1 2 14.25Zm1.75-.25a.25.25 0 0 0-.25.25v12.5c0 .138.112.25.25.25h9.5a.25.25 0 0 0 .25-.25V6h-2.75A1.75 1.75 0 0 1 9 4.25V1.5Zm6.75.062V4.25c0 .138.112.25.25.25h2.688l-.011-.013-2.914-2.914-.013-.011Z"></path></svg></div><span class="PRIVATE_TreeView-item-content-text"><span>k_nearest_neighbors_k_nn.ipynb</span></span></div></div></li><li class="PRIVATE_TreeView-item" tabindex="-1" id="lin_reg.ipynb-item" role="treeitem" aria-labelledby=":r3f:" aria-describedby=":r3g: :r3h:" aria-level="1" aria-selected="false"><div class="PRIVATE_TreeView-item-container" style="--level: 1; content-visibility: auto; contain-intrinsic-size: auto 2rem;"><div style="grid-area: spacer / spacer / spacer / spacer; display: flex;"><div style="width: 100%; display: flex;"></div></div><div id=":r3f:" class="PRIVATE_TreeView-item-content"><div class="PRIVATE_VisuallyHidden" aria-hidden="true" id=":r3g:"></div><div class="PRIVATE_TreeView-item-visual" aria-hidden="true"><svg aria-hidden="true" focusable="false" role="img" class="octicon octicon-file" viewBox="0 0 16 16" width="16" height="16" fill="currentColor" style="display: inline-block; user-select: none; vertical-align: text-bottom; overflow: visible;"><path d="M2 1.75C2 .784 2.784 0 3.75 0h6.586c.464 0 .909.184 1.237.513l2.914 2.914c.329.328.513.773.513 1.237v9.586A1.75 1.75 0 0 1 13.25 16h-9.5A1.75 1.75 0 0 1 2 14.25Zm1.75-.25a.25.25 0 0 0-.25.25v12.5c0 .138.112.25.25.25h9.5a.25.25 0 0 0 .25-.25V6h-2.75A1.75 1.75 0 0 1 9 4.25V1.5Zm6.75.062V4.25c0 .138.112.25.25.25h2.688l-.011-.013-2.914-2.914-.013-.011Z"></path></svg></div><span class="PRIVATE_TreeView-item-content-text"><span>lin_reg.ipynb</span></span></div></div></li><li class="PRIVATE_TreeView-item" tabindex="-1" id="logistic_regression.ipynb-item" role="treeitem" aria-labelledby=":r3i:" aria-describedby=":r3j: :r3k:" aria-level="1" aria-selected="false"><div class="PRIVATE_TreeView-item-container" style="--level: 1; content-visibility: auto; contain-intrinsic-size: auto 2rem;"><div style="grid-area: spacer / spacer / spacer / spacer; display: flex;"><div style="width: 100%; display: flex;"></div></div><div id=":r3i:" class="PRIVATE_TreeView-item-content"><div class="PRIVATE_VisuallyHidden" aria-hidden="true" id=":r3j:"></div><div class="PRIVATE_TreeView-item-visual" aria-hidden="true"><svg aria-hidden="true" focusable="false" role="img" class="octicon octicon-file" viewBox="0 0 16 16" width="16" height="16" fill="currentColor" style="display: inline-block; user-select: none; vertical-align: text-bottom; overflow: visible;"><path d="M2 1.75C2 .784 2.784 0 3.75 0h6.586c.464 0 .909.184 1.237.513l2.914 2.914c.329.328.513.773.513 1.237v9.586A1.75 1.75 0 0 1 13.25 16h-9.5A1.75 1.75 0 0 1 2 14.25Zm1.75-.25a.25.25 0 0 0-.25.25v12.5c0 .138.112.25.25.25h9.5a.25.25 0 0 0 .25-.25V6h-2.75A1.75 1.75 0 0 1 9 4.25V1.5Zm6.75.062V4.25c0 .138.112.25.25.25h2.688l-.011-.013-2.914-2.914-.013-.011Z"></path></svg></div><span class="PRIVATE_TreeView-item-content-text"><span>logistic_regression.ipynb</span></span></div></div></li><li class="PRIVATE_TreeView-item" tabindex="-1" id="logistic_regression_colab.ipynb-item" role="treeitem" aria-labelledby=":r3l:" aria-describedby=":r3m: :r3n:" aria-level="1" aria-selected="false"><div class="PRIVATE_TreeView-item-container" style="--level: 1; content-visibility: auto; contain-intrinsic-size: auto 2rem;"><div style="grid-area: spacer / spacer / spacer / spacer; display: flex;"><div style="width: 100%; display: flex;"></div></div><div id=":r3l:" class="PRIVATE_TreeView-item-content"><div class="PRIVATE_VisuallyHidden" aria-hidden="true" id=":r3m:"></div><div class="PRIVATE_TreeView-item-visual" aria-hidden="true"><svg aria-hidden="true" focusable="false" role="img" class="octicon octicon-file" viewBox="0 0 16 16" width="16" height="16" fill="currentColor" style="display: inline-block; user-select: none; vertical-align: text-bottom; overflow: visible;"><path d="M2 1.75C2 .784 2.784 0 3.75 0h6.586c.464 0 .909.184 1.237.513l2.914 2.914c.329.328.513.773.513 1.237v9.586A1.75 1.75 0 0 1 13.25 16h-9.5A1.75 1.75 0 0 1 2 14.25Zm1.75-.25a.25.25 0 0 0-.25.25v12.5c0 .138.112.25.25.25h9.5a.25.25 0 0 0 .25-.25V6h-2.75A1.75 1.75 0 0 1 9 4.25V1.5Zm6.75.062V4.25c0 .138.112.25.25.25h2.688l-.011-.013-2.914-2.914-.013-.011Z"></path></svg></div><span class="PRIVATE_TreeView-item-content-text"><span>logistic_regression_colab.ipynb</span></span></div></div></li><li class="PRIVATE_TreeView-item" tabindex="-1" id="multiple_linear_regression.ipynb-item" role="treeitem" aria-labelledby=":r3o:" aria-describedby=":r3p: :r3q:" aria-level="1" aria-selected="false"><div class="PRIVATE_TreeView-item-container" style="--level: 1; content-visibility: auto; contain-intrinsic-size: auto 2rem;"><div style="grid-area: spacer / spacer / spacer / spacer; display: flex;"><div style="width: 100%; display: flex;"></div></div><div id=":r3o:" class="PRIVATE_TreeView-item-content"><div class="PRIVATE_VisuallyHidden" aria-hidden="true" id=":r3p:"></div><div class="PRIVATE_TreeView-item-visual" aria-hidden="true"><svg aria-hidden="true" focusable="false" role="img" class="octicon octicon-file" viewBox="0 0 16 16" width="16" height="16" fill="currentColor" style="display: inline-block; user-select: none; vertical-align: text-bottom; overflow: visible;"><path d="M2 1.75C2 .784 2.784 0 3.75 0h6.586c.464 0 .909.184 1.237.513l2.914 2.914c.329.328.513.773.513 1.237v9.586A1.75 1.75 0 0 1 13.25 16h-9.5A1.75 1.75 0 0 1 2 14.25Zm1.75-.25a.25.25 0 0 0-.25.25v12.5c0 .138.112.25.25.25h9.5a.25.25 0 0 0 .25-.25V6h-2.75A1.75 1.75 0 0 1 9 4.25V1.5Zm6.75.062V4.25c0 .138.112.25.25.25h2.688l-.011-.013-2.914-2.914-.013-.011Z"></path></svg></div><span class="PRIVATE_TreeView-item-content-text"><span>multiple_linear_regression.ipynb</span></span></div></div></li><li class="PRIVATE_TreeView-item" tabindex="-1" id="polynominal_regression.ipynb-item" role="treeitem" aria-labelledby=":r3r:" aria-describedby=":r3s: :r3t:" aria-level="1" aria-selected="false"><div class="PRIVATE_TreeView-item-container" style="--level: 1; content-visibility: auto; contain-intrinsic-size: auto 2rem;"><div style="grid-area: spacer / spacer / spacer / spacer; display: flex;"><div style="width: 100%; display: flex;"></div></div><div id=":r3r:" class="PRIVATE_TreeView-item-content"><div class="PRIVATE_VisuallyHidden" aria-hidden="true" id=":r3s:"></div><div class="PRIVATE_TreeView-item-visual" aria-hidden="true"><svg aria-hidden="true" focusable="false" role="img" class="octicon octicon-file" viewBox="0 0 16 16" width="16" height="16" fill="currentColor" style="display: inline-block; user-select: none; vertical-align: text-bottom; overflow: visible;"><path d="M2 1.75C2 .784 2.784 0 3.75 0h6.586c.464 0 .909.184 1.237.513l2.914 2.914c.329.328.513.773.513 1.237v9.586A1.75 1.75 0 0 1 13.25 16h-9.5A1.75 1.75 0 0 1 2 14.25Zm1.75-.25a.25.25 0 0 0-.25.25v12.5c0 .138.112.25.25.25h9.5a.25.25 0 0 0 .25-.25V6h-2.75A1.75 1.75 0 0 1 9 4.25V1.5Zm6.75.062V4.25c0 .138.112.25.25.25h2.688l-.011-.013-2.914-2.914-.013-.011Z"></path></svg></div><span class="PRIVATE_TreeView-item-content-text"><span>polynominal_regression.ipynb</span></span></div></div></li><li class="PRIVATE_TreeView-item" tabindex="-1" id="simple_linear_regression.ipynb-item" role="treeitem" aria-labelledby=":r3u:" aria-describedby=":r3v: :r40:" aria-level="1" aria-selected="false"><div class="PRIVATE_TreeView-item-container" style="--level: 1; content-visibility: auto; contain-intrinsic-size: auto 2rem;"><div style="grid-area: spacer / spacer / spacer / spacer; display: flex;"><div style="width: 100%; display: flex;"></div></div><div id=":r3u:" class="PRIVATE_TreeView-item-content"><div class="PRIVATE_VisuallyHidden" aria-hidden="true" id=":r3v:"></div><div class="PRIVATE_TreeView-item-visual" aria-hidden="true"><svg aria-hidden="true" focusable="false" role="img" class="octicon octicon-file" viewBox="0 0 16 16" width="16" height="16" fill="currentColor" style="display: inline-block; user-select: none; vertical-align: text-bottom; overflow: visible;"><path d="M2 1.75C2 .784 2.784 0 3.75 0h6.586c.464 0 .909.184 1.237.513l2.914 2.914c.329.328.513.773.513 1.237v9.586A1.75 1.75 0 0 1 13.25 16h-9.5A1.75 1.75 0 0 1 2 14.25Zm1.75-.25a.25.25 0 0 0-.25.25v12.5c0 .138.112.25.25.25h9.5a.25.25 0 0 0 .25-.25V6h-2.75A1.75 1.75 0 0 1 9 4.25V1.5Zm6.75.062V4.25c0 .138.112.25.25.25h2.688l-.011-.013-2.914-2.914-.013-.011Z"></path></svg></div><span class="PRIVATE_TreeView-item-content-text"><span>simple_linear_regression.ipynb</span></span></div></div></li><li class="PRIVATE_TreeView-item" tabindex="-1" id="support_vector_machine.ipynb-item" role="treeitem" aria-labelledby=":r41:" aria-describedby=":r42: :r43:" aria-level="1" aria-selected="false"><div class="PRIVATE_TreeView-item-container" style="--level: 1; content-visibility: auto; contain-intrinsic-size: auto 2rem;"><div style="grid-area: spacer / spacer / spacer / spacer; display: flex;"><div style="width: 100%; display: flex;"></div></div><div id=":r41:" class="PRIVATE_TreeView-item-content"><div class="PRIVATE_VisuallyHidden" aria-hidden="true" id=":r42:"></div><div class="PRIVATE_TreeView-item-visual" aria-hidden="true"><svg aria-hidden="true" focusable="false" role="img" class="octicon octicon-file" viewBox="0 0 16 16" width="16" height="16" fill="currentColor" style="display: inline-block; user-select: none; vertical-align: text-bottom; overflow: visible;"><path d="M2 1.75C2 .784 2.784 0 3.75 0h6.586c.464 0 .909.184 1.237.513l2.914 2.914c.329.328.513.773.513 1.237v9.586A1.75 1.75 0 0 1 13.25 16h-9.5A1.75 1.75 0 0 1 2 14.25Zm1.75-.25a.25.25 0 0 0-.25.25v12.5c0 .138.112.25.25.25h9.5a.25.25 0 0 0 .25-.25V6h-2.75A1.75 1.75 0 0 1 9 4.25V1.5Zm6.75.062V4.25c0 .138.112.25.25.25h2.688l-.011-.013-2.914-2.914-.013-.011Z"></path></svg></div><span class="PRIVATE_TreeView-item-content-text"><span>support_vector_machine.ipynb</span></span></div></div></li><li class="PRIVATE_TreeView-item" tabindex="0" id="support_vector_machine_colab.ipynb-item" role="treeitem" aria-labelledby=":r44:" aria-describedby=":r45: :r46:" aria-level="1" aria-selected="true"><div class="PRIVATE_TreeView-item-container" style="--level: 1; content-visibility: auto; contain-intrinsic-size: auto 2rem;"><div style="grid-area: spacer / spacer / spacer / spacer; display: flex;"><div style="width: 100%; display: flex;"></div></div><div id=":r44:" class="PRIVATE_TreeView-item-content"><div class="PRIVATE_VisuallyHidden" aria-hidden="true" id=":r45:"></div><div class="PRIVATE_TreeView-item-visual" aria-hidden="true"><svg aria-hidden="true" focusable="false" role="img" class="octicon octicon-file" viewBox="0 0 16 16" width="16" height="16" fill="currentColor" style="display: inline-block; user-select: none; vertical-align: text-bottom; overflow: visible;"><path d="M2 1.75C2 .784 2.784 0 3.75 0h6.586c.464 0 .909.184 1.237.513l2.914 2.914c.329.328.513.773.513 1.237v9.586A1.75 1.75 0 0 1 13.25 16h-9.5A1.75 1.75 0 0 1 2 14.25Zm1.75-.25a.25.25 0 0 0-.25.25v12.5c0 .138.112.25.25.25h9.5a.25.25 0 0 0 .25-.25V6h-2.75A1.75 1.75 0 0 1 9 4.25V1.5Zm6.75.062V4.25c0 .138.112.25.25.25h2.688l-.011-.013-2.914-2.914-.013-.011Z"></path></svg></div><span class="PRIVATE_TreeView-item-content-text"><span>support_vector_machine_colab.ipynb</span></span></div></div></li><li class="PRIVATE_TreeView-item" tabindex="-1" id="support_vector_regression.ipynb-item" role="treeitem" aria-labelledby=":r47:" aria-describedby=":r48: :r49:" aria-level="1" aria-current="true" aria-selected="false"><div class="PRIVATE_TreeView-item-container" style="--level: 1; content-visibility: auto; contain-intrinsic-size: auto 2rem;"><div style="grid-area: spacer / spacer / spacer / spacer; display: flex;"><div style="width: 100%; display: flex;"></div></div><div id=":r47:" class="PRIVATE_TreeView-item-content"><div class="PRIVATE_VisuallyHidden" aria-hidden="true" id=":r48:"></div><div class="PRIVATE_TreeView-item-visual" aria-hidden="true"><svg aria-hidden="true" focusable="false" role="img" class="octicon octicon-file" viewBox="0 0 16 16" width="16" height="16" fill="currentColor" style="display: inline-block; user-select: none; vertical-align: text-bottom; overflow: visible;"><path d="M2 1.75C2 .784 2.784 0 3.75 0h6.586c.464 0 .909.184 1.237.513l2.914 2.914c.329.328.513.773.513 1.237v9.586A1.75 1.75 0 0 1 13.25 16h-9.5A1.75 1.75 0 0 1 2 14.25Zm1.75-.25a.25.25 0 0 0-.25.25v12.5c0 .138.112.25.25.25h9.5a.25.25 0 0 0 .25-.25V6h-2.75A1.75 1.75 0 0 1 9 4.25V1.5Zm6.75.062V4.25c0 .138.112.25.25.25h2.688l-.011-.013-2.914-2.914-.013-.011Z"></path></svg></div><span class="PRIVATE_TreeView-item-content-text"><span>support_vector_regression.ipynb</span></span></div></div></li></ul></nav></div></div><div class="Box-sc-g0xbh4-0 hwhShM"><div class="Box-sc-g0xbh4-0 cYPxpP"><a href="https://docs.github.com/en/repositories/working-with-files/managing-files/navigating-files-with-the-new-code-view" target="_blank" class="Link__StyledLink-sc-14289xe-0 bJBoUI">Documentation</a>&nbsp;•&nbsp;<a href="https://github.com/orgs/community/discussions/54546" target="_blank" class="Link__StyledLink-sc-14289xe-0 bJBoUI">Share feedback</a></div></div></div><div class="Box-sc-g0xbh4-0 fBtiVT"><div class="Box-sc-g0xbh4-0 cYPxpP"><a href="https://docs.github.com/en/repositories/working-with-files/managing-files/navigating-files-with-the-new-code-view" target="_blank" class="Link__StyledLink-sc-14289xe-0 bJBoUI">Documentation</a>&nbsp;•&nbsp;<a href="https://github.com/orgs/community/discussions/54546" target="_blank" class="Link__StyledLink-sc-14289xe-0 bJBoUI">Share feedback</a></div></div></div></div></div></div><main class="Box-sc-g0xbh4-0 emFMJu"><div class="Box-sc-g0xbh4-0"></div><div class="Box-sc-g0xbh4-0 hlUAHL"><div data-selector="repos-split-pane-content" tabindex="0" class="Box-sc-g0xbh4-0 iStsmI"><div class="Box-sc-g0xbh4-0 eIgvIk"><div id="StickyHeader" class="Box-sc-g0xbh4-0 bDwCYs"><div class="Box-sc-g0xbh4-0 rmFvl"><div class="Box-sc-g0xbh4-0 dyczTK"><div class="Box-sc-g0xbh4-0 jJaodr"><div class="Box-sc-g0xbh4-0 eTvGbF"><nav data-testid="breadcrumbs" aria-labelledby="breadcrumb-heading" id="breadcrumb" class="Box-sc-g0xbh4-0 kzRgrI"><h2 class="Heading__StyledHeading-sc-1c1dgg0-0 cgQnMS sr-only" data-testid="screen-reader-heading" id="breadcrumb-heading">Breadcrumbs</h2><ol class="Box-sc-g0xbh4-0 cmAPIB"><li class="Box-sc-g0xbh4-0 jwXCBK"><a sx="[object Object]" data-testid="breadcrumbs-repo-link" class="Link__StyledLink-sc-14289xe-0 iJtJJh" href="https://github.com/Adyael/ml_2023/tree/main">ml_2023</a></li></ol></nav><div data-testid="breadcrumbs-filename" class="Box-sc-g0xbh4-0 jwXCBK"><span aria-hidden="true" class="Text-sc-17v1xeu-0 fWVgeN">/</span><h1 tabindex="-1" id="file-name-id" class="Heading__StyledHeading-sc-1c1dgg0-0 diwsLq">support_vector_regression.ipynb</h1></div><button data-component="IconButton" aria-label="Copy path" data-testid="breadcrumb-copy-path-button" data-size="small" data-no-visuals="true" class="types__StyledButton-sc-ws60qy-0 dsNAFH"><svg aria-hidden="true" focusable="false" role="img" class="octicon octicon-copy" viewBox="0 0 16 16" width="16" height="16" fill="currentColor" style="display: inline-block; user-select: none; vertical-align: text-bottom; overflow: visible;"><path d="M0 6.75C0 5.784.784 5 1.75 5h1.5a.75.75 0 0 1 0 1.5h-1.5a.25.25 0 0 0-.25.25v7.5c0 .138.112.25.25.25h7.5a.25.25 0 0 0 .25-.25v-1.5a.75.75 0 0 1 1.5 0v1.5A1.75 1.75 0 0 1 9.25 16h-7.5A1.75 1.75 0 0 1 0 14.25Z"></path><path d="M5 1.75C5 .784 5.784 0 6.75 0h7.5C15.216 0 16 .784 16 1.75v7.5A1.75 1.75 0 0 1 14.25 11h-7.5A1.75 1.75 0 0 1 5 9.25Zm1.75-.25a.25.25 0 0 0-.25.25v7.5c0 .138.112.25.25.25h7.5a.25.25 0 0 0 .25-.25v-7.5a.25.25 0 0 0-.25-.25Z"></path></svg></button></div></div><div class="Box-sc-g0xbh4-0 gtBUEp"><div class="d-flex gap-2"> <button type="button" data-hotkey="b,B" data-no-visuals="true" class="types__StyledButton-sc-ws60qy-0 hYwHoj"><span data-component="buttonContent" class="Box-sc-g0xbh4-0 kkrdEu"><span data-component="text">Blame</span></span></button><button hidden="" data-testid="" data-hotkey="b,B" data-hotkey-scope="read-only-cursor-text-area"></button><button data-component="IconButton" aria-label="More file actions" class="types__StyledButton-sc-ws60qy-0 dXveNa js-blob-dropdown-click" title="More file actions" data-testid="more-file-actions-button" id=":r28:" aria-haspopup="true" tabindex="0" data-no-visuals="true"><svg aria-hidden="true" focusable="false" role="img" class="octicon octicon-kebab-horizontal" viewBox="0 0 16 16" width="16" height="16" fill="currentColor" style="display: inline-block; user-select: none; vertical-align: text-bottom; overflow: visible;"><path d="M8 9a1.5 1.5 0 1 0 0-3 1.5 1.5 0 0 0 0 3ZM1.5 9a1.5 1.5 0 1 0 0-3 1.5 1.5 0 0 0 0 3Zm13 0a1.5 1.5 0 1 0 0-3 1.5 1.5 0 0 0 0 3Z"></path></svg></button> </div></div></div></div></div></div><div class="Box-sc-g0xbh4-0 bhAUGf"> <div class="Box-sc-g0xbh4-0 cMYnca"></div><div class="Box-sc-g0xbh4-0"></div>   </div><div class="Box-sc-g0xbh4-0 fwKaNR">   <div class="Box-sc-g0xbh4-0 brFBoI"><div class="Box-sc-g0xbh4-0 eYedVD"><h2 class="Heading__StyledHeading-sc-1c1dgg0-0 cgQnMS sr-only" data-testid="screen-reader-heading">Latest commit</h2><div data-testid="latest-commit" class="Box-sc-g0xbh4-0 ihByZp"><div class="Box-sc-g0xbh4-0 hLLhje"><a href="https://github.com/Adyael" data-testid="avatar-icon-link" data-hovercard-url="/users/Adyael/hovercard" class="Link__StyledLink-sc-14289xe-0 bJBoUI"><img aria-label="Adyael" src="./support_vector_regression_files/70920061" alt="Adyael" size="20" height="20" width="20" class="Avatar-sc-2lv0r8-0 iTMtVt"></a><span role="tooltip" aria-label="commits by Adyael" class="Tooltip__TooltipBase-sc-uha8qm-0 fCnxTL tooltipped-se"><a href="https://github.com/Adyael/ml_2023/commits?author=Adyael" aria-label="commits by Adyael" class="Link__StyledLink-sc-14289xe-0 cBrzIN">Adyael</a></span></div><div class="Box-sc-g0xbh4-0 fqNQBl react-last-commit-message"><div class="Box-sc-g0xbh4-0 jEKUjt Truncate"><span class="Text-sc-17v1xeu-0 gPDEWA Truncate-text" data-testid="latest-commit-html"><a href="https://github.com/Adyael/ml_2023/commit/72bbb59ee60d8334651e2a3545937da52834a421" class="Link--secondary" title="algoritmos" data-pjax="true" data-hovercard-url="/Adyael/ml_2023/commit/72bbb59ee60d8334651e2a3545937da52834a421/hovercard">algoritmos</a></span></div></div><span class="Text-sc-17v1xeu-0 kKFNhh react-last-commit-summary-timestamp"><relative-time class="RelativeTime-sc-lqbqy3-0" datetime="2023-05-22T22:17:06.000-06:00" tense="past" title="May 22, 2023, 10:17 PM CST"><template shadowrootmode="open">2 weeks ago</template></relative-time></span></div><div class="Box-sc-g0xbh4-0 jGfYmh"><div data-testid="latest-commit-details" class="Box-sc-g0xbh4-0 lhFvfi"><span class="Text-sc-17v1xeu-0 kKFNhh react-last-commit-oid-timestamp"><a class="Link__StyledLink-sc-14289xe-0 bJBoUI Link--secondary" aria-label="Commit 72bbb59" href="https://github.com/Adyael/ml_2023/commit/72bbb59ee60d8334651e2a3545937da52834a421">72bbb59</a>&nbsp;·&nbsp;<relative-time class="RelativeTime-sc-lqbqy3-0" datetime="2023-05-22T22:17:06.000-06:00" tense="past" title="May 22, 2023, 10:17 PM CST"><template shadowrootmode="open">2 weeks ago</template></relative-time></span><span class="Text-sc-17v1xeu-0 kKFNhh react-last-commit-timestamp"><relative-time class="RelativeTime-sc-lqbqy3-0" datetime="2023-05-22T22:17:06.000-06:00" tense="past" title="May 22, 2023, 10:17 PM CST"><template shadowrootmode="open">2 weeks ago</template></relative-time></span></div><h2 class="Heading__StyledHeading-sc-1c1dgg0-0 cgQnMS sr-only" data-testid="screen-reader-heading">History</h2><a aria-label="History" class="types__StyledButton-sc-ws60qy-0 iqAUyV react-last-commit-history-group" href="https://github.com/Adyael/ml_2023/commits/main/support_vector_regression.ipynb" data-size="small"><span data-component="buttonContent" class="Box-sc-g0xbh4-0 kkrdEu"><span data-component="leadingVisual" class="Box-sc-g0xbh4-0 trpoQ"><svg aria-hidden="true" focusable="false" role="img" class="octicon octicon-history" viewBox="0 0 16 16" width="16" height="16" fill="currentColor" style="display: inline-block; user-select: none; vertical-align: text-bottom; overflow: visible;"><path d="m.427 1.927 1.215 1.215a8.002 8.002 0 1 1-1.6 5.685.75.75 0 1 1 1.493-.154 6.5 6.5 0 1 0 1.18-4.458l1.358 1.358A.25.25 0 0 1 3.896 6H.25A.25.25 0 0 1 0 5.75V2.104a.25.25 0 0 1 .427-.177ZM7.75 4a.75.75 0 0 1 .75.75v2.992l2.028.812a.75.75 0 0 1-.557 1.392l-2.5-1A.751.751 0 0 1 7 8.25v-3.5A.75.75 0 0 1 7.75 4Z"></path></svg></span><span data-component="text"><span class="Text-sc-17v1xeu-0 hfRvxg">History</span></span></span></a><div class="Box-sc-g0xbh4-0 bqgLjk"><button data-component="IconButton" aria-label="Open commit details" aria-pressed="false" aria-expanded="false" data-testid="latest-commit-details-toggle" data-no-visuals="true" class="types__StyledButton-sc-ws60qy-0 goANMA"><svg aria-hidden="true" focusable="false" role="img" class="octicon octicon-ellipsis" viewBox="0 0 16 16" width="16" height="16" fill="currentColor" style="display: inline-block; user-select: none; vertical-align: text-bottom; overflow: visible;"><path d="M0 5.75C0 4.784.784 4 1.75 4h12.5c.966 0 1.75.784 1.75 1.75v4.5A1.75 1.75 0 0 1 14.25 12H1.75A1.75 1.75 0 0 1 0 10.25ZM12 7a1 1 0 1 0 0 2 1 1 0 0 0 0-2ZM7 8a1 1 0 1 0 2 0 1 1 0 0 0-2 0ZM4 7a1 1 0 1 0 0 2 1 1 0 0 0 0-2Z"></path></svg></button></div><a aria-label="History" class="types__StyledButton-sc-ws60qy-0 iqAUyV react-last-commit-history-icon" href="https://github.com/Adyael/ml_2023/commits/main/support_vector_regression.ipynb"><span data-component="buttonContent" class="Box-sc-g0xbh4-0 kkrdEu"><span data-component="leadingVisual" class="Box-sc-g0xbh4-0 trpoQ"><svg aria-hidden="true" focusable="false" role="img" class="octicon octicon-history" viewBox="0 0 16 16" width="16" height="16" fill="currentColor" style="display: inline-block; user-select: none; vertical-align: text-bottom; overflow: visible;"><path d="m.427 1.927 1.215 1.215a8.002 8.002 0 1 1-1.6 5.685.75.75 0 1 1 1.493-.154 6.5 6.5 0 1 0 1.18-4.458l1.358 1.358A.25.25 0 0 1 3.896 6H.25A.25.25 0 0 1 0 5.75V2.104a.25.25 0 0 1 .427-.177ZM7.75 4a.75.75 0 0 1 .75.75v2.992l2.028.812a.75.75 0 0 1-.557 1.392l-2.5-1A.751.751 0 0 1 7 8.25v-3.5A.75.75 0 0 1 7.75 4Z"></path></svg></span></span></a></div></div></div><div class="Box-sc-g0xbh4-0 bSdwWB react-code-size-details-banner"><div class="Box-sc-g0xbh4-0 react-code-size-details-banner"><div class="Box-sc-g0xbh4-0 fOEJrA text-mono"><div title="60.5 KB" data-testid="blob-size" class="Truncate-sc-1d9305p-0 Jyrkr"><span class="Text-sc-17v1xeu-0 gPDEWA">294 lines (294 loc) · 60.5 KB</span></div></div></div></div><div class="Box-sc-g0xbh4-0 izfgQu"><div class="Box-sc-g0xbh4-0 cQgThc"><div class="Box-sc-g0xbh4-0 gBKNLX react-blob-view-header-sticky" id="repos-sticky-header"><div class="Box-sc-g0xbh4-0"><div class="Box-sc-g0xbh4-0 ePiodO"><div class="Box-sc-g0xbh4-0 kQJlnf"><div class="Box-sc-g0xbh4-0 gJICKO"><div class="Box-sc-g0xbh4-0 iZJewz"><nav data-testid="breadcrumbs" aria-labelledby="sticky-breadcrumb-heading" id="sticky-breadcrumb" class="Box-sc-g0xbh4-0 kzRgrI"><h2 class="Heading__StyledHeading-sc-1c1dgg0-0 cgQnMS sr-only" data-testid="screen-reader-heading" id="sticky-breadcrumb-heading">Breadcrumbs</h2><ol class="Box-sc-g0xbh4-0 cmAPIB"><li class="Box-sc-g0xbh4-0 jwXCBK"><a sx="[object Object]" data-testid="breadcrumbs-repo-link" class="Link__StyledLink-sc-14289xe-0 iJtJJh" href="https://github.com/Adyael/ml_2023/tree/main">ml_2023</a></li></ol></nav><div data-testid="breadcrumbs-filename" class="Box-sc-g0xbh4-0 jwXCBK"><span aria-hidden="true" class="Text-sc-17v1xeu-0 iqTHmv">/</span><h1 tabindex="-1" id="sticky-file-name-id" class="Heading__StyledHeading-sc-1c1dgg0-0 jAEDJk">support_vector_regression.ipynb</h1></div></div><button type="button" data-size="small" class="types__StyledButton-sc-ws60qy-0 fdJsWs"><span data-component="buttonContent" class="Box-sc-g0xbh4-0 kkrdEu"><span data-component="leadingVisual" class="Box-sc-g0xbh4-0 trpoQ"><svg aria-hidden="true" focusable="false" role="img" class="octicon octicon-arrow-up" viewBox="0 0 16 16" width="16" height="16" fill="currentColor" style="display: inline-block; user-select: none; vertical-align: text-bottom; overflow: visible;"><path d="M3.47 7.78a.75.75 0 0 1 0-1.06l4.25-4.25a.75.75 0 0 1 1.06 0l4.25 4.25a.751.751 0 0 1-.018 1.042.751.751 0 0 1-1.042.018L9 4.81v7.44a.75.75 0 0 1-1.5 0V4.81L4.53 7.78a.75.75 0 0 1-1.06 0Z"></path></svg></span><span data-component="text">Top</span></span></button></div></div><div class="Box-sc-g0xbh4-0 giEfVQ"><h2 class="Heading__StyledHeading-sc-1c1dgg0-0 cgQnMS sr-only" data-testid="screen-reader-heading">File metadata and controls</h2><div class="Box-sc-g0xbh4-0 bfkNRF"><ul aria-label="File view" class="SegmentedControl__SegmentedControlList-sc-1rzig82-0 ivYJSK"><li class="Box-sc-g0xbh4-0 fXBLEV"><button aria-current="true" class="SegmentedControlButton__SegmentedControlButtonStyled-sc-8lkgxl-0 gKuCoB"><span class="segmentedControl-content"><div class="Box-sc-g0xbh4-0 segmentedControl-text">Preview</div></span></button></li><li class="Box-sc-g0xbh4-0 gbKtit"><button aria-current="false" class="SegmentedControlButton__SegmentedControlButtonStyled-sc-8lkgxl-0 fCAAcl"><span class="segmentedControl-content"><div class="Box-sc-g0xbh4-0 segmentedControl-text">Code</div></span></button></li><li class="Box-sc-g0xbh4-0 gbKtit"><button aria-current="false" data-hotkey="b,B" class="SegmentedControlButton__SegmentedControlButtonStyled-sc-8lkgxl-0 dAXkSP"><span class="segmentedControl-content"><div class="Box-sc-g0xbh4-0 segmentedControl-text">Blame</div></span></button></li></ul><button hidden="" data-testid="" data-hotkey-scope="read-only-cursor-text-area"></button><button hidden="" data-testid="" data-hotkey="b,B" data-hotkey-scope="read-only-cursor-text-area"></button><button hidden="" data-testid="" data-hotkey-scope="read-only-cursor-text-area"></button><div class="Box-sc-g0xbh4-0 react-code-size-details-in-header"><div class="Box-sc-g0xbh4-0 fOEJrA text-mono"><div title="60.5 KB" data-testid="blob-size" class="Truncate-sc-1d9305p-0 Jyrkr"><span class="Text-sc-17v1xeu-0 gPDEWA">294 lines (294 loc) · 60.5 KB</span></div></div></div></div><div class="Box-sc-g0xbh4-0 iBylDf"><div class="Box-sc-g0xbh4-0 kSGBPx react-blob-header-edit-and-raw-actions"><div class="ButtonGroup-sc-1gxhls1-0 cjbBGq"><a href="https://github.com/Adyael/ml_2023/raw/main/support_vector_regression.ipynb" data-testid="raw-button" data-size="small" data-no-visuals="true" class="types__StyledButton-sc-ws60qy-0 jepClM"><span data-component="buttonContent" class="Box-sc-g0xbh4-0 kkrdEu"><span data-component="text">Raw</span></span></a><button data-component="IconButton" aria-label="Copy raw content" data-testid="copy-raw-button" data-hotkey="Control+Shift+c" data-size="small" data-no-visuals="true" class="types__StyledButton-sc-ws60qy-0 kbjJSF"><svg aria-hidden="true" focusable="false" role="img" class="octicon octicon-copy" viewBox="0 0 16 16" width="16" height="16" fill="currentColor" style="display: inline-block; user-select: none; vertical-align: text-bottom; overflow: visible;"><path d="M0 6.75C0 5.784.784 5 1.75 5h1.5a.75.75 0 0 1 0 1.5h-1.5a.25.25 0 0 0-.25.25v7.5c0 .138.112.25.25.25h7.5a.25.25 0 0 0 .25-.25v-1.5a.75.75 0 0 1 1.5 0v1.5A1.75 1.75 0 0 1 9.25 16h-7.5A1.75 1.75 0 0 1 0 14.25Z"></path><path d="M5 1.75C5 .784 5.784 0 6.75 0h7.5C15.216 0 16 .784 16 1.75v7.5A1.75 1.75 0 0 1 14.25 11h-7.5A1.75 1.75 0 0 1 5 9.25Zm1.75-.25a.25.25 0 0 0-.25.25v7.5c0 .138.112.25.25.25h7.5a.25.25 0 0 0 .25-.25v-7.5a.25.25 0 0 0-.25-.25Z"></path></svg></button><span role="tooltip" aria-label="Download raw file" class="Tooltip__TooltipBase-sc-uha8qm-0 fCnxTL tooltipped-n"><button data-component="IconButton" aria-label="Download raw content" data-testid="download-raw-button" data-size="small" data-no-visuals="true" class="types__StyledButton-sc-ws60qy-0 ddNLNa"><svg aria-hidden="true" focusable="false" role="img" class="octicon octicon-download" viewBox="0 0 16 16" width="16" height="16" fill="currentColor" style="display: inline-block; user-select: none; vertical-align: text-bottom; overflow: visible;"><path d="M2.75 14A1.75 1.75 0 0 1 1 12.25v-2.5a.75.75 0 0 1 1.5 0v2.5c0 .138.112.25.25.25h10.5a.25.25 0 0 0 .25-.25v-2.5a.75.75 0 0 1 1.5 0v2.5A1.75 1.75 0 0 1 13.25 14Z"></path><path d="M7.25 7.689V2a.75.75 0 0 1 1.5 0v5.689l1.97-1.969a.749.749 0 1 1 1.06 1.06l-3.25 3.25a.749.749 0 0 1-1.06 0L4.22 6.78a.749.749 0 1 1 1.06-1.06l1.97 1.969Z"></path></svg></button></span></div><button hidden="" data-testid="raw-button" data-hotkey-scope="read-only-cursor-text-area"></button><button hidden="" data-testid="copy-raw-button" data-hotkey="Control+Shift+c" data-hotkey-scope="read-only-cursor-text-area"></button><button hidden="" data-testid="download-raw-button" data-hotkey-scope="read-only-cursor-text-area"></button><a class="Link__StyledLink-sc-14289xe-0 cTAUfh js-github-dev-shortcut" data-hotkey="." href="https://github.dev/"></a><button hidden="" data-testid="" data-hotkey="." data-hotkey-scope="read-only-cursor-text-area"></button><div class="ButtonGroup-sc-1gxhls1-0 cjbBGq"><span role="tooltip" aria-label="Fork this repository and edit the file" class="Tooltip__TooltipBase-sc-uha8qm-0 fCnxTL tooltipped-nw"><a sx="[object Object]" data-component="IconButton" aria-label="Edit file" data-hotkey="e,E" data-testid="edit-button" data-size="small" data-no-visuals="true" class="types__StyledButton-sc-ws60qy-0 kdEavw" href="https://github.com/Adyael/ml_2023/edit/main/support_vector_regression.ipynb"><svg aria-hidden="true" focusable="false" role="img" class="octicon octicon-pencil" viewBox="0 0 16 16" width="16" height="16" fill="currentColor" style="display: inline-block; user-select: none; vertical-align: text-bottom; overflow: visible;"><path d="M11.013 1.427a1.75 1.75 0 0 1 2.474 0l1.086 1.086a1.75 1.75 0 0 1 0 2.474l-8.61 8.61c-.21.21-.47.364-.756.445l-3.251.93a.75.75 0 0 1-.927-.928l.929-3.25c.081-.286.235-.547.445-.758l8.61-8.61Zm.176 4.823L9.75 4.81l-6.286 6.287a.253.253 0 0 0-.064.108l-.558 1.953 1.953-.558a.253.253 0 0 0 .108-.064Zm1.238-3.763a.25.25 0 0 0-.354 0L10.811 3.75l1.439 1.44 1.263-1.263a.25.25 0 0 0 0-.354Z"></path></svg></a></span><button data-component="IconButton" aria-label="More edit options" data-testid="more-edit-button" id=":r29:" aria-haspopup="true" tabindex="0" data-size="small" data-no-visuals="true" class="types__StyledButton-sc-ws60qy-0 kbjJSF"><svg aria-hidden="true" focusable="false" role="img" class="octicon octicon-triangle-down" viewBox="0 0 16 16" width="16" height="16" fill="currentColor" style="display: inline-block; user-select: none; vertical-align: text-bottom; overflow: visible;"><path d="m4.427 7.427 3.396 3.396a.25.25 0 0 0 .354 0l3.396-3.396A.25.25 0 0 0 11.396 7H4.604a.25.25 0 0 0-.177.427Z"></path></svg></button></div><button hidden="" data-testid="" data-hotkey="e,E" data-hotkey-scope="read-only-cursor-text-area"></button></div><div class="Box-sc-g0xbh4-0 react-blob-header-edit-and-raw-actions-combined"><button data-component="IconButton" aria-label="Edit and raw actions" class="types__StyledButton-sc-ws60qy-0 eczXzy js-blob-dropdown-click" title="More file actions" data-testid="more-file-actions-button" id=":r2a:" aria-haspopup="true" tabindex="0" data-size="small" data-no-visuals="true"><svg aria-hidden="true" focusable="false" role="img" class="octicon octicon-kebab-horizontal" viewBox="0 0 16 16" width="16" height="16" fill="currentColor" style="display: inline-block; user-select: none; vertical-align: text-bottom; overflow: visible;"><path d="M8 9a1.5 1.5 0 1 0 0-3 1.5 1.5 0 0 0 0 3ZM1.5 9a1.5 1.5 0 1 0 0-3 1.5 1.5 0 0 0 0 3Zm13 0a1.5 1.5 0 1 0 0-3 1.5 1.5 0 0 0 0 3Z"></path></svg></button></div></div></div></div><div class="Box-sc-g0xbh4-0"></div></div></div><div class="Box-sc-g0xbh4-0 etfROT"><section aria-labelledby="file-name-id" class="Box-sc-g0xbh4-0 cJzElx"><div class="Box-sc-g0xbh4-0 civZtx"><div data-hpc="true" data-host="https://notebooks.githubusercontent.com" data-type="ipynb" class="Box-sc-g0xbh4-0 cRYnfF" style="height: 3179.39px;"><iframe src="./support_vector_regression_files/ipynb.html" sandbox="allow-scripts allow-same-origin allow-top-navigation" name="18a452f0-e1af-48a0-98e7-7fadf425269b" title="File display" class="Box-sc-g0xbh4-0 kRMcOk">Viewer requires iframe.</iframe></div></div></section></div><div class="Popover js-hovercard-content position-absolute" tabindex="0" style="display: none; outline: none;"><div class="Popover-message Popover-message--bottom-left Popover-message--large Box color-shadow-large" style="width: 360px;"></div></div></div></div>   </div></div></div><div class="Box-sc-g0xbh4-0"></div></main></div></div></div><div id="find-result-marks-container" class="Box-sc-g0xbh4-0 aZrVR"></div><button hidden="" data-testid="" data-hotkey="Control+F6,Control+Shift+F6" data-hotkey-scope="read-only-cursor-text-area"></button><button hidden="" data-hotkey="Control+F6,Control+Shift+F6"></button></div>    </div><script type="application/json" id="__PRIMER_DATA__">{"resolvedServerColorMode":"night"}</script></div>
</react-app>
</turbo-frame>


    </main>
  </div>

  </div>

          <footer class="footer width-full container-xl p-responsive" role="contentinfo" hidden="">
  <h2 class="sr-only">Footer</h2>

  <div class="position-relative d-flex flex-items-center pb-2 f6 color-fg-muted color-border-muted flex-column-reverse flex-lg-row flex-wrap flex-lg-nowrap mt-0 pt-6">
    <div class="list-style-none d-flex flex-wrap col-0 col-lg-2 flex-justify-start flex-lg-justify-between mb-2 mb-lg-0">
      <div class="mt-2 mt-lg-0 d-flex flex-items-center">
        <a aria-label="Homepage" title="GitHub" class="footer-octicon mr-2" href="https://github.com/">
          <svg aria-hidden="true" height="24" viewBox="0 0 16 16" version="1.1" width="24" data-view-component="true" class="octicon octicon-mark-github">
    <path d="M8 0c4.42 0 8 3.58 8 8a8.013 8.013 0 0 1-5.45 7.59c-.4.08-.55-.17-.55-.38 0-.27.01-1.13.01-2.2 0-.75-.25-1.23-.54-1.48 1.78-.2 3.65-.88 3.65-3.95 0-.88-.31-1.59-.82-2.15.08-.2.36-1.02-.08-2.12 0 0-.67-.22-2.2.82-.64-.18-1.32-.27-2-.27-.68 0-1.36.09-2 .27-1.53-1.03-2.2-.82-2.2-.82-.44 1.1-.16 1.92-.08 2.12-.51.56-.82 1.28-.82 2.15 0 3.06 1.86 3.75 3.64 3.95-.23.2-.44.55-.51 1.07-.46.21-1.61.55-2.33-.66-.15-.24-.6-.83-1.23-.82-.67.01-.27.38.01.53.34.19.73.9.82 1.13.16.45.68 1.31 2.69.94 0 .67.01 1.3.01 1.49 0 .21-.15.45-.55.38A7.995 7.995 0 0 1 0 8c0-4.42 3.58-8 8-8Z"></path>
</svg>
</a>        <span>
        © 2023 GitHub, Inc.
        </span>
      </div>
    </div>

    <nav aria-label="Footer" class="col-12 col-lg-8">
      <h3 class="sr-only" id="sr-footer-heading">Footer navigation</h3>
      <ul class="list-style-none d-flex flex-wrap col-12 flex-justify-center flex-lg-justify-between mb-2 mb-lg-0" aria-labelledby="sr-footer-heading">
          <li class="mr-3 mr-lg-0"><a href="https://docs.github.com/site-policy/github-terms/github-terms-of-service" data-analytics-event="{&quot;category&quot;:&quot;Footer&quot;,&quot;action&quot;:&quot;go to terms&quot;,&quot;label&quot;:&quot;text:terms&quot;}">Terms</a></li>
          <li class="mr-3 mr-lg-0"><a href="https://docs.github.com/site-policy/privacy-policies/github-privacy-statement" data-analytics-event="{&quot;category&quot;:&quot;Footer&quot;,&quot;action&quot;:&quot;go to privacy&quot;,&quot;label&quot;:&quot;text:privacy&quot;}">Privacy</a></li>
          <li class="mr-3 mr-lg-0"><a data-analytics-event="{&quot;category&quot;:&quot;Footer&quot;,&quot;action&quot;:&quot;go to security&quot;,&quot;label&quot;:&quot;text:security&quot;}" href="https://github.com/security">Security</a></li>
          <li class="mr-3 mr-lg-0"><a href="https://www.githubstatus.com/" data-analytics-event="{&quot;category&quot;:&quot;Footer&quot;,&quot;action&quot;:&quot;go to status&quot;,&quot;label&quot;:&quot;text:status&quot;}">Status</a></li>
          <li class="mr-3 mr-lg-0"><a data-ga-click="Footer, go to help, text:Docs" href="https://docs.github.com/">Docs</a></li>
          <li class="mr-3 mr-lg-0"><a href="https://support.github.com/?tags=dotcom-footer" data-analytics-event="{&quot;category&quot;:&quot;Footer&quot;,&quot;action&quot;:&quot;go to contact&quot;,&quot;label&quot;:&quot;text:contact&quot;}">Contact GitHub</a></li>
          <li class="mr-3 mr-lg-0"><a href="https://github.com/pricing" data-analytics-event="{&quot;category&quot;:&quot;Footer&quot;,&quot;action&quot;:&quot;go to Pricing&quot;,&quot;label&quot;:&quot;text:Pricing&quot;}">Pricing</a></li>
        <li class="mr-3 mr-lg-0"><a href="https://docs.github.com/" data-analytics-event="{&quot;category&quot;:&quot;Footer&quot;,&quot;action&quot;:&quot;go to api&quot;,&quot;label&quot;:&quot;text:api&quot;}">API</a></li>
        <li class="mr-3 mr-lg-0"><a href="https://services.github.com/" data-analytics-event="{&quot;category&quot;:&quot;Footer&quot;,&quot;action&quot;:&quot;go to training&quot;,&quot;label&quot;:&quot;text:training&quot;}">Training</a></li>
          <li class="mr-3 mr-lg-0"><a href="https://github.blog/" data-analytics-event="{&quot;category&quot;:&quot;Footer&quot;,&quot;action&quot;:&quot;go to blog&quot;,&quot;label&quot;:&quot;text:blog&quot;}">Blog</a></li>
          <li><a data-ga-click="Footer, go to about, text:about" href="https://github.com/about">About</a></li>
      </ul>
    </nav>
  </div>

  <div class="d-flex flex-justify-center pb-6">
    <span class="f6 color-fg-muted"></span>
  </div>
</footer>




  <div id="ajax-error-message" class="ajax-error-message flash flash-error" hidden="">
    <svg aria-hidden="true" height="16" viewBox="0 0 16 16" version="1.1" width="16" data-view-component="true" class="octicon octicon-alert">
    <path d="M6.457 1.047c.659-1.234 2.427-1.234 3.086 0l6.082 11.378A1.75 1.75 0 0 1 14.082 15H1.918a1.75 1.75 0 0 1-1.543-2.575Zm1.763.707a.25.25 0 0 0-.44 0L1.698 13.132a.25.25 0 0 0 .22.368h12.164a.25.25 0 0 0 .22-.368Zm.53 3.996v2.5a.75.75 0 0 1-1.5 0v-2.5a.75.75 0 0 1 1.5 0ZM9 11a1 1 0 1 1-2 0 1 1 0 0 1 2 0Z"></path>
</svg>
    <button type="button" class="flash-close js-ajax-error-dismiss" aria-label="Dismiss error">
      <svg aria-hidden="true" height="16" viewBox="0 0 16 16" version="1.1" width="16" data-view-component="true" class="octicon octicon-x">
    <path d="M3.72 3.72a.75.75 0 0 1 1.06 0L8 6.94l3.22-3.22a.749.749 0 0 1 1.275.326.749.749 0 0 1-.215.734L9.06 8l3.22 3.22a.749.749 0 0 1-.326 1.275.749.749 0 0 1-.734-.215L8 9.06l-3.22 3.22a.751.751 0 0 1-1.042-.018.751.751 0 0 1-.018-1.042L6.94 8 3.72 4.78a.75.75 0 0 1 0-1.06Z"></path>
</svg>
    </button>
    You can’t perform that action at this time.
  </div>

  <div class="js-stale-session-flash flash flash-warn flash-banner" hidden="">
    <svg aria-hidden="true" height="16" viewBox="0 0 16 16" version="1.1" width="16" data-view-component="true" class="octicon octicon-alert">
    <path d="M6.457 1.047c.659-1.234 2.427-1.234 3.086 0l6.082 11.378A1.75 1.75 0 0 1 14.082 15H1.918a1.75 1.75 0 0 1-1.543-2.575Zm1.763.707a.25.25 0 0 0-.44 0L1.698 13.132a.25.25 0 0 0 .22.368h12.164a.25.25 0 0 0 .22-.368Zm.53 3.996v2.5a.75.75 0 0 1-1.5 0v-2.5a.75.75 0 0 1 1.5 0ZM9 11a1 1 0 1 1-2 0 1 1 0 0 1 2 0Z"></path>
</svg>
    <span class="js-stale-session-flash-signed-in" hidden="">You signed in with another tab or window. <a href="https://github.com/Adyael/ml_2023/blob/main/support_vector_regression.ipynb">Reload</a> to refresh your session.</span>
    <span class="js-stale-session-flash-signed-out" hidden="">You signed out in another tab or window. <a href="https://github.com/Adyael/ml_2023/blob/main/support_vector_regression.ipynb">Reload</a> to refresh your session.</span>
  </div>
    <template id="site-details-dialog"></template>

    <div class="Popover js-hovercard-content position-absolute" style="display: none; outline: none;" tabindex="0">
  <div class="Popover-message Popover-message--bottom-left Popover-message--large Box color-shadow-large" style="width:360px;"></div>
</div>

    <template id="snippet-clipboard-copy-button"></template>
<template id="snippet-clipboard-copy-button-unpositioned"></template>


    <style>
      .user-mention[href$="/MxnuC"] {
        color: var(--color-user-mention-fg);
        background-color: var(--color-user-mention-bg);
        border-radius: 2px;
        margin-left: -2px;
        margin-right: -2px;
        padding: 0 2px;
      }
    </style>


    </div>

    <div id="js-global-screen-reader-notice" class="sr-only" aria-live="polite">ml_2023/support_vector_regression.ipynb at main · Adyael/ml_2023&nbsp;</div>
  


</body></html>